{
 "cells": [
  {
   "cell_type": "code",
   "execution_count": null,
   "metadata": {},
   "outputs": [],
   "source": [
    "from collections import deque\n",
    "def solution(cacheSize, cities):\n",
    "    answer = 0\n",
    "    n = len(cities)\n",
    "    change = 0\n",
    "    cache = deque(maxlen=cacheSize) # maxlen 기억\n",
    "    cities = [i.lower() for i in cities]\n",
    "    for city in cities:\n",
    "        if city in cache:\n",
    "            cache.remove(city)\n",
    "            cache.append(city)\n",
    "            answer += 1\n",
    "        else:\n",
    "            if len(cache)<cacheSize:\n",
    "                cache.append(city)\n",
    "            else:\n",
    "                cache.append(city)\n",
    "            answer += 5\n",
    "    return answer"
   ]
  }
 ],
 "metadata": {
  "language_info": {
   "name": "python"
  },
  "orig_nbformat": 4
 },
 "nbformat": 4,
 "nbformat_minor": 2
}
