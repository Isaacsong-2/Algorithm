{
 "cells": [
  {
   "cell_type": "code",
   "execution_count": null,
   "metadata": {},
   "outputs": [],
   "source": [
    "def func(sol,idx,n,numbers,target):\n",
    "    global answer\n",
    "    if idx == n:\n",
    "        if sol == target:\n",
    "            answer += 1\n",
    "        return\n",
    "    func(sol+numbers[idx],idx+1,n,numbers,target)\n",
    "    func(sol-numbers[idx],idx+1,n,numbers,target)\n",
    "def solution(numbers, target):\n",
    "    global answer\n",
    "    n = len(numbers)\n",
    "    answer = 0\n",
    "    func(0,0,n,numbers,target)\n",
    "    return answer"
   ]
  }
 ],
 "metadata": {
  "language_info": {
   "name": "python"
  },
  "orig_nbformat": 4
 },
 "nbformat": 4,
 "nbformat_minor": 2
}
