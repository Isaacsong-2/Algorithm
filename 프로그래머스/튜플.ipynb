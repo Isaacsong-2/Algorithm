{
 "cells": [
  {
   "cell_type": "code",
   "execution_count": null,
   "metadata": {},
   "outputs": [],
   "source": [
    "def solution(s):\n",
    "    answer = []\n",
    "    s = s[1:-1]\n",
    "    temp = []\n",
    "    sol = []\n",
    "    while(s):\n",
    "        if s[0] == '{':\n",
    "            tmp = \"\"\n",
    "            s = s[1:]\n",
    "        elif s[0] == '}':\n",
    "            temp.append(int(tmp))\n",
    "            sol.append(temp)\n",
    "            temp = []\n",
    "            if len(s)>2:\n",
    "                s = s[2:]\n",
    "            else:\n",
    "                break\n",
    "        elif s[0] != ',':\n",
    "            tmp = tmp + s[0]\n",
    "            s = s[1:]\n",
    "        else:\n",
    "            temp.append(int(tmp))\n",
    "            tmp = \"\"\n",
    "            s = s[1:]\n",
    "\n",
    "    sol.sort(key=lambda x:len(x))\n",
    "    for se in sol:\n",
    "        for num in se:\n",
    "            if num not in answer:\n",
    "                answer.append(num)\n",
    "    return answer"
   ]
  }
 ],
 "metadata": {
  "language_info": {
   "name": "python"
  },
  "orig_nbformat": 4
 },
 "nbformat": 4,
 "nbformat_minor": 2
}
