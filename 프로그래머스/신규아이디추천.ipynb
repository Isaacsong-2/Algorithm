{
 "cells": [
  {
   "cell_type": "code",
   "execution_count": 23,
   "metadata": {},
   "outputs": [
    {
     "name": "stdout",
     "output_type": "stream",
     "text": [
      "...!@BaT#*..y.abcdefghijklm\n",
      "z-+.^.\n",
      "=.=\n",
      "123_.def\n",
      "abcdefghijklmn.p\n"
     ]
    },
    {
     "data": {
      "text/plain": [
       "'abcdefghijklmn'"
      ]
     },
     "execution_count": 23,
     "metadata": {},
     "output_type": "execute_result"
    }
   ],
   "source": [
    "def solution(new_id):\n",
    "    print(new_id)\n",
    "    new_id = list(new_id)\n",
    "    n = len(new_id)\n",
    "    # 1단계 소문자변경\n",
    "    for i in range(n):\n",
    "        if 64<ord(new_id[i])<91:\n",
    "            new_id[i] = chr(ord(new_id[i])+32)\n",
    "    # 2단계 문자제거\n",
    "    pro = []\n",
    "    for i in range(n):\n",
    "        if 97<=ord(new_id[i])<=122 or 48<=ord(new_id[i])<=57 or ord(new_id[i])==45 or ord(new_id[i])==46 or ord(new_id[i]) == 95:\n",
    "            pro.append(new_id[i])\n",
    "    new_id = pro[:]\n",
    "    # 3단계 마침표 합치기\n",
    "    pro = []\n",
    "    n = len(new_id)\n",
    "    for i in range(n):\n",
    "        if new_id[i] == '.' and i>0:\n",
    "            if new_id[i-1] != '.':\n",
    "                pro.append(new_id[i])\n",
    "        else:\n",
    "            pro.append(new_id[i])\n",
    "    new_id = pro[:]\n",
    "    # 4단계 마침표 제거\n",
    "    if new_id:\n",
    "        if new_id[-1] == '.':\n",
    "            new_id.pop()\n",
    "        if new_id and new_id[0] == '.':\n",
    "            new_id.pop(0)\n",
    "    # 5단계 빈문자이면 a 대입\n",
    "    if not(new_id):\n",
    "        new_id = ['a']\n",
    "    # 6단계 16자이상이면 15자까지 제거, 마지막이 마침표면 마침표제거\n",
    "    n = len(new_id)\n",
    "    if n>15:\n",
    "        new_id = new_id[:15]\n",
    "        if new_id[-1] == '.':\n",
    "            new_id.pop()\n",
    "    # 7단계 2자이하이면 마지막문자 덧붙임\n",
    "    n = len(new_id)\n",
    "    while n<=2:\n",
    "        new_id.append(new_id[-1])\n",
    "        n += 1\n",
    "    answer = ''.join(new_id)\n",
    "    return answer\n",
    "solution(\"...!@BaT#*..y.abcdefghijklm\")\n",
    "solution(\"z-+.^.\")\n",
    "solution(\"=.=\")\n",
    "solution(\"123_.def\")\n",
    "solution(\"abcdefghijklmn.p\")\n",
    "# print(ord('a'))\n",
    "# print(ord('z'))\n",
    "# print(ord('0'))\n",
    "# print(ord('9'))\n",
    "# print(ord('-'))\n",
    "# print(ord('_'))\n",
    "# print(ord('.'))"
   ]
  }
 ],
 "metadata": {
  "interpreter": {
   "hash": "53e059d21691b4acb4a64b9f63fef32a69804c1f4bf8b757b5579479fa8a32ee"
  },
  "kernelspec": {
   "display_name": "Python 3.7.2 64-bit",
   "language": "python",
   "name": "python3"
  },
  "language_info": {
   "codemirror_mode": {
    "name": "ipython",
    "version": 3
   },
   "file_extension": ".py",
   "mimetype": "text/x-python",
   "name": "python",
   "nbconvert_exporter": "python",
   "pygments_lexer": "ipython3",
   "version": "3.7.2"
  },
  "orig_nbformat": 4
 },
 "nbformat": 4,
 "nbformat_minor": 2
}
