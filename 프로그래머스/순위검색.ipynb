{
 "cells": [
  {
   "cell_type": "code",
   "execution_count": null,
   "metadata": {},
   "outputs": [],
   "source": [
    "#시간초과\n",
    "def solution(info, query):\n",
    "    answer = []\n",
    "    for cond in query:\n",
    "        cond = cond.split(\" and \")\n",
    "        temp = cond[-1].split()\n",
    "        cond[3] = temp[0]\n",
    "        cond.append(temp[1])\n",
    "        sol = 0\n",
    "        for information in info:\n",
    "            information = information.split()\n",
    "            cnt = 0\n",
    "            if int(cond[4]) <= int(information[4]):\n",
    "                for i in range(4):\n",
    "                    if cond[i] == '-':\n",
    "                        cnt += 1\n",
    "                    elif information[i] == cond[i]:\n",
    "                        cnt += 1\n",
    "                if cnt == 4:\n",
    "                    sol += 1\n",
    "        answer.append(sol)\n",
    "    return answer"
   ]
  },
  {
   "cell_type": "code",
   "execution_count": null,
   "metadata": {},
   "outputs": [],
   "source": [
    "from itertools import combinations\n",
    "from collections import defaultdict\n",
    "from bisect import bisect_left\n",
    "\n",
    "def solution(information, queries):\n",
    "    answer = []\n",
    "    dic = defaultdict(list)\n",
    "    for info in information:\n",
    "        info = info.split()\n",
    "        condition = info[:-1]  \n",
    "        score = int(info[-1])\n",
    "        for i in range(5):\n",
    "            case = list(combinations([0,1,2,3], i))\n",
    "            for c in case:\n",
    "                tmp = condition.copy()\n",
    "                for idx in c:\n",
    "                    tmp[idx] = \"-\"\n",
    "                key = ''.join(tmp)\n",
    "                dic[key].append(score) \n",
    "\n",
    "    for value in dic.values():\n",
    "        value.sort()   \n",
    "\n",
    "    for query in queries:\n",
    "        query = query.replace(\"and \", \"\")\n",
    "        query = query.split()\n",
    "        target_key = ''.join(query[:-1])\n",
    "        target_score = int(query[-1])\n",
    "        count = 0\n",
    "        if target_key in dic:\n",
    "            target_list = dic[target_key]\n",
    "            idx = bisect_left(target_list, target_score)\n",
    "            count = len(target_list) - idx\n",
    "        answer.append(count)      \n",
    "    return answer"
   ]
  }
 ],
 "metadata": {
  "language_info": {
   "name": "python"
  },
  "orig_nbformat": 4
 },
 "nbformat": 4,
 "nbformat_minor": 2
}
