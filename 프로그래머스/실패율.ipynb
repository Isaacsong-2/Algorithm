{
 "cells": [
  {
   "cell_type": "code",
   "execution_count": null,
   "metadata": {},
   "outputs": [],
   "source": [
    "def solution(N, stages):\n",
    "    answer = []\n",
    "    temp = []\n",
    "    for i in range(1,N+1):\n",
    "        num_player = 0\n",
    "        not_clear = 0\n",
    "        for j in stages:\n",
    "            if j>=i:\n",
    "                num_player += 1\n",
    "                if i == j:\n",
    "                    not_clear += 1\n",
    "        if num_player != 0:\n",
    "            temp.append((not_clear/num_player,i))\n",
    "        else:\n",
    "            temp.append((0,i))\n",
    "    temp.sort(key = lambda x:-x[0])\n",
    "    for i in range(N):\n",
    "        answer.append(temp[i][1])\n",
    "    return answer"
   ]
  }
 ],
 "metadata": {
  "language_info": {
   "name": "python"
  },
  "orig_nbformat": 4
 },
 "nbformat": 4,
 "nbformat_minor": 2
}
