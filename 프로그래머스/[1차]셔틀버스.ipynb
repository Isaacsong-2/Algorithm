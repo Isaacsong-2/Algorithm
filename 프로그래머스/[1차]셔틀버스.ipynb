{
 "cells": [
  {
   "cell_type": "code",
   "execution_count": null,
   "metadata": {},
   "outputs": [],
   "source": [
    "from collections import deque\n",
    "def solution(n, t, m, timetable):\n",
    "    answer = ''\n",
    "    timetable.sort()\n",
    "    timetable=deque(timetable)\n",
    "    bus = \"09:00\"\n",
    "    for i in range(n-1):\n",
    "        for j in range(m):\n",
    "            if timetable and timetable[0]<=bus:\n",
    "                timetable.popleft()\n",
    "        a, b = bus.split(\":\")\n",
    "        a = int(a)\n",
    "        b = int(b)\n",
    "        if b+t>=60:\n",
    "            a += 1\n",
    "        b = (b+t)%60\n",
    "        if a<10:\n",
    "            bus = '0' + str(a) + ':' + str(b)\n",
    "        else:\n",
    "            bus = str(a) + ':' + str(b)\n",
    "        if b<10:\n",
    "            bus = bus[:-1] + '0' + bus[-1]\n",
    "    if len(timetable)<m:\n",
    "        answer = bus\n",
    "    else:\n",
    "        for i in range(m-1):\n",
    "            if timetable and timetable[0] <= bus:\n",
    "                timetable.popleft()\n",
    "        if timetable and timetable[0] <= bus:\n",
    "            a,b = timetable[0].split(\":\")\n",
    "            a = int(a)\n",
    "            b = int(b)\n",
    "            if b == 0:\n",
    "                a -= 1\n",
    "                b = 59\n",
    "            else:\n",
    "                b = b-1\n",
    "            if a<10:\n",
    "                answer = '0' + str(a) + ':' + str(b)\n",
    "            else:\n",
    "                answer = str(a) + ':' + str(b)\n",
    "            if b<10:\n",
    "                answer = answer[:-1] + '0' + answer[-1]\n",
    "        else:\n",
    "            answer = bus\n",
    "    return answer"
   ]
  }
 ],
 "metadata": {
  "language_info": {
   "name": "python"
  },
  "orig_nbformat": 4
 },
 "nbformat": 4,
 "nbformat_minor": 2
}
