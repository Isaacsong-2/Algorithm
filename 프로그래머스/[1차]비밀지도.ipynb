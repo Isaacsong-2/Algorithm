{
 "cells": [
  {
   "cell_type": "code",
   "execution_count": null,
   "metadata": {},
   "outputs": [],
   "source": [
    "def solution(n, arr1, arr2):\n",
    "    answer = []\n",
    "    for i in range(n):\n",
    "        tmp1 = bin(arr1[i])[2:]\n",
    "        tmp2 = bin(arr2[i])[2:]\n",
    "        temp = []\n",
    "        while(len(tmp1)<n):\n",
    "            tmp1 = '0'+tmp1\n",
    "        while(len(tmp2)<n):\n",
    "            tmp2 = '0'+tmp2\n",
    "        for j in range(n):\n",
    "            if tmp1[j]=='1' or tmp2[j]=='1':\n",
    "                temp.append(\"#\")\n",
    "            else:\n",
    "                temp.append(\" \")\n",
    "        answer.append(''.join(temp))\n",
    "    return answer"
   ]
  }
 ],
 "metadata": {
  "language_info": {
   "name": "python"
  },
  "orig_nbformat": 4
 },
 "nbformat": 4,
 "nbformat_minor": 2
}
