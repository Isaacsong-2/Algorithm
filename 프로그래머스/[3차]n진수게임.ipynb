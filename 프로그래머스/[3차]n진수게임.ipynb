{
 "cells": [
  {
   "cell_type": "code",
   "execution_count": null,
   "metadata": {},
   "outputs": [],
   "source": [
    "def cal(n, q):\n",
    "    rev_base = ''\n",
    "    while n >= 0:\n",
    "        n, mod = divmod(n, q)\n",
    "        if mod <10:\n",
    "            rev_base += str(mod)\n",
    "        else:\n",
    "            if mod == 10:\n",
    "                rev_base += 'A'\n",
    "            elif mod == 11:\n",
    "                rev_base += 'B'\n",
    "            elif mod == 12:\n",
    "                rev_base += 'C'\n",
    "            elif mod == 13:\n",
    "                rev_base += 'D'\n",
    "            elif mod == 14:\n",
    "                rev_base += 'E'\n",
    "            else:\n",
    "                rev_base += 'F'\n",
    "        if n == 0:\n",
    "            break\n",
    "    return rev_base[::-1] \n",
    "\n",
    "def solution(n, t, m, p):\n",
    "    answer = ''\n",
    "    k = 0\n",
    "    i = 0\n",
    "    while(len(answer) < t):\n",
    "        sol = cal(i,n)\n",
    "        for j in range(len(sol)):\n",
    "            if k % m == p-1:\n",
    "                answer += sol[j]\n",
    "            k += 1\n",
    "            if len(answer) == t:\n",
    "                break\n",
    "        i += 1\n",
    "    return answer"
   ]
  }
 ],
 "metadata": {
  "language_info": {
   "name": "python"
  },
  "orig_nbformat": 4
 },
 "nbformat": 4,
 "nbformat_minor": 2
}
