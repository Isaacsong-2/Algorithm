{
 "cells": [
  {
   "cell_type": "code",
   "execution_count": 23,
   "metadata": {},
   "outputs": [
    {
     "data": {
      "text/plain": [
       "[4, 3, 1, 1, 0]"
      ]
     },
     "execution_count": 23,
     "metadata": {},
     "output_type": "execute_result"
    }
   ],
   "source": [
    "def solution(prices):\n",
    "    answer = [1] * (len(prices)-1) + [0]\n",
    "    cnt = 0\n",
    "    stack = [prices[0]]\n",
    "    num = [0]\n",
    "    for i in range(1,len(prices)-1):\n",
    "        if prices[i] >= stack[-1]:\n",
    "            for j in num:\n",
    "                answer[j] += 1\n",
    "        else:    \n",
    "            while(stack and prices[i] < stack[-1]):\n",
    "                stack.pop()\n",
    "                num.pop()\n",
    "            for j in num:\n",
    "                answer[j] += 1\n",
    "        stack.append(prices[i])\n",
    "        num.append(i)\n",
    "    return answer\n",
    "solution([1,2,3,2,3])"
   ]
  }
 ],
 "metadata": {
  "interpreter": {
   "hash": "53e059d21691b4acb4a64b9f63fef32a69804c1f4bf8b757b5579479fa8a32ee"
  },
  "kernelspec": {
   "display_name": "Python 3.7.2 64-bit",
   "language": "python",
   "name": "python3"
  },
  "language_info": {
   "codemirror_mode": {
    "name": "ipython",
    "version": 3
   },
   "file_extension": ".py",
   "mimetype": "text/x-python",
   "name": "python",
   "nbconvert_exporter": "python",
   "pygments_lexer": "ipython3",
   "version": "3.7.2"
  },
  "orig_nbformat": 4
 },
 "nbformat": 4,
 "nbformat_minor": 2
}
