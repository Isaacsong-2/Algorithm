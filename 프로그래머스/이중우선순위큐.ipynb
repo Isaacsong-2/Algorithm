{
 "cells": [
  {
   "cell_type": "code",
   "execution_count": 15,
   "metadata": {},
   "outputs": [
    {
     "ename": "SyntaxError",
     "evalue": "invalid syntax (Temp/ipykernel_25668/1742754739.py, line 19)",
     "output_type": "error",
     "traceback": [
      "\u001b[1;36m  File \u001b[1;32m\"C:\\Users\\thddl\\AppData\\Local\\Temp/ipykernel_25668/1742754739.py\"\u001b[1;36m, line \u001b[1;32m19\u001b[0m\n\u001b[1;33m    print(min_heap, max_heap)\u001b[0m\n\u001b[1;37m        ^\u001b[0m\n\u001b[1;31mSyntaxError\u001b[0m\u001b[1;31m:\u001b[0m invalid syntax\n"
     ]
    }
   ],
   "source": [
    "import heapq\n",
    "def solution(operations):\n",
    "    min_heap = []\n",
    "    max_heap = []\n",
    "    for operation in operations:\n",
    "        a,b = operation.split(\" \")\n",
    "        b = int(b)\n",
    "        if a == 'I':\n",
    "            heapq.heappush(min_heap, b)\n",
    "            heapq.heappush(max_heap, (-b,b))\n",
    "        else:\n",
    "            if min_heap:\n",
    "                if b == 1:\n",
    "                    val = heapq.heappop(max_heap)[1]\n",
    "                    min_heap.remove(val)     \n",
    "                else:\n",
    "                    val = heapq.heappop(min_heap)\n",
    "                    max_heap.remove((-val,val)\n",
    "        print(min_heap, max_heap)\n",
    "    if min_heap:\n",
    "        answer = [max_heap[0][1], min_heap[0]]\n",
    "    else:\n",
    "        answer = [0, 0]\n",
    "    return answer\n",
    "# operations = [\"I 7\",\"I 5\",\"I -5\",\"D -1\"]\n",
    "operations = [\"I 16\", \"D 1\"]\n",
    "solution(operations)"
   ]
  }
 ],
 "metadata": {
  "interpreter": {
   "hash": "53e059d21691b4acb4a64b9f63fef32a69804c1f4bf8b757b5579479fa8a32ee"
  },
  "kernelspec": {
   "display_name": "Python 3.7.2 64-bit",
   "language": "python",
   "name": "python3"
  },
  "language_info": {
   "codemirror_mode": {
    "name": "ipython",
    "version": 3
   },
   "file_extension": ".py",
   "mimetype": "text/x-python",
   "name": "python",
   "nbconvert_exporter": "python",
   "pygments_lexer": "ipython3",
   "version": "3.7.2"
  },
  "orig_nbformat": 4
 },
 "nbformat": 4,
 "nbformat_minor": 2
}
