{
 "cells": [
  {
   "cell_type": "code",
   "execution_count": 1,
   "metadata": {},
   "outputs": [
    {
     "name": "stdout",
     "output_type": "stream",
     "text": [
      "[] [-7]\n",
      "[5] [-7]\n",
      "[-5, 5] [-7]\n",
      "[5] [-7]\n"
     ]
    },
    {
     "data": {
      "text/plain": [
       "[0, 0]"
      ]
     },
     "execution_count": 1,
     "metadata": {},
     "output_type": "execute_result"
    }
   ],
   "source": [
    "import heapq\n",
    "def solution(operations):\n",
    "    min_heap = []\n",
    "    max_heap = []\n",
    "    answer = []\n",
    "    for operation in operations:\n",
    "        a,b = operation.split(\" \")\n",
    "        if a == 'I':\n",
    "            if max_heap and int(b) < -max_heap[0]:\n",
    "                heapq.heappush(min_heap,int(b))\n",
    "            else:\n",
    "                heapq.heappush(max_heap,-int(b))\n",
    "        else:\n",
    "            if b == '1':\n",
    "                if max_heap:\n",
    "                    heapq.heappop(max_heap)             \n",
    "            else:\n",
    "                heapq.heappop(min_heap)\n",
    "        print(min_heap, max_heap)\n",
    "    # while(min_heap):\n",
    "    #     a = heapq.heappop(min_heap)\n",
    "    #     for b in max_heap:\n",
    "    #         if a == -b:\n",
    "    #             answer.append(a)\n",
    "    if answer:\n",
    "        return [max(answer), min(answer)]\n",
    "    else:\n",
    "        return [0,0]\n",
    "operations = [\"I 7\",\"I 5\",\"I -5\",\"D -1\"]\n",
    "solution(operations)"
   ]
  }
 ],
 "metadata": {
  "interpreter": {
   "hash": "53e059d21691b4acb4a64b9f63fef32a69804c1f4bf8b757b5579479fa8a32ee"
  },
  "kernelspec": {
   "display_name": "Python 3.7.2 64-bit",
   "language": "python",
   "name": "python3"
  },
  "language_info": {
   "codemirror_mode": {
    "name": "ipython",
    "version": 3
   },
   "file_extension": ".py",
   "mimetype": "text/x-python",
   "name": "python",
   "nbconvert_exporter": "python",
   "pygments_lexer": "ipython3",
   "version": "3.7.2"
  },
  "orig_nbformat": 4
 },
 "nbformat": 4,
 "nbformat_minor": 2
}
