{
 "cells": [
  {
   "cell_type": "code",
   "execution_count": null,
   "metadata": {},
   "outputs": [],
   "source": [
    "def solution(lines):\n",
    "    answer = 0\n",
    "    n = len(lines)\n",
    "    for i in range(n):\n",
    "        lines[i] = lines[i][11:]\n",
    "    li = []\n",
    "    for line in lines:\n",
    "        hour = int(line[:2])\n",
    "        minute = int(line[3:5])\n",
    "        second = float(line[6:12])\n",
    "        term = float(line[13:-1])\n",
    "        time = 3600*hour + 60*minute + second\n",
    "        if time-term < 0:\n",
    "            li.append((0,time))\n",
    "        else:\n",
    "            li.append((time-term+0.001,time))\n",
    "    for i in range(len(li)):\n",
    "        cnt = 0\n",
    "        # print(li[i], i)\n",
    "        for j in range(len(li)):\n",
    "            if (1000*li[j][0]<1000*li[i][0]-999 and 1000*li[j][1]<1000*li[i][0]-999) or (li[j][0]>li[i][0] and li[j][1]>li[i][0]):\n",
    "                # print(li[j][0], li[i][0]-1+0.001)\n",
    "                continue\n",
    "            # print(li[j])\n",
    "            cnt += 1\n",
    "        # print(cnt)\n",
    "        answer = max(answer,cnt)\n",
    "    return answer"
   ]
  }
 ],
 "metadata": {
  "language_info": {
   "name": "python"
  },
  "orig_nbformat": 4
 },
 "nbformat": 4,
 "nbformat_minor": 2
}
