{
 "cells": [
  {
   "cell_type": "code",
   "execution_count": null,
   "metadata": {},
   "outputs": [],
   "source": [
    "from collections import defaultdict\n",
    "\n",
    "\n",
    "def solution(id_list, report, k):\n",
    "    answer = [0] * len(id_list)\n",
    "    report = set(report)\n",
    "    \n",
    "    user_list_who_i_report = defaultdict(set)\n",
    "    num_of_reported = defaultdict(int)\n",
    "    suspended = []\n",
    "\n",
    "    for r in report:\n",
    "        do_report, be_reported = r.split()\n",
    "        \n",
    "        num_of_reported[be_reported] += 1\n",
    "        user_list_who_i_report[do_report].add(be_reported)\n",
    "        \n",
    "        if num_of_reported[be_reported] == k:\n",
    "            suspended.append(be_reported)\n",
    "\n",
    "    for s in suspended:\n",
    "        for i in range(len(id_list)):\n",
    "            if s in user_list_who_i_report[id_list[i]]:\n",
    "                answer[i] += 1\n",
    "\n",
    "    return answer"
   ]
  }
 ],
 "metadata": {
  "language_info": {
   "name": "python"
  },
  "orig_nbformat": 4
 },
 "nbformat": 4,
 "nbformat_minor": 2
}
