{
 "cells": [
  {
   "cell_type": "code",
   "execution_count": null,
   "metadata": {},
   "outputs": [],
   "source": [
    "from collections import deque\n",
    "def solution(str1, str2):\n",
    "    str1 = str1.lower()\n",
    "    str2 = str2.lower()\n",
    "    li1 = []\n",
    "    li2 = []\n",
    "    for i in range(len(str1)-1):\n",
    "        if 97<=ord(str1[i])<=122 and 97<=ord(str1[i+1])<=122:\n",
    "            li1.append(str1[i]+str1[i+1])\n",
    "    for i in range(len(str2)-1):\n",
    "        if 97<=ord(str2[i])<=122 and 97<=ord(str2[i+1])<=122:\n",
    "            li2.append(str2[i]+str2[i+1])\n",
    "    li1.sort()\n",
    "    li1 = deque(li1)\n",
    "    n = len(li1)\n",
    "    union = 0\n",
    "    intersec = 0\n",
    "    for i in range(n):\n",
    "        if li1[i] in li2:\n",
    "            li2.remove(li1[i])\n",
    "            intersec += 1\n",
    "        union += 1\n",
    "    union += len(li2)\n",
    "    if intersec == 0 and union == 0:\n",
    "        answer = 65536\n",
    "    else: answer = int(65536*intersec/union)\n",
    "    return answer"
   ]
  }
 ],
 "metadata": {
  "language_info": {
   "name": "python"
  },
  "orig_nbformat": 4
 },
 "nbformat": 4,
 "nbformat_minor": 2
}
