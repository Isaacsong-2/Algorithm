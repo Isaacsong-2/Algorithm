{
 "cells": [
  {
   "cell_type": "code",
   "execution_count": 5,
   "metadata": {},
   "outputs": [
    {
     "name": "stdout",
     "output_type": "stream",
     "text": [
      "1\n"
     ]
    }
   ],
   "source": [
    "# n = 8\n",
    "# m = 4\n",
    "# section = [2,3,6]\n",
    "n = 5\n",
    "m = 4\n",
    "section = [1,3]\n",
    "ans = 1\n",
    "cur_section = section[0]\n",
    "for next_section in section:\n",
    "    if next_section - cur_section >= m - 1:\n",
    "        ans += 1\n",
    "        cur_section = next_section\n",
    "print(ans)\n",
    "# return ans"
   ]
  }
 ],
 "metadata": {
  "kernelspec": {
   "display_name": "Python 3",
   "language": "python",
   "name": "python3"
  },
  "language_info": {
   "codemirror_mode": {
    "name": "ipython",
    "version": 3
   },
   "file_extension": ".py",
   "mimetype": "text/x-python",
   "name": "python",
   "nbconvert_exporter": "python",
   "pygments_lexer": "ipython3",
   "version": "3.7.2"
  },
  "orig_nbformat": 4
 },
 "nbformat": 4,
 "nbformat_minor": 2
}
