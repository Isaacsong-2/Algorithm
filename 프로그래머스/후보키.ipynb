{
 "cells": [
  {
   "cell_type": "code",
   "execution_count": null,
   "metadata": {},
   "outputs": [],
   "source": [
    "from itertools import combinations\n",
    "def solution(relation):\n",
    "    answer = 0\n",
    "    keys = []\n",
    "    for i in range(1,len(relation[0])+1):\n",
    "        temp = [_ for _ in range(len(relation[0]))]\n",
    "        for j in list(combinations(temp,i)):\n",
    "            trig = 0\n",
    "            for key in keys:\n",
    "                if set(key) | set(j) == set(key) or set(key) | set(j) == set(j):\n",
    "                    trig = 1\n",
    "                    break\n",
    "            if trig:\n",
    "                continue\n",
    "            check = []\n",
    "            for col in relation:\n",
    "                tmp = \"\"\n",
    "                for k in j:\n",
    "                    tmp += col[k]\n",
    "                if tmp not in check:\n",
    "                    check.append(tmp)\n",
    "                else:\n",
    "                    break\n",
    "            if len(check) == len(relation):\n",
    "                answer += 1\n",
    "                keys.append(j)\n",
    "    return answer"
   ]
  }
 ],
 "metadata": {
  "language_info": {
   "name": "python"
  },
  "orig_nbformat": 4
 },
 "nbformat": 4,
 "nbformat_minor": 2
}
