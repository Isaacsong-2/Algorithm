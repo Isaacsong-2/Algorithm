{
 "cells": [
  {
   "cell_type": "code",
   "execution_count": null,
   "metadata": {},
   "outputs": [],
   "source": [
    "def solution(record):\n",
    "    answer = []\n",
    "    dic = {}\n",
    "    for string in record:\n",
    "        temp = list(string.split(\" \"))\n",
    "        if temp[0] == \"Leave\":\n",
    "            userid = temp[1]\n",
    "        else:\n",
    "            userid = temp[1]\n",
    "            nickname = temp[2]\n",
    "            dic[userid] = nickname\n",
    "    for string in record:\n",
    "        temp = list(string.split(\" \"))\n",
    "        if temp[0] == \"Leave\":\n",
    "            userid = temp[1]\n",
    "            answer.append(dic.get(userid)+\"님이 나갔습니다.\")\n",
    "        elif temp[0] == \"Enter\":\n",
    "            userid = temp[1]\n",
    "            answer.append(dic.get(userid)+\"님이 들어왔습니다.\")\n",
    "    return answer"
   ]
  }
 ],
 "metadata": {
  "language_info": {
   "name": "python"
  },
  "orig_nbformat": 4
 },
 "nbformat": 4,
 "nbformat_minor": 2
}
