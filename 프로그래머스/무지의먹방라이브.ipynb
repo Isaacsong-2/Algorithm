{
 "cells": [
  {
   "cell_type": "code",
   "execution_count": null,
   "metadata": {},
   "outputs": [],
   "source": [
    "import heapq\n",
    "def solution(food_times, k):\n",
    "    answer = -1\n",
    "    h = []\n",
    "    for i in range(len(food_times)):\n",
    "        heapq.heappush(h, (food_times[i], i + 1))\n",
    "    food_num = len(food_times) # 남은 음식 개수\n",
    "    previous = 0 # 이전에 제거한 음식의 food_time\n",
    "    while h: # 먹는데 걸리는 시간: (남은 양) * (남은 음식 개수)\n",
    "        t = (h[0][0] - previous) * food_num # 시간이 남을 경우 현재 음식 빼기\n",
    "        if k >= t:\n",
    "            k -= t\n",
    "            previous,_ = heapq.heappop(h)\n",
    "            food_num -= 1 # 시간이 부족할 경우(음식을 다 못먹을 경우) 남은 음식 중에 먹어야 할 음식 찾기\n",
    "        else:\n",
    "            idx = k % food_num\n",
    "            h.sort(key=lambda x: x[1])\n",
    "            answer = h[idx][1]\n",
    "            break\n",
    "    return answer"
   ]
  }
 ],
 "metadata": {
  "language_info": {
   "name": "python"
  },
  "orig_nbformat": 4
 },
 "nbformat": 4,
 "nbformat_minor": 2
}
