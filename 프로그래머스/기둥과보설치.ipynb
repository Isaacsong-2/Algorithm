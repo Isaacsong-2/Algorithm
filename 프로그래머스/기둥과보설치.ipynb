{
 "cells": [
  {
   "cell_type": "code",
   "execution_count": null,
   "metadata": {},
   "outputs": [],
   "source": [
    "def isValid(answer):\n",
    "    for x,y,a in answer:\n",
    "        if a==0:\n",
    "            if (x,y-1,0) in answer or (x-1,y,1) in answer or (x,y,1) in answer or y==0:\n",
    "                continue\n",
    "            else:\n",
    "                return False\n",
    "        if a==1:\n",
    "            if (x,y-1,0) in answer or (x+1,y-1,0) in answer or ((x-1,y,1) in answer and (x+1,y,1) in answer):\n",
    "                continue\n",
    "            else:\n",
    "                return False\n",
    "    return True\n",
    "\n",
    "def solution(n, build_frame):\n",
    "    answer = set()\n",
    "    for x,y,a,b in build_frame:\n",
    "        if b==0:\n",
    "            answer.remove((x,y,a))\n",
    "            if not isValid(answer):\n",
    "                answer.add((x,y,a))\n",
    "        else:\n",
    "            answer.add((x,y,a))\n",
    "            if not isValid(answer):\n",
    "                answer.remove((x,y,a))\n",
    "\n",
    "    answer = [list(i) for i in answer]\n",
    "    answer.sort(key=lambda x:(x[0],x[1],x[2]))\n",
    "    return answer"
   ]
  }
 ],
 "metadata": {
  "language_info": {
   "name": "python"
  },
  "orig_nbformat": 4
 },
 "nbformat": 4,
 "nbformat_minor": 2
}
