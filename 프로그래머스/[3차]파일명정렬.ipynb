{
 "cells": [
  {
   "cell_type": "code",
   "execution_count": 7,
   "metadata": {},
   "outputs": [
    {
     "name": "stdout",
     "output_type": "stream",
     "text": [
      "[['o', 321, 0], ['o', 49, 'qcgphurlr5fefoo00321', 1]]\n",
      "['O49qcGPHuRLR5FEfoO00321', 'O00321']\n"
     ]
    }
   ],
   "source": [
    "def solution(files):\n",
    "    temp = files[:]\n",
    "    for i in range(len(files)):\n",
    "        files[i] = [files[i].lower()]\n",
    "        for j in range(len(files[i][0])):\n",
    "            if 48<=ord(files[i][0][j])<=57:\n",
    "                files[i].insert(1,files[i][0][j:])\n",
    "                files[i][0] = files[i][0][:j]\n",
    "                break\n",
    "        for j in range(len(files[i][1])):\n",
    "            if 48<=ord(files[i][1][j])<=57:\n",
    "                continue\n",
    "            else:\n",
    "                files[i].insert(2,files[i][1][j:])\n",
    "                files[i][1] = files[i][1][:j]\n",
    "                break\n",
    "        files[i][1] = int(files[i][1])\n",
    "        files[i].append(i)\n",
    "    files.sort(key = lambda x:(x[0],x[1]))\n",
    "    answer = []\n",
    "    for file in files:\n",
    "        answer.append(temp[file[-1]])\n",
    "    return answer\n",
    "# print(solution([\"img12.png\", \"img10.png\", \"img02.png\", \"img1.png\", \"IMG01.GIF\", \"img2.JPG\"]))\n",
    "# print(solution([\"F-5 Freedom Fighter\", \"B-50 Superfortress\", \"A-10 Thunderbolt II\", \"F-14 Tomcat\"]))\n",
    "print(solution([\"O00321\", \"O49qcGPHuRLR5FEfoO00321\"]))"
   ]
  }
 ],
 "metadata": {
  "interpreter": {
   "hash": "53e059d21691b4acb4a64b9f63fef32a69804c1f4bf8b757b5579479fa8a32ee"
  },
  "kernelspec": {
   "display_name": "Python 3.7.2 64-bit",
   "language": "python",
   "name": "python3"
  },
  "language_info": {
   "codemirror_mode": {
    "name": "ipython",
    "version": 3
   },
   "file_extension": ".py",
   "mimetype": "text/x-python",
   "name": "python",
   "nbconvert_exporter": "python",
   "pygments_lexer": "ipython3",
   "version": "3.7.2"
  },
  "orig_nbformat": 4
 },
 "nbformat": 4,
 "nbformat_minor": 2
}
