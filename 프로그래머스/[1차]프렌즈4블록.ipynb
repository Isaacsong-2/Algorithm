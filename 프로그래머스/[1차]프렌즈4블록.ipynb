{
 "cells": [
  {
   "cell_type": "code",
   "execution_count": 21,
   "metadata": {},
   "outputs": [
    {
     "data": {
      "text/plain": [
       "15"
      ]
     },
     "execution_count": 21,
     "metadata": {},
     "output_type": "execute_result"
    }
   ],
   "source": [
    "def solution(m, n, board):\n",
    "    answer = 0\n",
    "    while(1):\n",
    "        tmp = set()\n",
    "        for i in range(m-1):\n",
    "            for j in range(n-1):\n",
    "                if board[i][j] != \" \":\n",
    "                    if board[i][j] == board[i][j+1] and board[i][j] == board[i+1][j] and board[i][j] == board[i+1][j+1]:\n",
    "                        tmp.add((i,j))\n",
    "                        tmp.add((i+1,j))\n",
    "                        tmp.add((i,j+1))\n",
    "                        tmp.add((i+1,j+1))\n",
    "        answer += len(tmp)\n",
    "        for i,j in tmp:\n",
    "            board[i] = board[i][:j] + \" \" + board[i][j+1:]\n",
    "        if len(tmp) == 0:\n",
    "            break\n",
    "        for k in range(m-1):\n",
    "            for i in range(m-1):\n",
    "                for j in range(n):\n",
    "                    if board[i+1][j] == \" \":\n",
    "                        board[i+1] = board[i+1][:j] + board[i][j] + board[i+1][j+1:]\n",
    "                        board[i] = board[i][:j] + \" \" + board[i][j+1:]\n",
    "    return answer\n",
    "board = [\"TTTANT\",\"RRFACC\",\"RRRFCC\",\"TRRRAA\",\"TTMMMF\",\"TMMTTJ\"]\n",
    "solution(6,6,board)"
   ]
  }
 ],
 "metadata": {
  "interpreter": {
   "hash": "53e059d21691b4acb4a64b9f63fef32a69804c1f4bf8b757b5579479fa8a32ee"
  },
  "kernelspec": {
   "display_name": "Python 3.7.2 64-bit",
   "language": "python",
   "name": "python3"
  },
  "language_info": {
   "codemirror_mode": {
    "name": "ipython",
    "version": 3
   },
   "file_extension": ".py",
   "mimetype": "text/x-python",
   "name": "python",
   "nbconvert_exporter": "python",
   "pygments_lexer": "ipython3",
   "version": "3.7.2"
  },
  "orig_nbformat": 4
 },
 "nbformat": 4,
 "nbformat_minor": 2
}
