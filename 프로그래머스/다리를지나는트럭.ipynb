{
 "cells": [
  {
   "cell_type": "code",
   "execution_count": 10,
   "metadata": {},
   "outputs": [
    {
     "name": "stdout",
     "output_type": "stream",
     "text": [
      "deque([7, 0])\n",
      "deque([0, 7])\n",
      "deque([4, 0])\n",
      "deque([5, 4])\n",
      "deque([0, 5])\n",
      "deque([6, 0])\n",
      "6\n"
     ]
    }
   ],
   "source": [
    "from collections import deque\n",
    "def solution(bridge_length, weight, truck_weights):\n",
    "    answer = 0\n",
    "    truck_weights = deque(truck_weights)\n",
    "    l = bridge_length\n",
    "    cur = deque([0] * l)\n",
    "    while(len(truck_weights)):\n",
    "        answer += 1\n",
    "        cur.pop()\n",
    "        if sum(cur)+truck_weights[0] <= weight:\n",
    "             cur.appendleft(truck_weights.popleft())\n",
    "        else:\n",
    "            cur.appendleft(0)\n",
    "    return(answer+l)\n",
    "    # while(1):\n",
    "    #     answer += 1\n",
    "    #     s -= cur[l-1]\n",
    "    #     if i != n:\n",
    "    #         if s + truck_weights[i] > weight:\n",
    "    #             cur = [0] + cur[:l-1]\n",
    "    #         else:\n",
    "    #             s += truck_weights[i]\n",
    "    #             cur = [truck_weights[i]] + cur[:l-1]\n",
    "    #             i += 1\n",
    "    #     else:\n",
    "    #         cur = [0] + cur[:l-1]\n",
    "    #     if s == 0:\n",
    "    #         break\n",
    "    #     print(cur,s)\n",
    "    # return answer+1\n",
    "\n",
    "bridge_length = 2\n",
    "weight = 10\n",
    "truck_weights = [7,4,5,6]\n",
    "solution(bridge_length, weight, truck_weights)\n",
    "\n"
   ]
  }
 ],
 "metadata": {
  "interpreter": {
   "hash": "53e059d21691b4acb4a64b9f63fef32a69804c1f4bf8b757b5579479fa8a32ee"
  },
  "kernelspec": {
   "display_name": "Python 3.7.2 64-bit",
   "language": "python",
   "name": "python3"
  },
  "language_info": {
   "codemirror_mode": {
    "name": "ipython",
    "version": 3
   },
   "file_extension": ".py",
   "mimetype": "text/x-python",
   "name": "python",
   "nbconvert_exporter": "python",
   "pygments_lexer": "ipython3",
   "version": "3.7.2"
  },
  "orig_nbformat": 4
 },
 "nbformat": 4,
 "nbformat_minor": 2
}
