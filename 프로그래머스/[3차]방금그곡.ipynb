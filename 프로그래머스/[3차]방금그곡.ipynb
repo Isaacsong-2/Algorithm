{
 "cells": [
  {
   "cell_type": "code",
   "execution_count": null,
   "metadata": {},
   "outputs": [],
   "source": [
    "def solution(m, musicinfos):\n",
    "    answer = '(None)'\n",
    "    n = len(musicinfos)\n",
    "    cor_len = 0\n",
    "    for i in range(n):\n",
    "        start,end,name,score = musicinfos[i].split(\",\")\n",
    "        playtime = (int(end[:2])-int(start[:2]))*60 + int(end[3:])-int(start[3:])\n",
    "        entire = \"\"\n",
    "        j = 0\n",
    "        cnt = 0\n",
    "        while(j<playtime+cnt):\n",
    "            if score[(j+1)%len(score)] == '#':\n",
    "                cnt += 1\n",
    "            entire = entire+score[j%len(score)]\n",
    "            j += 1\n",
    "        if entire == m:\n",
    "            if cor_len<playtime:\n",
    "                cor_len = playtime\n",
    "                answer = name\n",
    "        for j in range(len(entire)-len(m)+1):\n",
    "            if entire[j:j+len(m)] == m:\n",
    "                if j+len(m)<len(entire) and entire[j+len(m)] == '#':\n",
    "                    continue\n",
    "                if cor_len<playtime:\n",
    "                    cor_len=playtime\n",
    "                    answer = name\n",
    "                    break\n",
    "    return answer"
   ]
  }
 ],
 "metadata": {
  "language_info": {
   "name": "python"
  },
  "orig_nbformat": 4
 },
 "nbformat": 4,
 "nbformat_minor": 2
}
