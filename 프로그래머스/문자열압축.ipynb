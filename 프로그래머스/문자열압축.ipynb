{
 "cells": [
  {
   "cell_type": "code",
   "execution_count": null,
   "metadata": {},
   "outputs": [],
   "source": [
    "def solution(s):\n",
    "    answer = 1000000\n",
    "    for i in range(1,len(s)//2+1):\n",
    "        temp = s[:]\n",
    "        cnt = 0\n",
    "        flag = 0\n",
    "        while(temp):\n",
    "            if len(temp)<i:\n",
    "                break\n",
    "            if temp[0:i] == temp[i:2*i]:\n",
    "                if not(flag):\n",
    "                    flag = 2\n",
    "                    cnt += 1   \n",
    "                else:\n",
    "                    flag += 1\n",
    "                    if flag == 10:\n",
    "                        cnt += 1\n",
    "                    if flag == 100:\n",
    "                        cnt += 1\n",
    "                    if flag == 1000:\n",
    "                        cnt += 1\n",
    "            else:\n",
    "                flag = 0\n",
    "                cnt += i\n",
    "            temp = temp[i:]\n",
    "        answer = min(cnt+len(temp),answer)\n",
    "    if answer == 1000000:\n",
    "        answer = len(s)\n",
    "            \n",
    "    return answer"
   ]
  }
 ],
 "metadata": {
  "language_info": {
   "name": "python"
  },
  "orig_nbformat": 4
 },
 "nbformat": 4,
 "nbformat_minor": 2
}
