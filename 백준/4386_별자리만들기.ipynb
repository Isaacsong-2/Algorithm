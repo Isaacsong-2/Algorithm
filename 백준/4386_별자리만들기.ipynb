{
 "cells": [
  {
   "cell_type": "code",
   "execution_count": 31,
   "metadata": {},
   "outputs": [],
   "source": [
    "n = int(input())\n",
    "star = []\n",
    "for i in range(n):\n",
    "    star.append(list(map(float,input().split())))\n"
   ]
  },
  {
   "cell_type": "code",
   "execution_count": 33,
   "metadata": {},
   "outputs": [
    {
     "name": "stdout",
     "output_type": "stream",
     "text": [
      "3.414213562373095\n"
     ]
    }
   ],
   "source": [
    "# print(star)\n",
    "import math\n",
    "def dis(a, b):\n",
    "    return math.sqrt(pow(a[0]-b[0],2)+pow(a[1]-b[1],2))\n",
    "visit = [[0] * n for _ in range(n+1)]\n",
    "for i in range(n):\n",
    "    visit[i][i] = 1\n",
    "\n",
    "sol = 0\n",
    "for i in range(n):\n",
    "    flag = 0\n",
    "    for k in range(n):\n",
    "        if i != k and visit[i][k] == 1: \n",
    "            flag = 1\n",
    "    m = 4000\n",
    "    cur = -1\n",
    "    if flag == 0:\n",
    "        for j in range(n):\n",
    "            if visit[i][j]==1:\n",
    "                continue\n",
    "            if m > dis(star[i],star[j]):\n",
    "                m = dis(star[i],star[j])\n",
    "                visit[i][cur] = 0\n",
    "                visit[cur][i] = 0\n",
    "                cur = j\n",
    "        visit[i][cur] = 1\n",
    "        visit[cur][i] = 1\n",
    "        if m != 4000:\n",
    "            sol += m\n",
    "print(sol)\n"
   ]
  },
  {
   "cell_type": "code",
   "execution_count": null,
   "metadata": {},
   "outputs": [],
   "source": [
    "import math\n",
    "\n",
    "def find_parent(x):\n",
    "    if parent[x] != x:\n",
    "        parent[x] = find_parent(parent[x])\n",
    "    return parent[x]\n",
    "\n",
    "\n",
    "def union_parent(a, b):\n",
    "    a = find_parent(a)\n",
    "    b = find_parent(b)\n",
    "\n",
    "    if a < b:\n",
    "        parent[b] = a\n",
    "    else:\n",
    "        parent[a] = b\n",
    "\n",
    "\n",
    "n = int(input())\n",
    "parent = [i for i in range(n + 1)]\n",
    "\n",
    "stars = []\n",
    "edges = []\n",
    "result = 0\n",
    "\n",
    "for _ in range(n):\n",
    "    x, y = map(float, input().split())\n",
    "    stars.append((x, y))\n",
    "\n",
    "for i in range(n - 1):\n",
    "    for j in range(i + 1, n):\n",
    "        edges.append((math.sqrt((stars[i][0] - stars[j][0])**2 + (stars[i][1] - stars[j][1])**2), i, j))\n",
    "\n",
    "edges.sort()\n",
    "\n",
    "for edge in edges:\n",
    "    cost, x, y = edge\n",
    "\n",
    "    if find_parent(x) != find_parent(y):\n",
    "        union_parent(x, y)\n",
    "        result += cost\n",
    "\n",
    "print(round(result, 2))"
   ]
  }
 ],
 "metadata": {
  "interpreter": {
   "hash": "53e059d21691b4acb4a64b9f63fef32a69804c1f4bf8b757b5579479fa8a32ee"
  },
  "kernelspec": {
   "display_name": "Python 3.7.2 64-bit",
   "language": "python",
   "name": "python3"
  },
  "language_info": {
   "codemirror_mode": {
    "name": "ipython",
    "version": 3
   },
   "file_extension": ".py",
   "mimetype": "text/x-python",
   "name": "python",
   "nbconvert_exporter": "python",
   "pygments_lexer": "ipython3",
   "version": "3.7.2"
  },
  "orig_nbformat": 4
 },
 "nbformat": 4,
 "nbformat_minor": 2
}
