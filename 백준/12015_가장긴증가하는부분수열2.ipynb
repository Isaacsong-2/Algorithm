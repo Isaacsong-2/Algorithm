{
 "cells": [
  {
   "cell_type": "code",
   "execution_count": null,
   "metadata": {},
   "outputs": [],
   "source": [
    "n = int(input())\n",
    "seq = list(map(int, input().split()))\n",
    "lis = [0]\n",
    "for case in seq:\n",
    "    if lis[-1]<case:\n",
    "        lis.append(case)\n",
    "    else:\n",
    "        left = 0\n",
    "        right = len(lis)\n",
    "\n",
    "        while left<right:\n",
    "            mid = (right+left)//2\n",
    "            if lis[mid]<case:\n",
    "                left = mid+1\n",
    "            else:\n",
    "                right = mid\n",
    "        lis[right] = case\n",
    "\n",
    "print(len(lis)-1)"
   ]
  }
 ],
 "metadata": {
  "kernelspec": {
   "display_name": "Python 3.7.2 64-bit",
   "language": "python",
   "name": "python3"
  },
  "language_info": {
   "codemirror_mode": {
    "name": "ipython",
    "version": 3
   },
   "file_extension": ".py",
   "mimetype": "text/x-python",
   "name": "python",
   "nbconvert_exporter": "python",
   "pygments_lexer": "ipython3",
   "version": "3.7.2"
  },
  "orig_nbformat": 4,
  "vscode": {
   "interpreter": {
    "hash": "d75df686efc28afbc154e69ab3b02fa6abad8f31352f252b5de5b4a995eb825f"
   }
  }
 },
 "nbformat": 4,
 "nbformat_minor": 2
}
