{
 "cells": [
  {
   "cell_type": "code",
   "execution_count": 53,
   "metadata": {},
   "outputs": [],
   "source": [
    "n = int(input())\n",
    "date = []\n",
    "time = []\n",
    "weight = []\n",
    "for i in range(n):\n",
    "    d, t, w = input().split()\n",
    "    date.append(d)\n",
    "    time.append(t)\n",
    "    weight.append(w)"
   ]
  },
  {
   "cell_type": "code",
   "execution_count": 56,
   "metadata": {},
   "outputs": [
    {
     "name": "stdout",
     "output_type": "stream",
     "text": [
      "0\n"
     ]
    }
   ],
   "source": [
    "import datetime\n",
    "if n != 0:\n",
    "    date2 = datetime.datetime(int(date[n-1][:4]),int(date[n-1][5:7]),int(date[n-1][8:]),int(time[n-1][:2]),int(time[n-1][3:5]),int(time[n-1][6:]))\n",
    "def caldiff(i):\n",
    "    date1 = datetime.datetime(int(date[i][:4]),int(date[i][5:7]),int(date[i][8:]),int(time[i][:2]),int(time[i][3:5]),int(time[i][6:]))\n",
    "    temp = date2-date1\n",
    "    diff = temp.days + temp.seconds/(60*60*24)\n",
    "    return(diff)\n",
    "up = 0\n",
    "down = 0\n",
    "for i in range(n):\n",
    "    diff = caldiff(i)\n",
    "    print(diff)\n",
    "    pi = max(pow(0.5,diff/365), pow(0.9,n-1-i))\n",
    "    up += pi*float(weight[i])\n",
    "    down += pi\n",
    "    print(pi)\n",
    "if n == 0:\n",
    "    print(0)\n",
    "else:\n",
    "    # print((up-up//down*down)/down)\n",
    "    print(int(up//down)+1) if (up-up//down*down)/down >=0.5 else print(int(up//down))\n",
    "    # print(int(up//down+1)) if up%down >=0.5 else print(int(up//down))\n"
   ]
  }
 ],
 "metadata": {
  "kernelspec": {
   "display_name": "Python 3.7.2 64-bit",
   "language": "python",
   "name": "python3"
  },
  "language_info": {
   "codemirror_mode": {
    "name": "ipython",
    "version": 3
   },
   "file_extension": ".py",
   "mimetype": "text/x-python",
   "name": "python",
   "nbconvert_exporter": "python",
   "pygments_lexer": "ipython3",
   "version": "3.7.2"
  },
  "orig_nbformat": 4,
  "vscode": {
   "interpreter": {
    "hash": "d75df686efc28afbc154e69ab3b02fa6abad8f31352f252b5de5b4a995eb825f"
   }
  }
 },
 "nbformat": 4,
 "nbformat_minor": 2
}
