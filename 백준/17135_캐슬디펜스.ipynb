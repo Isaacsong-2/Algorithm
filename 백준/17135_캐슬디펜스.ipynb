{
 "cells": [
  {
   "cell_type": "code",
   "execution_count": 76,
   "metadata": {},
   "outputs": [],
   "source": [
    "n, m, d = map(int,input().split())\n",
    "arr = [list(map(int,input().split())) for _ in range(n)]"
   ]
  },
  {
   "cell_type": "code",
   "execution_count": 77,
   "metadata": {},
   "outputs": [
    {
     "name": "stdout",
     "output_type": "stream",
     "text": [
      "13\n"
     ]
    }
   ],
   "source": [
    "import copy\n",
    "def sol(a,b,c):\n",
    "    global cnt\n",
    "    li = copy.deepcopy(arr)\n",
    "    cnt = 0\n",
    "    for i in range(n):\n",
    "        min_a = [-1,-1]\n",
    "        min_b = [-1,-1]\n",
    "        min_c = [-1,-1]\n",
    "        for j in range(n):\n",
    "            for k in range(m):\n",
    "                if li[j][k] == 1:\n",
    "                    if abs(n-j)+abs(a-k)<=d:\n",
    "                        if abs(n-j)+abs(a-k) < abs(n-min_a[0])+abs(a-min_a[1]):\n",
    "                            min_a = [j,k]\n",
    "                        if abs(n-j)+abs(a-k) == abs(n-min_a[0])+abs(a-min_a[1]):\n",
    "                            if min_a[1]>k:\n",
    "                                min_a = [j,k]\n",
    "                            pass\n",
    "                    if abs(n-j)+abs(b-k)<=d:\n",
    "                        if abs(n-j)+abs(b-k) < abs(n-min_b[0])+abs(b-min_b[1]):\n",
    "                            min_b = [j,k]\n",
    "                        if abs(n-j)+abs(b-k) == abs(n-min_b[0])+abs(b-min_b[1]):\n",
    "                            if min_b[1]>k:\n",
    "                                min_b = [j,k]\n",
    "                            pass\n",
    "                    if abs(n-j)+abs(c-k)<=d:\n",
    "                        if abs(n-j)+abs(c-k) < abs(n-min_c[0])+abs(c-min_c[1]):\n",
    "                            min_c = [j,k]\n",
    "                        if abs(n-j)+abs(c-k) == abs(n-min_c[0])+abs(c-min_c[1]):\n",
    "                            if min_c[1]>k:\n",
    "                                min_c = [j,k]\n",
    "                            pass\n",
    "        if min_a != [-1,-1] and li[min_a[0]][min_a[1]] == 1:\n",
    "            li[min_a[0]][min_a[1]] = 0\n",
    "            cnt += 1\n",
    "        if min_b != [-1,-1] and li[min_b[0]][min_b[1]] == 1:\n",
    "            li[min_b[0]][min_b[1]] = 0\n",
    "            cnt += 1\n",
    "        if min_c != [-1,-1] and li[min_c[0]][min_c[1]] == 1:\n",
    "            li[min_c[0]][min_c[1]] = 0\n",
    "            cnt += 1\n",
    "        li[1:n] = li[0:n-1]\n",
    "        li[0] = [0]*m\n",
    "\n",
    "max_cnt = 0\n",
    "for i in range(m):\n",
    "    for j in range(i+1,m):\n",
    "        for k in range(j+1,m):\n",
    "            sol(i,j,k)\n",
    "            max_cnt = max(cnt, max_cnt)\n",
    "print(max_cnt)"
   ]
  }
 ],
 "metadata": {
  "interpreter": {
   "hash": "53e059d21691b4acb4a64b9f63fef32a69804c1f4bf8b757b5579479fa8a32ee"
  },
  "kernelspec": {
   "display_name": "Python 3.7.2 64-bit",
   "language": "python",
   "name": "python3"
  },
  "language_info": {
   "codemirror_mode": {
    "name": "ipython",
    "version": 3
   },
   "file_extension": ".py",
   "mimetype": "text/x-python",
   "name": "python",
   "nbconvert_exporter": "python",
   "pygments_lexer": "ipython3",
   "version": "3.7.2"
  },
  "orig_nbformat": 4
 },
 "nbformat": 4,
 "nbformat_minor": 2
}
