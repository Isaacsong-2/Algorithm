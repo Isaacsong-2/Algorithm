{
 "cells": [
  {
   "cell_type": "code",
   "execution_count": 4,
   "metadata": {},
   "outputs": [],
   "source": [
    "n = int(input())\n",
    "tree = {}\n",
    "for _ in range(n):\n",
    "    root, left, right = map(str,input().split())\n",
    "    tree[root] = [left,right]"
   ]
  },
  {
   "cell_type": "code",
   "execution_count": 5,
   "metadata": {},
   "outputs": [
    {
     "name": "stdout",
     "output_type": "stream",
     "text": [
      "ABDCEFG\n",
      "DBAECFG\n",
      "DBEGFCA"
     ]
    }
   ],
   "source": [
    "def preorder(root):\n",
    "    if root != '.':\n",
    "        print(root, end='')\n",
    "        preorder(tree[root][0])\n",
    "        preorder(tree[root][1])\n",
    "def inorder(root):\n",
    "    if root != '.':\n",
    "        inorder(tree[root][0])\n",
    "        print(root, end='')\n",
    "        inorder(tree[root][1])\n",
    "def postorder(root):\n",
    "    if root != '.':\n",
    "        postorder(tree[root][0])\n",
    "        postorder(tree[root][1])\n",
    "        print(root, end='')\n",
    "preorder('A')\n",
    "print()\n",
    "inorder('A')\n",
    "print()\n",
    "postorder('A')"
   ]
  }
 ],
 "metadata": {
  "kernelspec": {
   "display_name": "Python 3.7.2 64-bit",
   "language": "python",
   "name": "python3"
  },
  "language_info": {
   "codemirror_mode": {
    "name": "ipython",
    "version": 3
   },
   "file_extension": ".py",
   "mimetype": "text/x-python",
   "name": "python",
   "nbconvert_exporter": "python",
   "pygments_lexer": "ipython3",
   "version": "3.7.2"
  },
  "orig_nbformat": 4,
  "vscode": {
   "interpreter": {
    "hash": "d75df686efc28afbc154e69ab3b02fa6abad8f31352f252b5de5b4a995eb825f"
   }
  }
 },
 "nbformat": 4,
 "nbformat_minor": 2
}
