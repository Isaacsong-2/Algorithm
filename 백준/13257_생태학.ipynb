{
 "cells": [
  {
   "cell_type": "code",
   "execution_count": null,
   "metadata": {},
   "outputs": [],
   "source": [
    "n, c, d, m = map(int,input().split())"
   ]
  },
  {
   "cell_type": "code",
   "execution_count": 21,
   "metadata": {},
   "outputs": [
    {
     "name": "stdout",
     "output_type": "stream",
     "text": [
      "0.2582908163265306\n"
     ]
    }
   ],
   "source": [
    "from itertools import combinations\n",
    "# n,c,d,m = 3,1,2,2\n",
    "# n,c,d,m = 3,1,5,1\n",
    "# n,c,d,m = 8,3,3,7\n",
    "tot = len(list(combinations([i for i in range(n)], c)))\n",
    "dp = [0] * (n+1)\n",
    "dp[c] = 1\n",
    "for i in range(1,d):\n",
    "    for j in range(n,c-1,-1):\n",
    "        dp[j] = dp[j] * len(list(combinations([i for i in range(j)],c)))/tot\n",
    "        for k in range(1,c+1):\n",
    "            a = len(list(combinations([i for i in range(j-k)], c-k)))\n",
    "            b = len(list(combinations([i for i in range(n-j+k)], k)))\n",
    "            dp[j] += dp[j-k] * a * b / tot\n",
    "print(dp[m])"
   ]
  }
 ],
 "metadata": {
  "interpreter": {
   "hash": "53e059d21691b4acb4a64b9f63fef32a69804c1f4bf8b757b5579479fa8a32ee"
  },
  "kernelspec": {
   "display_name": "Python 3.7.2 64-bit",
   "language": "python",
   "name": "python3"
  },
  "language_info": {
   "codemirror_mode": {
    "name": "ipython",
    "version": 3
   },
   "file_extension": ".py",
   "mimetype": "text/x-python",
   "name": "python",
   "nbconvert_exporter": "python",
   "pygments_lexer": "ipython3",
   "version": "3.7.2"
  },
  "orig_nbformat": 4
 },
 "nbformat": 4,
 "nbformat_minor": 2
}
