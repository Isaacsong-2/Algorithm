{
 "cells": [
  {
   "cell_type": "code",
   "execution_count": 29,
   "metadata": {},
   "outputs": [],
   "source": [
    "r, c = map(int,input().split())\n",
    "board = list(list(input()) for _ in range(r))"
   ]
  },
  {
   "cell_type": "code",
   "execution_count": 31,
   "metadata": {},
   "outputs": [
    {
     "name": "stdout",
     "output_type": "stream",
     "text": [
      "4\n"
     ]
    }
   ],
   "source": [
    "# board = [['D', '.', '*'], ['.', '.', '.'], ['.', 'S', '.']]\n",
    "# board = [['D', '.', '.', '.', '*', '.'], ['.', 'X', '.', 'X', '.', '.'], ['.', '.', '.', '.', 'S', '.']]\n",
    "board = [['.', 'D', '.', '*'], ['.', '.', '.', '.'], ['.', '.', 'X', '.'], ['S', '.', '*', '.'], ['.', '.', '.', '.']]\n",
    "dx = [-1,1,0,0]\n",
    "dy = [0,0,-1,1]\n",
    "\n",
    "def flow():\n",
    "    global water\n",
    "    temp = []\n",
    "    while(water):\n",
    "        i, j = water.pop()\n",
    "        for k in range(4):\n",
    "            nx = i + dx[k]\n",
    "            ny = j + dy[k]\n",
    "            if 0<=nx<r and 0<=ny<c and board[nx][ny] == '.':\n",
    "                board[nx][ny] = '*'\n",
    "                temp.append((nx,ny))\n",
    "    water = temp[:]\n",
    "\n",
    "water = []\n",
    "for i in range(r):\n",
    "    for j in range(c):\n",
    "        if board[i][j] == '*':\n",
    "            water.append((i,j))\n",
    "        if board[i][j] == 'D':\n",
    "            end = (i,j)\n",
    "        if board[i][j] == 'S':\n",
    "            gosum = [(i,j)]\n",
    "\n",
    "visit = [[0] * c for _ in range(r)]\n",
    "visit[gosum[0][0]][gosum[0][1]] = 1\n",
    "trig = 1\n",
    "cnt = 0\n",
    "while(trig):\n",
    "    cnt += 1\n",
    "    flow()\n",
    "    temp = []\n",
    "    if gosum:\n",
    "        while(gosum):\n",
    "            x, y = gosum.pop()\n",
    "            for i in range(4):\n",
    "                nx = x + dx[i]\n",
    "                ny = y + dy[i]\n",
    "                if (nx,ny) == end:\n",
    "                    trig = 0\n",
    "                    break\n",
    "                if 0<=nx<r and 0<=ny<c and visit[nx][ny] == 0 and board[nx][ny] == '.':\n",
    "                    visit[nx][ny] = 1\n",
    "                    temp.append((nx,ny))\n",
    "    else: break\n",
    "    if trig:\n",
    "        gosum = temp[:]\n",
    "if trig: print('KAKTUS')\n",
    "else: print(cnt)"
   ]
  }
 ],
 "metadata": {
  "interpreter": {
   "hash": "d75df686efc28afbc154e69ab3b02fa6abad8f31352f252b5de5b4a995eb825f"
  },
  "kernelspec": {
   "display_name": "Python 3.7.2 64-bit",
   "language": "python",
   "name": "python3"
  },
  "language_info": {
   "codemirror_mode": {
    "name": "ipython",
    "version": 3
   },
   "file_extension": ".py",
   "mimetype": "text/x-python",
   "name": "python",
   "nbconvert_exporter": "python",
   "pygments_lexer": "ipython3",
   "version": "3.7.2"
  },
  "orig_nbformat": 4
 },
 "nbformat": 4,
 "nbformat_minor": 2
}
