{
 "cells": [
  {
   "cell_type": "code",
   "execution_count": 1,
   "metadata": {},
   "outputs": [],
   "source": [
    "n, m = map(int,input().split())\n",
    "graph = [set() for _ in range(n+1)]\n",
    "for _ in range(m):\n",
    "    a, b = map(int,input().split())\n",
    "    graph[a].add(b)\n",
    "    graph[b].add(a)"
   ]
  },
  {
   "cell_type": "code",
   "execution_count": 11,
   "metadata": {},
   "outputs": [
    {
     "name": "stdout",
     "output_type": "stream",
     "text": [
      "[0, 0, 2, 1, 1, 2]\n",
      "[0, 2, 0, 1, 2, 3]\n",
      "[0, 1, 1, 0, 1, 2]\n",
      "[0, 1, 2, 1, 0, 1]\n",
      "[0, 2, 3, 2, 1, 0]\n",
      "3\n"
     ]
    }
   ],
   "source": [
    "from collections import deque\n",
    "\n",
    "def bfs(start):\n",
    "    ret = [0] * (n+1)\n",
    "    visit = [0] * (n+1)\n",
    "    visit[start] = 1\n",
    "    queue = deque([start])\n",
    "    while(queue):\n",
    "        x = queue.popleft()\n",
    "        for nx in graph[x]:\n",
    "            if visit[nx] == 0:\n",
    "                visit[nx] = 1\n",
    "                ret[nx] = ret[x] + 1\n",
    "                queue.append(nx)\n",
    "    return sum(ret)\n",
    "        \n",
    "ans = 0\n",
    "val = 100000000\n",
    "for i in range(1,n+1):\n",
    "    temp = bfs(i)\n",
    "    if temp<val:\n",
    "        ans = i\n",
    "        val = temp\n",
    "print(ans)"
   ]
  }
 ],
 "metadata": {
  "kernelspec": {
   "display_name": "Python 3.7.2 64-bit",
   "language": "python",
   "name": "python3"
  },
  "language_info": {
   "codemirror_mode": {
    "name": "ipython",
    "version": 3
   },
   "file_extension": ".py",
   "mimetype": "text/x-python",
   "name": "python",
   "nbconvert_exporter": "python",
   "pygments_lexer": "ipython3",
   "version": "3.7.2"
  },
  "orig_nbformat": 4,
  "vscode": {
   "interpreter": {
    "hash": "d75df686efc28afbc154e69ab3b02fa6abad8f31352f252b5de5b4a995eb825f"
   }
  }
 },
 "nbformat": 4,
 "nbformat_minor": 2
}
