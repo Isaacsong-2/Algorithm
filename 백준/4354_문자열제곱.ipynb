{
 "cells": [
  {
   "cell_type": "code",
   "execution_count": 9,
   "metadata": {},
   "outputs": [
    {
     "name": "stdout",
     "output_type": "stream",
     "text": [
      "1\n",
      "4\n",
      "3\n",
      "1\n"
     ]
    }
   ],
   "source": [
    "while(1):\n",
    "    li = input()\n",
    "    if li == \".\":\n",
    "        break\n",
    "    \n",
    "    n = len(li)\n",
    "    fail = [0] * n\n",
    "    j = 0\n",
    "    for i in range(1,n):\n",
    "        while(j>0 and li[i] != li[j]):\n",
    "            j = fail[j-1]\n",
    "        if li[i] == li[j]:\n",
    "            j += 1\n",
    "            fail[i] = j\n",
    "    if n%(n-fail[-1]) == 0:\n",
    "        print(int(n/(n-fail[-1])))\n",
    "    else:\n",
    "        print(1)"
   ]
  }
 ],
 "metadata": {
  "kernelspec": {
   "display_name": "Python 3",
   "language": "python",
   "name": "python3"
  },
  "language_info": {
   "codemirror_mode": {
    "name": "ipython",
    "version": 3
   },
   "file_extension": ".py",
   "mimetype": "text/x-python",
   "name": "python",
   "nbconvert_exporter": "python",
   "pygments_lexer": "ipython3",
   "version": "3.7.2"
  },
  "orig_nbformat": 4,
  "vscode": {
   "interpreter": {
    "hash": "d75df686efc28afbc154e69ab3b02fa6abad8f31352f252b5de5b4a995eb825f"
   }
  }
 },
 "nbformat": 4,
 "nbformat_minor": 2
}
