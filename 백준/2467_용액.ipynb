{
 "cells": [
  {
   "cell_type": "code",
   "execution_count": 9,
   "metadata": {},
   "outputs": [],
   "source": [
    "n = int(input())\n",
    "li = list(map(int,input().split()))"
   ]
  },
  {
   "cell_type": "code",
   "execution_count": 26,
   "metadata": {},
   "outputs": [
    {
     "name": "stdout",
     "output_type": "stream",
     "text": [
      "-100 103\n"
     ]
    }
   ],
   "source": [
    "li.sort()\n",
    "sol = 2000000000\n",
    "i = 0\n",
    "j = n-1\n",
    "while i<j:\n",
    "    if li[i] + li[j] < 0:\n",
    "        if abs(li[i]+li[j]) < sol:\n",
    "            sol = abs(li[i]+li[j])\n",
    "            answer = [li[i],li[j]]\n",
    "        i += 1\n",
    "    elif li[i] + li[j] > 0:\n",
    "        if abs(li[i]+li[j]) < sol:\n",
    "            sol = abs(li[i]+li[j])\n",
    "            answer = [li[i],li[j]]\n",
    "        j -= 1\n",
    "    else:\n",
    "        answer = [li[i],li[j]]\n",
    "        break\n",
    "print(*answer)\n"
   ]
  }
 ],
 "metadata": {
  "interpreter": {
   "hash": "53e059d21691b4acb4a64b9f63fef32a69804c1f4bf8b757b5579479fa8a32ee"
  },
  "kernelspec": {
   "display_name": "Python 3.7.2 64-bit",
   "language": "python",
   "name": "python3"
  },
  "language_info": {
   "codemirror_mode": {
    "name": "ipython",
    "version": 3
   },
   "file_extension": ".py",
   "mimetype": "text/x-python",
   "name": "python",
   "nbconvert_exporter": "python",
   "pygments_lexer": "ipython3",
   "version": "3.7.2"
  },
  "orig_nbformat": 4
 },
 "nbformat": 4,
 "nbformat_minor": 2
}
