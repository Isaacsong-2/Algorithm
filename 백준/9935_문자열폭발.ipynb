{
 "cells": [
  {
   "cell_type": "code",
   "execution_count": 1,
   "metadata": {},
   "outputs": [
    {
     "ename": "NameError",
     "evalue": "name 'bomb' is not defined",
     "output_type": "error",
     "traceback": [
      "\u001b[1;31m---------------------------------------------------------------------------\u001b[0m",
      "\u001b[1;31mNameError\u001b[0m                                 Traceback (most recent call last)",
      "\u001b[1;32m~\\AppData\\Local\\Temp/ipykernel_12108/2245461096.py\u001b[0m in \u001b[0;36m<module>\u001b[1;34m\u001b[0m\n\u001b[0;32m      1\u001b[0m \u001b[1;31m# string = 'mirkovC4nizCC44'\u001b[0m\u001b[1;33m\u001b[0m\u001b[1;33m\u001b[0m\u001b[1;33m\u001b[0m\u001b[0m\n\u001b[0;32m      2\u001b[0m \u001b[1;31m# bomb = 'C4'\u001b[0m\u001b[1;33m\u001b[0m\u001b[1;33m\u001b[0m\u001b[1;33m\u001b[0m\u001b[0m\n\u001b[1;32m----> 3\u001b[1;33m \u001b[0mbomb_len\u001b[0m \u001b[1;33m=\u001b[0m \u001b[0mlen\u001b[0m\u001b[1;33m(\u001b[0m\u001b[0mbomb\u001b[0m\u001b[1;33m)\u001b[0m\u001b[1;33m\u001b[0m\u001b[1;33m\u001b[0m\u001b[0m\n\u001b[0m\u001b[0;32m      4\u001b[0m \u001b[0mendflag\u001b[0m \u001b[1;33m=\u001b[0m \u001b[1;36m1\u001b[0m\u001b[1;33m\u001b[0m\u001b[1;33m\u001b[0m\u001b[0m\n\u001b[0;32m      5\u001b[0m \u001b[1;32mwhile\u001b[0m\u001b[1;33m(\u001b[0m\u001b[0mendflag\u001b[0m\u001b[1;33m)\u001b[0m\u001b[1;33m:\u001b[0m\u001b[1;33m\u001b[0m\u001b[1;33m\u001b[0m\u001b[0m\n",
      "\u001b[1;31mNameError\u001b[0m: name 'bomb' is not defined"
     ]
    }
   ],
   "source": [
    "# string = 'mirkovC4nizCC44'\n",
    "# bomb = 'C4'\n",
    "'''\n",
    "string = input()\n",
    "bomb = input()\n",
    "bomb_len = len(bomb)\n",
    "endflag = 1\n",
    "while(endflag):\n",
    "    endflag = 0\n",
    "    for i in range(len(string)):\n",
    "        if string[i] == bomb[0]:\n",
    "            flag = 1\n",
    "            for j in range(1,bomb_len):\n",
    "                if string[i+j] != bomb[j]:\n",
    "                    flag = 0\n",
    "                    break\n",
    "            if flag == 1:\n",
    "                endflag = 1\n",
    "                string = string[:i] + string[i+bomb_len:]\n",
    "                break\n",
    "if len(string):\n",
    "    print(string)\n",
    "else:\n",
    "    print('FRULA')\n",
    "'''"
   ]
  },
  {
   "cell_type": "code",
   "execution_count": null,
   "metadata": {},
   "outputs": [],
   "source": [
    "import sys\n",
    "input = sys.stdin.readline\n",
    " \n",
    "S = list(input().rstrip())\n",
    "bomb = list(input().rstrip())\n",
    " \n",
    "stack = []\n",
    " \n",
    "for i in range(len(S)):\n",
    "    stack.append(S[i])\n",
    "    if stack[-1] == bomb[-1] and len(stack) >= len(bomb):\n",
    "        if stack[-len(bomb):] == bomb:\n",
    "            for i in range(len(bomb)):\n",
    "                stack.pop()\n",
    " \n",
    "if stack:\n",
    "    print(\"\".join(stack))\n",
    "else:\n",
    "    print(\"FRULA\")"
   ]
  }
 ],
 "metadata": {
  "interpreter": {
   "hash": "53e059d21691b4acb4a64b9f63fef32a69804c1f4bf8b757b5579479fa8a32ee"
  },
  "kernelspec": {
   "display_name": "Python 3.7.2 64-bit",
   "language": "python",
   "name": "python3"
  },
  "language_info": {
   "codemirror_mode": {
    "name": "ipython",
    "version": 3
   },
   "file_extension": ".py",
   "mimetype": "text/x-python",
   "name": "python",
   "nbconvert_exporter": "python",
   "pygments_lexer": "ipython3",
   "version": "3.7.2"
  },
  "orig_nbformat": 4
 },
 "nbformat": 4,
 "nbformat_minor": 2
}
