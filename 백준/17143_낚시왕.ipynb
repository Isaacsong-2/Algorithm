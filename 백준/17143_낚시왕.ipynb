{
 "cells": [
  {
   "cell_type": "code",
   "execution_count": 85,
   "metadata": {},
   "outputs": [],
   "source": [
    "from collections import deque\n",
    "R, C, M = map(int,input().split())\n",
    "shark = [[0] * C for j in range(R)]\n",
    "for i in range(M):\n",
    "    r, c, s, d, z = map(int,input().split())\n",
    "    shark[r-1][c-1] = [s,d-1,z]"
   ]
  },
  {
   "cell_type": "code",
   "execution_count": 86,
   "metadata": {},
   "outputs": [
    {
     "name": "stdout",
     "output_type": "stream",
     "text": [
      "4\n"
     ]
    }
   ],
   "source": [
    "from copy import deepcopy\n",
    "def move():\n",
    "    global shark\n",
    "    temp = [[0] * C for j in range(R)]\n",
    "    for i in range(R):\n",
    "        for j in range(C):\n",
    "            if shark[i][j] != 0:\n",
    "                x = i\n",
    "                y = j\n",
    "                s,d,z = shark[i][j]\n",
    "                while s > 0:\n",
    "                    x += dx[d]\n",
    "                    y += dy[d]\n",
    "                    if 0 <= x < R and 0 <= y < C:\n",
    "                        s -= 1\n",
    "                    else:\n",
    "                        x -= dx[d]\n",
    "                        y -= dy[d]\n",
    "                        if d==0: d=1\n",
    "                        elif d==1: d=0\n",
    "                        elif d==2: d=3\n",
    "                        else: d=2\n",
    "                if temp[x][y]:\n",
    "                    if temp[x][y][2] < z:\n",
    "                        temp[x][y] = [shark[i][j][0], d, z]\n",
    "                else:\n",
    "                    temp[x][y] = [shark[i][j][0], d, z]\n",
    "    shark = deepcopy(temp)\n",
    "    \n",
    "dx = [-1,1,0,0]\n",
    "dy = [0,0,1,-1]\n",
    "sol = 0\n",
    "for i in range(C):\n",
    "    for j in range(R):\n",
    "        if shark[j][i] != 0: \n",
    "            sol += shark[j][i][2]\n",
    "            shark[j][i] = 0\n",
    "            break\n",
    "    move()\n",
    "print(sol)\n"
   ]
  }
 ],
 "metadata": {
  "interpreter": {
   "hash": "53e059d21691b4acb4a64b9f63fef32a69804c1f4bf8b757b5579479fa8a32ee"
  },
  "kernelspec": {
   "display_name": "Python 3.7.2 64-bit",
   "language": "python",
   "name": "python3"
  },
  "language_info": {
   "codemirror_mode": {
    "name": "ipython",
    "version": 3
   },
   "file_extension": ".py",
   "mimetype": "text/x-python",
   "name": "python",
   "nbconvert_exporter": "python",
   "pygments_lexer": "ipython3",
   "version": "3.7.2"
  },
  "orig_nbformat": 4
 },
 "nbformat": 4,
 "nbformat_minor": 2
}
