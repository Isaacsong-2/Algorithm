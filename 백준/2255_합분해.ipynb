{
 "cells": [
  {
   "cell_type": "code",
   "execution_count": 3,
   "metadata": {},
   "outputs": [],
   "source": [
    "n, k = map(int,input().split())"
   ]
  },
  {
   "cell_type": "code",
   "execution_count": 7,
   "metadata": {},
   "outputs": [
    {
     "name": "stdout",
     "output_type": "stream",
     "text": [
      "84\n"
     ]
    }
   ],
   "source": [
    "# def back(idx,s):\n",
    "#     global cnt\n",
    "#     temp = s\n",
    "#     if s == n and idx == k:\n",
    "#         cnt += 1\n",
    "#         return\n",
    "#     if s > n or idx>k:\n",
    "#         return\n",
    "#     for i in range(0, n+1):\n",
    "#         s += i\n",
    "#         back(idx+1,s)\n",
    "#         s = temp\n",
    "# s = 0\n",
    "# cnt = 0\n",
    "# back(0,0)\n",
    "# print(cnt)\n",
    "'''\n",
    "def sol(n, k, s):\n",
    "    global cnt\n",
    "    if n==0:\n",
    "        cnt += 1\n",
    "        return\n",
    "    if k==1:\n",
    "        # if s==n:\n",
    "        cnt +=1\n",
    "        return\n",
    "    for i in range(n-s+1):\n",
    "        sol(n-i, k-1, s)\n",
    "cnt = 0\n",
    "sol(n,k,0)\n",
    "print(cnt)\n",
    "'''\n",
    "dp =[[0] * 201 for _ in range(201)]\n",
    "for i in range(201):\n",
    "    dp[1][i] = 1\n",
    "    dp[2][i] = i+1\n",
    "for i in range(2,201):\n",
    "    dp[i][1] = i\n",
    "    for j in range(2,201):\n",
    "        dp[i][j] = (dp[i][j-1]+dp[i-1][j])%1000000000\n",
    "print(dp[k][n])\n",
    "\n"
   ]
  }
 ],
 "metadata": {
  "interpreter": {
   "hash": "53e059d21691b4acb4a64b9f63fef32a69804c1f4bf8b757b5579479fa8a32ee"
  },
  "kernelspec": {
   "display_name": "Python 3.7.2 64-bit",
   "language": "python",
   "name": "python3"
  },
  "language_info": {
   "codemirror_mode": {
    "name": "ipython",
    "version": 3
   },
   "file_extension": ".py",
   "mimetype": "text/x-python",
   "name": "python",
   "nbconvert_exporter": "python",
   "pygments_lexer": "ipython3",
   "version": "3.7.2"
  },
  "orig_nbformat": 4
 },
 "nbformat": 4,
 "nbformat_minor": 2
}
