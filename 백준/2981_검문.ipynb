{
 "cells": [
  {
   "cell_type": "code",
   "execution_count": 18,
   "metadata": {},
   "outputs": [],
   "source": [
    "n = int(input())\n",
    "num = []\n",
    "for i in range(n):\n",
    "    num.append(int(input()))"
   ]
  },
  {
   "cell_type": "code",
   "execution_count": 20,
   "metadata": {},
   "outputs": [
    {
     "name": "stdout",
     "output_type": "stream",
     "text": [
      "3 "
     ]
    }
   ],
   "source": [
    "import math\n",
    "num = list(reversed(sorted(num)))\n",
    "# print(num)\n",
    "diff = []\n",
    "for i in range(n):\n",
    "    for j in range(i+1,n):\n",
    "        diff.append(num[i]-num[j])\n",
    "diff = set(diff)\n",
    "diff = list(diff)\n",
    "diff.sort()\n",
    "# print(diff)\n",
    "if len(diff) >1:\n",
    "    g = math.gcd(diff[0],diff[1])\n",
    "else:\n",
    "    g = diff[0]\n",
    "for i in range(2,len(diff)):\n",
    "    g = math.gcd(g,diff[i])\n",
    "for i in range(2,g+1):\n",
    "    if g%i == 0:\n",
    "        print(i, end=\" \")\n"
   ]
  }
 ],
 "metadata": {
  "interpreter": {
   "hash": "53e059d21691b4acb4a64b9f63fef32a69804c1f4bf8b757b5579479fa8a32ee"
  },
  "kernelspec": {
   "display_name": "Python 3.7.2 64-bit",
   "language": "python",
   "name": "python3"
  },
  "language_info": {
   "codemirror_mode": {
    "name": "ipython",
    "version": 3
   },
   "file_extension": ".py",
   "mimetype": "text/x-python",
   "name": "python",
   "nbconvert_exporter": "python",
   "pygments_lexer": "ipython3",
   "version": "3.7.2"
  },
  "orig_nbformat": 4
 },
 "nbformat": 4,
 "nbformat_minor": 2
}
