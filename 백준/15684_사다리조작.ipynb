{
 "cells": [
  {
   "cell_type": "code",
   "execution_count": 61,
   "metadata": {},
   "outputs": [],
   "source": [
    "n,m,h = map(int,input().split())\n",
    "li = [[0] * n for _ in range(h)]\n",
    "for _ in range(m):\n",
    "    a, b = map(int,input().split())\n",
    "    li[a-1][b-1] = 1"
   ]
  },
  {
   "cell_type": "code",
   "execution_count": 67,
   "metadata": {},
   "outputs": [
    {
     "name": "stdout",
     "output_type": "stream",
     "text": [
      "3\n"
     ]
    }
   ],
   "source": [
    "# li = [[0, 0], [2, 1], [1, 2], [4, 0], [4, 3]]\n",
    "def check():\n",
    "    for i in range(n):\n",
    "        x = i\n",
    "        for j in range(h):\n",
    "            if li[j][x]:\n",
    "                x += 1\n",
    "            elif li[j][x-1]:\n",
    "                x -= 1\n",
    "        if x != i:\n",
    "            return 0\n",
    "    return 1\n",
    "def back(idx):\n",
    "    global answer\n",
    "    if idx>=answer:\n",
    "        return\n",
    "    if check():\n",
    "        answer = idx\n",
    "        return\n",
    "    if idx == 3:\n",
    "        return\n",
    "    for i in range(h):\n",
    "        for j in range(n-1):\n",
    "            if li[i][j] == 0 and li[i][j-1] == 0 and li[i][j+1] == 0:\n",
    "                li[i][j] = 1\n",
    "                back(idx+1)\n",
    "                li[i][j] = 0\n",
    "answer = 5\n",
    "back(0)\n",
    "if answer == 5:\n",
    "    print(-1)\n",
    "else:\n",
    "    print(answer)\n",
    "\n"
   ]
  }
 ],
 "metadata": {
  "interpreter": {
   "hash": "53e059d21691b4acb4a64b9f63fef32a69804c1f4bf8b757b5579479fa8a32ee"
  },
  "kernelspec": {
   "display_name": "Python 3.7.2 64-bit",
   "language": "python",
   "name": "python3"
  },
  "language_info": {
   "codemirror_mode": {
    "name": "ipython",
    "version": 3
   },
   "file_extension": ".py",
   "mimetype": "text/x-python",
   "name": "python",
   "nbconvert_exporter": "python",
   "pygments_lexer": "ipython3",
   "version": "3.7.2"
  },
  "orig_nbformat": 4
 },
 "nbformat": 4,
 "nbformat_minor": 2
}
