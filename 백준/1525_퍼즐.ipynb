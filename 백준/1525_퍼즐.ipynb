{
 "cells": [
  {
   "cell_type": "code",
   "execution_count": 35,
   "metadata": {},
   "outputs": [],
   "source": [
    "start= \"\"\n",
    "for _ in range(3):\n",
    "    temp = str(input())\n",
    "    temp = temp.replace(\" \", \"\")\n",
    "    start += temp"
   ]
  },
  {
   "cell_type": "code",
   "execution_count": 36,
   "metadata": {},
   "outputs": [
    {
     "name": "stdout",
     "output_type": "stream",
     "text": [
      "2\n"
     ]
    }
   ],
   "source": [
    "from collections import deque\n",
    "dx = [-1,1,0,0]\n",
    "dy = [0,0,-1,1]\n",
    "pos = start.index(\"0\")\n",
    "sol = dict()\n",
    "sol[start] = 1\n",
    "\n",
    "queue = deque([[start, pos]])\n",
    "def bfs(queue):\n",
    "    while(queue):\n",
    "        li, pos = queue.popleft()\n",
    "        x, y = pos//3, pos%3\n",
    "        for i in range(4):\n",
    "            nx = x + dx[i]\n",
    "            ny = y + dy[i]\n",
    "            if 0<=nx<3 and 0<=ny<3:\n",
    "                nextPos = nx * 3 + ny\n",
    "                temp = li[pos]\n",
    "                nli = li[:]\n",
    "                nli = nli[:pos]+nli[nextPos]+nli[pos+1:]\n",
    "                nli = nli[:nextPos]+temp+nli[nextPos+1:]\n",
    "                if nli == \"123456780\":\n",
    "                    sol[nli] = sol.get(li) + 1\n",
    "                    return\n",
    "                if sol.get(nli) == None:\n",
    "                    sol[nli] = sol.get(li) + 1\n",
    "                    queue.append([nli, nextPos])\n",
    "if start != \"123456780\":\n",
    "    bfs(queue)\n",
    "    ans = sol.get(\"123456780\")\n",
    "    print(ans-1) if ans != None else print(-1)\n",
    "else:\n",
    "    print(0)\n"
   ]
  }
 ],
 "metadata": {
  "kernelspec": {
   "display_name": "Python 3.7.2 64-bit",
   "language": "python",
   "name": "python3"
  },
  "language_info": {
   "codemirror_mode": {
    "name": "ipython",
    "version": 3
   },
   "file_extension": ".py",
   "mimetype": "text/x-python",
   "name": "python",
   "nbconvert_exporter": "python",
   "pygments_lexer": "ipython3",
   "version": "3.7.2"
  },
  "orig_nbformat": 4,
  "vscode": {
   "interpreter": {
    "hash": "d75df686efc28afbc154e69ab3b02fa6abad8f31352f252b5de5b4a995eb825f"
   }
  }
 },
 "nbformat": 4,
 "nbformat_minor": 2
}
