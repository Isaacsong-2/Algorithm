{
 "cells": [
  {
   "cell_type": "code",
   "execution_count": 1,
   "metadata": {},
   "outputs": [
    {
     "name": "stdout",
     "output_type": "stream",
     "text": [
      "3\n",
      "9\n",
      "27\n"
     ]
    }
   ],
   "source": [
    "t = int(input())\n",
    "dp = [[0] * 3 for _ in range(100001)]\n",
    "dp[1][0] = 1\n",
    "dp[2][1] = 1\n",
    "dp[3] = [1,1,1]\n",
    "for i in range(4,100001):\n",
    "    dp[i][0]=dp[i-1][1]%1000000009+dp[i-1][2]%1000000009\n",
    "    dp[i][1]=dp[i-2][0]%1000000009+dp[i-2][2]%1000000009\n",
    "    dp[i][2]=dp[i-3][0]%1000000009+dp[i-3][1]%1000000009\n",
    "for _ in range(t):\n",
    "    n = int(input())\n",
    "    print(sum(dp[n])%1000000009)"
   ]
  }
 ],
 "metadata": {
  "kernelspec": {
   "display_name": "Python 3.7.2 64-bit",
   "language": "python",
   "name": "python3"
  },
  "language_info": {
   "codemirror_mode": {
    "name": "ipython",
    "version": 3
   },
   "file_extension": ".py",
   "mimetype": "text/x-python",
   "name": "python",
   "nbconvert_exporter": "python",
   "pygments_lexer": "ipython3",
   "version": "3.7.2"
  },
  "orig_nbformat": 4,
  "vscode": {
   "interpreter": {
    "hash": "d75df686efc28afbc154e69ab3b02fa6abad8f31352f252b5de5b4a995eb825f"
   }
  }
 },
 "nbformat": 4,
 "nbformat_minor": 2
}
