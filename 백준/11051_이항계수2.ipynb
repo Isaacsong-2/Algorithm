{
 "cells": [
  {
   "cell_type": "code",
   "execution_count": 11,
   "metadata": {},
   "outputs": [
    {
     "name": "stdout",
     "output_type": "stream",
     "text": [
      "5418\n"
     ]
    }
   ],
   "source": [
    "n, k = map(int,input().split())\n",
    "ans = 1\n",
    "for i in range(n,n-k,-1):\n",
    "    ans *= i\n",
    "for i in range(2,k+1):\n",
    "    ans //= i\n",
    "print(ans%10007)"
   ]
  },
  {
   "cell_type": "code",
   "execution_count": 18,
   "metadata": {},
   "outputs": [
    {
     "name": "stdout",
     "output_type": "stream",
     "text": [
      "10\n"
     ]
    }
   ],
   "source": [
    "n,k = map(int,input().split())\n",
    "dp = [[0] * (k+1) for _ in range(n+1)]\n",
    "for i in range(n+1):\n",
    "    for j in range(k+1):\n",
    "        if j == 0:\n",
    "            dp[i][j] = 1\n",
    "        else:\n",
    "            dp[i][j] = dp[i-1][j-1] + dp[i-1][j]\n",
    "print(dp[n][k]%10007)"
   ]
  }
 ],
 "metadata": {
  "kernelspec": {
   "display_name": "Python 3.7.2 64-bit",
   "language": "python",
   "name": "python3"
  },
  "language_info": {
   "codemirror_mode": {
    "name": "ipython",
    "version": 3
   },
   "file_extension": ".py",
   "mimetype": "text/x-python",
   "name": "python",
   "nbconvert_exporter": "python",
   "pygments_lexer": "ipython3",
   "version": "3.7.2"
  },
  "orig_nbformat": 4,
  "vscode": {
   "interpreter": {
    "hash": "d75df686efc28afbc154e69ab3b02fa6abad8f31352f252b5de5b4a995eb825f"
   }
  }
 },
 "nbformat": 4,
 "nbformat_minor": 2
}
