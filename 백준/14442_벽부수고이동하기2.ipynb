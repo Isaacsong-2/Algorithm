{
 "cells": [
  {
   "cell_type": "code",
   "execution_count": 26,
   "metadata": {},
   "outputs": [],
   "source": [
    "n, m, k = map(int,input().split())\n",
    "li = [list(input()) for _ in range(n)]"
   ]
  },
  {
   "cell_type": "code",
   "execution_count": 33,
   "metadata": {},
   "outputs": [
    {
     "name": "stdout",
     "output_type": "stream",
     "text": [
      "15\n"
     ]
    }
   ],
   "source": [
    "from collections import deque\n",
    "dx = [-1,1,0,0]\n",
    "dy = [0,0,-1,1]\n",
    "visit = [[[0] * m for _ in range(n)] for t in range(k+1)]\n",
    "def bfs(x,y):\n",
    "    global ans\n",
    "    queue = deque([(x,y,0)])\n",
    "    while(queue):\n",
    "        x, y, br = queue.popleft()\n",
    "        if x == n-1 and y == m-1:\n",
    "            ans = visit[br][x][y]+1\n",
    "            return\n",
    "        for i in range(4):\n",
    "            nx, ny = x+dx[i], y+dy[i]\n",
    "            if 0<=nx<n and 0<=ny<m:\n",
    "                if li[nx][ny] == '0' and visit[br][nx][ny] == 0:\n",
    "                    visit[br][nx][ny] = visit[br][x][y] + 1\n",
    "                    queue.append((nx,ny,br))\n",
    "                else:\n",
    "                    if br<k and visit[br+1][nx][ny] == 0:\n",
    "                        visit[br+1][nx][ny] = visit[br][x][y] + 1\n",
    "                        queue.append((nx,ny,br+1))\n",
    "ans = 1111111\n",
    "bfs(0,0)\n",
    "print(ans) if ans != 1111111 else print(-1)\n",
    "\n",
    "\n"
   ]
  }
 ],
 "metadata": {
  "kernelspec": {
   "display_name": "Python 3.7.2 64-bit",
   "language": "python",
   "name": "python3"
  },
  "language_info": {
   "codemirror_mode": {
    "name": "ipython",
    "version": 3
   },
   "file_extension": ".py",
   "mimetype": "text/x-python",
   "name": "python",
   "nbconvert_exporter": "python",
   "pygments_lexer": "ipython3",
   "version": "3.7.2"
  },
  "orig_nbformat": 4,
  "vscode": {
   "interpreter": {
    "hash": "d75df686efc28afbc154e69ab3b02fa6abad8f31352f252b5de5b4a995eb825f"
   }
  }
 },
 "nbformat": 4,
 "nbformat_minor": 2
}
