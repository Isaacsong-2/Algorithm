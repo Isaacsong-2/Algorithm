{
 "cells": [
  {
   "cell_type": "code",
   "execution_count": 62,
   "metadata": {},
   "outputs": [
    {
     "name": "stdout",
     "output_type": "stream",
     "text": [
      "80\n"
     ]
    }
   ],
   "source": [
    "n, k = map(int,input().split())\n",
    "li = list(map(int,input().split()))\n",
    "cur = []\n",
    "ans = 0\n",
    "for i in range(k):\n",
    "    if li[i] in cur:\n",
    "            continue\n",
    "    if len(cur)<n:\n",
    "        cur.append(li[i])\n",
    "    else:\n",
    "        ans += 1\n",
    "        temp = 0\n",
    "        for j in range(n):\n",
    "            if cur[j] not in li[i+1:]:\n",
    "                temp = j\n",
    "                break\n",
    "            else:\n",
    "                idx = li[i+1:].index(cur[j]) + i+1\n",
    "                if temp < idx:\n",
    "                    temp = idx\n",
    "        if temp<n:\n",
    "            cur.pop(temp)\n",
    "            cur.insert(temp,li[i])\n",
    "        else:\n",
    "            idx = cur.index(li[temp])\n",
    "            cur.pop(idx)\n",
    "            cur.insert(idx,li[i])\n",
    "print(ans)"
   ]
  }
 ],
 "metadata": {
  "kernelspec": {
   "display_name": "Python 3.7.2 64-bit",
   "language": "python",
   "name": "python3"
  },
  "language_info": {
   "codemirror_mode": {
    "name": "ipython",
    "version": 3
   },
   "file_extension": ".py",
   "mimetype": "text/x-python",
   "name": "python",
   "nbconvert_exporter": "python",
   "pygments_lexer": "ipython3",
   "version": "3.7.2"
  },
  "orig_nbformat": 4,
  "vscode": {
   "interpreter": {
    "hash": "d75df686efc28afbc154e69ab3b02fa6abad8f31352f252b5de5b4a995eb825f"
   }
  }
 },
 "nbformat": 4,
 "nbformat_minor": 2
}
