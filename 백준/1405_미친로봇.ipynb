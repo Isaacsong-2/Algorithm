{
 "cells": [
  {
   "cell_type": "code",
   "execution_count": 1,
   "metadata": {},
   "outputs": [],
   "source": [
    "m, e, w, s, n = map(int,input().split())"
   ]
  },
  {
   "cell_type": "code",
   "execution_count": 3,
   "metadata": {},
   "outputs": [
    {
     "name": "stdout",
     "output_type": "stream",
     "text": [
      "0.008845493197441101\n"
     ]
    }
   ],
   "source": [
    "dx = [-1,1,0,0]\n",
    "dy = [0,0,-1,1]\n",
    "visit = [[0]*(2*m+1) for _ in range(2*m+1)]\n",
    "x, y = m, m\n",
    "visit[x][y] = 1\n",
    "per = [[0]*(2*m+1) for _ in range(2*m+1)]\n",
    "per[x][y] = 1\n",
    "sol = 0\n",
    "def back(idx):\n",
    "    global sol\n",
    "    global x, y\n",
    "    global per\n",
    "    temp_x = x\n",
    "    temp_y = y\n",
    "    if idx == m:\n",
    "        sol += per[x][y]\n",
    "        return\n",
    "    for i in range(4):\n",
    "        nx = x + dx[i]\n",
    "        ny = y + dy[i]\n",
    "        if visit[nx][ny] == 0:\n",
    "            if i == 0: per[nx][ny] = per[x][y]*e/100\n",
    "            elif i == 1: per[nx][ny] = per[x][y]*w/100\n",
    "            elif i == 2: per[nx][ny] = per[x][y]*s/100\n",
    "            else: per[nx][ny] = per[x][y]*n/100\n",
    "            visit[nx][ny] = 1\n",
    "            x = nx\n",
    "            y = ny\n",
    "            back(idx+1)\n",
    "            per[nx][ny] = 0\n",
    "            x = temp_x\n",
    "            y = temp_y\n",
    "            visit[nx][ny] = 0\n",
    "back(0)\n",
    "print(sol)"
   ]
  }
 ],
 "metadata": {
  "interpreter": {
   "hash": "53e059d21691b4acb4a64b9f63fef32a69804c1f4bf8b757b5579479fa8a32ee"
  },
  "kernelspec": {
   "display_name": "Python 3.7.2 64-bit",
   "language": "python",
   "name": "python3"
  },
  "language_info": {
   "codemirror_mode": {
    "name": "ipython",
    "version": 3
   },
   "file_extension": ".py",
   "mimetype": "text/x-python",
   "name": "python",
   "nbconvert_exporter": "python",
   "pygments_lexer": "ipython3",
   "version": "3.7.2"
  },
  "orig_nbformat": 4
 },
 "nbformat": 4,
 "nbformat_minor": 2
}
