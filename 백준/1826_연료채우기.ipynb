{
 "cells": [
  {
   "cell_type": "code",
   "execution_count": 35,
   "metadata": {},
   "outputs": [],
   "source": [
    "n = int(input())\n",
    "info = [list(map(int,input().split())) for _ in range(n)]\n",
    "l, p = map(int,input().split())"
   ]
  },
  {
   "cell_type": "code",
   "execution_count": 36,
   "metadata": {},
   "outputs": [
    {
     "name": "stdout",
     "output_type": "stream",
     "text": [
      "-1\n"
     ]
    }
   ],
   "source": [
    "def check(location, feul, idx , cnt):\n",
    "    global sol\n",
    "    # print(location,feul,idx)\n",
    "    if idx == n:\n",
    "        if location + feul >= l:\n",
    "            # print(cnt)\n",
    "            sol = min(sol, cnt)\n",
    "            return\n",
    "        else:\n",
    "            return\n",
    "    if location + feul < info[idx][0]:\n",
    "        return\n",
    "    else:\n",
    "        check(info[idx][0], feul + info[idx][1] - (info[idx][0]-location), idx+1, cnt+1)\n",
    "        check(info[idx][0], feul - (info[idx][0]-location), idx+1, cnt)\n",
    "\n",
    "info.sort()    \n",
    "sol = n+1\n",
    "check(0, p, 0, 0)\n",
    "if sol == n+1:\n",
    "    print(-1)\n",
    "else:\n",
    "    print(sol)"
   ]
  }
 ],
 "metadata": {
  "interpreter": {
   "hash": "53e059d21691b4acb4a64b9f63fef32a69804c1f4bf8b757b5579479fa8a32ee"
  },
  "kernelspec": {
   "display_name": "Python 3.7.2 64-bit",
   "language": "python",
   "name": "python3"
  },
  "language_info": {
   "codemirror_mode": {
    "name": "ipython",
    "version": 3
   },
   "file_extension": ".py",
   "mimetype": "text/x-python",
   "name": "python",
   "nbconvert_exporter": "python",
   "pygments_lexer": "ipython3",
   "version": "3.7.2"
  },
  "orig_nbformat": 4
 },
 "nbformat": 4,
 "nbformat_minor": 2
}
