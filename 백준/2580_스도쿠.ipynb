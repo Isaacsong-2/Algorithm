{
 "cells": [
  {
   "cell_type": "code",
   "execution_count": 13,
   "metadata": {},
   "outputs": [],
   "source": [
    "board = []\n",
    "for i in range(9):\n",
    "    board.append(list(map(int,input().split())))"
   ]
  },
  {
   "cell_type": "code",
   "execution_count": 77,
   "metadata": {},
   "outputs": [],
   "source": [
    "board = [[0,3,5,4,6,9,2,7,8],[7,8,2,1,0,5,6,0,9],[0,6,0,2,7,8,1,3,5],[3,2,1,0,4,6,8,9,7],[8,0,4,9,1,3,5,0,6],[5,9,6,8,2,0,4,1,3],[9,1,7,6,5,2,0,8,0],[6,0,3,7,0,1,9,5,2],[2,5,8,3,9,4,7,6,0]]\n",
    "board = list([0]*9 for _ in range(9))"
   ]
  },
  {
   "cell_type": "code",
   "execution_count": 80,
   "metadata": {},
   "outputs": [
    {
     "name": "stdout",
     "output_type": "stream",
     "text": [
      "1 2 3 4 5 6 7 8 9 \n",
      "4 5 6 7 8 9 1 2 3 \n",
      "7 8 9 1 2 3 4 5 6 \n",
      "2 1 4 3 6 5 8 9 7 \n",
      "3 6 5 8 9 7 2 1 4 \n",
      "8 9 7 2 4 1 3 6 5 \n",
      "9 7 2 6 3 8 5 4 1 \n",
      "5 3 8 9 1 4 6 7 2 \n",
      "6 4 1 5 7 2 9 3 8 \n"
     ]
    }
   ],
   "source": [
    "# def check(board,)\n",
    "queue = []\n",
    "for i in range(9):\n",
    "        for j in range(9):\n",
    "            if board[i][j] == 0:\n",
    "                queue.append([i,j])\n",
    "def check(idx, able):\n",
    "    for i in range(9):\n",
    "        if board[idx[0]][i] == able:\n",
    "            return 0\n",
    "    for i in range(9):\n",
    "        if board[i][idx[1]] == able:\n",
    "            return 0\n",
    "    nx = idx[0]//3 * 3\n",
    "    ny = idx[1]//3 * 3\n",
    "    for i in range(3):\n",
    "        for j in range(3):\n",
    "            if able == board[nx+i][ny+j]:\n",
    "                return 0\n",
    "    return 1\n",
    "\n",
    "def back(idx):\n",
    "    if idx == len(queue):\n",
    "        for i in range(9):\n",
    "            print(*board[i])\n",
    "        exit(0)\n",
    "    for i in range(1,10):\n",
    "        x = queue[idx][0]\n",
    "        y = queue[idx][1]\n",
    "        if check([x,y],i) == 1:\n",
    "            board[x][y] = i\n",
    "            back(idx+1)\n",
    "            board[x][y] = 0\n",
    "if __name__==\"__main__\":\n",
    "    back(0)\n",
    "            \n",
    "\n"
   ]
  }
 ],
 "metadata": {
  "interpreter": {
   "hash": "53e059d21691b4acb4a64b9f63fef32a69804c1f4bf8b757b5579479fa8a32ee"
  },
  "kernelspec": {
   "display_name": "Python 3.7.2 64-bit",
   "language": "python",
   "name": "python3"
  },
  "language_info": {
   "codemirror_mode": {
    "name": "ipython",
    "version": 3
   },
   "file_extension": ".py",
   "mimetype": "text/x-python",
   "name": "python",
   "nbconvert_exporter": "python",
   "pygments_lexer": "ipython3",
   "version": "3.7.2"
  },
  "orig_nbformat": 4
 },
 "nbformat": 4,
 "nbformat_minor": 2
}
