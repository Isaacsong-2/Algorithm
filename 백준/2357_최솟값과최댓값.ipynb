{
 "cells": [
  {
   "cell_type": "code",
   "execution_count": 9,
   "metadata": {},
   "outputs": [],
   "source": [
    "n, m = map(int,input().split())\n",
    "num_min = []\n",
    "num_max = []\n",
    "for i in range(n):\n",
    "    a = int(input())\n",
    "    num_min.append(a)\n",
    "    num_max.append(-a)"
   ]
  },
  {
   "cell_type": "code",
   "execution_count": 10,
   "metadata": {},
   "outputs": [
    {
     "name": "stdout",
     "output_type": "stream",
     "text": [
      "5 100\n",
      "38 100\n",
      "20 81\n",
      "5 81\n"
     ]
    }
   ],
   "source": [
    "import heapq\n",
    "for i in range(m):\n",
    "    a, b = map(int,input().split())\n",
    "    li_min = num_min[a-1:b]\n",
    "    li_max = num_max[a-1:b]\n",
    "    heapq.heapify(li_min)\n",
    "    heapq.heapify(li_max)\n",
    "    print(li_min[0], -li_max[0])"
   ]
  }
 ],
 "metadata": {
  "interpreter": {
   "hash": "53e059d21691b4acb4a64b9f63fef32a69804c1f4bf8b757b5579479fa8a32ee"
  },
  "kernelspec": {
   "display_name": "Python 3.7.2 64-bit",
   "language": "python",
   "name": "python3"
  },
  "language_info": {
   "codemirror_mode": {
    "name": "ipython",
    "version": 3
   },
   "file_extension": ".py",
   "mimetype": "text/x-python",
   "name": "python",
   "nbconvert_exporter": "python",
   "pygments_lexer": "ipython3",
   "version": "3.7.2"
  },
  "orig_nbformat": 4
 },
 "nbformat": 4,
 "nbformat_minor": 2
}
