{
 "cells": [
  {
   "cell_type": "code",
   "execution_count": 77,
   "metadata": {},
   "outputs": [],
   "source": [
    "n = int(input())\n",
    "graph = [[0] * (n+1) for _ in range(n+1)]\n",
    "p = [0] + list(map(int,input().split()))\n",
    "for i in range(1, n+1):\n",
    "    temp = list(map(int,input().split()))\n",
    "    num = temp[0]\n",
    "    linked_ward = temp[1:]\n",
    "    for j in range(num):\n",
    "        graph[i][linked_ward[j]] = 1\n",
    "        graph[linked_ward[j]][i] = 1\n",
    "    "
   ]
  },
  {
   "cell_type": "code",
   "execution_count": 79,
   "metadata": {},
   "outputs": [
    {
     "name": "stdout",
     "output_type": "stream",
     "text": [
      "4\n"
     ]
    }
   ],
   "source": [
    "total = sum(p)\n",
    "visit = [0] * (n+1)\n",
    "answer = 900\n",
    "def check():\n",
    "    vis = visit[:]\n",
    "    queue = []\n",
    "    for i in range(1, n+1):\n",
    "        if visit[i] == 0:\n",
    "            queue = [i]\n",
    "            break\n",
    "    while (queue):\n",
    "        v = queue.pop()\n",
    "        vis[v] = 1\n",
    "        for i in range(1,n+1):\n",
    "            if graph[v][i] == 1 and vis[i] == 0:\n",
    "                queue.append(i)\n",
    "                vis[i] = 1\n",
    "    if sum(vis) == n:\n",
    "        return 1\n",
    "    else: return 0\n",
    "def bfs(value):\n",
    "    global answer\n",
    "    visit[value] = 1\n",
    "    if check():\n",
    "        sol = 0\n",
    "        li = []\n",
    "        for i in range(1,n+1):\n",
    "            if visit[i] == 1:\n",
    "                li.append(i)\n",
    "        for i in li:\n",
    "            sol += p[i]\n",
    "        answer = min(answer, abs(total-2*sol))\n",
    "    for i in range(1,n+1):\n",
    "        if graph[value][i] == 1 and visit[i] == 0:\n",
    "            bfs(i)\n",
    "            visit[i] = 0\n",
    "bfs(1)\n",
    "if answer<900:\n",
    "    print(answer)\n",
    "else:\n",
    "    print(-1)\n"
   ]
  }
 ],
 "metadata": {
  "interpreter": {
   "hash": "53e059d21691b4acb4a64b9f63fef32a69804c1f4bf8b757b5579479fa8a32ee"
  },
  "kernelspec": {
   "display_name": "Python 3.7.2 64-bit",
   "language": "python",
   "name": "python3"
  },
  "language_info": {
   "codemirror_mode": {
    "name": "ipython",
    "version": 3
   },
   "file_extension": ".py",
   "mimetype": "text/x-python",
   "name": "python",
   "nbconvert_exporter": "python",
   "pygments_lexer": "ipython3",
   "version": "3.7.2"
  },
  "orig_nbformat": 4
 },
 "nbformat": 4,
 "nbformat_minor": 2
}
