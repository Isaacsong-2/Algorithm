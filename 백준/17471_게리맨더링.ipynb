{
 "cells": [
  {
   "cell_type": "code",
   "execution_count": 2,
   "metadata": {},
   "outputs": [],
   "source": [
    "n = int(input())\n",
    "graph = [[0] * (n+1) for _ in range(n+1)]\n",
    "p = list(map(int,input().split()))\n",
    "for i in range(1, n+1):\n",
    "    temp = list(map(int,input().split()))\n",
    "    num = temp[0]\n",
    "    linked_ward = temp[1:]\n",
    "    for j in range(num):\n",
    "        graph[num][linked_ward[j]] = 1\n",
    "        graph[linked_ward[j]][num] = 1\n",
    "    "
   ]
  },
  {
   "cell_type": "code",
   "execution_count": 11,
   "metadata": {},
   "outputs": [
    {
     "name": "stdout",
     "output_type": "stream",
     "text": [
      "[[(0,), (1,), (2,), (3,), (4,), (5,)], [(0, 1), (0, 2), (0, 3), (0, 4), (0, 5), (1, 2), (1, 3), (1, 4), (1, 5), (2, 3), (2, 4), (2, 5), (3, 4), (3, 5), (4, 5)], [(0, 1, 2), (0, 1, 3), (0, 1, 4), (0, 1, 5), (0, 2, 3), (0, 2, 4), (0, 2, 5), (0, 3, 4), (0, 3, 5), (0, 4, 5), (1, 2, 3), (1, 2, 4), (1, 2, 5), (1, 3, 4), (1, 3, 5), (1, 4, 5), (2, 3, 4), (2, 3, 5), (2, 4, 5), (3, 4, 5)]]\n",
      "(0,)\n"
     ]
    }
   ],
   "source": [
    "diff = 900\n",
    "visit = [0] * (n+1)\n",
    "def bfs(value):\n",
    "    queue = [value]\n",
    "    visit[value] = 1\n",
    "    while queue:\n",
    "        v = queue.pop()\n",
    "        for i in range(n):\n",
    "            if graph[v][i] == 1 and visit[i] == 0:\n",
    "                queue.append(i)\n",
    "                visit[i] = 1\n"
   ]
  }
 ],
 "metadata": {
  "interpreter": {
   "hash": "53e059d21691b4acb4a64b9f63fef32a69804c1f4bf8b757b5579479fa8a32ee"
  },
  "kernelspec": {
   "display_name": "Python 3.7.2 64-bit",
   "language": "python",
   "name": "python3"
  },
  "language_info": {
   "codemirror_mode": {
    "name": "ipython",
    "version": 3
   },
   "file_extension": ".py",
   "mimetype": "text/x-python",
   "name": "python",
   "nbconvert_exporter": "python",
   "pygments_lexer": "ipython3",
   "version": "3.7.2"
  },
  "orig_nbformat": 4
 },
 "nbformat": 4,
 "nbformat_minor": 2
}
