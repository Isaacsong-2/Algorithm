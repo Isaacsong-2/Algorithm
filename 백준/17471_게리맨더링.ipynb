{
 "cells": [
  {
   "cell_type": "code",
   "execution_count": 16,
   "metadata": {},
   "outputs": [],
   "source": [
    "n = int(input())\n",
    "graph = [[0] * (n+1) for _ in range(n+1)]\n",
    "p = [0] + list(map(int,input().split()))\n",
    "for i in range(1, n+1):\n",
    "    temp = list(map(int,input().split()))\n",
    "    num = temp[0]\n",
    "    linked_ward = temp[1:]\n",
    "    for j in range(num):\n",
    "        graph[i][linked_ward[j]] = 1\n",
    "        graph[linked_ward[j]][i] = 1\n",
    "    "
   ]
  },
  {
   "cell_type": "code",
   "execution_count": 17,
   "metadata": {},
   "outputs": [
    {
     "name": "stdout",
     "output_type": "stream",
     "text": [
      "-1\n"
     ]
    }
   ],
   "source": [
    "total = sum(p)\n",
    "visit = [0] * (n+1)\n",
    "answer = 900\n",
    "def check():\n",
    "    vis = visit[:]\n",
    "    queue = []\n",
    "    for i in range(1, n+1):\n",
    "        if vis[i] == 0:\n",
    "            queue = [i]\n",
    "            break\n",
    "    while (queue):\n",
    "        v = queue.pop()\n",
    "        vis[v] = 1\n",
    "        for i in range(1,n+1):\n",
    "            if graph[v][i] == 1 and vis[i] == 0:\n",
    "                queue.append(i)\n",
    "                vis[i] = 1\n",
    "    if sum(vis) == n:\n",
    "        return 1\n",
    "    else: return 0\n",
    "def bfs(value,visit):\n",
    "    global answer\n",
    "    visit[value] = 1\n",
    "    if check():\n",
    "        sol = 0\n",
    "        li = []\n",
    "        for i in range(1,n+1):\n",
    "            if visit[i] == 1:\n",
    "                li.append(i)\n",
    "        for i in li:\n",
    "            sol += p[i]\n",
    "        answer = min(answer, abs(total-2*sol))\n",
    "    for i in range(1,n+1):\n",
    "        if graph[value][i] == 1 and visit[i] == 0:\n",
    "            bfs(i,visit)\n",
    "            visit[i] = 0\n",
    "for i in range(1,n+1):\n",
    "    bfs(i,visit)\n",
    "if answer<900:\n",
    "    print(answer)\n",
    "else:\n",
    "    print(-1)\n"
   ]
  }
 ],
 "metadata": {
  "kernelspec": {
   "display_name": "Python 3.7.2 64-bit",
   "language": "python",
   "name": "python3"
  },
  "language_info": {
   "codemirror_mode": {
    "name": "ipython",
    "version": 3
   },
   "file_extension": ".py",
   "mimetype": "text/x-python",
   "name": "python",
   "nbconvert_exporter": "python",
   "pygments_lexer": "ipython3",
   "version": "3.7.2"
  },
  "orig_nbformat": 4,
  "vscode": {
   "interpreter": {
    "hash": "d75df686efc28afbc154e69ab3b02fa6abad8f31352f252b5de5b4a995eb825f"
   }
  }
 },
 "nbformat": 4,
 "nbformat_minor": 2
}
