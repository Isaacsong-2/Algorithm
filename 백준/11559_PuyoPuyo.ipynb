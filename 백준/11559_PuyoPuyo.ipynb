{
 "cells": [
  {
   "cell_type": "code",
   "execution_count": 26,
   "metadata": {},
   "outputs": [],
   "source": [
    "field = [list(input()) for _ in range(12)]"
   ]
  },
  {
   "cell_type": "code",
   "execution_count": 50,
   "metadata": {},
   "outputs": [
    {
     "name": "stdout",
     "output_type": "stream",
     "text": [
      "2\n"
     ]
    }
   ],
   "source": [
    "import copy\n",
    "from collections import deque\n",
    "# field = [['.','.','.','.','.','.'],\n",
    "#          ['.','.','.','.','.','.'],\n",
    "#          ['.','.','.','.','.','.'],\n",
    "#          ['.','.','.','.','.','.'],\n",
    "#          ['.','.','.','.','.','.'],\n",
    "#          ['.','.','.','.','Y','.'],\n",
    "#          ['.','.','.','.','Y','.'],\n",
    "#          ['.','.','.','.','Y','.'],\n",
    "#          ['.','.','.','.','R','R'],\n",
    "#          ['.','.','.','Y','R','R'],\n",
    "#          ['.','.','G','G','Y','Y'],\n",
    "#          ['.','.','G','G','Y','Y'],]\n",
    "def bfs(i, j):\n",
    "    global pang\n",
    "    queue = [(i,j)]\n",
    "    color = li[i][j]\n",
    "    visit = [[0]*6 for _ in range(12)]\n",
    "    visit[i][j] = 1\n",
    "    temp = [(i,j)]\n",
    "    while(queue):\n",
    "        x, y = queue.pop()\n",
    "        for i in range(4):\n",
    "            nx = x + dx[i]\n",
    "            ny = y + dy[i]\n",
    "            if 0<=nx<=11 and 0<=ny<=5 and visit[nx][ny] == 0:\n",
    "                visit[nx][ny] = 1\n",
    "                if li[nx][ny] == color:\n",
    "                    queue.append((nx,ny))\n",
    "                    temp.append((nx,ny))\n",
    "    if len(temp) > 3:\n",
    "        pang = 1\n",
    "        for i,j in temp:\n",
    "            li[i][j] = '.'\n",
    "dx = [-1,1,0,0]\n",
    "dy = [0,0,-1,1]\n",
    "li = copy.deepcopy(field)\n",
    "sol = 0\n",
    "while(1):\n",
    "    pang = 0\n",
    "    for i in range(12):\n",
    "        for j in range(6):\n",
    "            if li[i][j] != '.':\n",
    "                bfs(i, j)\n",
    "    if pang: sol += 1\n",
    "    else: break\n",
    "    for i in range(6):\n",
    "        queue = deque()\n",
    "        for j in range(11,-1,-1):\n",
    "            if li[j][i] !='.':\n",
    "                queue.append(li[j][i])\n",
    "        for j in range(11,-1,-1):\n",
    "            if queue:\n",
    "                li[j][i] = queue.popleft()\n",
    "            else:\n",
    "                li[j][i] = '.'\n",
    "print(sol)"
   ]
  }
 ],
 "metadata": {
  "interpreter": {
   "hash": "53e059d21691b4acb4a64b9f63fef32a69804c1f4bf8b757b5579479fa8a32ee"
  },
  "kernelspec": {
   "display_name": "Python 3.7.2 64-bit",
   "language": "python",
   "name": "python3"
  },
  "language_info": {
   "codemirror_mode": {
    "name": "ipython",
    "version": 3
   },
   "file_extension": ".py",
   "mimetype": "text/x-python",
   "name": "python",
   "nbconvert_exporter": "python",
   "pygments_lexer": "ipython3",
   "version": "3.7.2"
  },
  "orig_nbformat": 4
 },
 "nbformat": 4,
 "nbformat_minor": 2
}
