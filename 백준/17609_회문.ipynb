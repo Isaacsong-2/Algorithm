{
 "cells": [
  {
   "cell_type": "code",
   "execution_count": 22,
   "metadata": {},
   "outputs": [
    {
     "name": "stdout",
     "output_type": "stream",
     "text": [
      "0\n",
      "1\n",
      "1\n",
      "2\n",
      "2\n",
      "0\n",
      "1\n"
     ]
    }
   ],
   "source": [
    "#시간초과\n",
    "t = int(input())\n",
    "for _ in range(t):\n",
    "    st = input()\n",
    "    l = len(st)\n",
    "    trig = 0\n",
    "    if st[:l//2] == st[:l//2-1:-1]:\n",
    "        print(0)\n",
    "    else:\n",
    "        if l % 2 == 0:\n",
    "            print(2)\n",
    "        else:\n",
    "            for i in range(l):\n",
    "                n = l-1\n",
    "                temp = st[:i] + st[i+1:]\n",
    "                if temp[:n//2] == temp[:n//2-1:-1]:\n",
    "                    print(1)\n",
    "                    trig = 1\n",
    "                    break\n",
    "            if trig == 0:\n",
    "                print(2)"
   ]
  },
  {
   "cell_type": "code",
   "execution_count": 29,
   "metadata": {},
   "outputs": [
    {
     "name": "stdout",
     "output_type": "stream",
     "text": [
      "2\n"
     ]
    }
   ],
   "source": [
    "# 틀림\n",
    "t = int(input())\n",
    "for _ in range(t):\n",
    "    st = input()\n",
    "    i = 0\n",
    "    j = len(st)-1\n",
    "    able = 1\n",
    "    ans = 0\n",
    "    while(i<j):\n",
    "        if st[i] == st[j]:\n",
    "            if i == j-1:\n",
    "                ans = 1\n",
    "                break\n",
    "            i += 1\n",
    "            j -= 1\n",
    "        else:\n",
    "            if able:\n",
    "                if st[i+1] == st[j]:\n",
    "                    able = 0\n",
    "                    i += 1\n",
    "                elif st[i] == st[j-1]:\n",
    "                    able = 0\n",
    "                    j -= 1\n",
    "                else:\n",
    "                    break\n",
    "            else:\n",
    "                break\n",
    "            \n",
    "    if ans and able:\n",
    "        print(0)\n",
    "    elif ans and not able:\n",
    "        print(1)\n",
    "    else:\n",
    "        print(2)\n",
    "            "
   ]
  },
  {
   "cell_type": "code",
   "execution_count": null,
   "metadata": {},
   "outputs": [],
   "source": [
    "import sys\n",
    "\n",
    "def secondCheck(word,left,right):\n",
    "    while (left < right):\n",
    "        if (word[left] == word[right]):\n",
    "            left += 1\n",
    "            right -= 1\n",
    "        else:\n",
    "            return False\n",
    "    return True\n",
    "\n",
    "\n",
    "def firstCheck(word,left,right):\n",
    "    while (left < right):\n",
    "        if (word[left] == word[right]):\n",
    "            left += 1\n",
    "            right -= 1\n",
    "        else:\n",
    "            check1 = secondCheck(word,left+1,right)\n",
    "            check2 = secondCheck(word,left,right-1)\n",
    "            if(check1 or check2):\n",
    "                return 1\n",
    "            else:\n",
    "                return 2\n",
    "    return 0\n",
    "\n",
    "n = int(sys.stdin.readline().rstrip(\"\\n\"))\n",
    "for _ in range(n):\n",
    "    word = sys.stdin.readline().rstrip(\"\\n\")\n",
    "    left=0\n",
    "    right=len(word)-1\n",
    "    ans = firstCheck(word,left,right)\n",
    "    print(ans)"
   ]
  }
 ],
 "metadata": {
  "kernelspec": {
   "display_name": "Python 3.7.2 64-bit",
   "language": "python",
   "name": "python3"
  },
  "language_info": {
   "codemirror_mode": {
    "name": "ipython",
    "version": 3
   },
   "file_extension": ".py",
   "mimetype": "text/x-python",
   "name": "python",
   "nbconvert_exporter": "python",
   "pygments_lexer": "ipython3",
   "version": "3.7.2"
  },
  "orig_nbformat": 4,
  "vscode": {
   "interpreter": {
    "hash": "d75df686efc28afbc154e69ab3b02fa6abad8f31352f252b5de5b4a995eb825f"
   }
  }
 },
 "nbformat": 4,
 "nbformat_minor": 2
}
