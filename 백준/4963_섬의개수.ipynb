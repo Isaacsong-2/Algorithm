{
 "cells": [
  {
   "cell_type": "code",
   "execution_count": 7,
   "metadata": {},
   "outputs": [
    {
     "name": "stdout",
     "output_type": "stream",
     "text": [
      "0\n",
      "1\n",
      "1\n",
      "3\n",
      "1\n",
      "9\n"
     ]
    }
   ],
   "source": [
    "dx = [-1,1,0,0,-1,-1,1,1]\n",
    "dy = [0,0,-1,1,-1,1,-1,1]\n",
    "while(True):\n",
    "    w, h = map(int,input().split())\n",
    "    if w == 0 and h == 0:\n",
    "        break\n",
    "    li = [list(map(int,input().split())) for _ in range(h)]\n",
    "    visit = [[0] * w for _ in range(h)]\n",
    "    ans = 0\n",
    "    for i in range(h):\n",
    "        for j in range(w):\n",
    "            if li[i][j] == 1 and visit[i][j] == 0:\n",
    "                queue=[(i,j)]\n",
    "                while(queue):\n",
    "                    x, y = queue.pop()\n",
    "                    visit[x][y] = 1\n",
    "                    for k in range(8):\n",
    "                        nx, ny = x+dx[k], y+dy[k]\n",
    "                        if 0<=nx<h and 0<=ny<w and li[nx][ny] == 1 and visit[nx][ny] == 0:\n",
    "                            queue.append((nx,ny))\n",
    "                ans += 1\n",
    "    print(ans)"
   ]
  }
 ],
 "metadata": {
  "kernelspec": {
   "display_name": "Python 3.7.2 64-bit",
   "language": "python",
   "name": "python3"
  },
  "language_info": {
   "codemirror_mode": {
    "name": "ipython",
    "version": 3
   },
   "file_extension": ".py",
   "mimetype": "text/x-python",
   "name": "python",
   "nbconvert_exporter": "python",
   "pygments_lexer": "ipython3",
   "version": "3.7.2"
  },
  "orig_nbformat": 4,
  "vscode": {
   "interpreter": {
    "hash": "d75df686efc28afbc154e69ab3b02fa6abad8f31352f252b5de5b4a995eb825f"
   }
  }
 },
 "nbformat": 4,
 "nbformat_minor": 2
}
