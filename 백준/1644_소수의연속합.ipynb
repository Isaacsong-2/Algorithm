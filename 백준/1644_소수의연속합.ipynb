{
 "cells": [
  {
   "cell_type": "code",
   "execution_count": 78,
   "metadata": {},
   "outputs": [],
   "source": [
    "n = int(input())\n",
    "arr = [0,0] + [1]*(n-1)\n",
    "prime = []\n",
    "for i in range(2,n+1):\n",
    "    if arr[i] == 1:\n",
    "        for j in range(1, n//i+1):\n",
    "            arr[i*j] = 0\n",
    "        prime.append(i)\n",
    "\n"
   ]
  },
  {
   "cell_type": "code",
   "execution_count": 79,
   "metadata": {},
   "outputs": [
    {
     "name": "stdout",
     "output_type": "stream",
     "text": [
      "16\n",
      "2\n"
     ]
    }
   ],
   "source": [
    "cnt = 0\n",
    "for i in range(len(prime)):\n",
    "    sum = 0\n",
    "    for j in range(i, len(prime)):\n",
    "        sum += prime[j]\n",
    "        if sum==n:\n",
    "            cnt += 1\n",
    "            break\n",
    "        if sum>n:\n",
    "            break  \n",
    "print(cnt) \n",
    "\n"
   ]
  }
 ],
 "metadata": {
  "interpreter": {
   "hash": "53e059d21691b4acb4a64b9f63fef32a69804c1f4bf8b757b5579479fa8a32ee"
  },
  "kernelspec": {
   "display_name": "Python 3.7.2 64-bit",
   "language": "python",
   "name": "python3"
  },
  "language_info": {
   "codemirror_mode": {
    "name": "ipython",
    "version": 3
   },
   "file_extension": ".py",
   "mimetype": "text/x-python",
   "name": "python",
   "nbconvert_exporter": "python",
   "pygments_lexer": "ipython3",
   "version": "3.7.2"
  },
  "orig_nbformat": 4
 },
 "nbformat": 4,
 "nbformat_minor": 2
}
