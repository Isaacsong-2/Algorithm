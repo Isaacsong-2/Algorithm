{
 "cells": [
  {
   "cell_type": "code",
   "execution_count": 33,
   "metadata": {},
   "outputs": [],
   "source": [
    "n = int(input())\n",
    "curve = [list(map(int,input().split())) for _ in range(n)]"
   ]
  },
  {
   "cell_type": "code",
   "execution_count": 39,
   "metadata": {},
   "outputs": [
    {
     "name": "stdout",
     "output_type": "stream",
     "text": [
      "4\n"
     ]
    }
   ],
   "source": [
    "dx = [0,-1,0,1]\n",
    "dy = [1,0,-1,0]\n",
    "li = [[0] * 101 for _ in range(101)]\n",
    "for y,x,d,g in curve:\n",
    "    dir=[d]\n",
    "    for i in range(g):\n",
    "        m = len(dir)\n",
    "        for j in range(m):\n",
    "            dir.append((dir[m-j-1]+1)%4)\n",
    "    li[x][y] = 1\n",
    "    for draw in dir:\n",
    "        nx = x + dx[draw]\n",
    "        ny = y + dy[draw]\n",
    "        li[nx][ny] = 1\n",
    "        x, y = nx, ny\n",
    "sol = 0\n",
    "for i in range(100):\n",
    "    for j in range(100):\n",
    "        if li[i][j] and li[i][j+1] and li[i+1][j] and li[i+1][j+1]:\n",
    "            sol += 1\n",
    "print(sol)\n"
   ]
  }
 ],
 "metadata": {
  "interpreter": {
   "hash": "53e059d21691b4acb4a64b9f63fef32a69804c1f4bf8b757b5579479fa8a32ee"
  },
  "kernelspec": {
   "display_name": "Python 3.7.2 64-bit",
   "language": "python",
   "name": "python3"
  },
  "language_info": {
   "codemirror_mode": {
    "name": "ipython",
    "version": 3
   },
   "file_extension": ".py",
   "mimetype": "text/x-python",
   "name": "python",
   "nbconvert_exporter": "python",
   "pygments_lexer": "ipython3",
   "version": "3.7.2"
  },
  "orig_nbformat": 4
 },
 "nbformat": 4,
 "nbformat_minor": 2
}
