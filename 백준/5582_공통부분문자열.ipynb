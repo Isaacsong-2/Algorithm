{
 "cells": [
  {
   "cell_type": "code",
   "execution_count": 10,
   "metadata": {},
   "outputs": [],
   "source": [
    "str1 = input()\n",
    "str2 = input()"
   ]
  },
  {
   "cell_type": "code",
   "execution_count": 11,
   "metadata": {},
   "outputs": [
    {
     "name": "stdout",
     "output_type": "stream",
     "text": [
      "0\n"
     ]
    }
   ],
   "source": [
    "dp = [[0] * len(str2) for _ in range(len(str1))]\n",
    "sol = 0\n",
    "for i in range(len(str1)):\n",
    "    for j in range(len(str2)):\n",
    "        if str1[i] == str2[j]:\n",
    "            if i == 0 or j == 0:\n",
    "                dp[i][j] += 1\n",
    "            else:\n",
    "                dp[i][j] = dp[i-1][j-1] + 1\n",
    "            sol = max(sol, dp[i][j])\n",
    "print(sol)"
   ]
  }
 ],
 "metadata": {
  "kernelspec": {
   "display_name": "Python 3.7.2 64-bit",
   "language": "python",
   "name": "python3"
  },
  "language_info": {
   "codemirror_mode": {
    "name": "ipython",
    "version": 3
   },
   "file_extension": ".py",
   "mimetype": "text/x-python",
   "name": "python",
   "nbconvert_exporter": "python",
   "pygments_lexer": "ipython3",
   "version": "3.7.2"
  },
  "orig_nbformat": 4,
  "vscode": {
   "interpreter": {
    "hash": "d75df686efc28afbc154e69ab3b02fa6abad8f31352f252b5de5b4a995eb825f"
   }
  }
 },
 "nbformat": 4,
 "nbformat_minor": 2
}
