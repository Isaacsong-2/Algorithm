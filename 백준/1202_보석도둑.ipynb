{
 "cells": [
  {
   "cell_type": "code",
   "execution_count": 9,
   "metadata": {},
   "outputs": [],
   "source": [
    "n,k = map(int,input().split())\n",
    "jewel = [list(map(int,input().split())) for _ in range(n)]\n",
    "bag = [int(input()) for _ in range(k)]\n",
    "import heapq\n",
    "jewel = sorted(jewel, key=lambda x : x[1])\n",
    "bag.sort(key = lambda x: -x)\n",
    "sol = 0\n",
    "temp = []\n",
    "while(jewel and bag):\n",
    "    m, v = jewel.pop()\n",
    "    if m <= bag[-1]:\n",
    "        sol += v\n",
    "        bag.pop()\n",
    "        for tempm, tempv in temp:\n",
    "            jewel.append([tempm,tempv])\n",
    "        \n",
    "    else:\n",
    "        temp.append([m,v])\n",
    "print(sol)\n",
    "    "
   ]
  },
  {
   "cell_type": "code",
   "execution_count": null,
   "metadata": {},
   "outputs": [],
   "source": [
    "import sys\n",
    "import heapq\n",
    "\n",
    "N, K = map(int, sys.stdin.readline().split())\n",
    "jew = []\n",
    "for _ in range(N):\n",
    "    heapq.heappush(jew, list(map(int, sys.stdin.readline().split())))\n",
    "bags = []\n",
    "for _ in range(K):\n",
    "    bags.append(int(sys.stdin.readline()))\n",
    "bags.sort()\n",
    "\n",
    "answer = 0\n",
    "tmp_jew = []\n",
    "for bag in bags:\n",
    "    while jew and bag >= jew[0][0]:\n",
    "        heapq.heappush(tmp_jew, -heapq.heappop(jew)[1])\n",
    "    if tmp_jew:\n",
    "        answer -= heapq.heappop(tmp_jew)\n",
    "    elif not jew:\n",
    "        break\n",
    "print(answer)"
   ]
  }
 ],
 "metadata": {
  "interpreter": {
   "hash": "d75df686efc28afbc154e69ab3b02fa6abad8f31352f252b5de5b4a995eb825f"
  },
  "kernelspec": {
   "display_name": "Python 3.7.2 64-bit",
   "language": "python",
   "name": "python3"
  },
  "language_info": {
   "codemirror_mode": {
    "name": "ipython",
    "version": 3
   },
   "file_extension": ".py",
   "mimetype": "text/x-python",
   "name": "python",
   "nbconvert_exporter": "python",
   "pygments_lexer": "ipython3",
   "version": "3.7.2"
  },
  "orig_nbformat": 4
 },
 "nbformat": 4,
 "nbformat_minor": 2
}
