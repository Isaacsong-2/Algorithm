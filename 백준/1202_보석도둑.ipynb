{
 "cells": [
  {
   "cell_type": "code",
   "execution_count": 99,
   "metadata": {},
   "outputs": [],
   "source": [
    "n,k = map(int,input().split())\n",
    "jewel = [list(map(int,input().split())) for _ in range(n)]\n",
    "bag = [int(input()) for _ in range(k)]"
   ]
  },
  {
   "cell_type": "code",
   "execution_count": 179,
   "metadata": {},
   "outputs": [
    {
     "name": "stdout",
     "output_type": "stream",
     "text": [
      "[2, 10]\n",
      "164\n"
     ]
    }
   ],
   "source": [
    "bag = [10,2]\n",
    "import heapq\n",
    "jewel = sorted(jewel, key=lambda x : -x[1])\n",
    "bag = sorted(bag)\n",
    "print(bag)\n",
    "sol = 0\n",
    "for m, v in jewel:\n",
    "    if bag:\n",
    "        for i in range(len(bag)):\n",
    "            if m <= bag[0]:\n",
    "                sol += v\n",
    "                heapq.heapify(bag)\n",
    "                break\n",
    "    else:\n",
    "        break\n",
    "    # print(m,v,bag,sol)\n",
    "print(sol)\n"
   ]
  }
 ],
 "metadata": {
  "interpreter": {
   "hash": "53e059d21691b4acb4a64b9f63fef32a69804c1f4bf8b757b5579479fa8a32ee"
  },
  "kernelspec": {
   "display_name": "Python 3.7.2 64-bit",
   "language": "python",
   "name": "python3"
  },
  "language_info": {
   "codemirror_mode": {
    "name": "ipython",
    "version": 3
   },
   "file_extension": ".py",
   "mimetype": "text/x-python",
   "name": "python",
   "nbconvert_exporter": "python",
   "pygments_lexer": "ipython3",
   "version": "3.7.2"
  },
  "orig_nbformat": 4
 },
 "nbformat": 4,
 "nbformat_minor": 2
}
