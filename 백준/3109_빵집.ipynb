{
 "cells": [
  {
   "cell_type": "code",
   "execution_count": 12,
   "metadata": {},
   "outputs": [],
   "source": [
    "r, c = map(int,input().split())\n",
    "li = [list(input()) for _ in range(r)]"
   ]
  },
  {
   "cell_type": "code",
   "execution_count": 13,
   "metadata": {},
   "outputs": [
    {
     "name": "stdout",
     "output_type": "stream",
     "text": [
      "5\n"
     ]
    }
   ],
   "source": [
    "from collections import deque\n",
    "\n",
    "\n",
    "dx = [1,0,-1]\n",
    "visit = [[0] * c for _ in range(r)]\n",
    "ans = 0\n",
    "\n",
    "for i in range(r):\n",
    "    x, y = i, 0\n",
    "    queue = deque([[x,y]])\n",
    "    while(queue):\n",
    "        x, y = queue.pop()\n",
    "        visit[x][y] = 1\n",
    "        if y == c-1:\n",
    "            ans += 1\n",
    "            break\n",
    "        for i in range(3):\n",
    "            nx, ny = x + dx[i], y + 1\n",
    "            if 0<=nx<r and 0<=ny<c:\n",
    "                if li[nx][ny] == \".\" and visit[nx][ny] == 0:\n",
    "                    queue.append([nx,ny])\n",
    "print(ans)               "
   ]
  }
 ],
 "metadata": {
  "kernelspec": {
   "display_name": "Python 3.7.2 64-bit",
   "language": "python",
   "name": "python3"
  },
  "language_info": {
   "codemirror_mode": {
    "name": "ipython",
    "version": 3
   },
   "file_extension": ".py",
   "mimetype": "text/x-python",
   "name": "python",
   "nbconvert_exporter": "python",
   "pygments_lexer": "ipython3",
   "version": "3.7.2"
  },
  "orig_nbformat": 4,
  "vscode": {
   "interpreter": {
    "hash": "d75df686efc28afbc154e69ab3b02fa6abad8f31352f252b5de5b4a995eb825f"
   }
  }
 },
 "nbformat": 4,
 "nbformat_minor": 2
}
