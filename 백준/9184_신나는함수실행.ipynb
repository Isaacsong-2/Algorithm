{
 "cells": [
  {
   "cell_type": "code",
   "execution_count": 4,
   "metadata": {},
   "outputs": [
    {
     "name": "stdout",
     "output_type": "stream",
     "text": [
      "w(1, 1, 1) = 2\n",
      "w(2, 2, 2) = 4\n",
      "w(10, 4, 6) = 523\n",
      "w(50, 50, 50) = 1048576\n",
      "w(-1, 7, 18) = 1\n"
     ]
    }
   ],
   "source": [
    "dp = [[[0]*21 for _ in range(21)] for i in range(21)]\n",
    "for i in range(21):\n",
    "    for j in range(21):\n",
    "        for k in range(21):\n",
    "            if i==0 or j ==0 or k==0:\n",
    "                dp[i][j][k] = 1\n",
    "            elif i<j and j<k:\n",
    "                dp[i][j][k] = dp[i][j][k-1]+dp[i][j-1][k-1]-dp[i][j-1][k]\n",
    "            else:\n",
    "                dp[i][j][k] = dp[i-1][j][k]+dp[i-1][j-1][k]+dp[i-1][j][k-1]-dp[i-1][j-1][k-1]\n",
    "\n",
    "while(1):\n",
    "    a, b, c = map(int,input().split())\n",
    "    if a==-1 and b==-1 and c==-1:\n",
    "        break\n",
    "    ans = 0\n",
    "\n",
    "    if a<=0 or b<=0 or c<=0 :\n",
    "        ans = 1\n",
    "    elif a>20 or b>20 or c>20:\n",
    "        ans = dp[20][20][20]\n",
    "    else:\n",
    "        ans = dp[a][b][c]\n",
    "    print(f\"w({a}, {b}, {c}) = {ans}\")"
   ]
  }
 ],
 "metadata": {
  "kernelspec": {
   "display_name": "Python 3.7.2 64-bit",
   "language": "python",
   "name": "python3"
  },
  "language_info": {
   "codemirror_mode": {
    "name": "ipython",
    "version": 3
   },
   "file_extension": ".py",
   "mimetype": "text/x-python",
   "name": "python",
   "nbconvert_exporter": "python",
   "pygments_lexer": "ipython3",
   "version": "3.7.2"
  },
  "orig_nbformat": 4,
  "vscode": {
   "interpreter": {
    "hash": "d75df686efc28afbc154e69ab3b02fa6abad8f31352f252b5de5b4a995eb825f"
   }
  }
 },
 "nbformat": 4,
 "nbformat_minor": 2
}
