{
 "cells": [
  {
   "cell_type": "code",
   "execution_count": 21,
   "metadata": {},
   "outputs": [],
   "source": [
    "st1 = input()\n",
    "st2 = input()"
   ]
  },
  {
   "cell_type": "code",
   "execution_count": 22,
   "metadata": {},
   "outputs": [
    {
     "name": "stdout",
     "output_type": "stream",
     "text": [
      "4\n",
      "ACAK\n"
     ]
    }
   ],
   "source": [
    "n, m = len(st1), len(st2)\n",
    "dp = [[\"\"]*(m+1) for j in range(n+1)]\n",
    "for i in range(1,n+1):\n",
    "    for j in range(1,m+1):\n",
    "        if st1[i-1] == st2[j-1]:\n",
    "            dp[i][j] = dp[i-1][j-1] + st1[i-1]\n",
    "        else:\n",
    "            if len(dp[i-1][j]) > len(dp[i][j-1]):\n",
    "                dp[i][j] = dp[i-1][j]\n",
    "            else:\n",
    "                dp[i][j] = dp[i][j-1]\n",
    "print(len(dp[n][m]))\n",
    "if len(dp[n][m]) != 0:\n",
    "    print(\"\".join(dp[n][m])) "
   ]
  }
 ],
 "metadata": {
  "kernelspec": {
   "display_name": "Python 3.7.2 64-bit",
   "language": "python",
   "name": "python3"
  },
  "language_info": {
   "codemirror_mode": {
    "name": "ipython",
    "version": 3
   },
   "file_extension": ".py",
   "mimetype": "text/x-python",
   "name": "python",
   "nbconvert_exporter": "python",
   "pygments_lexer": "ipython3",
   "version": "3.7.2"
  },
  "orig_nbformat": 4,
  "vscode": {
   "interpreter": {
    "hash": "d75df686efc28afbc154e69ab3b02fa6abad8f31352f252b5de5b4a995eb825f"
   }
  }
 },
 "nbformat": 4,
 "nbformat_minor": 2
}
