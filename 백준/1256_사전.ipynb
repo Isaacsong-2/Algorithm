{
 "cells": [
  {
   "cell_type": "code",
   "execution_count": 20,
   "metadata": {},
   "outputs": [],
   "source": [
    "n, m, k = map(int,input().split())"
   ]
  },
  {
   "cell_type": "code",
   "execution_count": 21,
   "metadata": {},
   "outputs": [
    {
     "name": "stdout",
     "output_type": "stream",
     "text": [
      "aaazazaazaz\n"
     ]
    }
   ],
   "source": [
    "dp = [[1] * (m+1) for _ in range(n+1)]\n",
    "\n",
    "for i in range(1,n+1):\n",
    "    for j in range(1,m+1):\n",
    "        dp[i][j] = dp[i-1][j]+dp[i][j-1]\n",
    "\n",
    "if dp[n][m] < k:\n",
    "    print(-1)\n",
    "else:\n",
    "    ans = \"\"\n",
    "    while(True):\n",
    "        if n == 0 or m == 0:\n",
    "            ans += \"z\"*m\n",
    "            ans += \"a\"*n\n",
    "            break\n",
    "        \n",
    "        temp = dp[n-1][m]\n",
    "        if k <= temp:\n",
    "            ans += \"a\"\n",
    "            n -= 1\n",
    "        else:\n",
    "            ans += \"z\"\n",
    "            m -= 1\n",
    "            k -= temp\n",
    "    print(ans)"
   ]
  }
 ],
 "metadata": {
  "kernelspec": {
   "display_name": "Python 3.7.2 64-bit",
   "language": "python",
   "name": "python3"
  },
  "language_info": {
   "codemirror_mode": {
    "name": "ipython",
    "version": 3
   },
   "file_extension": ".py",
   "mimetype": "text/x-python",
   "name": "python",
   "nbconvert_exporter": "python",
   "pygments_lexer": "ipython3",
   "version": "3.7.2"
  },
  "orig_nbformat": 4,
  "vscode": {
   "interpreter": {
    "hash": "d75df686efc28afbc154e69ab3b02fa6abad8f31352f252b5de5b4a995eb825f"
   }
  }
 },
 "nbformat": 4,
 "nbformat_minor": 2
}
