{
 "cells": [
  {
   "cell_type": "code",
   "execution_count": 22,
   "metadata": {},
   "outputs": [
    {
     "name": "stdout",
     "output_type": "stream",
     "text": [
      "4\n",
      "C D P X\n"
     ]
    }
   ],
   "source": [
    "n = int(input())\n",
    "temp = list(input().split())\n",
    "dic = dict()\n",
    "li = []\n",
    "for i in range(n):\n",
    "    if temp[i] in dic:\n",
    "        if dic[temp[i]] == 1:\n",
    "            dic[temp[i]] = 2\n",
    "    else:\n",
    "        dic[temp[i]] = 1\n",
    "for key in dic:\n",
    "    for _ in range(dic[key]):\n",
    "        li.append(key) \n",
    "n = len(li)\n",
    "ans = set()\n",
    "\n",
    "for i in range(n):\n",
    "    for j in range(n):\n",
    "        if i==j:\n",
    "            continue\n",
    "        if li[i][0] > li[j][1]:\n",
    "            ans.add(li[i][0])\n",
    "        else:\n",
    "            ans.add(li[j][1])\n",
    "ans = list(ans)\n",
    "ans.sort()\n",
    "print(len(ans))\n",
    "print(*ans) "
   ]
  }
 ],
 "metadata": {
  "kernelspec": {
   "display_name": "Python 3.7.2 64-bit",
   "language": "python",
   "name": "python3"
  },
  "language_info": {
   "codemirror_mode": {
    "name": "ipython",
    "version": 3
   },
   "file_extension": ".py",
   "mimetype": "text/x-python",
   "name": "python",
   "nbconvert_exporter": "python",
   "pygments_lexer": "ipython3",
   "version": "3.7.2"
  },
  "orig_nbformat": 4,
  "vscode": {
   "interpreter": {
    "hash": "d75df686efc28afbc154e69ab3b02fa6abad8f31352f252b5de5b4a995eb825f"
   }
  }
 },
 "nbformat": 4,
 "nbformat_minor": 2
}
