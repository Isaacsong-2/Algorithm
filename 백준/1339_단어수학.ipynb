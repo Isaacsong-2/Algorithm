{
 "cells": [
  {
   "cell_type": "code",
   "execution_count": 15,
   "metadata": {},
   "outputs": [],
   "source": [
    "n = int(input())\n",
    "words = [str(input()) for _ in range(n)]"
   ]
  },
  {
   "cell_type": "code",
   "execution_count": 32,
   "metadata": {},
   "outputs": [],
   "source": [
    "dic = {'A':0,'B':0,'C':0,'D':0,'E':0,'F':0,'G':0,'H':0,'I':0,\n",
    "       'J':0,'K':0,'L':0,'M':0,'N':0,'O':0,'P':0,'Q':0,'R':0,\n",
    "       'S':0,'T':0,'U':0,'V':0,'W':0,'X':0,'Y':0,'Z':0}\n",
    "for word in words:\n",
    "    for i in range(len(word)):\n",
    "        dic[word[i]] += 10**(len(word)-i-1)\n",
    "\n",
    "sol = []\n",
    "for i in range(65,91):\n",
    "    sol.append(dic.get(chr(i)))\n",
    "sol.sort(key = lambda x:-x)\n",
    "sol = sol[:10]\n",
    "\n",
    "ans = 0\n",
    "for i, num in enumerate(sol):\n",
    "    ans += num*(9-i)\n",
    "print(ans)"
   ]
  }
 ],
 "metadata": {
  "interpreter": {
   "hash": "53e059d21691b4acb4a64b9f63fef32a69804c1f4bf8b757b5579479fa8a32ee"
  },
  "kernelspec": {
   "display_name": "Python 3.7.2 64-bit",
   "language": "python",
   "name": "python3"
  },
  "language_info": {
   "codemirror_mode": {
    "name": "ipython",
    "version": 3
   },
   "file_extension": ".py",
   "mimetype": "text/x-python",
   "name": "python",
   "nbconvert_exporter": "python",
   "pygments_lexer": "ipython3",
   "version": "3.7.2"
  },
  "orig_nbformat": 4
 },
 "nbformat": 4,
 "nbformat_minor": 2
}
