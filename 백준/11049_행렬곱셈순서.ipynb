{
 "cells": [
  {
   "cell_type": "code",
   "execution_count": 5,
   "metadata": {},
   "outputs": [],
   "source": [
    "n = int(input())\n",
    "li = [list(map(int,input().split())) for _ in range(n)]"
   ]
  },
  {
   "cell_type": "code",
   "execution_count": 10,
   "metadata": {},
   "outputs": [
    {
     "name": "stdout",
     "output_type": "stream",
     "text": [
      "20\n",
      "[[0, 10, 20, 10, 20], [0, 0, 100, 10, 100], [0, 0, 0, 10, 20], [0, 0, 0, 0, 100], [0, 0, 0, 0, 0]]\n"
     ]
    }
   ],
   "source": [
    "# dp 채우는 순서 잘못됌\n",
    "'''\n",
    "dp = [[0] * n for _ in range(n)]\n",
    "for i in range(n):\n",
    "    for j in range(i+1,n):\n",
    "        if i==j-1:\n",
    "            dp[i][j] = li[i][0] * li[j][0] * li[j][1]\n",
    "            continue\n",
    "        dp[i][j] = 2**32\n",
    "        for k in range(i,j):\n",
    "            dp[i][j] = min(dp[i][j], dp[i][k]+dp[k+1][j]+li[i][0]*li[k][1]*li[j][1])\n",
    "print(dp[0][n-1])\n",
    "print(dp)\n",
    "'''"
   ]
  },
  {
   "cell_type": "code",
   "execution_count": 12,
   "metadata": {},
   "outputs": [
    {
     "name": "stdout",
     "output_type": "stream",
     "text": [
      "31\n"
     ]
    }
   ],
   "source": [
    "dp = [[0]*n for _ in range(n)]\n",
    "for diagonal in range(1, n):  \n",
    "    for i in range(0, n-diagonal): \n",
    "        j = i + diagonal \n",
    "        if diagonal == 1:\n",
    "            dp[i][j] = li[i][0] * li[j][0] * li[j][1]\n",
    "            continue\n",
    "        dp[i][j] = float('inf')\n",
    "        for k in range(i, j):\n",
    "            dp[i][j] = min(dp[i][j], dp[i][k] + dp[k+1][j] + li[i][0] * li[k][1] * li[j][1])\n",
    "print(dp[0][n-1])"
   ]
  }
 ],
 "metadata": {
  "kernelspec": {
   "display_name": "Python 3.7.2 64-bit",
   "language": "python",
   "name": "python3"
  },
  "language_info": {
   "codemirror_mode": {
    "name": "ipython",
    "version": 3
   },
   "file_extension": ".py",
   "mimetype": "text/x-python",
   "name": "python",
   "nbconvert_exporter": "python",
   "pygments_lexer": "ipython3",
   "version": "3.7.2"
  },
  "orig_nbformat": 4,
  "vscode": {
   "interpreter": {
    "hash": "d75df686efc28afbc154e69ab3b02fa6abad8f31352f252b5de5b4a995eb825f"
   }
  }
 },
 "nbformat": 4,
 "nbformat_minor": 2
}
