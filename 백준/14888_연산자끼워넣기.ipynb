{
 "cells": [
  {
   "cell_type": "code",
   "execution_count": 82,
   "metadata": {},
   "outputs": [],
   "source": [
    "n = int(input())\n",
    "a = list(map(int,input().split()))\n",
    "op = list(map(int,input().split()))"
   ]
  },
  {
   "cell_type": "code",
   "execution_count": 83,
   "metadata": {},
   "outputs": [
    {
     "name": "stdout",
     "output_type": "stream",
     "text": [
      "54\n",
      "-24\n"
     ]
    }
   ],
   "source": [
    "from itertools import permutations\n",
    "M = -1000000000\n",
    "m = 1000000000\n",
    "\n",
    "operator = []\n",
    "for i in range(len(op)):\n",
    "    for j in range(op[i]):\n",
    "        if i==0:\n",
    "            operator.append('+')\n",
    "        elif i == 1:\n",
    "            operator.append('-')\n",
    "        elif i == 2:\n",
    "            operator.append('x')\n",
    "        else:\n",
    "            operator.append('/')\n",
    "comb = set(permutations(operator,n-1))\n",
    "comb = list(comb)\n",
    "for i in range(len(comb)):\n",
    "    # for k in range(1,n):\n",
    "    temp = a[0]\n",
    "    for j in range(len(comb[i])):\n",
    "        # for j in range(len(comb[i])):\n",
    "        if comb[i][j] == '+':\n",
    "            temp += a[j+1]\n",
    "        elif comb[i][j] == '-':\n",
    "            temp -= a[j+1]\n",
    "        elif comb[i][j] == 'x':\n",
    "            temp *= a[j+1]\n",
    "        else:\n",
    "            if temp<0:\n",
    "                temp = -temp//a[j+1]\n",
    "                temp = -temp\n",
    "            else: temp //= a[j+1]\n",
    "    M = max(M,temp)\n",
    "    m = min(m,temp)\n",
    "print(M)\n",
    "print(m)"
   ]
  }
 ],
 "metadata": {
  "interpreter": {
   "hash": "53e059d21691b4acb4a64b9f63fef32a69804c1f4bf8b757b5579479fa8a32ee"
  },
  "kernelspec": {
   "display_name": "Python 3.7.2 64-bit",
   "language": "python",
   "name": "python3"
  },
  "language_info": {
   "codemirror_mode": {
    "name": "ipython",
    "version": 3
   },
   "file_extension": ".py",
   "mimetype": "text/x-python",
   "name": "python",
   "nbconvert_exporter": "python",
   "pygments_lexer": "ipython3",
   "version": "3.7.2"
  },
  "orig_nbformat": 4
 },
 "nbformat": 4,
 "nbformat_minor": 2
}
