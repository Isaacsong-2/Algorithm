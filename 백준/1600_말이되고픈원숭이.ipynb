{
 "cells": [
  {
   "cell_type": "code",
   "execution_count": 28,
   "metadata": {},
   "outputs": [],
   "source": [
    "k = int(input())\n",
    "m, n = map(int,input().split())\n",
    "li = [list(map(int,input().split())) for _ in range(n)]"
   ]
  },
  {
   "cell_type": "code",
   "execution_count": 29,
   "metadata": {},
   "outputs": [
    {
     "name": "stdout",
     "output_type": "stream",
     "text": [
      "-1\n"
     ]
    }
   ],
   "source": [
    "from collections import deque\n",
    "def bfs(x,y,k_cnt,sol):\n",
    "    global answer\n",
    "    # print(t_visit,sol)\n",
    "    if sol + (n+m-x-y-2) - (k-k_cnt)*2 >= answer :\n",
    "        return\n",
    "    if k_cnt != k:\n",
    "        for i in range(12):\n",
    "            nx = x + dx[i]\n",
    "            ny = y + dy[i]\n",
    "            if 0<=nx<n and 0<=ny<m and t_visit[nx][ny] > sol+1 and li[nx][ny] == 0:\n",
    "                if nx==n-1 and ny==m-1:\n",
    "                    answer = min(answer,sol+1)\n",
    "                    return\n",
    "                t_visit[nx][ny] = sol+1\n",
    "                if i<8:\n",
    "                    bfs(nx,ny,k_cnt+1,sol+1)\n",
    "                else:\n",
    "                    bfs(nx,ny,k_cnt,sol+1)\n",
    "    else:\n",
    "        for i in range(8,12):\n",
    "            nx = x + dx[i]\n",
    "            ny = y + dy[i]\n",
    "            if 0<=nx<n and 0<=ny<m and t_visit[nx][ny] > sol+1 and li[nx][ny] == 0:\n",
    "                if nx==n-1 and ny==m-1:\n",
    "                    answer = min(answer,sol+1)\n",
    "                    return\n",
    "                t_visit[nx][ny] = sol + 1\n",
    "                bfs(nx,ny,k_cnt,sol+1)\n",
    "dx = [-2,-2,-1,-1,1,1,2,2,-1,1,0,0]\n",
    "dy = [-1,1,-2,2,-2,2,-1,1,0,0,-1,1]\n",
    "answer = 50000 \n",
    "t_visit = [[50000] * m for _ in range(n)]\n",
    "t_visit[0][0] = 1\n",
    "bfs(0,0,0,0)\n",
    "print(answer) if (answer != 50000) else print(-1)"
   ]
  },
  {
   "cell_type": "code",
   "execution_count": null,
   "metadata": {},
   "outputs": [],
   "source": [
    "from collections import deque\n",
    "import sys\n",
    "input = sys.stdin.readline\n",
    "dx = [1, -1, 0, 0]\n",
    "dy = [0, 0, -1, 1]\n",
    "d1 = [-2, -1, 1, 2, 2, 1, -1, -2]\n",
    "d2 = [1, 2, 2, 1, -1, -2, -2, -1]\n",
    "def bfs():\n",
    "    q = deque()\n",
    "    q.append((0, 0, k))\n",
    "    visit = [[[0 for i in range(31)] for i in range(w)] for i in range(h)]\n",
    "    while q:\n",
    "        x, y, z = q.popleft()\n",
    "        if x == h - 1 and y == w - 1: return visit[x][y][z]\n",
    "        for i in range(4):\n",
    "            nx = x + dx[i]\n",
    "            ny = y + dy[i]\n",
    "            if 0 <= nx < h and 0 <= ny < w and s[nx][ny] != 1 and visit[nx][ny][z] == 0:\n",
    "                visit[nx][ny][z] = visit[x][y][z] + 1\n",
    "                q.append((nx, ny, z))\n",
    "        if z > 0:\n",
    "            for i in range(8):\n",
    "                nx = x + d1[i]\n",
    "                ny = y + d2[i]\n",
    "                if 0 <= nx < h and 0 <= ny < w and s[nx][ny] != 1 and visit[nx][ny][z - 1] == 0:\n",
    "                    visit[nx][ny][z - 1] = visit[x][y][z] + 1\n",
    "                    q.append((nx, ny, z - 1))\n",
    "    return -1\n",
    "k = int(input())\n",
    "w, h = map(int, input().split())\n",
    "s = [list(map(int, input().split())) for i in range(h)]\n",
    "print(bfs())"
   ]
  }
 ],
 "metadata": {
  "interpreter": {
   "hash": "53e059d21691b4acb4a64b9f63fef32a69804c1f4bf8b757b5579479fa8a32ee"
  },
  "kernelspec": {
   "display_name": "Python 3.7.2 64-bit",
   "language": "python",
   "name": "python3"
  },
  "language_info": {
   "name": "python",
   "version": "3.7.2"
  },
  "orig_nbformat": 4
 },
 "nbformat": 4,
 "nbformat_minor": 2
}
