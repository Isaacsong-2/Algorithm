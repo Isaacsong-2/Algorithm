{
 "cells": [
  {
   "cell_type": "code",
   "execution_count": 17,
   "metadata": {},
   "outputs": [],
   "source": [
    "n = int(input())\n",
    "li = [list(map(int,input().split())) for _ in range(n)]\n",
    "li.sort()"
   ]
  },
  {
   "cell_type": "code",
   "execution_count": 18,
   "metadata": {},
   "outputs": [
    {
     "name": "stdout",
     "output_type": "stream",
     "text": [
      "3\n",
      "3\n",
      "2\n",
      "1\n"
     ]
    }
   ],
   "source": [
    "seq = [0]\n",
    "dp = [0] * n\n",
    "ans = []\n",
    "maxVal = 0\n",
    "for i in range(n):\n",
    "    x = li[i][1]\n",
    "    if seq[-1] < x:\n",
    "        seq.append(x)\n",
    "        dp[i] = len(seq)-1\n",
    "        maxVal += 1\n",
    "    else:\n",
    "        left = 0\n",
    "        right = len(seq)-1\n",
    "        while(left<right):\n",
    "            mid = (left + right)//2\n",
    "            if seq[mid]<x:\n",
    "                left = mid+1\n",
    "            else:\n",
    "                right = mid\n",
    "        seq[right] = x\n",
    "        dp[i] = right\n",
    "for i in reversed(range(n)):\n",
    "    if dp[i] == maxVal:\n",
    "        maxVal -=1\n",
    "    else:\n",
    "        ans.append(li[i][0])\n",
    "\n",
    "print(len(ans))\n",
    "for i in ans:\n",
    "    print(i)"
   ]
  }
 ],
 "metadata": {
  "kernelspec": {
   "display_name": "Python 3.7.2 64-bit",
   "language": "python",
   "name": "python3"
  },
  "language_info": {
   "codemirror_mode": {
    "name": "ipython",
    "version": 3
   },
   "file_extension": ".py",
   "mimetype": "text/x-python",
   "name": "python",
   "nbconvert_exporter": "python",
   "pygments_lexer": "ipython3",
   "version": "3.7.2"
  },
  "orig_nbformat": 4,
  "vscode": {
   "interpreter": {
    "hash": "d75df686efc28afbc154e69ab3b02fa6abad8f31352f252b5de5b4a995eb825f"
   }
  }
 },
 "nbformat": 4,
 "nbformat_minor": 2
}
