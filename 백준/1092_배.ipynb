{
 "cells": [
  {
   "cell_type": "code",
   "execution_count": 46,
   "metadata": {},
   "outputs": [],
   "source": [
    "# n = int(input())\n",
    "# crain = list(map(int,input().split()))\n",
    "# m = int(input())\n",
    "# box = list(map(int,input().split()))"
   ]
  },
  {
   "cell_type": "code",
   "execution_count": null,
   "metadata": {},
   "outputs": [],
   "source": [
    "n = int(input())\n",
    "crane = list(map(int, input().split()))\n",
    "m = int(input())\n",
    "box = list(map(int, input().split()))\n",
    "\n",
    "# ⚡ 내림차순 정렬\n",
    "crane.sort(reverse = True)\n",
    "box.sort(reverse = True)\n",
    "\n",
    "time = 0 # 시간\n",
    "checked = [0 for _ in range(m)] # 박스를 옮겼는지 여부\n",
    "count = 0 # 옮긴 박스의 개수 \n",
    "\n",
    "positions = [0] * n\n",
    "\n",
    "if max(box) > max(crane):\n",
    "    print(-1)\n",
    "else:\n",
    "    while count < len(box):\n",
    "        for i in range(n): # 크레인에 대하여\n",
    "            while positions[i] < len(box):\n",
    "            # 아직 안 옮긴 박스 중에서, 옮길 수 있는 박스를 만날 때까지 반복\n",
    "                if not checked[positions[i]] and crane[i] >= box[positions[i]]:\n",
    "                    checked[positions[i]] = True\n",
    "                    positions[i] += 1\n",
    "                    count += 1\n",
    "                    break\n",
    "                positions[i] += 1\n",
    "        time += 1\n",
    "    print(time)   "
   ]
  },
  {
   "cell_type": "code",
   "execution_count": 47,
   "metadata": {},
   "outputs": [
    {
     "name": "stdout",
     "output_type": "stream",
     "text": [
      "[6, 5, 4, 3] 4\n",
      "[2, 1, 0, 0] 2\n",
      "[0, 0, 0, 0] 0\n",
      "3\n"
     ]
    }
   ],
   "source": [
    "# crain.sort(key=lambda x:-x)\n",
    "# box.sort()\n",
    "\n",
    "# sol = []\n",
    "# minus = n\n",
    "\n",
    "# for i in range(n):\n",
    "#     cnt = 0\n",
    "#     for j in range(m):\n",
    "#         if box[j]<=crain[i]:\n",
    "#             cnt += 1\n",
    "#     sol.append(cnt)\n",
    "#     if cnt == 0:\n",
    "#         minus -= 1\n",
    "\n",
    "# answer = 0\n",
    "# if sol[0] != m:\n",
    "#     print(-1)\n",
    "# else:\n",
    "#     while(sum(sol)):\n",
    "#         tmp = minus\n",
    "#         for i in range(n):\n",
    "#             if sol[i] - minus > 0:\n",
    "#                 sol[i] -= minus\n",
    "#             elif sol[i] == 0:\n",
    "#                 pass\n",
    "#             else:\n",
    "#                 sol[i] = 0\n",
    "#                 tmp -= 1\n",
    "#         minus = tmp\n",
    "#         answer += 1\n",
    "#         print(sol, minus)\n",
    "#     print(answer)"
   ]
  }
 ],
 "metadata": {
  "interpreter": {
   "hash": "d75df686efc28afbc154e69ab3b02fa6abad8f31352f252b5de5b4a995eb825f"
  },
  "kernelspec": {
   "display_name": "Python 3.7.2 64-bit",
   "language": "python",
   "name": "python3"
  },
  "language_info": {
   "codemirror_mode": {
    "name": "ipython",
    "version": 3
   },
   "file_extension": ".py",
   "mimetype": "text/x-python",
   "name": "python",
   "nbconvert_exporter": "python",
   "pygments_lexer": "ipython3",
   "version": "3.7.2"
  },
  "orig_nbformat": 4
 },
 "nbformat": 4,
 "nbformat_minor": 2
}
