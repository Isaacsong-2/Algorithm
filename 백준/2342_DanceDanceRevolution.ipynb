{
 "cells": [
  {
   "cell_type": "code",
   "execution_count": 1,
   "metadata": {},
   "outputs": [],
   "source": [
    "li = list(map(int,input().split()))"
   ]
  },
  {
   "cell_type": "code",
   "execution_count": 7,
   "metadata": {},
   "outputs": [
    {
     "name": "stdout",
     "output_type": "stream",
     "text": [
      "8\n"
     ]
    }
   ],
   "source": [
    "n = len(li)-1\n",
    "dp = [[[1000000]*5 for _ in range(5)] for _ in range(n)]\n",
    "dp[0][li[0]][0] = 2\n",
    "for i in range(1,n):\n",
    "    x = li[i]\n",
    "    for j in range(5):\n",
    "        dp[i][x][j] = min(dp[i][x][j], dp[i-1][0][j]+2)\n",
    "        dp[i][j][x] = min(dp[i][j][x], dp[i-1][j][0]+2)\n",
    "        for k in range(4):\n",
    "            if x+k>=5:\n",
    "                nx = (x+k)%5 +1\n",
    "            else:\n",
    "                nx = (x+k)%5\n",
    "            if k == 1 or k == 3:\n",
    "                dp[i][j][x] = min(dp[i][j][x], dp[i-1][j][nx]+3)\n",
    "                dp[i][x][j] = min(dp[i][x][j], dp[i-1][nx][j]+3)\n",
    "            elif k == 0:\n",
    "                dp[i][j][x] = min(dp[i][j][x], dp[i-1][j][nx]+1)\n",
    "                dp[i][x][j] = min(dp[i][x][j], dp[i-1][nx][j]+1)\n",
    "            else:\n",
    "                dp[i][j][x] = min(dp[i][j][x], dp[i-1][j][nx]+4)\n",
    "                dp[i][x][j] = min(dp[i][x][j], dp[i-1][nx][j]+4)\n",
    "ans = 1000000\n",
    "for i in range(5):\n",
    "    ans = min(ans, min(dp[n-1][i]))\n",
    "print(ans)\n"
   ]
  }
 ],
 "metadata": {
  "kernelspec": {
   "display_name": "Python 3",
   "language": "python",
   "name": "python3"
  },
  "language_info": {
   "codemirror_mode": {
    "name": "ipython",
    "version": 3
   },
   "file_extension": ".py",
   "mimetype": "text/x-python",
   "name": "python",
   "nbconvert_exporter": "python",
   "pygments_lexer": "ipython3",
   "version": "3.7.2"
  },
  "orig_nbformat": 4,
  "vscode": {
   "interpreter": {
    "hash": "d75df686efc28afbc154e69ab3b02fa6abad8f31352f252b5de5b4a995eb825f"
   }
  }
 },
 "nbformat": 4,
 "nbformat_minor": 2
}
