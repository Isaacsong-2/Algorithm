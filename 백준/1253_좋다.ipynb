{
 "cells": [
  {
   "cell_type": "code",
   "execution_count": 1,
   "metadata": {},
   "outputs": [],
   "source": [
    "n = int(input())\n",
    "li = list(map(int,input().split()))"
   ]
  },
  {
   "cell_type": "code",
   "execution_count": 17,
   "metadata": {},
   "outputs": [
    {
     "name": "stdout",
     "output_type": "stream",
     "text": [
      "12 1\n",
      "11 1\n",
      "10 1\n",
      "9 1\n",
      "8 1\n",
      "7 1\n",
      "6 1\n",
      "5 1\n",
      "\n",
      "\n",
      "11 2\n",
      "10 2\n",
      "9 2\n",
      "8 2\n",
      "7 2\n",
      "6 2\n",
      "5 2\n",
      "4 2\n",
      "\n",
      "\n",
      "11 3\n",
      "10 3\n",
      "9 3\n",
      "8 3\n",
      "7 3\n",
      "6 3\n",
      "5 3\n",
      "3 3\n",
      "\n",
      "\n",
      "11 4\n",
      "10 4\n",
      "9 4\n",
      "8 4\n",
      "7 4\n",
      "6 4\n",
      "4 4\n",
      "\n",
      "\n",
      "11 5\n",
      "10 5\n",
      "9 5\n",
      "8 5\n",
      "7 5\n",
      "5 5\n",
      "\n",
      "\n",
      "11 6\n",
      "10 6\n",
      "9 6\n",
      "8 6\n",
      "6 6\n",
      "\n",
      "\n",
      "11 7\n",
      "10 7\n",
      "9 7\n",
      "7 7\n",
      "\n",
      "\n",
      "11 8\n",
      "10 8\n",
      "8 8\n",
      "\n",
      "\n",
      "11 9\n",
      "9 9\n",
      "\n",
      "\n",
      "10 10\n",
      "\n",
      "\n",
      "8\n"
     ]
    },
    {
     "data": {
      "text/plain": [
       "' # 집합으로는 어렵다\\ntemp = set()\\nfor i in range(n):\\n    for j in range(i+1,n):\\n        temp.add(li[i]+li[j])\\nans = 0\\nfor i in range(n):\\n    if li[i] in temp:\\n        ans += 1\\nprint(ans)\\n'"
      ]
     },
     "execution_count": 17,
     "metadata": {},
     "output_type": "execute_result"
    }
   ],
   "source": [
    "# 투 포인터\n",
    "li.sort()\n",
    "ans = 0\n",
    "for i in range(n):\n",
    "    target = li[i]\n",
    "    ect = li[:i] + li[i+1:]\n",
    "    left, right = 0, n-2\n",
    "    while(left < right):\n",
    "        # print(ect[left]+ect[right], target)\n",
    "        if ect[left]+ect[right] == target:\n",
    "            ans += 1\n",
    "            break\n",
    "        elif ect[left]+ect[right] < target:\n",
    "            left += 1\n",
    "        else:\n",
    "            right -= 1\n",
    "    # print()\n",
    "    # print()\n",
    "print(ans)\n",
    "''' # 집합으로는 어렵다\n",
    "temp = set()\n",
    "for i in range(n):\n",
    "    for j in range(i+1,n):\n",
    "        temp.add(li[i]+li[j])\n",
    "ans = 0\n",
    "for i in range(n):\n",
    "    if li[i] in temp:\n",
    "        ans += 1\n",
    "print(ans)\n",
    "'''"
   ]
  }
 ],
 "metadata": {
  "interpreter": {
   "hash": "d75df686efc28afbc154e69ab3b02fa6abad8f31352f252b5de5b4a995eb825f"
  },
  "kernelspec": {
   "display_name": "Python 3.7.2 64-bit",
   "language": "python",
   "name": "python3"
  },
  "language_info": {
   "codemirror_mode": {
    "name": "ipython",
    "version": 3
   },
   "file_extension": ".py",
   "mimetype": "text/x-python",
   "name": "python",
   "nbconvert_exporter": "python",
   "pygments_lexer": "ipython3",
   "version": "3.7.2"
  },
  "orig_nbformat": 4
 },
 "nbformat": 4,
 "nbformat_minor": 2
}
