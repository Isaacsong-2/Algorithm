{
 "cells": [
  {
   "cell_type": "code",
   "execution_count": 11,
   "metadata": {},
   "outputs": [],
   "source": [
    "n, m = map(int,input().split())\n",
    "univ = [0] + list(map(str,input().split()))\n",
    "road = [list(map(int,input().split())) for _ in range(m)]"
   ]
  },
  {
   "cell_type": "code",
   "execution_count": 81,
   "metadata": {},
   "outputs": [
    {
     "name": "stdout",
     "output_type": "stream",
     "text": [
      "[[3, 4, 3], [4, 2, 5], [5, 2, 5], [5, 4, 7], [1, 3, 10], [2, 5, 10], [1, 2, 12]]\n",
      "[0, 1, 2, 3, 4, 2]\n",
      "[0, 1, 2, 3, 2, 2]\n",
      "[0, 1, 2, 1, 2, 2]\n",
      "[0, 1, 1, 1, 1, 1]\n",
      "34\n"
     ]
    }
   ],
   "source": [
    "def find(x):\n",
    "    if x != root[x]:\n",
    "        root[x] = find(root[x])\n",
    "    return root[x]\n",
    "road.sort(key=lambda x:x[2])\n",
    "root = [i for i in range(n+1)]\n",
    "sol = 0\n",
    "for u, v, d in road:\n",
    "    if univ[u] == univ[v]:\n",
    "        continue\n",
    "    ur = find(u)\n",
    "    uv = find(v)\n",
    "    if ur != uv:\n",
    "        if ur>uv:\n",
    "            temp = []\n",
    "            for i in range(1,n+1):\n",
    "                if root[i] == root[ur]:\n",
    "                    temp.append(i)\n",
    "            for i in temp:\n",
    "                root[i] = uv\n",
    "        else:\n",
    "            temp = []\n",
    "            for i in range(1,n+1):\n",
    "                if root[i] == root[uv]:\n",
    "                    temp.append(i)\n",
    "            for i in temp:\n",
    "                root[i] = ur\n",
    "        sol += d\n",
    "if sum(root) == n:\n",
    "    print(sol)\n",
    "else:\n",
    "    print(-1)"
   ]
  }
 ],
 "metadata": {
  "interpreter": {
   "hash": "53e059d21691b4acb4a64b9f63fef32a69804c1f4bf8b757b5579479fa8a32ee"
  },
  "kernelspec": {
   "display_name": "Python 3.7.2 64-bit",
   "language": "python",
   "name": "python3"
  },
  "language_info": {
   "codemirror_mode": {
    "name": "ipython",
    "version": 3
   },
   "file_extension": ".py",
   "mimetype": "text/x-python",
   "name": "python",
   "nbconvert_exporter": "python",
   "pygments_lexer": "ipython3",
   "version": "3.7.2"
  },
  "orig_nbformat": 4
 },
 "nbformat": 4,
 "nbformat_minor": 2
}
