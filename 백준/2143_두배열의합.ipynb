{
 "cells": [
  {
   "cell_type": "code",
   "execution_count": 18,
   "metadata": {},
   "outputs": [],
   "source": [
    "t = int(input())\n",
    "n = int(input())\n",
    "a = list(map(int,input().split()))\n",
    "m = int(input())\n",
    "b = list(map(int,input().split()))\n",
    "sum1 = []\n",
    "sum2 = []\n",
    "for i in range(n):\n",
    "    for j in range(i,n):\n",
    "        sum1.append(sum(a[i:j+1]))\n",
    "for i in range(m):\n",
    "    for j in range(i,m):\n",
    "        sum2.append(sum(b[i:j+1]))"
   ]
  },
  {
   "cell_type": "code",
   "execution_count": 29,
   "metadata": {},
   "outputs": [
    {
     "name": "stdout",
     "output_type": "stream",
     "text": [
      "[1, 1, 2, 3, 3, 4, 4, 5, 6, 7] [1, 2, 3, 4, 5, 6]\n",
      "7\n"
     ]
    }
   ],
   "source": [
    "import bisect\n",
    "\n",
    "sum1.sort()\n",
    "sum2.sort()\n",
    "ans = 0\n",
    "for i in range(len(sum1)):\n",
    "    left = bisect.bisect_left(sum2, t-sum1[i])\n",
    "    right = bisect.bisect_right(sum2, t-sum1[i])\n",
    "    ans += right-left\n",
    "print(ans)"
   ]
  }
 ],
 "metadata": {
  "kernelspec": {
   "display_name": "Python 3.7.2 64-bit",
   "language": "python",
   "name": "python3"
  },
  "language_info": {
   "codemirror_mode": {
    "name": "ipython",
    "version": 3
   },
   "file_extension": ".py",
   "mimetype": "text/x-python",
   "name": "python",
   "nbconvert_exporter": "python",
   "pygments_lexer": "ipython3",
   "version": "3.7.2"
  },
  "orig_nbformat": 4,
  "vscode": {
   "interpreter": {
    "hash": "d75df686efc28afbc154e69ab3b02fa6abad8f31352f252b5de5b4a995eb825f"
   }
  }
 },
 "nbformat": 4,
 "nbformat_minor": 2
}
