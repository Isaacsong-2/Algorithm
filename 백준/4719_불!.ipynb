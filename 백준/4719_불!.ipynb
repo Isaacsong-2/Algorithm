{
 "cells": [
  {
   "cell_type": "code",
   "execution_count": 51,
   "metadata": {},
   "outputs": [],
   "source": [
    "r, c = map(int,input().split())\n",
    "li = [list(input()) for _ in range(r)]"
   ]
  },
  {
   "cell_type": "code",
   "execution_count": 85,
   "metadata": {},
   "outputs": [
    {
     "name": "stdout",
     "output_type": "stream",
     "text": [
      "3\n"
     ]
    }
   ],
   "source": [
    "li =[['#', '#', '#', '#'], ['#', 'J', 'F', '#'], ['#', '.', '.', '#'], ['#', '.', '.', '#']]\n",
    "def bfs(x,y,sol):\n",
    "    global answer\n",
    "    f = []\n",
    "    for i in range(r):\n",
    "        for j in range(c):\n",
    "            if li[i][j] == 'F':\n",
    "                for k in range(4):\n",
    "                    nx = i + dx[k]\n",
    "                    ny = j + dy[k]\n",
    "                    if 0<=nx<r and 0<=ny<c:\n",
    "                        if li[nx][ny] == '.':\n",
    "                            f.append((nx,ny))\n",
    "    for i, j in f:\n",
    "        li[i][j] = 'F'\n",
    "    for i in range(4):\n",
    "        nx = x + dx[i]\n",
    "        ny = y + dy[i]\n",
    "        if 0<=nx<r and 0<=ny<c:\n",
    "            if visit[nx][ny] == 0 and li[nx][ny] == '.':\n",
    "                visit[nx][ny] = visit[x][y] + 1\n",
    "                bfs(nx,ny,sol+1)\n",
    "        else:\n",
    "            answer = min(sol,answer)\n",
    "            return\n",
    "    for i, j in f:\n",
    "        li[i][j] = '.'\n",
    "dx = [-1,1,0,0]\n",
    "dy = [0,0,-1,1]\n",
    "answer = 1000000\n",
    "visit = [[0]*c for _ in range(r)]\n",
    "for i in range(r):\n",
    "    for j in range(c):\n",
    "        if li[i][j] == 'J':\n",
    "            visit[i][j] = 1\n",
    "            li[i][j] = '.'\n",
    "            bfs(i,j,0)\n",
    "print(answer+1 if answer<1000000 else -1)\n"
   ]
  },
  {
   "cell_type": "code",
   "execution_count": 86,
   "metadata": {},
   "outputs": [
    {
     "name": "stdout",
     "output_type": "stream",
     "text": [
      "IMPOSSIBLE\n"
     ]
    }
   ],
   "source": [
    "#풀이참조\n",
    "from collections import deque\n",
    "def bfs():\n",
    "    global q, f\n",
    "    while q:\n",
    "        temp = deque()\n",
    "        while q:\n",
    "            x, y = q.popleft()\n",
    "            if (x == r - 1 or y == c - 1 or x == 0 or y == 0) and s[x][y] != \"F\": return s[x][y] + 1\n",
    "            for i in range(4):\n",
    "                nx = x + dx[i]\n",
    "                ny = y + dy[i]\n",
    "                if 0 <= nx < r and 0 <= ny < c and s[nx][ny] == \".\" and s[x][y] != \"F\":\n",
    "                    temp.append([nx, ny])\n",
    "                    s[nx][ny] = s[x][y] + 1\n",
    "        q = temp\n",
    "        if not q: break\n",
    "        temp = deque()\n",
    "        while f:\n",
    "            x, y = f.popleft()\n",
    "            for i in range(4):\n",
    "                nx = x + dx[i]\n",
    "                ny = y + dy[i]\n",
    "                if 0 <= nx < r and 0 <= ny < c and visit[nx][ny] == 0 and s[nx][ny] != \"#\":\n",
    "                    temp.append([nx, ny])\n",
    "                    visit[nx][ny] = 1\n",
    "                    s[nx][ny] = \"F\"\n",
    "        f = temp\n",
    "dx = [1, -1, 0, 0]\n",
    "dy = [0, 0, -1, 1]\n",
    "r, c = map(int, input().split())\n",
    "s = []\n",
    "q = deque()\n",
    "f = deque()\n",
    "visit = [[0] * c for i in range(r)]\n",
    "for i in range(r):\n",
    "    a = list(input().strip())\n",
    "    s.append(a)\n",
    "    for j in range(c):\n",
    "        if a[j] == \"J\":\n",
    "            q.append([i, j])\n",
    "            s[i][j] = 0\n",
    "        elif a[j] == \"F\":\n",
    "            f.append([i, j])\n",
    "            visit[i][j] = 1\n",
    "result = bfs()\n",
    "print(result if result != None else \"IMPOSSIBLE\")"
   ]
  }
 ],
 "metadata": {
  "interpreter": {
   "hash": "53e059d21691b4acb4a64b9f63fef32a69804c1f4bf8b757b5579479fa8a32ee"
  },
  "kernelspec": {
   "display_name": "Python 3.7.2 64-bit",
   "language": "python",
   "name": "python3"
  },
  "language_info": {
   "codemirror_mode": {
    "name": "ipython",
    "version": 3
   },
   "file_extension": ".py",
   "mimetype": "text/x-python",
   "name": "python",
   "nbconvert_exporter": "python",
   "pygments_lexer": "ipython3",
   "version": "3.7.2"
  },
  "orig_nbformat": 4
 },
 "nbformat": 4,
 "nbformat_minor": 2
}
