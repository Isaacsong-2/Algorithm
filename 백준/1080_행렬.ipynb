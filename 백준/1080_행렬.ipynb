{
 "cells": [
  {
   "cell_type": "code",
   "execution_count": null,
   "metadata": {},
   "outputs": [],
   "source": [
    "def reverse(x, y):\n",
    "    for i in range(x, x+3):\n",
    "        for j in range(y, y+3):\n",
    "          a[i][j] = 1 - a[i][j]\n",
    "\n",
    "def check():\n",
    "  for i in range(n):\n",
    "    for j in range(m):\n",
    "      if a[i][j] != b[i][j]:\n",
    "        return False\n",
    "  return True\n",
    "\n",
    "n, m = map(int, input().split())\n",
    "\n",
    "a = [list(map(int,list(input()))) for _ in range(n)]\n",
    "b = [list(map(int,list(input()))) for _ in range(n)]\n",
    "\n",
    "count = 0\n",
    "\n",
    "for i in range(n-2):\n",
    "  for j in range(m-2):\n",
    "    if a[i][j] != b[i][j]:\n",
    "      reverse(i, j)\n",
    "      count += 1\n",
    "\n",
    "print(count if check() else -1)\n"
   ]
  }
 ],
 "metadata": {
  "language_info": {
   "name": "python"
  },
  "orig_nbformat": 4
 },
 "nbformat": 4,
 "nbformat_minor": 2
}
