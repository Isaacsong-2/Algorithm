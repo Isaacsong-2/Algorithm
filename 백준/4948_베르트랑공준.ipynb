{
 "cells": [
  {
   "cell_type": "code",
   "execution_count": 2,
   "metadata": {},
   "outputs": [
    {
     "name": "stdout",
     "output_type": "stream",
     "text": [
      "1\n",
      "4\n",
      "3\n",
      "21\n",
      "135\n",
      "1033\n",
      "8392\n"
     ]
    }
   ],
   "source": [
    "k = 300000\n",
    "visit = [0] * k\n",
    "prime = []\n",
    "for i in range(2,k):\n",
    "    if visit[i] == 0:\n",
    "        for j in range(i,k,i):\n",
    "            visit[j] = 1\n",
    "        prime.append(i)\n",
    "while(1):\n",
    "    n = int(input())\n",
    "    if n==0:\n",
    "        break\n",
    "    cnt = 0\n",
    "    for i in prime:\n",
    "        if n < i <= 2*n:\n",
    "            cnt += 1\n",
    "    print(cnt)\n",
    "    "
   ]
  }
 ],
 "metadata": {
  "interpreter": {
   "hash": "53e059d21691b4acb4a64b9f63fef32a69804c1f4bf8b757b5579479fa8a32ee"
  },
  "kernelspec": {
   "display_name": "Python 3.7.2 64-bit",
   "language": "python",
   "name": "python3"
  },
  "language_info": {
   "codemirror_mode": {
    "name": "ipython",
    "version": 3
   },
   "file_extension": ".py",
   "mimetype": "text/x-python",
   "name": "python",
   "nbconvert_exporter": "python",
   "pygments_lexer": "ipython3",
   "version": "3.7.2"
  },
  "orig_nbformat": 4
 },
 "nbformat": 4,
 "nbformat_minor": 2
}
