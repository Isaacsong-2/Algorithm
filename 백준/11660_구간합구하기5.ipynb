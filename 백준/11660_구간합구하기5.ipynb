{
 "cells": [
  {
   "cell_type": "code",
   "execution_count": 9,
   "metadata": {},
   "outputs": [],
   "source": [
    "# import sys\n",
    "# input = sys.stdin.readline\n",
    "n,m = map(int,input().split())\n",
    "li = [list(map(int,input().split())) for _ in range(n)]"
   ]
  },
  {
   "cell_type": "code",
   "execution_count": 8,
   "metadata": {},
   "outputs": [
    {
     "name": "stdout",
     "output_type": "stream",
     "text": [
      "1\n",
      "2\n",
      "3\n",
      "4\n"
     ]
    }
   ],
   "source": [
    "#시간초과\n",
    "# board = [[0] * (n+1) for _ in range(n+1)]\n",
    "# for i in range(n):\n",
    "#     sum = 0\n",
    "#     for j in range(n):\n",
    "#         sum += li[i][j]\n",
    "#         board[i+1][j+1] = sum\n",
    "# for _ in range(m):\n",
    "#     x1, y1, x2, y2 = map(int,input().split())\n",
    "#     ans = 0\n",
    "#     for i in range(x1,x2+1):\n",
    "#         ans += board[i][y2] - board[i][y1-1]\n",
    "#     print(ans)"
   ]
  },
  {
   "cell_type": "code",
   "execution_count": 12,
   "metadata": {},
   "outputs": [
    {
     "name": "stdout",
     "output_type": "stream",
     "text": [
      "[[0, 0, 0, 0, 0], [0, 1, 3, 6, 10], [0, 3, 8, 15, 24], [0, 6, 15, 27, 42], [0, 10, 24, 42, 64]]\n",
      "27\n",
      "6\n",
      "64\n"
     ]
    }
   ],
   "source": [
    "board = [[0] * (n+1) for _ in range(n+1)]\n",
    "for i in range(1,n+1):\n",
    "    for j in range(1,n+1):\n",
    "        board[i][j] = board[i-1][j] + board[i][j-1] - board[i-1][j-1] + li[i-1][j-1]\n",
    "for _ in range(m):\n",
    "    x1, y1, x2, y2 = map(int,input().split())\n",
    "    print(board[x2][y2]-board[x2][y1-1]-board[x1-1][y2]+board[x1-1][y1-1])"
   ]
  }
 ],
 "metadata": {
  "kernelspec": {
   "display_name": "Python 3.7.2 64-bit",
   "language": "python",
   "name": "python3"
  },
  "language_info": {
   "codemirror_mode": {
    "name": "ipython",
    "version": 3
   },
   "file_extension": ".py",
   "mimetype": "text/x-python",
   "name": "python",
   "nbconvert_exporter": "python",
   "pygments_lexer": "ipython3",
   "version": "3.7.2"
  },
  "orig_nbformat": 4,
  "vscode": {
   "interpreter": {
    "hash": "d75df686efc28afbc154e69ab3b02fa6abad8f31352f252b5de5b4a995eb825f"
   }
  }
 },
 "nbformat": 4,
 "nbformat_minor": 2
}
