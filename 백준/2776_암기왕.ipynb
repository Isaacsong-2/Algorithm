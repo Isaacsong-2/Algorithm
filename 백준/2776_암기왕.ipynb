{
 "cells": [
  {
   "cell_type": "code",
   "execution_count": 1,
   "metadata": {},
   "outputs": [],
   "source": [
    "t = int(input())\n",
    "for i in range(t):\n",
    "    n = int(input())\n",
    "    note1 = list(map(int,input().split()))\n",
    "    m = int(input())\n",
    "    note2 = list(map(int,input().split()))\n",
    "    temp = set(note1)\n",
    "    for num in note2:\n",
    "        if num in temp:\n",
    "            print(1)\n",
    "        else:\n",
    "            print(0)"
   ]
  },
  {
   "cell_type": "code",
   "execution_count": 16,
   "metadata": {},
   "outputs": [
    {
     "name": "stdout",
     "output_type": "stream",
     "text": [
      "1\n",
      "1\n",
      "0\n",
      "0\n",
      "1\n"
     ]
    }
   ],
   "source": [
    "def bin_search(num):\n",
    "    start = 0\n",
    "    end = n\n",
    "    while(start<=end):\n",
    "        mid = (start+end)//2\n",
    "        if note1[mid] == num:\n",
    "            return 1\n",
    "        elif note1[mid] < num:\n",
    "            if start == mid:\n",
    "                return 0\n",
    "            start = mid\n",
    "        else:\n",
    "            if end == mid:\n",
    "                return 0\n",
    "            end = mid\n",
    "    return 0\n",
    "\n",
    "t = int(input())\n",
    "for i in range(t):\n",
    "    n = int(input())\n",
    "    note1 = list(map(int,input().split()))\n",
    "    note1.sort()\n",
    "\n",
    "    m = int(input())\n",
    "    note2 = list(map(int,input().split()))\n",
    "    # n,note1,m,note2=5,[1,2,3,4,5],5,[1,3,7,9,5]\n",
    "    for num in note2:\n",
    "        print(bin_search(num))\n",
    "\n"
   ]
  }
 ],
 "metadata": {
  "interpreter": {
   "hash": "d75df686efc28afbc154e69ab3b02fa6abad8f31352f252b5de5b4a995eb825f"
  },
  "kernelspec": {
   "display_name": "Python 3.7.2 64-bit",
   "language": "python",
   "name": "python3"
  },
  "language_info": {
   "codemirror_mode": {
    "name": "ipython",
    "version": 3
   },
   "file_extension": ".py",
   "mimetype": "text/x-python",
   "name": "python",
   "nbconvert_exporter": "python",
   "pygments_lexer": "ipython3",
   "version": "3.7.2"
  },
  "orig_nbformat": 4
 },
 "nbformat": 4,
 "nbformat_minor": 2
}
