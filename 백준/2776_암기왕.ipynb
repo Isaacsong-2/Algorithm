{
 "cells": [
  {
   "cell_type": "code",
   "execution_count": 1,
   "metadata": {},
   "outputs": [],
   "source": [
    "t = int(input())\n",
    "for i in range(t):\n",
    "    n = int(input())\n",
    "    note1 = list(map(int,input().split()))\n",
    "    m = int(input())\n",
    "    note2 = list(map(int,input().split()))\n",
    "    temp = set(note1)\n",
    "    for num in note2:\n",
    "        if num in temp:\n",
    "            print(1)\n",
    "        else:\n",
    "            print(0)"
   ]
  }
 ],
 "metadata": {
  "interpreter": {
   "hash": "d75df686efc28afbc154e69ab3b02fa6abad8f31352f252b5de5b4a995eb825f"
  },
  "kernelspec": {
   "display_name": "Python 3.7.2 64-bit",
   "language": "python",
   "name": "python3"
  },
  "language_info": {
   "codemirror_mode": {
    "name": "ipython",
    "version": 3
   },
   "file_extension": ".py",
   "mimetype": "text/x-python",
   "name": "python",
   "nbconvert_exporter": "python",
   "pygments_lexer": "ipython3",
   "version": "3.7.2"
  },
  "orig_nbformat": 4
 },
 "nbformat": 4,
 "nbformat_minor": 2
}
