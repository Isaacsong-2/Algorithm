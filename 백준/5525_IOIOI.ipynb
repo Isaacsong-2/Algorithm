{
 "cells": [
  {
   "cell_type": "code",
   "execution_count": 8,
   "metadata": {},
   "outputs": [],
   "source": [
    "n = int(input())\n",
    "m = int(input())\n",
    "s = str(input())"
   ]
  },
  {
   "cell_type": "code",
   "execution_count": 13,
   "metadata": {},
   "outputs": [
    {
     "name": "stdout",
     "output_type": "stream",
     "text": [
      "2\n"
     ]
    }
   ],
   "source": [
    "# 시간초과\n",
    "# ioi = \"IO\"*n + \"I\"\n",
    "# sol = 0\n",
    "# for i in range(m-2*n):\n",
    "#     print(s[i:i+2*n+1])\n",
    "#     if s[i:i+2*n+1] == ioi:\n",
    "#         sol += 1\n",
    "# print(sol)\n",
    "cnt = 0\n",
    "sol = 0\n",
    "arr = []\n",
    "for i in range(m):\n",
    "    if s[i] == 'I':\n",
    "        arr.append(i)\n",
    "for i in range(1,len(arr)):\n",
    "    if arr[i] - arr[i-1] == 2:\n",
    "        cnt += 1\n",
    "    else:\n",
    "        cnt = 0\n",
    "    if cnt >= n:\n",
    "        sol += 1\n",
    "print(sol)"
   ]
  }
 ],
 "metadata": {
  "interpreter": {
   "hash": "53e059d21691b4acb4a64b9f63fef32a69804c1f4bf8b757b5579479fa8a32ee"
  },
  "kernelspec": {
   "display_name": "Python 3.7.2 64-bit",
   "language": "python",
   "name": "python3"
  },
  "language_info": {
   "codemirror_mode": {
    "name": "ipython",
    "version": 3
   },
   "file_extension": ".py",
   "mimetype": "text/x-python",
   "name": "python",
   "nbconvert_exporter": "python",
   "pygments_lexer": "ipython3",
   "version": "3.7.2"
  },
  "orig_nbformat": 4
 },
 "nbformat": 4,
 "nbformat_minor": 2
}
