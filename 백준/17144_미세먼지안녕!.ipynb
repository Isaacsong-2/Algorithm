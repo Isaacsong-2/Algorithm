{
 "cells": [
  {
   "cell_type": "code",
   "execution_count": 28,
   "metadata": {},
   "outputs": [
    {
     "ename": "ValueError",
     "evalue": "not enough values to unpack (expected 3, got 0)",
     "output_type": "error",
     "traceback": [
      "\u001b[1;31m---------------------------------------------------------------------------\u001b[0m",
      "\u001b[1;31mValueError\u001b[0m                                Traceback (most recent call last)",
      "\u001b[1;32m~\\AppData\\Local\\Temp/ipykernel_17904/4256641921.py\u001b[0m in \u001b[0;36m<module>\u001b[1;34m\u001b[0m\n\u001b[1;32m----> 1\u001b[1;33m \u001b[0mr\u001b[0m\u001b[1;33m,\u001b[0m\u001b[0mc\u001b[0m\u001b[1;33m,\u001b[0m\u001b[0mt\u001b[0m \u001b[1;33m=\u001b[0m \u001b[0mmap\u001b[0m\u001b[1;33m(\u001b[0m\u001b[0mint\u001b[0m\u001b[1;33m,\u001b[0m\u001b[0minput\u001b[0m\u001b[1;33m(\u001b[0m\u001b[1;33m)\u001b[0m\u001b[1;33m.\u001b[0m\u001b[0msplit\u001b[0m\u001b[1;33m(\u001b[0m\u001b[1;33m)\u001b[0m\u001b[1;33m)\u001b[0m\u001b[1;33m\u001b[0m\u001b[1;33m\u001b[0m\u001b[0m\n\u001b[0m\u001b[0;32m      2\u001b[0m \u001b[0mli\u001b[0m \u001b[1;33m=\u001b[0m \u001b[1;33m[\u001b[0m\u001b[0mlist\u001b[0m\u001b[1;33m(\u001b[0m\u001b[0mmap\u001b[0m\u001b[1;33m(\u001b[0m\u001b[0mint\u001b[0m\u001b[1;33m,\u001b[0m\u001b[0minput\u001b[0m\u001b[1;33m(\u001b[0m\u001b[1;33m)\u001b[0m\u001b[1;33m.\u001b[0m\u001b[0msplit\u001b[0m\u001b[1;33m(\u001b[0m\u001b[1;33m)\u001b[0m\u001b[1;33m)\u001b[0m\u001b[1;33m)\u001b[0m \u001b[1;32mfor\u001b[0m \u001b[0m_\u001b[0m \u001b[1;32min\u001b[0m \u001b[0mrange\u001b[0m\u001b[1;33m(\u001b[0m\u001b[0mr\u001b[0m\u001b[1;33m)\u001b[0m\u001b[1;33m]\u001b[0m\u001b[1;33m\u001b[0m\u001b[1;33m\u001b[0m\u001b[0m\n",
      "\u001b[1;31mValueError\u001b[0m: not enough values to unpack (expected 3, got 0)"
     ]
    }
   ],
   "source": [
    "r,c,t = map(int,input().split())\n",
    "li = [list(map(int,input().split())) for _ in range(r)]"
   ]
  },
  {
   "cell_type": "code",
   "execution_count": 34,
   "metadata": {},
   "outputs": [
    {
     "name": "stdout",
     "output_type": "stream",
     "text": [
      "71\n"
     ]
    }
   ],
   "source": [
    "# li = [[0, 0, 0, 0, 0, 0, 0, 9], [0, 0, 0, 0, 3, 0, 0, 8], [-1, 0, 5, 0, 0, 0, 22, 0], [-1, 8, 0, 0, 0, 0, 0, 0], [0, 0, 0, 0, 0, 10, 43, 0], [0, 0, 5, 0, 15, 0, 0, 0], [0, 0, 40, 0, 0, 0, 20, 0]]\n",
    "# r,c,t = 7,8,20\n",
    "def dust(x,y):\n",
    "    cnt = 0\n",
    "    for i in range(4):\n",
    "        nx = x+dx[i]\n",
    "        ny = y+dy[i]\n",
    "        if 0<=nx<r and 0<=ny<c:\n",
    "            if li[nx][ny] != -1:\n",
    "                tmp[nx][ny] += li[x][y]//5\n",
    "                cnt += 1\n",
    "    tmp[x][y] -= (li[x][y]//5)*cnt\n",
    "def fresh():\n",
    "    for i in range(air-2,-1,-1):\n",
    "        li[i+1][0] = li[i][0]\n",
    "    for i in range(air+2,r-1):\n",
    "        li[i][0] = li[i+1][0]\n",
    "    for i in range(c-1):\n",
    "        li[0][i] = li[0][i+1]\n",
    "        li[r-1][i] = li[r-1][i+1]\n",
    "    for i in range(air):\n",
    "        li[i][c-1] = li[i+1][c-1]\n",
    "    for i in range(r-2,air,-1):\n",
    "        li[i+1][c-1] = li[i][c-1]\n",
    "    for i in range(c-2,0,-1):\n",
    "        li[air][i+1] = li[air][i]\n",
    "        li[air+1][i+1] = li[air+1][i]\n",
    "    li[air][1] = 0\n",
    "    li[air+1][1] = 0\n",
    "for i in range(2,r-2):\n",
    "    if li[i][0] == -1:\n",
    "        air = i\n",
    "        break\n",
    "dx = [-1,1,0,0]\n",
    "dy = [0,0,-1,1]\n",
    "for i in range(t):\n",
    "    tmp = [[0] * c for _ in range(r)]\n",
    "    for j in range(r):\n",
    "        for k in range(c):\n",
    "            if li[j][k] > 0:\n",
    "                dust(j,k)\n",
    "    for j in range(r):\n",
    "        for k in range(c):\n",
    "            li[j][k] += tmp[j][k]\n",
    "    fresh()\n",
    "sol = 0\n",
    "for i in range(r):\n",
    "    sol += sum(li[i])\n",
    "print(sol+2)\n"
   ]
  }
 ],
 "metadata": {
  "interpreter": {
   "hash": "53e059d21691b4acb4a64b9f63fef32a69804c1f4bf8b757b5579479fa8a32ee"
  },
  "kernelspec": {
   "display_name": "Python 3.7.2 64-bit",
   "language": "python",
   "name": "python3"
  },
  "language_info": {
   "codemirror_mode": {
    "name": "ipython",
    "version": 3
   },
   "file_extension": ".py",
   "mimetype": "text/x-python",
   "name": "python",
   "nbconvert_exporter": "python",
   "pygments_lexer": "ipython3",
   "version": "3.7.2"
  },
  "orig_nbformat": 4
 },
 "nbformat": 4,
 "nbformat_minor": 2
}
