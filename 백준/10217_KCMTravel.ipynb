{
 "cells": [
  {
   "cell_type": "code",
   "execution_count": 185,
   "metadata": {},
   "outputs": [
    {
     "name": "stdout",
     "output_type": "stream",
     "text": [
      "2\n",
      "Poor KCM\n"
     ]
    }
   ],
   "source": [
    "import heapq\n",
    "def dijkstra(x):\n",
    "    heap = []\n",
    "    heapq.heappush(heap,(0,x,0))\n",
    "    while(heap):\n",
    "        distance, x, cost = heapq.heappop(heap)\n",
    "        if distance > dp[cost][x]:\n",
    "            continue\n",
    "        for d,nx,c in li[x]:\n",
    "            if cost + c <= m and distance+d < dp[cost+c][nx]:\n",
    "                for i in range(c+cost, m+1):\n",
    "                    if dp[i][nx] > distance+d:\n",
    "                        dp[i][nx] = distance+d\n",
    "                    else:\n",
    "                        break\n",
    "                heapq.heappush(heap,(distance+d,nx,cost+c))\n",
    "t = int(input())\n",
    "for i in range(t):\n",
    "    n,m,k = map(int,input().split())\n",
    "    li = [[] for _ in range(n+1)]\n",
    "    for i in range(k):\n",
    "        u, v, c, d = map(int,input().split())\n",
    "        li[u].append((d,v,c))\n",
    "    dp = [[1000000]* (n+1) for _ in range(m+1)]\n",
    "    dijkstra(1)\n",
    "    print(dp[m][n] if dp[m][n]<1000000 else \"Poor KCM\")"
   ]
  }
 ],
 "metadata": {
  "interpreter": {
   "hash": "53e059d21691b4acb4a64b9f63fef32a69804c1f4bf8b757b5579479fa8a32ee"
  },
  "kernelspec": {
   "display_name": "Python 3.7.2 64-bit",
   "language": "python",
   "name": "python3"
  },
  "language_info": {
   "codemirror_mode": {
    "name": "ipython",
    "version": 3
   },
   "file_extension": ".py",
   "mimetype": "text/x-python",
   "name": "python",
   "nbconvert_exporter": "python",
   "pygments_lexer": "ipython3",
   "version": "3.7.2"
  },
  "orig_nbformat": 4
 },
 "nbformat": 4,
 "nbformat_minor": 2
}
