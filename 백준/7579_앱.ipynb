{
 "cells": [
  {
   "cell_type": "code",
   "execution_count": 77,
   "metadata": {},
   "outputs": [],
   "source": [
    "n,m = map(int,input().split())\n",
    "mem = list(map(int,input().split()))\n",
    "cost = list(map(int,input().split()))"
   ]
  },
  {
   "cell_type": "code",
   "execution_count": 80,
   "metadata": {},
   "outputs": [
    {
     "name": "stdout",
     "output_type": "stream",
     "text": [
      "484\n"
     ]
    }
   ],
   "source": [
    "dp = [[-1] * (sum(cost)+1) for _ in range(n)]\n",
    "dp[0][cost[0]] = mem[0]\n",
    "for i in range(1,n):\n",
    "    M, C = mem[i], cost[i]\n",
    "    dp[i][C] = M\n",
    "    for j in range(sum(cost)+1):\n",
    "        if dp[i-1][j] != -1:\n",
    "            dp[i][j] = max(dp[i-1][j],dp[i][j])\n",
    "            dp[i][j+C] = max(dp[i-1][j] + M, dp[i][j+C])\n",
    "for i in range(sum(cost)+1):\n",
    "    if dp[n-1][i] >= m:\n",
    "        print(i)\n",
    "        break"
   ]
  }
 ],
 "metadata": {
  "kernelspec": {
   "display_name": "Python 3.7.2 64-bit",
   "language": "python",
   "name": "python3"
  },
  "language_info": {
   "codemirror_mode": {
    "name": "ipython",
    "version": 3
   },
   "file_extension": ".py",
   "mimetype": "text/x-python",
   "name": "python",
   "nbconvert_exporter": "python",
   "pygments_lexer": "ipython3",
   "version": "3.7.2"
  },
  "orig_nbformat": 4,
  "vscode": {
   "interpreter": {
    "hash": "d75df686efc28afbc154e69ab3b02fa6abad8f31352f252b5de5b4a995eb825f"
   }
  }
 },
 "nbformat": 4,
 "nbformat_minor": 2
}
