{
 "cells": [
  {
   "cell_type": "code",
   "execution_count": 43,
   "metadata": {},
   "outputs": [],
   "source": [
    "n, e = map(int,input().split())\n",
    "li = [[] for _ in range(n+1)]\n",
    "for i in range(e):\n",
    "    a,b,w = map(int,input().split())\n",
    "    li[a].append((w,b))\n",
    "    li[b].append((w,a))\n",
    "v1, v2 = map(int,input().split())"
   ]
  },
  {
   "cell_type": "code",
   "execution_count": 44,
   "metadata": {},
   "outputs": [
    {
     "name": "stdout",
     "output_type": "stream",
     "text": [
      "-1\n"
     ]
    }
   ],
   "source": [
    "import heapq\n",
    "def bfs(x):\n",
    "    heap = []\n",
    "    visit = [10000000000] * (n+1)\n",
    "    heapq.heappush(heap,(0,x))\n",
    "    visit[x] = 0\n",
    "    while(heap):\n",
    "        cur, x = heapq.heappop(heap)\n",
    "        if visit[n] < cur:\n",
    "            continue\n",
    "        for w, nx in li[x]:\n",
    "            if cur + w < visit[nx]:\n",
    "                heapq.heappush(heap,(cur+w,nx))\n",
    "                visit[nx] = cur + w\n",
    "    return visit\n",
    "start = bfs(1)\n",
    "V1 = bfs(v1)\n",
    "V2 = bfs(v2)\n",
    "sol = min(start[v1] + V1[v2]+ V2[n], start[v2] + V2[v1] + V1[n])\n",
    "print(sol if sol < 10000000000 else -1)"
   ]
  }
 ],
 "metadata": {
  "interpreter": {
   "hash": "53e059d21691b4acb4a64b9f63fef32a69804c1f4bf8b757b5579479fa8a32ee"
  },
  "kernelspec": {
   "display_name": "Python 3.7.2 64-bit",
   "language": "python",
   "name": "python3"
  },
  "language_info": {
   "codemirror_mode": {
    "name": "ipython",
    "version": 3
   },
   "file_extension": ".py",
   "mimetype": "text/x-python",
   "name": "python",
   "nbconvert_exporter": "python",
   "pygments_lexer": "ipython3",
   "version": "3.7.2"
  },
  "orig_nbformat": 4
 },
 "nbformat": 4,
 "nbformat_minor": 2
}
