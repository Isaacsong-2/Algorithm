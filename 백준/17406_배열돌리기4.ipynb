{
 "cells": [
  {
   "cell_type": "code",
   "execution_count": 1,
   "metadata": {},
   "outputs": [],
   "source": [
    "n, m, k = map(int,input().split())\n",
    "arr = [list(map(int,input().split())) for _ in range(n)]\n",
    "r = []\n",
    "c = []\n",
    "s = []\n",
    "for i in range(k):\n",
    "    temp = list(map(int,input().split()))\n",
    "    r.append(temp[0])\n",
    "    c.append(temp[1])\n",
    "    s.append(temp[2])"
   ]
  },
  {
   "cell_type": "code",
   "execution_count": 14,
   "metadata": {},
   "outputs": [
    {
     "name": "stdout",
     "output_type": "stream",
     "text": [
      "12\n"
     ]
    }
   ],
   "source": [
    "def value(li):\n",
    "    m = 100000\n",
    "    for i in range(n):\n",
    "        temp = sum(li[i])\n",
    "        m = min(temp,m)\n",
    "    return m\n",
    "def turn(li,r,c,s):\n",
    "    for i in range(1,s+1):\n",
    "        temp = li[r-i][c-i]\n",
    "        for j in range(8*i):\n",
    "            if j//(2*i) == 0:\n",
    "                temp2 = li[r-i][c-i+j+1]\n",
    "                li[r-i][c-i+j+1] = temp\n",
    "                temp = temp2\n",
    "            if j//(2*i) == 1:\n",
    "                temp2 = li[r-i+j%(2*i)+1][c+i]\n",
    "                li[r-i+j%(2*i)+1][c+i] = temp\n",
    "                temp = temp2\n",
    "            if j//(2*i) == 2:\n",
    "                temp2 = li[r+i][c+i-j%(2*i)-1]\n",
    "                li[r+i][c+i-j%(2*i)-1] = temp\n",
    "                temp = temp2\n",
    "            if j//(2*i) == 3:\n",
    "                temp2 = li[r+i-j%(2*i)-1][c-i]\n",
    "                li[r+i-j%(2*i)-1][c-i] = temp\n",
    "                temp = temp2\n",
    "    # for t in range(len(li)):\n",
    "    #     print(*li[t])\n",
    "\n",
    "import copy\n",
    "from itertools import permutations\n",
    "\n",
    "# turn(li,3-1,4-1,2)\n",
    "\n",
    "순서 = list(_ for _ in range(k))\n",
    "순서 = list(permutations(순서))\n",
    "min_v = 10000\n",
    "for i in 순서:\n",
    "    li = copy.deepcopy(arr)\n",
    "    for j in i:\n",
    "        turn(li,r[j]-1,c[j]-1,s[j])\n",
    "    min_v = min(value(li),min_v)\n",
    "print(min_v)\n",
    "        "
   ]
  },
  {
   "cell_type": "code",
   "execution_count": null,
   "metadata": {},
   "outputs": [],
   "source": [
    "from itertools import permutations\n",
    "from copy import deepcopy\n",
    "\n",
    "N, M, K = map(int, input().split())\n",
    "a = [list(map(int, input().split())) for _ in range(N)]\n",
    "rcs = [list(map(int, input().split())) for _ in range(K)]\n",
    "\n",
    "ans = 987654321\n",
    "\n",
    "# 1. 회전 순서 정하기 (최대 6!=720)\n",
    "for p in permutations(rcs, K):\n",
    "    # 2. 회전\n",
    "    copy_a = deepcopy(a)  # 원본리스트 카피\n",
    "    for r, c, s in p:\n",
    "        r -= 1\n",
    "        c -= 1\n",
    "        for n in range(s, 0, -1):\n",
    "            tmp = copy_a[r-n][c+n]\n",
    "            copy_a[r-n][c-n+1:c+n+1] = copy_a[r-n][c-n:c+n]  # ->\n",
    "            for row in range(r-n, r+n):  # ↑\n",
    "                copy_a[row][c-n] = copy_a[row+1][c-n]\n",
    "            copy_a[r+n][c-n:c+n] = copy_a[r+n][c-n+1:c+n+1]  # <-\n",
    "            for row in range(r+n, r-n, -1):  # ↓\n",
    "                copy_a[row][c+n] = copy_a[row-1][c+n]\n",
    "            copy_a[r-n+1][c+n] = tmp\n",
    "\n",
    "    # 3. 각 행의 최소값 찾기\n",
    "    for row in copy_a:\n",
    "        ans = min(ans, sum(row))\n",
    "\n",
    "print(ans)"
   ]
  }
 ],
 "metadata": {
  "interpreter": {
   "hash": "53e059d21691b4acb4a64b9f63fef32a69804c1f4bf8b757b5579479fa8a32ee"
  },
  "kernelspec": {
   "display_name": "Python 3.7.2 64-bit",
   "language": "python",
   "name": "python3"
  },
  "language_info": {
   "codemirror_mode": {
    "name": "ipython",
    "version": 3
   },
   "file_extension": ".py",
   "mimetype": "text/x-python",
   "name": "python",
   "nbconvert_exporter": "python",
   "pygments_lexer": "ipython3",
   "version": "3.7.2"
  },
  "orig_nbformat": 4
 },
 "nbformat": 4,
 "nbformat_minor": 2
}
