{
 "cells": [
  {
   "cell_type": "code",
   "execution_count": 13,
   "metadata": {},
   "outputs": [],
   "source": [
    "s = int(input())"
   ]
  },
  {
   "cell_type": "code",
   "execution_count": 21,
   "metadata": {},
   "outputs": [
    {
     "name": "stdout",
     "output_type": "stream",
     "text": [
      "21\n"
     ]
    }
   ],
   "source": [
    "from collections import deque\n",
    "\n",
    "visit = [[5000] * (s+1) for _ in range(s+1)]\n",
    "queue = deque([(1,0,0)])\n",
    "visit[1][0] = 0\n",
    "while(queue):\n",
    "    display, board, ans = queue.popleft()\n",
    "    if display == s:\n",
    "        print(ans)\n",
    "        break\n",
    "    if display<=s and visit[display][display] > ans+1:\n",
    "        queue.append((display,display,ans+1))\n",
    "        visit[display][display] = ans+1\n",
    "    if display+board <= s and visit[display+board][board] > ans+1:\n",
    "        queue.append((display+board,board,ans+1))\n",
    "        visit[display+board][board] = ans+1\n",
    "    if display>1 and visit[display-1][board] > ans+1:\n",
    "        queue.append((display-1,board,ans+1))\n",
    "        visit[display-1][board] = ans+1"
   ]
  }
 ],
 "metadata": {
  "kernelspec": {
   "display_name": "Python 3",
   "language": "python",
   "name": "python3"
  },
  "language_info": {
   "codemirror_mode": {
    "name": "ipython",
    "version": 3
   },
   "file_extension": ".py",
   "mimetype": "text/x-python",
   "name": "python",
   "nbconvert_exporter": "python",
   "pygments_lexer": "ipython3",
   "version": "3.7.2"
  },
  "orig_nbformat": 4,
  "vscode": {
   "interpreter": {
    "hash": "d75df686efc28afbc154e69ab3b02fa6abad8f31352f252b5de5b4a995eb825f"
   }
  }
 },
 "nbformat": 4,
 "nbformat_minor": 2
}
