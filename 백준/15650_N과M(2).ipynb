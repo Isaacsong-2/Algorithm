{
 "cells": [
  {
   "cell_type": "code",
   "execution_count": null,
   "metadata": {},
   "outputs": [],
   "source": [
    "n, m = map(int, input().split())\n",
    "arr = []\n",
    "visit = [0] * (n+1)\n",
    "cnt = 0\n",
    "def back(idx):\n",
    "    global arr\n",
    "    if idx==m:\n",
    "        for i in range(len(arr)):\n",
    "            print(arr[i], end = \" \")\n",
    "        print()\n",
    "        return\n",
    "    for i in range(1, n+1):\n",
    "        if arr:\n",
    "            if visit[i] == 1 or i < arr[-1]:\n",
    "                continue\n",
    "        arr.append(i)\n",
    "        visit[i] = 1\n",
    "        back(idx+1)\n",
    "        arr.pop()\n",
    "        visit[i] = 0\n",
    "back(0)"
   ]
  }
 ],
 "metadata": {
  "language_info": {
   "name": "python"
  },
  "orig_nbformat": 4
 },
 "nbformat": 4,
 "nbformat_minor": 2
}
