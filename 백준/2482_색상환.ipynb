{
 "cells": [
  {
   "cell_type": "code",
   "execution_count": 3,
   "metadata": {},
   "outputs": [],
   "source": [
    "n = int(input())\n",
    "k = int(input())"
   ]
  },
  {
   "cell_type": "code",
   "execution_count": 52,
   "metadata": {},
   "outputs": [
    {
     "name": "stdout",
     "output_type": "stream",
     "text": [
      "2\n"
     ]
    }
   ],
   "source": [
    "dp = [[0]*(k+1) for _ in range(n+1)]\n",
    "\n",
    "for i in range(n+1):\n",
    "    dp[i][0] = 1\n",
    "    dp[i][1] = i\n",
    "\n",
    "for i in range(2,n+1):\n",
    "    for j in range(2,k+1):\n",
    "        if i==n:\n",
    "            dp[i][j] = dp[i-3][j-1] + dp[i-1][j]\n",
    "        else:\n",
    "            dp[i][j] = dp[i-1][j] + dp[i-2][j-1]\n",
    "        dp[i][j] %= 1000000003\n",
    "        \n",
    "print(dp[n][k])"
   ]
  }
 ],
 "metadata": {
  "kernelspec": {
   "display_name": "Python 3",
   "language": "python",
   "name": "python3"
  },
  "language_info": {
   "codemirror_mode": {
    "name": "ipython",
    "version": 3
   },
   "file_extension": ".py",
   "mimetype": "text/x-python",
   "name": "python",
   "nbconvert_exporter": "python",
   "pygments_lexer": "ipython3",
   "version": "3.7.2"
  },
  "orig_nbformat": 4,
  "vscode": {
   "interpreter": {
    "hash": "d75df686efc28afbc154e69ab3b02fa6abad8f31352f252b5de5b4a995eb825f"
   }
  }
 },
 "nbformat": 4,
 "nbformat_minor": 2
}
