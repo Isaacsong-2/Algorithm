{
 "cells": [
  {
   "cell_type": "code",
   "execution_count": 1,
   "metadata": {},
   "outputs": [],
   "source": [
    "n = int(input())\n",
    "m = int(input())\n",
    "tree = [list(map(int,input().split())) for _ in range(m)]\n",
    "tree.sort(key=lambda x:x[2])"
   ]
  },
  {
   "cell_type": "code",
   "execution_count": 2,
   "metadata": {},
   "outputs": [
    {
     "name": "stdout",
     "output_type": "stream",
     "text": [
      "23\n"
     ]
    }
   ],
   "source": [
    "def find(x):\n",
    "    if x != root[x]:\n",
    "        root[x] = find(root[x])\n",
    "    return root[x]\n",
    "\n",
    "root = [i for i in range(n+1)]\n",
    "answer = 0\n",
    "cnt = 0\n",
    "for a, b, w in tree:\n",
    "    ar = find(a)\n",
    "    br = find(b)\n",
    "    if ar != br:\n",
    "        if ar>br:\n",
    "            root[ar] = br\n",
    "        else:\n",
    "            root[br] = ar\n",
    "        answer += w\n",
    "print(answer)"
   ]
  },
  {
   "cell_type": "code",
   "execution_count": 3,
   "metadata": {},
   "outputs": [
    {
     "name": "stdout",
     "output_type": "stream",
     "text": [
      "23\n"
     ]
    }
   ],
   "source": [
    "import heapq\n",
    "n = int(input())\n",
    "m = int(input())\n",
    "graph = [[] for _ in range(n+1)]\n",
    "for i in range(m):\n",
    "    a, b, w = map(int,input().split())\n",
    "    graph[a].append([w,b])\n",
    "    graph[b].append([w,a])\n",
    "\n",
    "visit = [0] * (n+1)\n",
    "heap = [[0,1]]\n",
    "answer = 0\n",
    "cnt = 0\n",
    "while(heap):\n",
    "    if cnt == n:\n",
    "        break\n",
    "    w, x = heapq.heappop(heap)\n",
    "    if visit[x] == 0:\n",
    "        visit[x] = 1\n",
    "        answer += w\n",
    "        cnt += 1\n",
    "        for i in graph[x]:\n",
    "            heapq.heappush(heap,i)\n",
    "print(answer)"
   ]
  }
 ],
 "metadata": {
  "interpreter": {
   "hash": "53e059d21691b4acb4a64b9f63fef32a69804c1f4bf8b757b5579479fa8a32ee"
  },
  "kernelspec": {
   "display_name": "Python 3.7.2 64-bit",
   "language": "python",
   "name": "python3"
  },
  "language_info": {
   "codemirror_mode": {
    "name": "ipython",
    "version": 3
   },
   "file_extension": ".py",
   "mimetype": "text/x-python",
   "name": "python",
   "nbconvert_exporter": "python",
   "pygments_lexer": "ipython3",
   "version": "3.7.2"
  },
  "orig_nbformat": 4
 },
 "nbformat": 4,
 "nbformat_minor": 2
}
