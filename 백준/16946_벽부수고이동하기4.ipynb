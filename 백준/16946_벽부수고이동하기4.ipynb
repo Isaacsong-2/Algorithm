{
 "cells": [
  {
   "cell_type": "code",
   "execution_count": 59,
   "metadata": {},
   "outputs": [],
   "source": [
    "n, m = map(int,input().split())\n",
    "li = [input() for _ in range(n)]"
   ]
  },
  {
   "cell_type": "code",
   "execution_count": 61,
   "metadata": {},
   "outputs": [
    {
     "name": "stdout",
     "output_type": "stream",
     "text": [
      "303\n",
      "050\n",
      "303\n"
     ]
    }
   ],
   "source": [
    "dx = [-1,1,0,0]\n",
    "dy = [0,0,-1,1]\n",
    "ans = [[0] * m for _ in range(n)]\n",
    "visit = [[0] * m for _ in range(n)]\n",
    "cnt = 0\n",
    "for i in range(n):\n",
    "    for j in range(m):\n",
    "        if li[i][j] == '0' and visit[i][j] == 0:\n",
    "            visit[i][j] = 1\n",
    "            queue = [(i,j)]\n",
    "            temp = [(i,j)]\n",
    "            while(queue):\n",
    "                x, y = queue.pop()\n",
    "                for k in range(4):\n",
    "                    nx, ny = x+dx[k], y+dy[k]\n",
    "                    if 0<=nx<n and 0<=ny<m and visit[nx][ny] == 0 and li[nx][ny] == '0':\n",
    "                        queue.append((nx,ny))\n",
    "                        temp.append((nx,ny))\n",
    "                        visit[nx][ny] = 1\n",
    "            val = len(temp)\n",
    "            for x,y in temp:\n",
    "                visit[x][y] = [val,cnt]\n",
    "            cnt += 1\n",
    "\n",
    "for i in range(n):\n",
    "    for j in range(m):\n",
    "        if li[i][j] == '1':\n",
    "            ans[i][j] = 1\n",
    "            check = []\n",
    "            for k in range(4):\n",
    "                nx, ny = i+dx[k], j+dy[k]\n",
    "                if 0<=nx<n and 0<=ny<m and visit[nx][ny] != 0:\n",
    "                    temp = visit[nx][ny][1]\n",
    "                    if temp not in check:\n",
    "                        ans[i][j] = (ans[i][j]+visit[nx][ny][0])%10\n",
    "                        check.append(temp)\n",
    "for i in range(n):\n",
    "    for j in range(m):\n",
    "        print(ans[i][j], end=\"\")\n",
    "    print()"
   ]
  }
 ],
 "metadata": {
  "kernelspec": {
   "display_name": "Python 3.7.2 64-bit",
   "language": "python",
   "name": "python3"
  },
  "language_info": {
   "codemirror_mode": {
    "name": "ipython",
    "version": 3
   },
   "file_extension": ".py",
   "mimetype": "text/x-python",
   "name": "python",
   "nbconvert_exporter": "python",
   "pygments_lexer": "ipython3",
   "version": "3.7.2"
  },
  "orig_nbformat": 4,
  "vscode": {
   "interpreter": {
    "hash": "d75df686efc28afbc154e69ab3b02fa6abad8f31352f252b5de5b4a995eb825f"
   }
  }
 },
 "nbformat": 4,
 "nbformat_minor": 2
}
