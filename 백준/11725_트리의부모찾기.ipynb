{
 "cells": [
  {
   "cell_type": "code",
   "execution_count": 2,
   "metadata": {},
   "outputs": [],
   "source": [
    "n = int(input())\n",
    "tree = [[] for _ in range(n+1)]\n",
    "parents = [0 for _ in range(n+1)]\n",
    "for _ in range(n-1):\n",
    "    a, b = map(int,input().split())\n",
    "    tree[a].append(b)\n",
    "    tree[b].append(a)"
   ]
  },
  {
   "cell_type": "code",
   "execution_count": 3,
   "metadata": {},
   "outputs": [
    {
     "name": "stdout",
     "output_type": "stream",
     "text": [
      "4\n",
      "6\n",
      "1\n",
      "3\n",
      "1\n",
      "4\n"
     ]
    }
   ],
   "source": [
    "def dfs(start,tree,parents):\n",
    "    for i in tree[start]:\n",
    "        if parents[i] == 0:\n",
    "            parents[i] = start\n",
    "            dfs(i,tree,parents)\n",
    "dfs(1,tree,parents)\n",
    "for i in range(n-1):\n",
    "    print(parents[i+2])"
   ]
  }
 ],
 "metadata": {
  "kernelspec": {
   "display_name": "Python 3.7.2 64-bit",
   "language": "python",
   "name": "python3"
  },
  "language_info": {
   "codemirror_mode": {
    "name": "ipython",
    "version": 3
   },
   "file_extension": ".py",
   "mimetype": "text/x-python",
   "name": "python",
   "nbconvert_exporter": "python",
   "pygments_lexer": "ipython3",
   "version": "3.7.2"
  },
  "orig_nbformat": 4,
  "vscode": {
   "interpreter": {
    "hash": "d75df686efc28afbc154e69ab3b02fa6abad8f31352f252b5de5b4a995eb825f"
   }
  }
 },
 "nbformat": 4,
 "nbformat_minor": 2
}
