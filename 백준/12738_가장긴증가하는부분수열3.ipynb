{
 "cells": [
  {
   "cell_type": "code",
   "execution_count": null,
   "metadata": {},
   "outputs": [],
   "source": [
    "n = int(input())\n",
    "seq = list(map(int, input().split()))\n",
    "lis = [-1000000001]\n",
    "for case in seq:\n",
    "    if lis[-1]<case:\n",
    "        lis.append(case)\n",
    "    else:\n",
    "        left = 0\n",
    "        right = len(lis)\n",
    "\n",
    "        while left<right:\n",
    "            mid = (right+left)//2\n",
    "            if lis[mid]<case:\n",
    "                left = mid+1\n",
    "            else:\n",
    "                right = mid\n",
    "        lis[right] = case\n",
    "\n",
    "print(len(lis)-1)"
   ]
  }
 ],
 "metadata": {
  "language_info": {
   "name": "python"
  },
  "orig_nbformat": 4
 },
 "nbformat": 4,
 "nbformat_minor": 2
}
