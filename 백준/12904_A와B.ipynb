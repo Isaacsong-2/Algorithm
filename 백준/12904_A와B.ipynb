{
 "cells": [
  {
   "cell_type": "code",
   "execution_count": 11,
   "metadata": {},
   "outputs": [],
   "source": [
    "st1 = input()\n",
    "st2 = input()"
   ]
  },
  {
   "cell_type": "code",
   "execution_count": 17,
   "metadata": {},
   "outputs": [
    {
     "name": "stdout",
     "output_type": "stream",
     "text": [
      "1\n"
     ]
    }
   ],
   "source": [
    "# st1 = \"B\"\n",
    "# st2 = \"ABBA\"\n",
    "for i in range(len(st2)-len(st1)):\n",
    "    if st2[-1] == 'A': st2 = st2[:-1]\n",
    "    else:\n",
    "        st2 = st2[:-1]\n",
    "        st2 = st2[::-1]\n",
    "        # temp = \"\"\n",
    "        # for i in range(len(st2)):\n",
    "        #     temp = temp + st2[len(st2)-i-1]\n",
    "        # st2 = temp\n",
    "print(1 if st1==st2 else 0)"
   ]
  }
 ],
 "metadata": {
  "interpreter": {
   "hash": "53e059d21691b4acb4a64b9f63fef32a69804c1f4bf8b757b5579479fa8a32ee"
  },
  "kernelspec": {
   "display_name": "Python 3.7.2 64-bit",
   "language": "python",
   "name": "python3"
  },
  "language_info": {
   "codemirror_mode": {
    "name": "ipython",
    "version": 3
   },
   "file_extension": ".py",
   "mimetype": "text/x-python",
   "name": "python",
   "nbconvert_exporter": "python",
   "pygments_lexer": "ipython3",
   "version": "3.7.2"
  },
  "orig_nbformat": 4
 },
 "nbformat": 4,
 "nbformat_minor": 2
}
