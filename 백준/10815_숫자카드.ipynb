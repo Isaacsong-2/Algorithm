{
 "cells": [
  {
   "cell_type": "code",
   "execution_count": 4,
   "metadata": {},
   "outputs": [],
   "source": [
    "n = int(input())\n",
    "card = set(map(int,input().split()))\n",
    "m = int(input())\n",
    "check = list(map(int,input().split()))"
   ]
  },
  {
   "cell_type": "code",
   "execution_count": 5,
   "metadata": {},
   "outputs": [
    {
     "name": "stdout",
     "output_type": "stream",
     "text": [
      "{2, 3, 6, 10, -10}\n",
      "[10, 9, -5, 2, 3, 4, 5, -10]\n"
     ]
    }
   ],
   "source": [
    "print(card)\n",
    "print(check)"
   ]
  },
  {
   "cell_type": "code",
   "execution_count": 6,
   "metadata": {},
   "outputs": [
    {
     "name": "stdout",
     "output_type": "stream",
     "text": [
      "1 0 0 1 1 0 0 1 "
     ]
    }
   ],
   "source": [
    "for i in check:\n",
    "    if i in card:\n",
    "        print(1, end=\" \")\n",
    "    else:\n",
    "        print(0, end= \" \")"
   ]
  }
 ],
 "metadata": {
  "interpreter": {
   "hash": "53e059d21691b4acb4a64b9f63fef32a69804c1f4bf8b757b5579479fa8a32ee"
  },
  "kernelspec": {
   "display_name": "Python 3.7.2 64-bit",
   "language": "python",
   "name": "python3"
  },
  "language_info": {
   "codemirror_mode": {
    "name": "ipython",
    "version": 3
   },
   "file_extension": ".py",
   "mimetype": "text/x-python",
   "name": "python",
   "nbconvert_exporter": "python",
   "pygments_lexer": "ipython3",
   "version": "3.7.2"
  },
  "orig_nbformat": 4
 },
 "nbformat": 4,
 "nbformat_minor": 2
}
