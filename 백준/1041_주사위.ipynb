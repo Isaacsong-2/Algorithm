{
 "cells": [
  {
   "cell_type": "code",
   "execution_count": 14,
   "metadata": {},
   "outputs": [],
   "source": [
    "n = int(input())\n",
    "dice = list(map(int,input().split()))"
   ]
  },
  {
   "cell_type": "code",
   "execution_count": 15,
   "metadata": {},
   "outputs": [
    {
     "name": "stdout",
     "output_type": "stream",
     "text": [
      "[3, 4, 5, 6, 5, 6, 8, 8, 9, 9, 10, 11]\n",
      "69\n"
     ]
    }
   ],
   "source": [
    "# from itertools import combinations\n",
    "li = []\n",
    "sol = 0\n",
    "if n == 1:\n",
    "    print(sum(dice)-max(dice))\n",
    "else:\n",
    "    for i in range(6):\n",
    "        for j in range(i+1,6):\n",
    "            for k in range(j+1,6):\n",
    "                if i+j != 5 and j+k != 5 and k+i != 5:\n",
    "                    li.append((dice[i],dice[j],dice[k]))\n",
    "    for i in range(len(li)):\n",
    "        li[i] = sum(li[i])\n",
    "    sol += min(li)*4\n",
    "    li = []\n",
    "    for i in range(6):\n",
    "        for j in range(i+1,6):\n",
    "            if i+j != 5:\n",
    "                li.append((dice[i],dice[j]))\n",
    "    for i in range(len(li)):\n",
    "        li[i] = sum(li[i])\n",
    "    sol += min(li)*(8*(n-1)-4)\n",
    "    sol += min(dice)*(5*n*n-12-(16*(n-1)-8))\n",
    "    # sol = dice[2]*4\n",
    "    # sol += dice[1] * 8*(n-1)\n",
    "    # sol += (5*n*n-4-8*(n-1))*dice[0]\n",
    "    # print(li)\n",
    "    print(sol)\n"
   ]
  }
 ],
 "metadata": {
  "interpreter": {
   "hash": "53e059d21691b4acb4a64b9f63fef32a69804c1f4bf8b757b5579479fa8a32ee"
  },
  "kernelspec": {
   "display_name": "Python 3.7.2 64-bit",
   "language": "python",
   "name": "python3"
  },
  "language_info": {
   "codemirror_mode": {
    "name": "ipython",
    "version": 3
   },
   "file_extension": ".py",
   "mimetype": "text/x-python",
   "name": "python",
   "nbconvert_exporter": "python",
   "pygments_lexer": "ipython3",
   "version": "3.7.2"
  },
  "orig_nbformat": 4
 },
 "nbformat": 4,
 "nbformat_minor": 2
}
