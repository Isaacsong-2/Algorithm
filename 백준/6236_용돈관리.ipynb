{
 "cells": [
  {
   "cell_type": "code",
   "execution_count": 1,
   "metadata": {},
   "outputs": [],
   "source": [
    "n,m = map(int,input().split())\n",
    "money = [int(input()) for _ in range(n)]"
   ]
  },
  {
   "cell_type": "code",
   "execution_count": 3,
   "metadata": {},
   "outputs": [
    {
     "name": "stdout",
     "output_type": "stream",
     "text": [
      "[100, 400, 300, 100, 500, 101, 400]\n",
      "500\n"
     ]
    }
   ],
   "source": [
    "# print(money)\n",
    "ans = 1000000000\n",
    "high = ans\n",
    "low = max(money)\n",
    "while(low<=high):\n",
    "    temp = 0\n",
    "    cnt = 0\n",
    "    mid = (low+high)//2\n",
    "    for fee in money:\n",
    "        if temp>=fee:\n",
    "            temp -= fee\n",
    "        else:\n",
    "            temp = mid - fee\n",
    "            cnt += 1\n",
    "    if cnt>m:\n",
    "        low = mid +1\n",
    "    else:\n",
    "        ans = min(ans,mid)\n",
    "        high = mid - 1\n",
    "print(ans)\n"
   ]
  }
 ],
 "metadata": {
  "interpreter": {
   "hash": "d75df686efc28afbc154e69ab3b02fa6abad8f31352f252b5de5b4a995eb825f"
  },
  "kernelspec": {
   "display_name": "Python 3.7.2 64-bit",
   "language": "python",
   "name": "python3"
  },
  "language_info": {
   "codemirror_mode": {
    "name": "ipython",
    "version": 3
   },
   "file_extension": ".py",
   "mimetype": "text/x-python",
   "name": "python",
   "nbconvert_exporter": "python",
   "pygments_lexer": "ipython3",
   "version": "3.7.2"
  },
  "orig_nbformat": 4
 },
 "nbformat": 4,
 "nbformat_minor": 2
}
