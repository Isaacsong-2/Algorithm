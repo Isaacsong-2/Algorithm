{
 "cells": [
  {
   "cell_type": "code",
   "execution_count": 3,
   "metadata": {},
   "outputs": [],
   "source": [
    "r,c,k = map(int,input().split())\n",
    "r -= 1\n",
    "c -= 1\n",
    "li = [list(map(int,input().split())) for _ in range(3)]"
   ]
  },
  {
   "cell_type": "code",
   "execution_count": 20,
   "metadata": {},
   "outputs": [
    {
     "name": "stdout",
     "output_type": "stream",
     "text": [
      "52\n"
     ]
    }
   ],
   "source": [
    "from collections import Counter\n",
    "def cal():\n",
    "    m_len = 0\n",
    "    len_li = len(li)\n",
    "    for j in range(len_li):\n",
    "        a = [i for i in li[j] if i != 0]\n",
    "        a = Counter(a).most_common()\n",
    "        a.sort(key = lambda x:(x[1],x[0]))\n",
    "\n",
    "        li[j] = []\n",
    "        for num, count in a:\n",
    "            li[j].append(num)\n",
    "            li[j].append(count)\n",
    "        if m_len < len(a) * 2:\n",
    "            m_len = len(a) * 2\n",
    "    for j in range(len(li)):\n",
    "        for k in range(m_len - len(li[j])):\n",
    "            li[j].append(0)\n",
    "        li[j] = li[j][:100]\n",
    "\n",
    "\n",
    "cnt = 0\n",
    "while(cnt<=100):\n",
    "    if r<len(li) and c<len(li[0]) and li[r][c] == k:\n",
    "        break\n",
    "    cnt += 1\n",
    "    if len(li[0]) <= len(li):\n",
    "        cal()\n",
    "    else:\n",
    "        li = list(zip(*li))\n",
    "        cal()\n",
    "        li = list(zip(*li))\n",
    "print(cnt if cnt<=100 else -1)"
   ]
  }
 ],
 "metadata": {
  "interpreter": {
   "hash": "53e059d21691b4acb4a64b9f63fef32a69804c1f4bf8b757b5579479fa8a32ee"
  },
  "kernelspec": {
   "display_name": "Python 3.7.2 64-bit",
   "language": "python",
   "name": "python3"
  },
  "language_info": {
   "codemirror_mode": {
    "name": "ipython",
    "version": 3
   },
   "file_extension": ".py",
   "mimetype": "text/x-python",
   "name": "python",
   "nbconvert_exporter": "python",
   "pygments_lexer": "ipython3",
   "version": "3.7.2"
  },
  "orig_nbformat": 4
 },
 "nbformat": 4,
 "nbformat_minor": 2
}
