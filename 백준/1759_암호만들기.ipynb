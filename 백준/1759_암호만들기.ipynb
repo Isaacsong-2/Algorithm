{
 "cells": [
  {
   "cell_type": "code",
   "execution_count": 2,
   "metadata": {},
   "outputs": [],
   "source": [
    "l, c = map(int,input().split())\n",
    "li = list(map(str,input().split()))"
   ]
  },
  {
   "cell_type": "code",
   "execution_count": 13,
   "metadata": {},
   "outputs": [
    {
     "name": "stdout",
     "output_type": "stream",
     "text": [
      "acis\n",
      "acit\n",
      "aciw\n",
      "acst\n",
      "acsw\n",
      "actw\n",
      "aist\n",
      "aisw\n",
      "aitw\n",
      "astw\n",
      "cist\n",
      "cisw\n",
      "citw\n",
      "istw\n"
     ]
    }
   ],
   "source": [
    "li.sort()\n",
    "vowels = ['a', 'e', 'i', 'o', 'u']\n",
    "sol = []\n",
    "from itertools import combinations\n",
    "pos = list(combinations(li,l))\n",
    "for st in pos:\n",
    "    cnt = 0\n",
    "    for i in range(l):\n",
    "        if st[i] in vowels:\n",
    "            cnt += 1\n",
    "    if cnt > 0 and l-cnt>1:\n",
    "        temp = st[0]\n",
    "        for i in range(1,l):\n",
    "            temp = temp+st[i]\n",
    "        sol.append(temp)\n",
    "for i in range(len(sol)):\n",
    "    print(sol[i])\n"
   ]
  }
 ],
 "metadata": {
  "interpreter": {
   "hash": "53e059d21691b4acb4a64b9f63fef32a69804c1f4bf8b757b5579479fa8a32ee"
  },
  "kernelspec": {
   "display_name": "Python 3.7.2 64-bit",
   "language": "python",
   "name": "python3"
  },
  "language_info": {
   "codemirror_mode": {
    "name": "ipython",
    "version": 3
   },
   "file_extension": ".py",
   "mimetype": "text/x-python",
   "name": "python",
   "nbconvert_exporter": "python",
   "pygments_lexer": "ipython3",
   "version": "3.7.2"
  },
  "orig_nbformat": 4
 },
 "nbformat": 4,
 "nbformat_minor": 2
}
