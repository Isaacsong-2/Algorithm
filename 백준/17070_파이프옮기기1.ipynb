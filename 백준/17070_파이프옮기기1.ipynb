{
 "cells": [
  {
   "cell_type": "code",
   "execution_count": 1,
   "metadata": {},
   "outputs": [],
   "source": [
    "n = int(input())\n",
    "home = [list(map(int,input().split())) for _ in range(n)]\n"
   ]
  },
  {
   "cell_type": "code",
   "execution_count": 13,
   "metadata": {},
   "outputs": [
    {
     "name": "stdout",
     "output_type": "stream",
     "text": [
      "1\n"
     ]
    }
   ],
   "source": [
    "pipe=[[0,0],[0,1]] #초기상태\n",
    "\n",
    "def back(x, y, dir):\n",
    "    global cnt\n",
    "    if x==n-1 and y==n-1: cnt +=1\n",
    "    if dir == 0:\n",
    "        if y+1 < n and home[x][y+1] == 0: back(x,y+1,0)\n",
    "        if x+1 < n and y+1 < n:\n",
    "            if home[x][y+1] == 0 and home[x+1][y+1] == 0 and home[x+1][y] == 0:\n",
    "                back(x+1,y+1,2)\n",
    "    if dir == 1:\n",
    "        if x+1 < n and home[x+1][y] == 0: back(x+1,y,1)\n",
    "        if x+1 < n and y+1 < n:\n",
    "            if home[x][y+1] == 0 and home[x+1][y+1] == 0 and home[x+1][y] == 0:\n",
    "                back(x+1,y+1,2)\n",
    "    if dir==2:\n",
    "        if y+1 < n and home[x][y+1] == 0: back(x,y+1,0)\n",
    "        if x+1 < n and home[x+1][y] == 0: back(x+1,y,1)\n",
    "        if x+1 < n and y+1 < n and home[x][y+1] == 0 and home[x+1][y+1] == 0 and home[x+1][y] == 0:\n",
    "            back(x+1,y+1,2)\n",
    "cnt = 0\n",
    "back(0, 1, 0)\n",
    "print(cnt)\n"
   ]
  }
 ],
 "metadata": {
  "interpreter": {
   "hash": "53e059d21691b4acb4a64b9f63fef32a69804c1f4bf8b757b5579479fa8a32ee"
  },
  "kernelspec": {
   "display_name": "Python 3.7.2 64-bit",
   "language": "python",
   "name": "python3"
  },
  "language_info": {
   "codemirror_mode": {
    "name": "ipython",
    "version": 3
   },
   "file_extension": ".py",
   "mimetype": "text/x-python",
   "name": "python",
   "nbconvert_exporter": "python",
   "pygments_lexer": "ipython3",
   "version": "3.7.2"
  },
  "orig_nbformat": 4
 },
 "nbformat": 4,
 "nbformat_minor": 2
}
