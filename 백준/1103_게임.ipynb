{
 "cells": [
  {
   "cell_type": "code",
   "execution_count": 62,
   "metadata": {},
   "outputs": [],
   "source": [
    "n, m = map(int,input().split())\n",
    "li = [input() for _ in range(n)]"
   ]
  },
  {
   "cell_type": "code",
   "execution_count": 67,
   "metadata": {},
   "outputs": [
    {
     "name": "stdout",
     "output_type": "stream",
     "text": [
      "-1\n"
     ]
    }
   ],
   "source": [
    "import sys\n",
    "sys.setrecursionlimit(10**9)\n",
    "dx = [-1,1,0,0]\n",
    "dy = [0,0,-1,1]\n",
    "\n",
    "visit = [[0] * m for _ in range(n)]\n",
    "check = [[0] * m for _ in range(n)]\n",
    "visit[0][0] = 1\n",
    "check[0][0] = 1\n",
    "ans = 0\n",
    "\n",
    "def dfs(x, y):\n",
    "    global ans\n",
    "    move = int(li[x][y])\n",
    "    ans = max(ans,visit[x][y])\n",
    "    for i in range(4):\n",
    "        nx, ny = x + move*dx[i], y + move*dy[i]\n",
    "        if 0<=nx<n and 0<=ny<m and li[nx][ny] != 'H':\n",
    "            if check[nx][ny]:\n",
    "                ans = -1\n",
    "                return\n",
    "            if visit[nx][ny] == 0 or visit[nx][ny]<visit[x][y]+1:\n",
    "                visit[nx][ny] = visit[x][y] + 1\n",
    "                check[nx][ny] = 1\n",
    "                dfs(nx,ny)\n",
    "                if ans == -1:\n",
    "                    return\n",
    "                check[nx][ny] = 0\n",
    "dfs(0,0)\n",
    "print(ans)\n"
   ]
  }
 ],
 "metadata": {
  "kernelspec": {
   "display_name": "Python 3.7.2 64-bit",
   "language": "python",
   "name": "python3"
  },
  "language_info": {
   "codemirror_mode": {
    "name": "ipython",
    "version": 3
   },
   "file_extension": ".py",
   "mimetype": "text/x-python",
   "name": "python",
   "nbconvert_exporter": "python",
   "pygments_lexer": "ipython3",
   "version": "3.7.2"
  },
  "orig_nbformat": 4,
  "vscode": {
   "interpreter": {
    "hash": "d75df686efc28afbc154e69ab3b02fa6abad8f31352f252b5de5b4a995eb825f"
   }
  }
 },
 "nbformat": 4,
 "nbformat_minor": 2
}
