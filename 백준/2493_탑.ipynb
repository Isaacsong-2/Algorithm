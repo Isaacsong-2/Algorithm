{
 "cells": [
  {
   "cell_type": "code",
   "execution_count": 20,
   "metadata": {},
   "outputs": [],
   "source": [
    "n = int(input())\n",
    "height = list(map(int, input().split()))"
   ]
  },
  {
   "cell_type": "code",
   "execution_count": 22,
   "metadata": {},
   "outputs": [
    {
     "name": "stdout",
     "output_type": "stream",
     "text": [
      "10 [1, 5, 3, 1, 2, 5, 8, 5, 2, 5]\n"
     ]
    }
   ],
   "source": [
    "print(n, height)"
   ]
  },
  {
   "cell_type": "code",
   "execution_count": 29,
   "metadata": {},
   "outputs": [
    {
     "name": "stdout",
     "output_type": "stream",
     "text": [
      "5\n",
      "5\n",
      "5\n",
      "5\n",
      "5\n",
      "8\n",
      "8\n",
      "8\n",
      "8\n",
      "0 0 2 3 3 5 0 7 8 8 "
     ]
    }
   ],
   "source": [
    "# laser = [0] * n\n",
    "# max_height = height[0]\n",
    "# cur = 1\n",
    "# for i in range(n-1):\n",
    "#     if height[i]<height[i+1]:\n",
    "#         if (max_height>=height[i+1]):\n",
    "#             # max_height = height[i+1]\n",
    "#             laser[i+1] = cur\n",
    "#             cur = i+2\n",
    "#         else:\n",
    "#             max_height = height[i+1]\n",
    "#             cur = i+2\n",
    "#     else:\n",
    "#         cur = i+1\n",
    "#         laser[i+1] = cur\n",
    "#     print(max_height)\n",
    "# for i in range(n):\n",
    "#     print(laser[i], end= \" \")\n",
    "if __name__ == \"__main__\":\n",
    "    N = int(input())  # 탑의 개수\n",
    "    top_list = list(map(int, input().split()))  # 탑 리스트\n",
    "    stack = []\n",
    "    answer = []\n",
    "\n",
    "    for i in range(N):\n",
    "        while stack:\n",
    "            if stack[-1][1] > top_list[i]:  # 수신 가능한 상황\n",
    "                answer.append(stack[-1][0] + 1)\n",
    "                break\n",
    "            else:\n",
    "                stack.pop()\n",
    "        if not stack:  # 스택이 비면 레이저를 수신할 탑이 없다.\n",
    "            answer.append(0)\n",
    "        stack.append([i, top_list[i]])  # 인덱스, 값\n",
    "\n",
    "    print(\" \".join(map(str, answer)))    \n"
   ]
  }
 ],
 "metadata": {
  "interpreter": {
   "hash": "53e059d21691b4acb4a64b9f63fef32a69804c1f4bf8b757b5579479fa8a32ee"
  },
  "kernelspec": {
   "display_name": "Python 3.7.2 64-bit",
   "language": "python",
   "name": "python3"
  },
  "language_info": {
   "codemirror_mode": {
    "name": "ipython",
    "version": 3
   },
   "file_extension": ".py",
   "mimetype": "text/x-python",
   "name": "python",
   "nbconvert_exporter": "python",
   "pygments_lexer": "ipython3",
   "version": "3.7.2"
  },
  "orig_nbformat": 4
 },
 "nbformat": 4,
 "nbformat_minor": 2
}
