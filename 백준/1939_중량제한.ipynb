{
 "cells": [
  {
   "cell_type": "code",
   "execution_count": 23,
   "metadata": {},
   "outputs": [],
   "source": [
    "# bfs만 사용하는 경우 graph가 10000*10000배열로 약 400메가의 메모리를 잡아먹음\n",
    "# 따라서 이분탐색을 사용해야함\n",
    "n, m = map(int,input().split())\n",
    "graph = [[0]*n for _ in range(n)]\n",
    "for i in range(m):\n",
    "    a, b, c = map(int,input().split())\n",
    "    if graph[a-1][b-1] < c: \n",
    "        graph[a-1][b-1] = c\n",
    "        graph[b-1][a-1] = c\n",
    "plant = list(map(int,input().split()))\n",
    "plant[0] -= 1\n",
    "plant[1] -= 1\n",
    "visit = [0] * n\n",
    "answer = 0\n",
    "def bfs(v,sol):\n",
    "    global answer\n",
    "    if v==plant[1]:\n",
    "        answer = max(answer,sol)\n",
    "        return\n",
    "    for i in range(n):\n",
    "        if graph[v][i] != 0 and visit[i] == 0:\n",
    "            temp = min(sol,graph[v][i])\n",
    "            visit[i] = 1\n",
    "            bfs(i,temp)\n",
    "            visit[i] = 0\n",
    "bfs(plant[0], graph[plant[0]][plant[1]])\n",
    "print(answer)"
   ]
  },
  {
   "cell_type": "code",
   "execution_count": 1,
   "metadata": {},
   "outputs": [
    {
     "name": "stdout",
     "output_type": "stream",
     "text": [
      "3\n"
     ]
    }
   ],
   "source": [
    "from collections import deque\n",
    "# import sys\n",
    "# input = sys.stdin.readline\n",
    "def bfs(mid):\n",
    "    visit[i1] = 1\n",
    "    q = deque()\n",
    "    q.append(i1)\n",
    "    while q:\n",
    "        start = q.popleft()\n",
    "        if start == i2: return True\n",
    "        for nx, nc in graph[start]:\n",
    "            if visit[nx] == 0 and mid <= nc:\n",
    "                q.append(nx)\n",
    "                visit[nx] = 1\n",
    "    return False\n",
    "n, m = map(int, input().split())\n",
    "graph = [[] for i in range(n + 1)]\n",
    "for i in range(m):\n",
    "    a, b, c = map(int, input().split())\n",
    "    graph[a].append([b, c])\n",
    "    graph[b].append([a, c])\n",
    "i1, i2 = map(int, input().split())\n",
    "low, high = 1, 1000000000\n",
    "while low <= high:\n",
    "    visit = [0] * (n+1)\n",
    "    mid = (low + high) // 2\n",
    "    if bfs(mid): low = mid + 1\n",
    "    else: high = mid - 1\n",
    "print(high)"
   ]
  }
 ],
 "metadata": {
  "interpreter": {
   "hash": "d75df686efc28afbc154e69ab3b02fa6abad8f31352f252b5de5b4a995eb825f"
  },
  "kernelspec": {
   "display_name": "Python 3.7.2 64-bit",
   "language": "python",
   "name": "python3"
  },
  "language_info": {
   "codemirror_mode": {
    "name": "ipython",
    "version": 3
   },
   "file_extension": ".py",
   "mimetype": "text/x-python",
   "name": "python",
   "nbconvert_exporter": "python",
   "pygments_lexer": "ipython3",
   "version": "3.7.2"
  },
  "orig_nbformat": 4
 },
 "nbformat": 4,
 "nbformat_minor": 2
}
