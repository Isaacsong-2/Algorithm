{
 "cells": [
  {
   "cell_type": "code",
   "execution_count": 23,
   "metadata": {},
   "outputs": [],
   "source": [
    "n, m = map(int,input().split())\n",
    "graph = [[0]*n for _ in range(n)]\n",
    "for i in range(m):\n",
    "    a, b, c = map(int,input().split())\n",
    "    if graph[a-1][b-1] < c: \n",
    "        graph[a-1][b-1] = c\n",
    "        graph[b-1][a-1] = c\n",
    "plant = list(map(int,input().split()))\n",
    "plant[0] -= 1\n",
    "plant[1] -= 1\n",
    "visit = [0] * n\n",
    "answer = 0\n",
    "def bfs(v,sol):\n",
    "    global answer\n",
    "    if v==plant[1]:\n",
    "        answer = max(answer,sol)\n",
    "        return\n",
    "    for i in range(n):\n",
    "        if graph[v][i] != 0 and visit[i] == 0:\n",
    "            temp = min(sol,graph[v][i])\n",
    "            visit[i] = 1\n",
    "            bfs(i,temp)\n",
    "            visit[i] = 0\n",
    "bfs(plant[0], graph[plant[0]][plant[1]])\n",
    "print(answer)"
   ]
  },
  {
   "cell_type": "code",
   "execution_count": 26,
   "metadata": {},
   "outputs": [
    {
     "name": "stdout",
     "output_type": "stream",
     "text": [
      "2\n"
     ]
    }
   ],
   "source": [
    "# 이분탐색써야됌"
   ]
  }
 ],
 "metadata": {
  "interpreter": {
   "hash": "53e059d21691b4acb4a64b9f63fef32a69804c1f4bf8b757b5579479fa8a32ee"
  },
  "kernelspec": {
   "display_name": "Python 3.7.2 64-bit",
   "language": "python",
   "name": "python3"
  },
  "language_info": {
   "codemirror_mode": {
    "name": "ipython",
    "version": 3
   },
   "file_extension": ".py",
   "mimetype": "text/x-python",
   "name": "python",
   "nbconvert_exporter": "python",
   "pygments_lexer": "ipython3",
   "version": "3.7.2"
  },
  "orig_nbformat": 4
 },
 "nbformat": 4,
 "nbformat_minor": 2
}
