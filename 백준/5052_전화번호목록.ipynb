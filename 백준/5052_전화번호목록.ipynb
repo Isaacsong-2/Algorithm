{
 "cells": [
  {
   "cell_type": "code",
   "execution_count": 13,
   "metadata": {},
   "outputs": [
    {
     "name": "stdout",
     "output_type": "stream",
     "text": [
      "NO\n",
      "YES\n"
     ]
    }
   ],
   "source": [
    "t = int(input())\n",
    "for ab in range(t):\n",
    "    n = int(input())\n",
    "    call = [str(input()) for _ in range(n)]\n",
    "    call.sort()\n",
    "    flag = 0\n",
    "    for i in range(n-1):\n",
    "        if call[i] == call[i+1][:len(call[i])]:\n",
    "            print(\"NO\")\n",
    "            flag = 1\n",
    "            break\n",
    "    if not flag:\n",
    "        print(\"YES\")"
   ]
  },
  {
   "cell_type": "code",
   "execution_count": 15,
   "metadata": {},
   "outputs": [
    {
     "name": "stdout",
     "output_type": "stream",
     "text": [
      "NO\n",
      "YES\n"
     ]
    }
   ],
   "source": [
    "class Node(object):\n",
    "    def __init__(self, key, data=None):\n",
    "        self.key = key\n",
    "        self.data = data\n",
    "        self.children = {}\n",
    "class Trie(object):\n",
    "    def __init__(self):\n",
    "        self.head = Node(None)\n",
    "    def insert(self,string):\n",
    "        curr_node = self.head\n",
    "        for s in string:\n",
    "            if s not in curr_node.children:\n",
    "                curr_node.children[s] = Node(s)\n",
    "            curr_node = curr_node.children[s]\n",
    "        curr_node.data = string\n",
    "    def search_prefix(self,string):\n",
    "        curr_node = self.head\n",
    "        for s in string:\n",
    "            curr_node = curr_node.children[s]\n",
    "        if curr_node.children:\n",
    "            return False\n",
    "        else:\n",
    "            return True\n",
    "t = int(input())\n",
    "for _ in range(t):\n",
    "    n = int(input())\n",
    "    trie = Trie()\n",
    "    num = []\n",
    "    for i in range(n):\n",
    "        temp = str(input())\n",
    "        num.append(temp)\n",
    "        trie.insert(temp)\n",
    "    flag = True\n",
    "    num.sort()\n",
    "    for call in num:\n",
    "        if not trie.search_prefix(call):\n",
    "            flag = False\n",
    "            break\n",
    "    print('YES' if flag else 'NO')"
   ]
  },
  {
   "cell_type": "code",
   "execution_count": 16,
   "metadata": {},
   "outputs": [
    {
     "name": "stdout",
     "output_type": "stream",
     "text": [
      "<class '__main__.Trie'>\n"
     ]
    }
   ],
   "source": [
    "print(Trie)"
   ]
  }
 ],
 "metadata": {
  "interpreter": {
   "hash": "53e059d21691b4acb4a64b9f63fef32a69804c1f4bf8b757b5579479fa8a32ee"
  },
  "kernelspec": {
   "display_name": "Python 3.7.2 64-bit",
   "language": "python",
   "name": "python3"
  },
  "language_info": {
   "codemirror_mode": {
    "name": "ipython",
    "version": 3
   },
   "file_extension": ".py",
   "mimetype": "text/x-python",
   "name": "python",
   "nbconvert_exporter": "python",
   "pygments_lexer": "ipython3",
   "version": "3.7.2"
  },
  "orig_nbformat": 4
 },
 "nbformat": 4,
 "nbformat_minor": 2
}
