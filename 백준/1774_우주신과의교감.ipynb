{
 "cells": [
  {
   "cell_type": "code",
   "execution_count": null,
   "metadata": {},
   "outputs": [],
   "source": [
    "import sys\n",
    "input = sys.stdin.readline\n",
    "def find(c):\n",
    "\tif par[c] == c:\n",
    "\t\treturn c\n",
    "\telse:\n",
    "\t\tpar[c] = find(par[c])\n",
    "\treturn par[c]\n",
    " \n",
    "def union(a, b):\n",
    "\ta, b = find(a), find(b)\n",
    "\tpar[max(a, b)] = min(a, b)\n",
    " \n",
    "def check(a, b):\n",
    "\treturn find(a) == find(b)\n",
    " \n",
    "# a통로와 b통로의 거리를 구하는 함수\n",
    "def dist(a, b):\n",
    "\treturn ((a[0] - b[0])**2 + (a[1] - b[1])**2)**(1/2)\n",
    " \n",
    "N, M = map(int,input().split())\n",
    "par = [i for i in range(N)]\n",
    "coordinate, graph = [], []\n",
    "answer = 0\n",
    "for _ in range(N):\n",
    "\tx, y = map(int,input().split())\n",
    "\tcoordinate.append((x,y))\n",
    "# 이미 연결되어 있는 통로 union해주기\n",
    "for _ in range(M):\n",
    "\tx, y = map(int,input().split())\n",
    "\tunion(x-1, y-1)\n",
    " \n",
    "# 각 통로들 사이의 거리를 구해서 graph에 넣는 과정\n",
    "for i in range(N-1):\n",
    "\tfor j in range(i+1, N):\n",
    "\t\tgraph.append((i, j, dist(coordinate[i], coordinate[j])))\n",
    "# 거리순으로 오름차순 정렬\n",
    "graph.sort(key= lambda x: x[2])\n",
    "for i in graph:\n",
    "\tif not check(i[0], i[1]):\n",
    "\t\tunion(i[0], i[1])\n",
    "\t\tanswer += i[2]\n",
    "print('%.2f' %(answer))"
   ]
  }
 ],
 "metadata": {
  "language_info": {
   "name": "python"
  },
  "orig_nbformat": 4
 },
 "nbformat": 4,
 "nbformat_minor": 2
}
