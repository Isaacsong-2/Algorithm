{
 "cells": [
  {
   "cell_type": "code",
   "execution_count": 33,
   "metadata": {},
   "outputs": [],
   "source": [
    "n = int(input())\n",
    "m = int(input())\n",
    "graph = [[] for _ in range(n)]\n",
    "for i in range(m):\n",
    "    a,b,w = map(int, input().split())\n",
    "    a -= 1\n",
    "    b -= 1\n",
    "    graph[a].append((w,b))\n",
    "for i in range(n):\n",
    "    graph[i].sort()\n",
    "start, end = map(int,input().split())\n",
    "start -= 1\n",
    "end -= 1"
   ]
  },
  {
   "cell_type": "code",
   "execution_count": 35,
   "metadata": {},
   "outputs": [
    {
     "name": "stdout",
     "output_type": "stream",
     "text": [
      "[0, 2, 3, 1, 4]\n"
     ]
    }
   ],
   "source": [
    "# start, end = 0, 4\n",
    "import heapq\n",
    "def bfs(x):\n",
    "    visit[x] = 0\n",
    "    heap = []\n",
    "    heapq.heappush(heap, [0, start])\n",
    "    while(heap):\n",
    "        w, x = heapq.heappop(heap)\n",
    "        if visit[x] < w:\n",
    "            continue\n",
    "        for w, nx in graph[x]:\n",
    "            if visit[nx] > visit[x] + w:\n",
    "                visit[nx] = visit[x] + w\n",
    "                heapq.heappush(heap, [visit[x] + w, nx])\n",
    "visit = [10000000000] * n\n",
    "visit[start] = 0\n",
    "bfs(start)\n",
    "print(visit[end])"
   ]
  }
 ],
 "metadata": {
  "interpreter": {
   "hash": "53e059d21691b4acb4a64b9f63fef32a69804c1f4bf8b757b5579479fa8a32ee"
  },
  "kernelspec": {
   "display_name": "Python 3.7.2 64-bit",
   "language": "python",
   "name": "python3"
  },
  "language_info": {
   "codemirror_mode": {
    "name": "ipython",
    "version": 3
   },
   "file_extension": ".py",
   "mimetype": "text/x-python",
   "name": "python",
   "nbconvert_exporter": "python",
   "pygments_lexer": "ipython3",
   "version": "3.7.2"
  },
  "orig_nbformat": 4
 },
 "nbformat": 4,
 "nbformat_minor": 2
}
