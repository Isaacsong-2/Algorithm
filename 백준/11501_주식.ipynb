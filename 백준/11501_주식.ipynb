{
 "cells": [
  {
   "cell_type": "code",
   "execution_count": 1,
   "metadata": {},
   "outputs": [
    {
     "name": "stdout",
     "output_type": "stream",
     "text": [
      "0\n",
      "10\n",
      "5\n"
     ]
    }
   ],
   "source": [
    "from collections import deque\n",
    "t = int(input())\n",
    "for _ in range(t):\n",
    "    n = int(input())\n",
    "    price = deque(map(int,input().split()))\n",
    "    cur = 0\n",
    "    ans = 0\n",
    "    for i in range(n-1,-1,-1):\n",
    "        if cur < price[i]:\n",
    "            cur = price[i]\n",
    "        else:\n",
    "            ans += cur-price[i]\n",
    "    print(ans)"
   ]
  }
 ],
 "metadata": {
  "interpreter": {
   "hash": "d75df686efc28afbc154e69ab3b02fa6abad8f31352f252b5de5b4a995eb825f"
  },
  "kernelspec": {
   "display_name": "Python 3.7.2 64-bit",
   "language": "python",
   "name": "python3"
  },
  "language_info": {
   "codemirror_mode": {
    "name": "ipython",
    "version": 3
   },
   "file_extension": ".py",
   "mimetype": "text/x-python",
   "name": "python",
   "nbconvert_exporter": "python",
   "pygments_lexer": "ipython3",
   "version": "3.7.2"
  },
  "orig_nbformat": 4
 },
 "nbformat": 4,
 "nbformat_minor": 2
}
