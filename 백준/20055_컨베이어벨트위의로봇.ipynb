{
 "cells": [
  {
   "cell_type": "code",
   "execution_count": 9,
   "metadata": {},
   "outputs": [],
   "source": [
    "n, k = map(int,input().split())\n",
    "li = list(map(int,input().split()))"
   ]
  },
  {
   "cell_type": "code",
   "execution_count": 10,
   "metadata": {},
   "outputs": [
    {
     "name": "stdout",
     "output_type": "stream",
     "text": [
      "472\n"
     ]
    }
   ],
   "source": [
    "ans = 0\n",
    "robot = [0] * n\n",
    "while(1):\n",
    "    ans += 1\n",
    "    # 1\n",
    "    tmp = li[-1]\n",
    "    li = [tmp] + li[:2*n-1]\n",
    "    robot = [0] + robot[:n-2] + [0]\n",
    "    # 2\n",
    "    for i in range(n-1,0,-1):\n",
    "        if li[i]>0 and robot[i] == 0 and robot[i-1] == 1:\n",
    "            robot[i] = 1\n",
    "            robot[i-1] = 0\n",
    "            li[i] -= 1\n",
    "    # 3\n",
    "    if li[0] > 0:\n",
    "        robot[0] = 1\n",
    "        li[0] -= 1\n",
    "    # 4\n",
    "    if li.count(0) >= k:\n",
    "        break\n",
    "print(ans)"
   ]
  }
 ],
 "metadata": {
  "kernelspec": {
   "display_name": "Python 3.7.2 64-bit",
   "language": "python",
   "name": "python3"
  },
  "language_info": {
   "codemirror_mode": {
    "name": "ipython",
    "version": 3
   },
   "file_extension": ".py",
   "mimetype": "text/x-python",
   "name": "python",
   "nbconvert_exporter": "python",
   "pygments_lexer": "ipython3",
   "version": "3.7.2"
  },
  "orig_nbformat": 4,
  "vscode": {
   "interpreter": {
    "hash": "d75df686efc28afbc154e69ab3b02fa6abad8f31352f252b5de5b4a995eb825f"
   }
  }
 },
 "nbformat": 4,
 "nbformat_minor": 2
}
