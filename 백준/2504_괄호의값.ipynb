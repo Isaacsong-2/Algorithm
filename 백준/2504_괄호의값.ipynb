{
 "cells": [
  {
   "cell_type": "code",
   "execution_count": 6,
   "metadata": {},
   "outputs": [],
   "source": [
    "li = input()"
   ]
  },
  {
   "cell_type": "code",
   "execution_count": 7,
   "metadata": {},
   "outputs": [
    {
     "name": "stdout",
     "output_type": "stream",
     "text": [
      "0\n"
     ]
    }
   ],
   "source": [
    "stack = []\n",
    "ans = 0\n",
    "temp = 1\n",
    "for i,br in enumerate(li):\n",
    "    if br == \"(\":\n",
    "        stack.append(br)\n",
    "        temp *= 2\n",
    "    elif br == \"[\":\n",
    "        stack.append(br)\n",
    "        temp *= 3\n",
    "    elif br == \")\":\n",
    "        if not stack or stack[-1] == \"[\":\n",
    "            ans = 0\n",
    "            break\n",
    "        if li[i-1] == \"(\":\n",
    "            ans += temp\n",
    "        stack.pop()\n",
    "        temp //= 2\n",
    "    else:\n",
    "        if not stack or stack[-1] == \"(\":\n",
    "            ans = 0\n",
    "            break\n",
    "        if li[i-1] == \"[\":\n",
    "            ans += temp\n",
    "        stack.pop()\n",
    "        temp //= 3\n",
    "print(0) if stack else print(ans)"
   ]
  }
 ],
 "metadata": {
  "kernelspec": {
   "display_name": "Python 3.7.2 64-bit",
   "language": "python",
   "name": "python3"
  },
  "language_info": {
   "codemirror_mode": {
    "name": "ipython",
    "version": 3
   },
   "file_extension": ".py",
   "mimetype": "text/x-python",
   "name": "python",
   "nbconvert_exporter": "python",
   "pygments_lexer": "ipython3",
   "version": "3.7.2"
  },
  "orig_nbformat": 4,
  "vscode": {
   "interpreter": {
    "hash": "d75df686efc28afbc154e69ab3b02fa6abad8f31352f252b5de5b4a995eb825f"
   }
  }
 },
 "nbformat": 4,
 "nbformat_minor": 2
}
