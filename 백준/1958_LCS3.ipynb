{
 "cells": [
  {
   "cell_type": "code",
   "execution_count": 36,
   "metadata": {},
   "outputs": [],
   "source": [
    "st1 = input()\n",
    "st2 = input()\n",
    "st3 = input()"
   ]
  },
  {
   "cell_type": "code",
   "execution_count": 37,
   "metadata": {},
   "outputs": [
    {
     "name": "stdout",
     "output_type": "stream",
     "text": [
      "a a a\n",
      "1\n"
     ]
    }
   ],
   "source": [
    "n = len(st1)\n",
    "m = len(st2)\n",
    "l = len(st3)\n",
    "dp = [[[0]*(l+1) for i in range(m+1)] for j in range(n+1)]\n",
    "\n",
    "ans = 0\n",
    "\n",
    "for i in range(n):\n",
    "    for j in range(m):\n",
    "        for k in range(l):\n",
    "            if st1[i] == st2[j] and st2[j] == st3[k]:\n",
    "                dp[i][j][k] = dp[i-1][j-1][k-1] + 1\n",
    "            else:\n",
    "                dp[i][j][k] = max(dp[i][j][k-1], dp[i][j-1][k], dp[i-1][j][k])\n",
    "            ans = max(ans, dp[i][j][k])\n",
    "print(ans)"
   ]
  }
 ],
 "metadata": {
  "kernelspec": {
   "display_name": "Python 3",
   "language": "python",
   "name": "python3"
  },
  "language_info": {
   "codemirror_mode": {
    "name": "ipython",
    "version": 3
   },
   "file_extension": ".py",
   "mimetype": "text/x-python",
   "name": "python",
   "nbconvert_exporter": "python",
   "pygments_lexer": "ipython3",
   "version": "3.7.2"
  },
  "orig_nbformat": 4,
  "vscode": {
   "interpreter": {
    "hash": "d75df686efc28afbc154e69ab3b02fa6abad8f31352f252b5de5b4a995eb825f"
   }
  }
 },
 "nbformat": 4,
 "nbformat_minor": 2
}
