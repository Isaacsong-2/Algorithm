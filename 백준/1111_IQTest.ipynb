{
 "cells": [
  {
   "cell_type": "code",
   "execution_count": 47,
   "metadata": {},
   "outputs": [],
   "source": [
    "n = int(input())\n",
    "li = list(map(int,input().split()))"
   ]
  },
  {
   "cell_type": "code",
   "execution_count": 48,
   "metadata": {},
   "outputs": [
    {
     "name": "stdout",
     "output_type": "stream",
     "text": [
      "B\n"
     ]
    }
   ],
   "source": [
    "exist = 1\n",
    "if n == 1:\n",
    "    print('A')\n",
    "elif n == 2:\n",
    "    if li[0] == li[1]:\n",
    "        print(li[0])\n",
    "    else:\n",
    "        print('A')\n",
    "else:\n",
    "    if li[0] == li[1]:\n",
    "        for i in range(2, n):\n",
    "            if li[i] != li[i-1]:\n",
    "                print('B')\n",
    "                exist = 0\n",
    "                break\n",
    "        a = 1\n",
    "        b = 0\n",
    "    else:\n",
    "        a = (li[2]-li[1]-li[1]+li[0])//(li[1] - li[0])+1\n",
    "        b = li[1] - a*li[0]\n",
    "        for i in range(2,n):\n",
    "            if li[i] != a*li[i-1] + b:\n",
    "                print('B')\n",
    "                exist = 0\n",
    "                break\n",
    "        sol = a*li[-1] + b\n",
    "    if exist == 1:\n",
    "        print(a*li[-1] + b)"
   ]
  }
 ],
 "metadata": {
  "interpreter": {
   "hash": "53e059d21691b4acb4a64b9f63fef32a69804c1f4bf8b757b5579479fa8a32ee"
  },
  "kernelspec": {
   "display_name": "Python 3.7.2 64-bit",
   "language": "python",
   "name": "python3"
  },
  "language_info": {
   "codemirror_mode": {
    "name": "ipython",
    "version": 3
   },
   "file_extension": ".py",
   "mimetype": "text/x-python",
   "name": "python",
   "nbconvert_exporter": "python",
   "pygments_lexer": "ipython3",
   "version": "3.7.2"
  },
  "orig_nbformat": 4
 },
 "nbformat": 4,
 "nbformat_minor": 2
}
