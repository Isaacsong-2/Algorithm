{
 "cells": [
  {
   "cell_type": "code",
   "execution_count": 12,
   "metadata": {},
   "outputs": [],
   "source": [
    "n,s,m = map(int,input().split())\n",
    "li = list(map(int,input().split()))"
   ]
  },
  {
   "cell_type": "code",
   "execution_count": 14,
   "metadata": {},
   "outputs": [
    {
     "name": "stdout",
     "output_type": "stream",
     "text": [
      "238\n"
     ]
    }
   ],
   "source": [
    "dp = [[-1] * (m+1) for _ in range(n+1)]\n",
    "dp[0][s] = 1\n",
    "for i in range(n):\n",
    "    for j in range(m+1):\n",
    "        if dp[i][j] != -1:\n",
    "            if 0<=j+li[i]<=m:\n",
    "                dp[i+1][j+li[i]] = j+li[i]\n",
    "            if 0<=j-li[i]<=m:\n",
    "                dp[i+1][j-li[i]] = j-li[i]\n",
    "print(max(dp[n]))"
   ]
  }
 ],
 "metadata": {
  "kernelspec": {
   "display_name": "Python 3.7.2 64-bit",
   "language": "python",
   "name": "python3"
  },
  "language_info": {
   "codemirror_mode": {
    "name": "ipython",
    "version": 3
   },
   "file_extension": ".py",
   "mimetype": "text/x-python",
   "name": "python",
   "nbconvert_exporter": "python",
   "pygments_lexer": "ipython3",
   "version": "3.7.2"
  },
  "orig_nbformat": 4,
  "vscode": {
   "interpreter": {
    "hash": "d75df686efc28afbc154e69ab3b02fa6abad8f31352f252b5de5b4a995eb825f"
   }
  }
 },
 "nbformat": 4,
 "nbformat_minor": 2
}
