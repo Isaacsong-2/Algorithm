{
 "cells": [
  {
   "cell_type": "code",
   "execution_count": 80,
   "metadata": {},
   "outputs": [],
   "source": [
    "password = \"0\"+input()"
   ]
  },
  {
   "cell_type": "code",
   "execution_count": 81,
   "metadata": {},
   "outputs": [
    {
     "name": "stdout",
     "output_type": "stream",
     "text": [
      "89\n"
     ]
    }
   ],
   "source": [
    "n = len(password)-1\n",
    "dp = [1]*1 + [0]*n\n",
    "for i in range(1,n+1):\n",
    "    if int(password[i]) == 0 and (int(password[i-1]) != 1 and int(password[i-1])!= 2):\n",
    "        break\n",
    "    if int(password[i-1]) == 1 or (int(password[i-1]) == 2 and int(password[i]) <= 6):\n",
    "        if int(password[i]) == 0:\n",
    "            dp[i] = dp[i-2]\n",
    "        else:\n",
    "            dp[i] = dp[i-1] + dp[i-2]\n",
    "    else:\n",
    "        dp[i] = dp[i-1]\n",
    "print(dp[n]%1000000)"
   ]
  }
 ],
 "metadata": {
  "kernelspec": {
   "display_name": "Python 3.7.2 64-bit",
   "language": "python",
   "name": "python3"
  },
  "language_info": {
   "codemirror_mode": {
    "name": "ipython",
    "version": 3
   },
   "file_extension": ".py",
   "mimetype": "text/x-python",
   "name": "python",
   "nbconvert_exporter": "python",
   "pygments_lexer": "ipython3",
   "version": "3.7.2"
  },
  "orig_nbformat": 4,
  "vscode": {
   "interpreter": {
    "hash": "d75df686efc28afbc154e69ab3b02fa6abad8f31352f252b5de5b4a995eb825f"
   }
  }
 },
 "nbformat": 4,
 "nbformat_minor": 2
}
