{
 "cells": [
  {
   "cell_type": "code",
   "execution_count": 13,
   "metadata": {},
   "outputs": [],
   "source": [
    "n, m = map(int,input().split())\n",
    "temp = list(map(int,input().split()))\n",
    "# truth = []\n",
    "truth = [0] * (n+1)\n",
    "if temp[0] != 0:\n",
    "    for i in range(1,len(temp)):\n",
    "        # truth.append(temp[i])\n",
    "        truth[temp[i]] = 1\n",
    "party = []\n",
    "for i in range(m):\n",
    "    temp = list(map(int,input().split()))\n",
    "    party.append(temp[1:])"
   ]
  },
  {
   "cell_type": "code",
   "execution_count": 16,
   "metadata": {},
   "outputs": [
    {
     "name": "stdout",
     "output_type": "stream",
     "text": [
      "0\n"
     ]
    }
   ],
   "source": [
    "for i in range(m):\n",
    "    for participants in party:\n",
    "        for participant in participants:\n",
    "            if truth[participant] == 1:\n",
    "                for addtruth in participants:\n",
    "                    truth[addtruth] = 1\n",
    "                break\n",
    "\n",
    "sol = m\n",
    "for participants in party:\n",
    "    for participant in participants:\n",
    "        if truth[participant] == 1:\n",
    "            sol -= 1\n",
    "            break\n",
    "print(sol)\n"
   ]
  }
 ],
 "metadata": {
  "interpreter": {
   "hash": "53e059d21691b4acb4a64b9f63fef32a69804c1f4bf8b757b5579479fa8a32ee"
  },
  "kernelspec": {
   "display_name": "Python 3.7.2 64-bit",
   "language": "python",
   "name": "python3"
  },
  "language_info": {
   "codemirror_mode": {
    "name": "ipython",
    "version": 3
   },
   "file_extension": ".py",
   "mimetype": "text/x-python",
   "name": "python",
   "nbconvert_exporter": "python",
   "pygments_lexer": "ipython3",
   "version": "3.7.2"
  },
  "orig_nbformat": 4
 },
 "nbformat": 4,
 "nbformat_minor": 2
}
