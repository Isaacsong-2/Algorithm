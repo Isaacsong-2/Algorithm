{
 "cells": [
  {
   "cell_type": "code",
   "execution_count": 21,
   "metadata": {},
   "outputs": [],
   "source": [
    "n, m, b = map(int,input().split())\n",
    "li = [list(map(int,input().split())) for _ in range(n)]"
   ]
  },
  {
   "cell_type": "code",
   "execution_count": 25,
   "metadata": {},
   "outputs": [
    {
     "name": "stdout",
     "output_type": "stream",
     "text": [
      "22 63\n"
     ]
    }
   ],
   "source": [
    "ans = [1000000000, 0]\n",
    "for height in range(257):\n",
    "    block = b\n",
    "    temp = 0\n",
    "    for i in range(n):\n",
    "        for j in range(m):\n",
    "            dist = li[i][j] - height\n",
    "            block += dist\n",
    "            if li[i][j] > height:\n",
    "                temp += 2*(dist)\n",
    "            else:\n",
    "                temp -= dist\n",
    "    if block >= 0 and temp <= ans[0]:\n",
    "        ans = [temp, height]\n",
    "\n",
    "print(*ans)"
   ]
  }
 ],
 "metadata": {
  "kernelspec": {
   "display_name": "Python 3",
   "language": "python",
   "name": "python3"
  },
  "language_info": {
   "codemirror_mode": {
    "name": "ipython",
    "version": 3
   },
   "file_extension": ".py",
   "mimetype": "text/x-python",
   "name": "python",
   "nbconvert_exporter": "python",
   "pygments_lexer": "ipython3",
   "version": "3.7.2"
  },
  "orig_nbformat": 4,
  "vscode": {
   "interpreter": {
    "hash": "d75df686efc28afbc154e69ab3b02fa6abad8f31352f252b5de5b4a995eb825f"
   }
  }
 },
 "nbformat": 4,
 "nbformat_minor": 2
}
