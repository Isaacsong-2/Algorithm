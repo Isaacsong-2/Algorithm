{
 "cells": [
  {
   "cell_type": "code",
   "execution_count": 60,
   "metadata": {},
   "outputs": [],
   "source": [
    "n = int(input())\n",
    "tree =[[] for _ in range(n+1)]\n",
    "for _ in range(n-1):\n",
    "    a, b = map(int,input().split())\n",
    "    tree[a].append(b)\n",
    "    tree[b].append(a)"
   ]
  },
  {
   "cell_type": "code",
   "execution_count": 61,
   "metadata": {},
   "outputs": [
    {
     "name": "stdout",
     "output_type": "stream",
     "text": [
      "NO\n"
     ]
    }
   ],
   "source": [
    "# parents = [0 for _ in range(n+1)]\n",
    "parents = [1] * 2 + [0] * (n-1)\n",
    "def dfs(start, tree, parents,cnt):\n",
    "    global ans\n",
    "    # print(cnt, parents, start)\n",
    "    if start != 1 and len(tree[start]) == 1:\n",
    "        ans += cnt\n",
    "        # print(parents, cnt)\n",
    "        return\n",
    "    for i in tree[start]:\n",
    "        if parents[i] == 0:\n",
    "            parents[i] = start\n",
    "            dfs(i,tree,parents,cnt+1)\n",
    "ans = 0\n",
    "dfs(1,tree,parents,0)\n",
    "print(\"YES\") if ans%2 == 1 else print(\"NO\")\n"
   ]
  }
 ],
 "metadata": {
  "kernelspec": {
   "display_name": "Python 3.7.2 64-bit",
   "language": "python",
   "name": "python3"
  },
  "language_info": {
   "codemirror_mode": {
    "name": "ipython",
    "version": 3
   },
   "file_extension": ".py",
   "mimetype": "text/x-python",
   "name": "python",
   "nbconvert_exporter": "python",
   "pygments_lexer": "ipython3",
   "version": "3.7.2"
  },
  "orig_nbformat": 4,
  "vscode": {
   "interpreter": {
    "hash": "d75df686efc28afbc154e69ab3b02fa6abad8f31352f252b5de5b4a995eb825f"
   }
  }
 },
 "nbformat": 4,
 "nbformat_minor": 2
}
