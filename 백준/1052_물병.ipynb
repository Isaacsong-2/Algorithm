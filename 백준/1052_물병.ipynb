{
 "cells": [
  {
   "cell_type": "code",
   "execution_count": null,
   "metadata": {},
   "outputs": [],
   "source": [
    "n, k = map(int, input().split())\n",
    "\n",
    "ans = 0\n",
    "\n",
    "while bin(n).count('1') > k:\n",
    "    idx = bin(n)[::-1].index('1')\n",
    "    ans += 2**idx\n",
    "    n += 2**idx\n",
    "\n",
    "print(ans)"
   ]
  }
 ],
 "metadata": {
  "language_info": {
   "name": "python"
  },
  "orig_nbformat": 4
 },
 "nbformat": 4,
 "nbformat_minor": 2
}
