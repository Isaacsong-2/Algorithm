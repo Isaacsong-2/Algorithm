{
 "cells": [
  {
   "cell_type": "code",
   "execution_count": 4,
   "metadata": {},
   "outputs": [],
   "source": [
    "n,s = map(int,input().split())\n",
    "arr = list(map(int, input().split()))"
   ]
  },
  {
   "cell_type": "code",
   "execution_count": 10,
   "metadata": {},
   "outputs": [
    {
     "name": "stdout",
     "output_type": "stream",
     "text": [
      "1\n"
     ]
    }
   ],
   "source": [
    "# from itertools import combinations\n",
    "# cnt = 0\n",
    "# for i in range(1, len(arr)+1):\n",
    "#     l = list(combinations(arr,i))\n",
    "#     for j in l:\n",
    "#         if sum(j) == s:\n",
    "#             cnt += 1\n",
    "# print(cnt)\n",
    "cnt = 0\n",
    "def subset_sum(idx, sub_sum):\n",
    "    global cnt\n",
    "\n",
    "    if idx >= n:\n",
    "        return\n",
    "\n",
    "    sub_sum += arr[idx]\n",
    "\n",
    "    if sub_sum == s:\n",
    "        cnt += 1\n",
    "    \n",
    "    # 현재 arr[idx]를 선택한 경우의 가지\n",
    "    subset_sum(idx+1, sub_sum)\n",
    "\n",
    "    # 현재 arr[idx]를 선택하지 않은 경우의 가지\n",
    "    subset_sum(idx+1, sub_sum - arr[idx])\n",
    "\n",
    "subset_sum(0, 0)\n",
    "print(cnt)"
   ]
  }
 ],
 "metadata": {
  "interpreter": {
   "hash": "53e059d21691b4acb4a64b9f63fef32a69804c1f4bf8b757b5579479fa8a32ee"
  },
  "kernelspec": {
   "display_name": "Python 3.7.2 64-bit",
   "language": "python",
   "name": "python3"
  },
  "language_info": {
   "codemirror_mode": {
    "name": "ipython",
    "version": 3
   },
   "file_extension": ".py",
   "mimetype": "text/x-python",
   "name": "python",
   "nbconvert_exporter": "python",
   "pygments_lexer": "ipython3",
   "version": "3.7.2"
  },
  "orig_nbformat": 4
 },
 "nbformat": 4,
 "nbformat_minor": 2
}
