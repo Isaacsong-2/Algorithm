{
 "cells": [
  {
   "cell_type": "code",
   "execution_count": null,
   "metadata": {},
   "outputs": [],
   "source": [
    "n, m = map(int,input().split())\n",
    "miro = [list(str(input())) for _ in range(n)]"
   ]
  },
  {
   "cell_type": "code",
   "execution_count": 1,
   "metadata": {},
   "outputs": [],
   "source": [
    "from collections import deque\n",
    "def key_check(a):\n",
    "    if a == 'A':\n",
    "        if key.get('a') == 1: return 1\n",
    "    elif a == 'B':\n",
    "        if key.get('b') == 1: return 1\n",
    "    elif a == 'C':\n",
    "        if key.get('c') == 1: return 1\n",
    "    elif a == 'D':\n",
    "        if key.get('d') == 1: return 1\n",
    "    elif a == 'E':\n",
    "        if key.get('e') == 1: return 1\n",
    "    elif a == 'F':\n",
    "        if key.get('f') == 1: return 1\n",
    "    return 0\n",
    "def bfs(x,y):\n",
    "    visit = [[0]*m for _ in range(n)] \n",
    "    queue = deque([x,y])\n",
    "    while(queue):\n",
    "        x, y = queue.popleft()\n",
    "        for i in range(4):\n",
    "            nx = x + dx[i]\n",
    "            ny = y + dy[i]\n",
    "            if 0<=nx<n and 0<=ny<m and miro[nx][ny] != '#' and visit[nx][ny] == 0:\n",
    "                if miro[nx][ny] == '.':\n",
    "                    visit[nx][ny] = visit[x][y]=+1\n",
    "                    queue.append([nx,ny])\n",
    "                elif miro[nx][ny] == 1:\n",
    "                    return ([nx,ny,visit[x][y] + 1])\n",
    "                elif miro[nx][ny] == 'A' and miro[nx][ny] == 'B' and miro[nx][ny] == 'C' and miro[nx][ny] == 'D' and miro[nx][ny] == 'E' and miro[nx][ny] == 'F':\n",
    "                    if key_check(miro[nx][ny]):\n",
    "                        visit[nx][ny] = visit[x][y]=+1\n",
    "                        queue.append([nx, ny])\n",
    "                else:\n",
    "                    key[miro[nx][ny]] = 1\n",
    "                    return [nx,ny,visit[x][y] + 1]\n",
    "\n",
    "key = {'a':0,'b':0,'c':0,'d':0,'e':0,'f':0}\n",
    "# key = [0,0,0,0,0,0]\n",
    "open = [0,0,0,0,0,0]\n",
    "dx = [-1,1,0,0]\n",
    "dy = [0,0,-1,1]\n",
    "for i in range(n):\n",
    "    for j in range(m):\n",
    "        if miro[i][j] == 0:\n",
    "            r = i\n",
    "            c = j\n",
    "        if miro[i][j] == 0:\n",
    "            destination_r = i\n",
    "            destination_c = j\n",
    "while(not(r == destination_r and c == destination_c)):\n",
    "    \n"
   ]
  }
 ],
 "metadata": {
  "interpreter": {
   "hash": "53e059d21691b4acb4a64b9f63fef32a69804c1f4bf8b757b5579479fa8a32ee"
  },
  "kernelspec": {
   "display_name": "Python 3.7.2 64-bit",
   "language": "python",
   "name": "python3"
  },
  "language_info": {
   "codemirror_mode": {
    "name": "ipython",
    "version": 3
   },
   "file_extension": ".py",
   "mimetype": "text/x-python",
   "name": "python",
   "nbconvert_exporter": "python",
   "pygments_lexer": "ipython3",
   "version": "3.7.2"
  },
  "orig_nbformat": 4
 },
 "nbformat": 4,
 "nbformat_minor": 2
}
