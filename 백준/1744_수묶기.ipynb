{
 "cells": [
  {
   "cell_type": "code",
   "execution_count": 17,
   "metadata": {},
   "outputs": [],
   "source": [
    "n = int(input())\n",
    "left = []\n",
    "right = []\n",
    "for i in range(n):\n",
    "    num = int(input())\n",
    "    if num>0:\n",
    "        right.append(num)\n",
    "    else:\n",
    "        left.append(num)"
   ]
  },
  {
   "cell_type": "code",
   "execution_count": 20,
   "metadata": {},
   "outputs": [
    {
     "name": "stdout",
     "output_type": "stream",
     "text": [
      "2\n"
     ]
    }
   ],
   "source": [
    "right.sort(key=lambda x:-x)\n",
    "left.sort()\n",
    "sol = 0\n",
    "for i in range(len(left)):\n",
    "    if i % 2 == 0:\n",
    "        temp = left[i]\n",
    "    else:\n",
    "        sol += temp*left[i]\n",
    "        temp = 0\n",
    "try:\n",
    "    sol += temp\n",
    "except:\n",
    "    pass\n",
    "\n",
    "temp = 0\n",
    "for i in range(len(right)):\n",
    "    if i % 2 == 0:\n",
    "        temp = right[i]\n",
    "    else:\n",
    "        if right[i] != 1:\n",
    "            sol += temp*right[i]\n",
    "        else:\n",
    "            sol += temp + right[i]\n",
    "        temp = 0\n",
    "try:\n",
    "    sol += temp\n",
    "except:\n",
    "    pass\n",
    "\n",
    "print(sol)"
   ]
  }
 ],
 "metadata": {
  "interpreter": {
   "hash": "d75df686efc28afbc154e69ab3b02fa6abad8f31352f252b5de5b4a995eb825f"
  },
  "kernelspec": {
   "display_name": "Python 3.7.2 64-bit",
   "language": "python",
   "name": "python3"
  },
  "language_info": {
   "codemirror_mode": {
    "name": "ipython",
    "version": 3
   },
   "file_extension": ".py",
   "mimetype": "text/x-python",
   "name": "python",
   "nbconvert_exporter": "python",
   "pygments_lexer": "ipython3",
   "version": "3.7.2"
  },
  "orig_nbformat": 4
 },
 "nbformat": 4,
 "nbformat_minor": 2
}
