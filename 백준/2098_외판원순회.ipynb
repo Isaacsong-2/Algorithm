{
 "cells": [
  {
   "cell_type": "code",
   "execution_count": 1,
   "metadata": {},
   "outputs": [],
   "source": [
    "#구현실패\n",
    "n = int(input())\n",
    "cost = [list(map(int,input().split())) for _ in range(n)]\n",
    "dp = [[[20000000] * (1<<n) for i in range(n)] for j in range(n)]\n",
    "for i in range(1,n):\n",
    "    for j in range(n):\n",
    "        if i != j:\n",
    "            dp[0][i][1<<j] = cost[i][j]\n",
    "\n",
    "for i in range(1,n-1):\n",
    "    for j in range(1,n):\n",
    "        for k in range(1<<n):\n",
    "            if bin(k).count(\"1\") == i+1 and (k and 1<<j):\n",
    "                for l in range(n):\n",
    "                    dp[i][j][k] = min(dp[i][j][k], dp[i-1][l][k-(1<<j)]+cost[l][j])\n",
    "for l in range(n):\n",
    "    dp[n-1][0][(1<<n)-1] = min(dp[n-1][0][(1<<n)-1], dp[n-2][l][(1<<n)-2]+cost[l][0])\n",
    "    print(dp[n-2][l][(1<<n)-2])\n",
    "for i in range(n):\n",
    "    for j in range(n):\n",
    "        for k in range(1<<n):\n",
    "            if dp[i][j][k] == 20000000:\n",
    "                dp[i][j][k] = 0\n",
    "for i in range(n):\n",
    "    print(*dp[i])\n"
   ]
  },
  {
   "cell_type": "code",
   "execution_count": 77,
   "metadata": {},
   "outputs": [
    {
     "name": "stdout",
     "output_type": "stream",
     "text": [
      "35\n"
     ]
    }
   ],
   "source": [
    "#풀이참조\n",
    "n = int(input())\n",
    "INF = int(1e9)\n",
    "dp = [[INF] * (1 << n-1) for _ in range(n)]\n",
    "\n",
    "def dfs(x, visited):\n",
    "\n",
    "    if dp[x][visited] != INF:       # 이미 최소비용이 계산되어 있다면\n",
    "        return dp[x][visited]\n",
    "\n",
    "    if visited == (1 << n-1) - 1:     # 모든 도시를 방문했다면\n",
    "        if graph[x][0]:             # 출발점으로 가는 경로가 있을 때\n",
    "            return graph[x][0]\n",
    "        else:                       # 출발점으로 가는 경로가 없을 때\n",
    "            return INF\n",
    "\n",
    "    bound = INF\n",
    "    for i in range(1, n):           # 모든 도시를 탐방\n",
    "        if not graph[x][i]:         # 가는 경로가 없다면 skip\n",
    "            continue\n",
    "        if visited & (1 << i-1):      # 이미 방문한 도시라면 skip\n",
    "            continue\n",
    "        dist = graph[x][i] + dfs(i, visited|(1<<i-1))\n",
    "        if bound > dist:\n",
    "            bound = dist\n",
    "        # dp[x][visited] = min(dp[x][visited], dfs(i, visited | (1 << i-1)) + graph[x][i])\n",
    "    dp[x][visited] = bound \n",
    "    return bound # dp[x][visited] 로 리턴하면 시간초과\n",
    "graph = [list(map(int,input().split())) for _ in range(n)]\n",
    "\n",
    "print(dfs(0, 0))"
   ]
  }
 ],
 "metadata": {
  "kernelspec": {
   "display_name": "Python 3.7.2 64-bit",
   "language": "python",
   "name": "python3"
  },
  "language_info": {
   "codemirror_mode": {
    "name": "ipython",
    "version": 3
   },
   "file_extension": ".py",
   "mimetype": "text/x-python",
   "name": "python",
   "nbconvert_exporter": "python",
   "pygments_lexer": "ipython3",
   "version": "3.7.2"
  },
  "orig_nbformat": 4,
  "vscode": {
   "interpreter": {
    "hash": "d75df686efc28afbc154e69ab3b02fa6abad8f31352f252b5de5b4a995eb825f"
   }
  }
 },
 "nbformat": 4,
 "nbformat_minor": 2
}
