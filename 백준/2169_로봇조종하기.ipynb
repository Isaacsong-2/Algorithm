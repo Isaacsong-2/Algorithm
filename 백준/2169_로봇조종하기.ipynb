{
 "cells": [
  {
   "cell_type": "code",
   "execution_count": 25,
   "metadata": {},
   "outputs": [],
   "source": [
    "n, m = map(int,input().split())\n",
    "li = [list(map(int,input().split())) for _ in range(n)]"
   ]
  },
  {
   "cell_type": "code",
   "execution_count": 27,
   "metadata": {},
   "outputs": [
    {
     "name": "stdout",
     "output_type": "stream",
     "text": [
      "[[[1, -100000000, -100000000], [3, -100000000, -100000000]], [[10, 4, 10], [8, 8, 7]]]\n",
      "8\n"
     ]
    }
   ],
   "source": [
    "dp = [[[-100000000] * 3 for _ in range(m)] for _ in range(n)]\n",
    "dp[0][0][0] = li[0][0]\n",
    "for i in range(1,m):\n",
    "    dp[0][i][0] = dp[0][i-1][0] + li[0][i]\n",
    "for i in range(1,n):\n",
    "    for j in range(m):\n",
    "        dp[i][j][1] = max(dp[i][j-1][1],dp[i-1][j][0]) + li[i][j]\n",
    "    \n",
    "    for j in reversed(range(m)):\n",
    "        dp[i][j][2] = max(dp[i][(j+1)%m][2], dp[i-1][j][0]) + li[i][j]\n",
    "    \n",
    "    for j in range(m):\n",
    "        dp[i][j][0] = max(dp[i][j][1], dp[i][j][2])\n",
    "print(dp[n-1][m-1][0])"
   ]
  }
 ],
 "metadata": {
  "kernelspec": {
   "display_name": "Python 3.7.2 64-bit",
   "language": "python",
   "name": "python3"
  },
  "language_info": {
   "codemirror_mode": {
    "name": "ipython",
    "version": 3
   },
   "file_extension": ".py",
   "mimetype": "text/x-python",
   "name": "python",
   "nbconvert_exporter": "python",
   "pygments_lexer": "ipython3",
   "version": "3.7.2"
  },
  "orig_nbformat": 4,
  "vscode": {
   "interpreter": {
    "hash": "d75df686efc28afbc154e69ab3b02fa6abad8f31352f252b5de5b4a995eb825f"
   }
  }
 },
 "nbformat": 4,
 "nbformat_minor": 2
}
