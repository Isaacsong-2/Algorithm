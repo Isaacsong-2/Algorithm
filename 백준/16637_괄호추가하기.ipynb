{
 "cells": [
  {
   "cell_type": "code",
   "execution_count": 1,
   "metadata": {},
   "outputs": [],
   "source": [
    "n = int(input())\n",
    "form = input()"
   ]
  },
  {
   "cell_type": "code",
   "execution_count": 13,
   "metadata": {},
   "outputs": [
    {
     "name": "stdout",
     "output_type": "stream",
     "text": [
      "8*3+5+2\n",
      "66\n"
     ]
    }
   ],
   "source": [
    "print(form)#eval 사용해보기\n",
    "sol = int(form[0])\n",
    "visit = [0] * n\n",
    "for i in range(1,n-1,2):\n",
    "    if form[i] == '+':\n",
    "        if pre == '*':\n",
    "            sol += int(form[i-3])*int(form[i+1])\n",
    "        else:\n",
    "            sol += int(form[i+1])\n",
    "        pre = '+'\n",
    "    elif form[i] == '-':\n",
    "        if pre == '-':\n",
    "            sol -= int(form[i+1])\n",
    "        pre = '-'\n",
    "    else:\n",
    "        sol *= int(form[i+1])\n",
    "        pre = '*'\n",
    "print(sol)\n"
   ]
  }
 ],
 "metadata": {
  "interpreter": {
   "hash": "53e059d21691b4acb4a64b9f63fef32a69804c1f4bf8b757b5579479fa8a32ee"
  },
  "kernelspec": {
   "display_name": "Python 3.7.2 64-bit",
   "language": "python",
   "name": "python3"
  },
  "language_info": {
   "codemirror_mode": {
    "name": "ipython",
    "version": 3
   },
   "file_extension": ".py",
   "mimetype": "text/x-python",
   "name": "python",
   "nbconvert_exporter": "python",
   "pygments_lexer": "ipython3",
   "version": "3.7.2"
  },
  "orig_nbformat": 4
 },
 "nbformat": 4,
 "nbformat_minor": 2
}
