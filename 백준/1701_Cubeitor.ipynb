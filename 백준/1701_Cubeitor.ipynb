{
 "cells": [
  {
   "cell_type": "code",
   "execution_count": 4,
   "metadata": {},
   "outputs": [],
   "source": [
    "li = input()"
   ]
  },
  {
   "cell_type": "code",
   "execution_count": 6,
   "metadata": {},
   "outputs": [
    {
     "name": "stdout",
     "output_type": "stream",
     "text": [
      "3\n"
     ]
    }
   ],
   "source": [
    "n = len(li)\n",
    "ans = 0\n",
    "for i in range(n):\n",
    "    pattern = li[i:]\n",
    "    temp = [0] * (n-i)\n",
    "    k= 0\n",
    "    for j in range(1, n-i):\n",
    "        while k>0 and pattern[j] != pattern[k]:\n",
    "            k = temp[k-1]\n",
    "        \n",
    "        if pattern[j] == pattern[k]:\n",
    "            k += 1\n",
    "            temp[j] = k\n",
    "    ans = max(ans, max(temp))\n",
    "print(ans)  "
   ]
  }
 ],
 "metadata": {
  "kernelspec": {
   "display_name": "Python 3",
   "language": "python",
   "name": "python3"
  },
  "language_info": {
   "codemirror_mode": {
    "name": "ipython",
    "version": 3
   },
   "file_extension": ".py",
   "mimetype": "text/x-python",
   "name": "python",
   "nbconvert_exporter": "python",
   "pygments_lexer": "ipython3",
   "version": "3.7.2"
  },
  "orig_nbformat": 4,
  "vscode": {
   "interpreter": {
    "hash": "d75df686efc28afbc154e69ab3b02fa6abad8f31352f252b5de5b4a995eb825f"
   }
  }
 },
 "nbformat": 4,
 "nbformat_minor": 2
}
