{
 "cells": [
  {
   "cell_type": "code",
   "execution_count": 12,
   "metadata": {},
   "outputs": [],
   "source": [
    "V, e = map(int,input().split())\n",
    "k = int(input())\n",
    "graph = [[] * (V+1) for _ in range(V+1)]\n",
    "for i in range(e):\n",
    "    u, v, w = map(int,input().split())\n",
    "    graph[u].append((v,w))"
   ]
  },
  {
   "cell_type": "code",
   "execution_count": 18,
   "metadata": {},
   "outputs": [
    {
     "name": "stdout",
     "output_type": "stream",
     "text": [
      "0\n",
      "2\n",
      "3\n",
      "7\n",
      "INF\n"
     ]
    }
   ],
   "source": [
    "import heapq\n",
    "INF = 4000000\n",
    "sol = [INF] * (V+1)\n",
    "def dijkstra(start):\n",
    "    queue = []\n",
    "    heapq.heappush(queue, (0,start))\n",
    "    sol[start] = 0\n",
    "    while queue:\n",
    "        d, n = heapq.heappop(queue)\n",
    "        if sol[n] < d:\n",
    "            continue\n",
    "        for i in graph[n]:\n",
    "            cost = d + i[1]\n",
    "            temp = 0\n",
    "            if cost < sol[i[0]]:\n",
    "                sol[i[0]] = cost\n",
    "                heapq.heappush(queue, (cost, i[0]))\n",
    "            #     sol[i] = min(graph[start][i], sol[i])\n",
    "dijkstra(k)\n",
    "for i in range(1,V+1):\n",
    "    if sol[i] != INF:\n",
    "        print(sol[i])\n",
    "    else:\n",
    "        print('INF')"
   ]
  }
 ],
 "metadata": {
  "interpreter": {
   "hash": "53e059d21691b4acb4a64b9f63fef32a69804c1f4bf8b757b5579479fa8a32ee"
  },
  "kernelspec": {
   "display_name": "Python 3.7.2 64-bit",
   "language": "python",
   "name": "python3"
  },
  "language_info": {
   "codemirror_mode": {
    "name": "ipython",
    "version": 3
   },
   "file_extension": ".py",
   "mimetype": "text/x-python",
   "name": "python",
   "nbconvert_exporter": "python",
   "pygments_lexer": "ipython3",
   "version": "3.7.2"
  },
  "orig_nbformat": 4
 },
 "nbformat": 4,
 "nbformat_minor": 2
}
