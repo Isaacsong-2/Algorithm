{
 "cells": [
  {
   "cell_type": "code",
   "execution_count": 4,
   "metadata": {},
   "outputs": [],
   "source": [
    "n = int(input())\n",
    "n1, n2 = map(int,input().split())\n",
    "m = int(input())\n",
    "graph = [[0]*(n+1) for _ in range(n+1)]\n",
    "for i in range(m):\n",
    "    a, b = map(int,input().split())\n",
    "    graph[a][b] = 1\n",
    "    graph[b][a] = 1\n"
   ]
  },
  {
   "cell_type": "code",
   "execution_count": 14,
   "metadata": {},
   "outputs": [
    {
     "name": "stdout",
     "output_type": "stream",
     "text": [
      "3\n"
     ]
    }
   ],
   "source": [
    "visit = [0] * (n+1)\n",
    "cnt = [0 for i in range(n+1)]\n",
    "def bfs(v):\n",
    "    global cnt\n",
    "    queue = [v]\n",
    "    visit[v] = 1\n",
    "    while queue:\n",
    "        v = queue.pop(0)\n",
    "        for i in range(1, n+1):\n",
    "            if visit[i] == 0 and graph[v][i] == 1:\n",
    "                queue.append(i)\n",
    "                visit[i] = 1\n",
    "                cnt[i] = cnt[v] + 1\n",
    "bfs(n1)\n",
    "print(cnt[n2] if cnt[n2] !=0 else -1)"
   ]
  }
 ],
 "metadata": {
  "interpreter": {
   "hash": "53e059d21691b4acb4a64b9f63fef32a69804c1f4bf8b757b5579479fa8a32ee"
  },
  "kernelspec": {
   "display_name": "Python 3.7.2 64-bit",
   "language": "python",
   "name": "python3"
  },
  "language_info": {
   "codemirror_mode": {
    "name": "ipython",
    "version": 3
   },
   "file_extension": ".py",
   "mimetype": "text/x-python",
   "name": "python",
   "nbconvert_exporter": "python",
   "pygments_lexer": "ipython3",
   "version": "3.7.2"
  },
  "orig_nbformat": 4
 },
 "nbformat": 4,
 "nbformat_minor": 2
}
