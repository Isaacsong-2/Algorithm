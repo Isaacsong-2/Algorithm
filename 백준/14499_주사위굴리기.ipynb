{
 "cells": [
  {
   "cell_type": "code",
   "execution_count": 22,
   "metadata": {},
   "outputs": [],
   "source": [
    "n,m,x,y,k = map(int,input().split())\n",
    "li = [list(map(int,input().split())) for _ in range(n)]\n",
    "op = list(map(int,input().split()))"
   ]
  },
  {
   "cell_type": "code",
   "execution_count": 23,
   "metadata": {},
   "outputs": [
    {
     "name": "stdout",
     "output_type": "stream",
     "text": [
      "0\n",
      "0\n",
      "0\n",
      "6\n",
      "0\n",
      "8\n",
      "0\n",
      "2\n",
      "0\n",
      "8\n",
      "0\n",
      "2\n",
      "0\n",
      "8\n",
      "0\n",
      "2\n"
     ]
    }
   ],
   "source": [
    "# n,m,x,y,k = 4,2,0,0,8\n",
    "# li = [[0,2],[3,4],[5,6],[7,8]]\n",
    "# op = [4,4,4,1,3,3,3,2]\n",
    "dice = [0,0,0,0,0,0] \n",
    "                    # 위 북 동 서 남 아래\n",
    "                    #동쪽이면 [4,2,1,6,5,3]\n",
    "                    #서쪽이면 [3,2,6,1,5,4]\n",
    "                    #북쪽이면 [5,1,3,4,6,2]\n",
    "                    #남쪽이면 [2,6,3,4,1,5]\n",
    "dx = [0,0,-1,1]\n",
    "dy = [1,-1,0,0]\n",
    "for operation in op:\n",
    "    nx = x + dx[operation-1]\n",
    "    ny = y + dy[operation-1]\n",
    "    if 0<=nx<n and 0<=ny<m:\n",
    "        if operation == 1:\n",
    "            dice = [dice[3],dice[1],dice[0],dice[5],dice[4],dice[2]]\n",
    "        elif operation == 2:\n",
    "            dice = [dice[2],dice[1],dice[5],dice[0],dice[4],dice[3]]\n",
    "        elif operation == 3: \n",
    "            dice = [dice[4],dice[0],dice[2],dice[3],dice[5],dice[1]]\n",
    "        elif operation == 4:\n",
    "            dice = [dice[1],dice[5],dice[2],dice[3],dice[0],dice[4]]\n",
    "        if li[nx][ny] == 0:\n",
    "            li[nx][ny] = dice[5]\n",
    "        else:\n",
    "            dice[5] = li[nx][ny]\n",
    "            li[nx][ny] = 0\n",
    "        x = nx\n",
    "        y = ny\n",
    "        print(dice[0])"
   ]
  }
 ],
 "metadata": {
  "interpreter": {
   "hash": "53e059d21691b4acb4a64b9f63fef32a69804c1f4bf8b757b5579479fa8a32ee"
  },
  "kernelspec": {
   "display_name": "Python 3.7.2 64-bit",
   "language": "python",
   "name": "python3"
  },
  "language_info": {
   "codemirror_mode": {
    "name": "ipython",
    "version": 3
   },
   "file_extension": ".py",
   "mimetype": "text/x-python",
   "name": "python",
   "nbconvert_exporter": "python",
   "pygments_lexer": "ipython3",
   "version": "3.7.2"
  },
  "orig_nbformat": 4
 },
 "nbformat": 4,
 "nbformat_minor": 2
}
