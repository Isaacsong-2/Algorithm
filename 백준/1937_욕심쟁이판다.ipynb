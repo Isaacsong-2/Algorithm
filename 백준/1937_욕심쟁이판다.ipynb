{
 "cells": [
  {
   "cell_type": "code",
   "execution_count": 1,
   "metadata": {},
   "outputs": [],
   "source": [
    "n = int(input())\n",
    "li = [list(map(int,input().split())) for _ in range(n)]"
   ]
  },
  {
   "cell_type": "code",
   "execution_count": 9,
   "metadata": {},
   "outputs": [
    {
     "name": "stdout",
     "output_type": "stream",
     "text": [
      "4\n"
     ]
    }
   ],
   "source": [
    "dx = [-1,1,0,0]\n",
    "dy = [0,0,-1,1]\n",
    "dp = [[0] * n for _ in range(n)]\n",
    "def dfs(x,y):\n",
    "    if dp[x][y] == 0:\n",
    "        dp[x][y] = 1\n",
    "        for i in range(4):\n",
    "            nx = x+dx[i]\n",
    "            ny = y+dy[i]\n",
    "            if 0<=nx<n and 0<=ny<n:\n",
    "                if li[nx][ny] > li[x][y]:\n",
    "                    dp[x][y] = max(dp[x][y], dfs(nx,ny))\n",
    "    return dp[x][y]+1\n",
    "for i in range(n):\n",
    "    for j in range(n):\n",
    "        dfs(i,j)\n",
    "ans = 1\n",
    "for i in range(n):\n",
    "    ans = max(ans,max(dp[i]))\n",
    "print(ans)"
   ]
  }
 ],
 "metadata": {
  "kernelspec": {
   "display_name": "Python 3.7.2 64-bit",
   "language": "python",
   "name": "python3"
  },
  "language_info": {
   "codemirror_mode": {
    "name": "ipython",
    "version": 3
   },
   "file_extension": ".py",
   "mimetype": "text/x-python",
   "name": "python",
   "nbconvert_exporter": "python",
   "pygments_lexer": "ipython3",
   "version": "3.7.2"
  },
  "orig_nbformat": 4,
  "vscode": {
   "interpreter": {
    "hash": "d75df686efc28afbc154e69ab3b02fa6abad8f31352f252b5de5b4a995eb825f"
   }
  }
 },
 "nbformat": 4,
 "nbformat_minor": 2
}
