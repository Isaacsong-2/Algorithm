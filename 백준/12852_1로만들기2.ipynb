{
 "cells": [
  {
   "cell_type": "code",
   "execution_count": 52,
   "metadata": {},
   "outputs": [
    {
     "name": "stdout",
     "output_type": "stream",
     "text": [
      "5\n",
      "48 16 8 4 3 1\n"
     ]
    }
   ],
   "source": [
    "n = int(input())\n",
    "dp = [[] for i in range(n+1)]\n",
    "for i in range(1,n+1):\n",
    "    dp[i] = dp[i-1][:]\n",
    "    if i%3 == 0 and len(dp[i]) > len(dp[i//3]):\n",
    "        dp[i] = dp[i//3][:]\n",
    "    if i%2 == 0 and len(dp[i]) > len(dp[i//2]):\n",
    "        dp[i] = dp[i//2][:]\n",
    "    dp[i].append(i)\n",
    "print(len(dp[n])-1)\n",
    "print(*reversed(dp[n]))\n",
    "# for i in range(n+1):\n",
    "#     print(dp[i])"
   ]
  },
  {
   "cell_type": "code",
   "execution_count": null,
   "metadata": {},
   "outputs": [],
   "source": []
  }
 ],
 "metadata": {
  "kernelspec": {
   "display_name": "Python 3.7.2 64-bit",
   "language": "python",
   "name": "python3"
  },
  "language_info": {
   "codemirror_mode": {
    "name": "ipython",
    "version": 3
   },
   "file_extension": ".py",
   "mimetype": "text/x-python",
   "name": "python",
   "nbconvert_exporter": "python",
   "pygments_lexer": "ipython3",
   "version": "3.7.2"
  },
  "orig_nbformat": 4,
  "vscode": {
   "interpreter": {
    "hash": "d75df686efc28afbc154e69ab3b02fa6abad8f31352f252b5de5b4a995eb825f"
   }
  }
 },
 "nbformat": 4,
 "nbformat_minor": 2
}
