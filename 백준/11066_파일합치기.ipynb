{
 "cells": [
  {
   "cell_type": "code",
   "execution_count": 8,
   "metadata": {},
   "outputs": [
    {
     "name": "stdout",
     "output_type": "stream",
     "text": [
      "300\n",
      "826\n"
     ]
    }
   ],
   "source": [
    "# 합칠때 연속이여야함\n",
    "import heapq\n",
    "t = int(input())\n",
    "for _ in range(t):\n",
    "    k = int(input())\n",
    "    file = list(map(int,input().split()))\n",
    "    heapq.heapify(file)\n",
    "    ans = 0\n",
    "    for i in range(k-1):\n",
    "        a = heapq.heappop(file)\n",
    "        b = heapq.heappop(file)\n",
    "        ans += a+b\n",
    "        heapq.heappush(file,a+b)\n",
    "    print(ans)\n"
   ]
  },
  {
   "cell_type": "code",
   "execution_count": 11,
   "metadata": {},
   "outputs": [
    {
     "name": "stdout",
     "output_type": "stream",
     "text": [
      "300\n",
      "864\n"
     ]
    }
   ],
   "source": [
    "t = int(input())\n",
    "for _ in range(t):\n",
    "    k = int(input())\n",
    "    file = [0] + list(map(int,input().split()))\n",
    "    cumul = [0 for _ in range(k+1)]\n",
    "    for i in range(1,k+1):\n",
    "        cumul[i] = cumul[i-1]+file[i]\n",
    "    \n",
    "    dp = [[0]*(k+1) for _ in range(k+1)]\n",
    "    for i in range(2,k+1):\n",
    "        for j in range(1, k+2-i):\n",
    "            dp[j][j+i-1] = min([dp[j][j+k] + dp[j+k+1][j+i-1] for k in range(i-1)]) + cumul[j+i-1] - cumul[j-1]\n",
    "    print(dp[1][k])"
   ]
  }
 ],
 "metadata": {
  "kernelspec": {
   "display_name": "Python 3.7.2 64-bit",
   "language": "python",
   "name": "python3"
  },
  "language_info": {
   "codemirror_mode": {
    "name": "ipython",
    "version": 3
   },
   "file_extension": ".py",
   "mimetype": "text/x-python",
   "name": "python",
   "nbconvert_exporter": "python",
   "pygments_lexer": "ipython3",
   "version": "3.7.2"
  },
  "orig_nbformat": 4,
  "vscode": {
   "interpreter": {
    "hash": "d75df686efc28afbc154e69ab3b02fa6abad8f31352f252b5de5b4a995eb825f"
   }
  }
 },
 "nbformat": 4,
 "nbformat_minor": 2
}
