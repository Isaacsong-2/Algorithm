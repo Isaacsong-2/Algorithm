{
 "cells": [
  {
   "cell_type": "code",
   "execution_count": 4,
   "metadata": {},
   "outputs": [
    {
     "name": "stdout",
     "output_type": "stream",
     "text": [
      "-1\n",
      "-1\n",
      "1\n",
      "0\n",
      "-1\n"
     ]
    }
   ],
   "source": [
    "from collections import deque\n",
    "n = int(input(0))\n",
    "queue = deque([])\n",
    "for i in range(n):\n",
    "    order = list(input().split())\n",
    "    if order[0] == 'push':\n",
    "        queue.append(order[1])\n",
    "    elif order[0] == 'pop':\n",
    "        if queue: print(queue.popleft())\n",
    "        else: print(-1)\n",
    "    elif order[0] == 'size':\n",
    "        print(len(queue))\n",
    "    elif order[0] == 'empty':\n",
    "        if queue: print(0)\n",
    "        else: print(1)\n",
    "    elif order[0] == 'front':\n",
    "        if queue: print(queue[0])\n",
    "        else: print(-1)\n",
    "    elif order[0] == 'back':\n",
    "        if queue: print(queue[-1])\n",
    "        else: print(-1)\n",
    "\n"
   ]
  }
 ],
 "metadata": {
  "interpreter": {
   "hash": "53e059d21691b4acb4a64b9f63fef32a69804c1f4bf8b757b5579479fa8a32ee"
  },
  "kernelspec": {
   "display_name": "Python 3.7.2 64-bit",
   "language": "python",
   "name": "python3"
  },
  "language_info": {
   "codemirror_mode": {
    "name": "ipython",
    "version": 3
   },
   "file_extension": ".py",
   "mimetype": "text/x-python",
   "name": "python",
   "nbconvert_exporter": "python",
   "pygments_lexer": "ipython3",
   "version": "3.7.2"
  },
  "orig_nbformat": 4
 },
 "nbformat": 4,
 "nbformat_minor": 2
}
