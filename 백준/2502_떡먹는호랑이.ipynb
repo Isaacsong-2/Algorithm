{
 "cells": [
  {
   "cell_type": "code",
   "execution_count": 13,
   "metadata": {},
   "outputs": [],
   "source": [
    "d, k = map(int,input().split())"
   ]
  },
  {
   "cell_type": "code",
   "execution_count": 14,
   "metadata": {},
   "outputs": [
    {
     "name": "stdout",
     "output_type": "stream",
     "text": [
      "[1, 99999, 100000]\n",
      "1\n",
      "99999\n"
     ]
    }
   ],
   "source": [
    "for i in range(1,k+1):\n",
    "    for j in range(i,k+1):\n",
    "        dp = [i,j]\n",
    "        for t in range(d-2):\n",
    "            dp.append(dp[-1]+dp[-2])\n",
    "        if dp[-1] == k:\n",
    "            break\n",
    "    if dp[-1] == k:\n",
    "            break\n",
    "print(dp[0])\n",
    "print(dp[1])\n"
   ]
  }
 ],
 "metadata": {
  "interpreter": {
   "hash": "53e059d21691b4acb4a64b9f63fef32a69804c1f4bf8b757b5579479fa8a32ee"
  },
  "kernelspec": {
   "display_name": "Python 3.7.2 64-bit",
   "language": "python",
   "name": "python3"
  },
  "language_info": {
   "codemirror_mode": {
    "name": "ipython",
    "version": 3
   },
   "file_extension": ".py",
   "mimetype": "text/x-python",
   "name": "python",
   "nbconvert_exporter": "python",
   "pygments_lexer": "ipython3",
   "version": "3.7.2"
  },
  "orig_nbformat": 4
 },
 "nbformat": 4,
 "nbformat_minor": 2
}
