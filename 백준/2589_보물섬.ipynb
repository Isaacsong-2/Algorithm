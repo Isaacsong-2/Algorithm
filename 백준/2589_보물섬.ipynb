{
 "cells": [
  {
   "cell_type": "code",
   "execution_count": 1,
   "metadata": {},
   "outputs": [],
   "source": [
    "n, m = map(int,input().split())\n",
    "li = [list(input()) for _ in range(n)]"
   ]
  },
  {
   "cell_type": "code",
   "execution_count": 15,
   "metadata": {},
   "outputs": [
    {
     "name": "stdout",
     "output_type": "stream",
     "text": [
      "99\n"
     ]
    }
   ],
   "source": [
    "from collections import deque\n",
    "def dfs(r, c):\n",
    "    global sol\n",
    "    queue = deque([(r,c)])\n",
    "    while(queue):\n",
    "        x, y = queue.popleft()\n",
    "        for i in range(4):\n",
    "            nx = x + dx[i]\n",
    "            ny = y + dy[i]\n",
    "            if 0<=nx<n and 0<=ny<m and visit[nx][ny] == 0 and li[nx][ny] == 'L':\n",
    "                visit[nx][ny] = visit[x][y] + 1\n",
    "                queue.append((nx,ny))\n",
    "                sol = max(sol, visit[nx][ny])\n",
    "                \n",
    "dx = [-1,1,0,0]\n",
    "dy = [0,0,-1,1]\n",
    "sol = 0\n",
    "for i in range(n):\n",
    "    for j in range(m):\n",
    "        if li[i][j] == 'L':\n",
    "            visit = [[0] * m for _ in range(n)]\n",
    "            visit[i][j] = 1\n",
    "            dfs(i,j)\n",
    "print(sol-1)"
   ]
  }
 ],
 "metadata": {
  "interpreter": {
   "hash": "53e059d21691b4acb4a64b9f63fef32a69804c1f4bf8b757b5579479fa8a32ee"
  },
  "kernelspec": {
   "display_name": "Python 3.7.2 64-bit",
   "language": "python",
   "name": "python3"
  },
  "language_info": {
   "codemirror_mode": {
    "name": "ipython",
    "version": 3
   },
   "file_extension": ".py",
   "mimetype": "text/x-python",
   "name": "python",
   "nbconvert_exporter": "python",
   "pygments_lexer": "ipython3",
   "version": "3.7.2"
  },
  "orig_nbformat": 4
 },
 "nbformat": 4,
 "nbformat_minor": 2
}
