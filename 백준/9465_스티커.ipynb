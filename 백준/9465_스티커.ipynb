{
 "cells": [
  {
   "cell_type": "code",
   "execution_count": 9,
   "metadata": {},
   "outputs": [
    {
     "name": "stdout",
     "output_type": "stream",
     "text": [
      "[[0, 10], [0, 20]]\n",
      "20\n"
     ]
    }
   ],
   "source": [
    "t = int(input())\n",
    "for _ in range(t):\n",
    "    n = int(input())\n",
    "    li = [[0]+list(map(int,input().split())) for _ in range(2)]\n",
    "    dp = [[0]*(n+1) for _ in range(2)]\n",
    "    dp[0][1] = li[0][1]\n",
    "    dp[1][1] = li[1][1]\n",
    "    for i in range(2,n+1):\n",
    "        dp[0][i] = max(dp[1][i-1]+li[0][i], dp[1][i-2]+li[0][i])\n",
    "        dp[1][i] = max(dp[0][i-1]+li[1][i], dp[0][i-2]+li[1][i])\n",
    "    print(max(dp[1][n],dp[0][n]))\n"
   ]
  }
 ],
 "metadata": {
  "kernelspec": {
   "display_name": "Python 3.7.2 64-bit",
   "language": "python",
   "name": "python3"
  },
  "language_info": {
   "codemirror_mode": {
    "name": "ipython",
    "version": 3
   },
   "file_extension": ".py",
   "mimetype": "text/x-python",
   "name": "python",
   "nbconvert_exporter": "python",
   "pygments_lexer": "ipython3",
   "version": "3.7.2"
  },
  "orig_nbformat": 4,
  "vscode": {
   "interpreter": {
    "hash": "d75df686efc28afbc154e69ab3b02fa6abad8f31352f252b5de5b4a995eb825f"
   }
  }
 },
 "nbformat": 4,
 "nbformat_minor": 2
}
