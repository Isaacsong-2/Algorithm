{
 "cells": [
  {
   "cell_type": "code",
   "execution_count": null,
   "metadata": {},
   "outputs": [],
   "source": [
    "n = int(input())\n",
    "dp = [0,1]\n",
    "for i in range(2,n+1):\n",
    "    temp = dp[0]\n",
    "    dp[0] = dp[1]\n",
    "    dp[1] = temp + dp[1]\n",
    "print(dp[1])"
   ]
  }
 ],
 "metadata": {
  "language_info": {
   "name": "python"
  },
  "orig_nbformat": 4
 },
 "nbformat": 4,
 "nbformat_minor": 2
}
