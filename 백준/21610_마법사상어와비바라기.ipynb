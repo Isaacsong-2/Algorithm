{
 "cells": [
  {
   "cell_type": "code",
   "execution_count": 44,
   "metadata": {},
   "outputs": [],
   "source": [
    "n, m = map(int,input().split())\n",
    "li = [list(map(int,input().split())) for _ in range(n)]\n",
    "move = []\n",
    "for i in range(m):\n",
    "    a, b = map(int,input().split())\n",
    "    move.append([a-1, b])"
   ]
  },
  {
   "cell_type": "code",
   "execution_count": 45,
   "metadata": {},
   "outputs": [
    {
     "name": "stdout",
     "output_type": "stream",
     "text": [
      "2657\n"
     ]
    }
   ],
   "source": [
    "dx = [0,-1,-1,-1,0,1,1,1]\n",
    "dy = [-1,-1,0,1,1,1,0,-1]\n",
    "cloud = [(n-1,0), (n-1,1),(n-2,0),(n-2,1)]\n",
    "def rain(dir,dis):\n",
    "    temp = []\n",
    "    # print(li)\n",
    "    for r, c in cloud:\n",
    "        r = (r + dis*dx[dir])%n\n",
    "        c = (c + dis*dy[dir])%n\n",
    "        li[r][c] += 1\n",
    "        visit[r][c] = 1\n",
    "        temp.append((r,c))\n",
    "    for r, c in temp:\n",
    "        for i in range(1,8,2):\n",
    "            nr = r + dx[i]\n",
    "            nc = c + dy[i]\n",
    "            if 0<=nr<n and 0<=nc<n and li[nr][nc] != 0:\n",
    "                li[r][c] += 1\n",
    "for d in range(m):\n",
    "    visit = [[0] * n for _ in range(n)]\n",
    "    rain(move[d][0], move[d][1])\n",
    "    cloud = []\n",
    "    for i in range(n):\n",
    "        for j in range(n):\n",
    "            if visit[i][j] == 0 and li[i][j] > 1:\n",
    "                cloud.append((i,j))\n",
    "                li[i][j] -= 2\n",
    "sol = 0\n",
    "for i in range(n):\n",
    "    sol += sum(li[i])\n",
    "print(sol)"
   ]
  }
 ],
 "metadata": {
  "interpreter": {
   "hash": "53e059d21691b4acb4a64b9f63fef32a69804c1f4bf8b757b5579479fa8a32ee"
  },
  "kernelspec": {
   "display_name": "Python 3.7.2 64-bit",
   "language": "python",
   "name": "python3"
  },
  "language_info": {
   "codemirror_mode": {
    "name": "ipython",
    "version": 3
   },
   "file_extension": ".py",
   "mimetype": "text/x-python",
   "name": "python",
   "nbconvert_exporter": "python",
   "pygments_lexer": "ipython3",
   "version": "3.7.2"
  },
  "orig_nbformat": 4
 },
 "nbformat": 4,
 "nbformat_minor": 2
}
