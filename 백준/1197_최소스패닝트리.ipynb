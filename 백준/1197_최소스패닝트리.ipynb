{
 "cells": [
  {
   "cell_type": "code",
   "execution_count": 2,
   "metadata": {},
   "outputs": [],
   "source": [
    "v, e = map(int,input().split())\n",
    "tree = [list(map(int,input().split())) for _ in range(e)]\n",
    "tree.sort(key=lambda x:x[2])\n",
    "# Kruskal 알고리즘\n",
    "def find(x):\n",
    "    if x != root[x]:\n",
    "        root[x] = find(root[x])\n",
    "    return root[x]\n",
    "root = [i for i in range(v+1)]\n",
    "answer = 0\n",
    "for a, b, w in tree:\n",
    "    ar = find(a)\n",
    "    br = find(b)\n",
    "    if ar != br:\n",
    "        if ar > br:\n",
    "            root[ar] = br\n",
    "        else:\n",
    "            root[br] = ar\n",
    "        answer += w\n",
    "print(answer)"
   ]
  },
  {
   "cell_type": "code",
   "execution_count": 7,
   "metadata": {},
   "outputs": [
    {
     "name": "stdout",
     "output_type": "stream",
     "text": [
      "[[1, 2], [3, 3]]\n",
      "[[1, 1], [2, 3]]\n",
      "[[2, 2], [3, 1]]\n",
      "3\n"
     ]
    }
   ],
   "source": [
    "# Prim 알고리즘\n",
    "import heapq\n",
    "v, e = map(int,input().split())\n",
    "tree = [[] for _ in range(v+1)]\n",
    "for _ in range(e):\n",
    "    a, b, w = map(int,input().split())\n",
    "    tree[a].append([w,b])\n",
    "    tree[b].append([w,a])\n",
    "\n",
    "visit = [0] * (v+1)\n",
    "heap = [[0,1]]\n",
    "answer = 0\n",
    "cnt = 0\n",
    "while(heap):\n",
    "    if cnt == v:\n",
    "        break\n",
    "    w, x = heapq.heappop(heap)\n",
    "    if visit[x] == 0:\n",
    "        visit[x] = 1\n",
    "        answer += w\n",
    "        cnt += 1\n",
    "        for i in tree[x]:\n",
    "            heapq.heappush(heap,i)\n",
    "print(answer)"
   ]
  }
 ],
 "metadata": {
  "interpreter": {
   "hash": "53e059d21691b4acb4a64b9f63fef32a69804c1f4bf8b757b5579479fa8a32ee"
  },
  "kernelspec": {
   "display_name": "Python 3.7.2 64-bit",
   "language": "python",
   "name": "python3"
  },
  "language_info": {
   "codemirror_mode": {
    "name": "ipython",
    "version": 3
   },
   "file_extension": ".py",
   "mimetype": "text/x-python",
   "name": "python",
   "nbconvert_exporter": "python",
   "pygments_lexer": "ipython3",
   "version": "3.7.2"
  },
  "orig_nbformat": 4
 },
 "nbformat": 4,
 "nbformat_minor": 2
}
