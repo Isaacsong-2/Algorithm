{
 "cells": [
  {
   "cell_type": "code",
   "execution_count": 13,
   "metadata": {},
   "outputs": [],
   "source": [
    "n = int(input())"
   ]
  },
  {
   "cell_type": "code",
   "execution_count": 35,
   "metadata": {},
   "outputs": [
    {
     "ename": "SyntaxError",
     "evalue": "invalid syntax (Temp/ipykernel_11460/274695229.py, line 23)",
     "output_type": "error",
     "traceback": [
      "\u001b[1;36m  File \u001b[1;32m\"C:\\Users\\thddl\\AppData\\Local\\Temp/ipykernel_11460/274695229.py\"\u001b[1;36m, line \u001b[1;32m23\u001b[0m\n\u001b[1;33m    if arr[j] == arr[idx] or (arr[idx])\u001b[0m\n\u001b[1;37m                                       ^\u001b[0m\n\u001b[1;31mSyntaxError\u001b[0m\u001b[1;31m:\u001b[0m invalid syntax\n"
     ]
    }
   ],
   "source": [
    "arr = [0] * n\n",
    "cnt = 0\n",
    "def check(idx):\n",
    "    for i in range(idx):\n",
    "        if arr[idx] == arr[i] or (idx-i == abs(arr[idx]-arr[i])):\n",
    "            return 0\n",
    "    return 1\n",
    "    # for i in range(-8, 9):\n",
    "    #     if 0<=idx[0]+i<8 and 0<=idx[1]+i<8:\n",
    "    #         if 1 in arr[idx[0]+i] or 1 in arr[idx[1]+i]:\n",
    "    #             return 0\n",
    "    #     if 0<=idx[0]-i<8 and 0<=idx[1]+i<8:\n",
    "    #         if 1 in arr[idx[0]-i] or 1 in arr[idx[1]+i]:\n",
    "    #             return 0\n",
    "def back(idx):\n",
    "    global cnt\n",
    "    if idx == n:\n",
    "        cnt += 1\n",
    "        return\n",
    "    for i in range(n):\n",
    "        if \n",
    "        arr[idx] = i\n",
    "        for j in range(n):\n",
    "            if arr[j] == arr[idx] or (arr[idx])\n",
    "back(0)\n",
    "print(cnt)\n",
    "\n"
   ]
  }
 ],
 "metadata": {
  "interpreter": {
   "hash": "53e059d21691b4acb4a64b9f63fef32a69804c1f4bf8b757b5579479fa8a32ee"
  },
  "kernelspec": {
   "display_name": "Python 3.7.2 64-bit",
   "language": "python",
   "name": "python3"
  },
  "language_info": {
   "codemirror_mode": {
    "name": "ipython",
    "version": 3
   },
   "file_extension": ".py",
   "mimetype": "text/x-python",
   "name": "python",
   "nbconvert_exporter": "python",
   "pygments_lexer": "ipython3",
   "version": "3.7.2"
  },
  "orig_nbformat": 4
 },
 "nbformat": 4,
 "nbformat_minor": 2
}
