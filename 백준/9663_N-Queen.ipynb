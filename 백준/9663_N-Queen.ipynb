{
 "cells": [
  {
   "cell_type": "code",
   "execution_count": 2,
   "metadata": {},
   "outputs": [],
   "source": [
    "n = int(input())"
   ]
  },
  {
   "cell_type": "code",
   "execution_count": 3,
   "metadata": {},
   "outputs": [
    {
     "name": "stdout",
     "output_type": "stream",
     "text": [
      "[[0, 0, 0, 0, 0, 0, 0, 0], [0, 0, 0, 0, 0, 0, 0, 0], [0, 0, 0, 0, 0, 0, 0, 0], [0, 0, 0, 0, 0, 0, 0, 0], [0, 0, 0, 0, 0, 0, 0, 0], [0, 0, 0, 0, 0, 0, 0, 0], [0, 0, 0, 0, 0, 0, 0, 0], [0, 0, 0, 0, 0, 0, 0, 0]]\n"
     ]
    }
   ],
   "source": [
    "arr = list([0] * n for _ in range(n))\n",
    "print(arr)\n",
    "arr = list([1] * n for _ in range(n))\n",
    "def back_tracking(idx, arr, now):\n",
    "    global cnt\n",
    "    for i in range(len(now)):\n",
    "        queen = now.pop(i)\n",
    "        arr[queen[0]] = [1]*n\n",
    "        arr[:][queen[1]] = [1]*n\n",
    "        for j in range(1,n):\n",
    "            if queen[0]+j<\n",
    "        \n",
    "    for i in range(n):\n",
    "        for j in range(n):\n",
    "            if arr[i][j] == 0:\n",
    "                now.append(i,j)\n",
    "    \n",
    "    while(len(now) != 0):\n",
    "        back_tracking(idx+1, arr, now)\n"
   ]
  }
 ],
 "metadata": {
  "interpreter": {
   "hash": "53e059d21691b4acb4a64b9f63fef32a69804c1f4bf8b757b5579479fa8a32ee"
  },
  "kernelspec": {
   "display_name": "Python 3.7.2 64-bit",
   "language": "python",
   "name": "python3"
  },
  "language_info": {
   "codemirror_mode": {
    "name": "ipython",
    "version": 3
   },
   "file_extension": ".py",
   "mimetype": "text/x-python",
   "name": "python",
   "nbconvert_exporter": "python",
   "pygments_lexer": "ipython3",
   "version": "3.7.2"
  },
  "orig_nbformat": 4
 },
 "nbformat": 4,
 "nbformat_minor": 2
}
