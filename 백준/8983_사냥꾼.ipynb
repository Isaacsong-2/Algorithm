{
 "cells": [
  {
   "cell_type": "code",
   "execution_count": 8,
   "metadata": {},
   "outputs": [],
   "source": [
    "# 포인터\n",
    "m, n, l = map(int,input().split())\n",
    "loc = list(map(int,input().split()))\n",
    "ani = [list(map(int,input().split())) for _ in range(n)]\n",
    "loc.sort()\n",
    "ani.sort()\n",
    "cur = 0\n",
    "i = 0\n",
    "ans = 0\n",
    "while(i<n):\n",
    "    if cur<m-1 and abs(loc[cur] - ani[i][0]) > abs(loc[cur+1] - ani[i][0]):\n",
    "        cur += 1\n",
    "        continue\n",
    "    if abs(loc[cur] - ani[i][0]) + ani[i][1] <= l:\n",
    "        ans += 1\n",
    "    i += 1\n",
    "print(ans)"
   ]
  },
  {
   "cell_type": "code",
   "execution_count": null,
   "metadata": {},
   "outputs": [],
   "source": [
    "# 이분탐색\n",
    "m, n, l = map(int, input().split())\n",
    "man = list(map(int, input().split()))\n",
    "man.sort()\n",
    "ani = [list(map(int, input().split())) for i in range(n)]\n",
    "\n",
    "cnt = 0\n",
    "for a,b in ani:\n",
    "    start = 0\n",
    "    end = len(man)-1\n",
    "    while start<end:\n",
    "        mid = (start+end)//2\n",
    "        if man[mid] < a:\n",
    "            start = mid+1\n",
    "        else:\n",
    "            end = mid\n",
    "    if abs(man[end]-a)+b<=l or abs(man[end-1]-a)+b<=l:\n",
    "        cnt += 1\n",
    "\n",
    "print(cnt)"
   ]
  }
 ],
 "metadata": {
  "interpreter": {
   "hash": "d75df686efc28afbc154e69ab3b02fa6abad8f31352f252b5de5b4a995eb825f"
  },
  "kernelspec": {
   "display_name": "Python 3.7.2 64-bit",
   "language": "python",
   "name": "python3"
  },
  "language_info": {
   "codemirror_mode": {
    "name": "ipython",
    "version": 3
   },
   "file_extension": ".py",
   "mimetype": "text/x-python",
   "name": "python",
   "nbconvert_exporter": "python",
   "pygments_lexer": "ipython3",
   "version": "3.7.2"
  },
  "orig_nbformat": 4
 },
 "nbformat": 4,
 "nbformat_minor": 2
}
