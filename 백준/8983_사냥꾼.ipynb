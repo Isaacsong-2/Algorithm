{
 "cells": [
  {
   "cell_type": "code",
   "execution_count": 8,
   "metadata": {},
   "outputs": [],
   "source": [
    "m, n, l = map(int,input().split())\n",
    "loc = list(map(int,input().split()))\n",
    "ani = [list(map(int,input().split())) for _ in range(n)]"
   ]
  },
  {
   "cell_type": "code",
   "execution_count": 9,
   "metadata": {},
   "outputs": [
    {
     "name": "stdout",
     "output_type": "stream",
     "text": [
      "5\n"
     ]
    }
   ],
   "source": [
    "loc.sort()\n",
    "ani.sort()\n",
    "cur = 0\n",
    "i = 0\n",
    "ans = 0\n",
    "while(i<n):\n",
    "    if cur<m-1 and abs(loc[cur] - ani[i][0]) > abs(loc[cur+1] - ani[i][0]):\n",
    "        cur += 1\n",
    "        continue\n",
    "    if abs(loc[cur] - ani[i][0]) + ani[i][1] <= l:\n",
    "        ans += 1\n",
    "    i += 1\n",
    "print(ans)"
   ]
  }
 ],
 "metadata": {
  "interpreter": {
   "hash": "d75df686efc28afbc154e69ab3b02fa6abad8f31352f252b5de5b4a995eb825f"
  },
  "kernelspec": {
   "display_name": "Python 3.7.2 64-bit",
   "language": "python",
   "name": "python3"
  },
  "language_info": {
   "codemirror_mode": {
    "name": "ipython",
    "version": 3
   },
   "file_extension": ".py",
   "mimetype": "text/x-python",
   "name": "python",
   "nbconvert_exporter": "python",
   "pygments_lexer": "ipython3",
   "version": "3.7.2"
  },
  "orig_nbformat": 4
 },
 "nbformat": 4,
 "nbformat_minor": 2
}
