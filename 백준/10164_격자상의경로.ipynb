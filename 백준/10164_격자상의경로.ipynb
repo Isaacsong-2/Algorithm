{
 "cells": [
  {
   "cell_type": "code",
   "execution_count": 127,
   "metadata": {},
   "outputs": [],
   "source": [
    "n, m, k = map(int,input().split())\n",
    "k -= 1"
   ]
  },
  {
   "cell_type": "code",
   "execution_count": 128,
   "metadata": {},
   "outputs": [
    {
     "name": "stdout",
     "output_type": "stream",
     "text": [
      "1\n"
     ]
    }
   ],
   "source": [
    "dp = [[0] * m for _ in range(n)]\n",
    "dp[0][0] = 1\n",
    "\n",
    "if k == -1:\n",
    "    k = 0\n",
    "x = k//m\n",
    "y = k%m\n",
    "for i in range(x+1):\n",
    "    for j in range(y+1):\n",
    "        if i==0 and j==0:\n",
    "            continue\n",
    "        dp[i][j] = dp[i][j-1] + dp[i-1][j]\n",
    "for i in range(x,n):\n",
    "    for j in range(y,m):\n",
    "        if i==x and j==y:\n",
    "            continue\n",
    "        dp[i][j] = dp[i][j-1] + dp[i-1][j]\n",
    "print(dp[-1][-1])"
   ]
  }
 ],
 "metadata": {
  "kernelspec": {
   "display_name": "Python 3.7.2 64-bit",
   "language": "python",
   "name": "python3"
  },
  "language_info": {
   "codemirror_mode": {
    "name": "ipython",
    "version": 3
   },
   "file_extension": ".py",
   "mimetype": "text/x-python",
   "name": "python",
   "nbconvert_exporter": "python",
   "pygments_lexer": "ipython3",
   "version": "3.7.2"
  },
  "orig_nbformat": 4,
  "vscode": {
   "interpreter": {
    "hash": "d75df686efc28afbc154e69ab3b02fa6abad8f31352f252b5de5b4a995eb825f"
   }
  }
 },
 "nbformat": 4,
 "nbformat_minor": 2
}
