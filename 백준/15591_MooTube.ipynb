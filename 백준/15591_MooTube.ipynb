{
 "cells": [
  {
   "cell_type": "code",
   "execution_count": 2,
   "metadata": {},
   "outputs": [],
   "source": [
    "n, Q = map(int, input().split())\n",
    "usado = []\n",
    "for i in range(n-1):\n",
    "    temp = list(map(int, input().split()))\n",
    "    usado.append(temp)\n"
   ]
  },
  {
   "cell_type": "code",
   "execution_count": 8,
   "metadata": {},
   "outputs": [
    {
     "name": "stdout",
     "output_type": "stream",
     "text": [
      "[[1, 2, 3], [2, 3, 2], [2, 4, 4]]\n",
      "[3, 2, 4]\n",
      "[3, 2, 4]\n",
      "[3, 2, 4]\n"
     ]
    }
   ],
   "source": [
    "print(usado)\n",
    "br = 0\n",
    "for i in range(Q):\n",
    "    q = list(map(int,input().split()))\n",
    "    cnt = []\n",
    "    visit = [0] * (n+1)\n",
    "    queue = [q[1]]\n",
    "    while(queue):\n",
    "        for st in usado:\n",
    "            if queue[0] == st[0] and visit[st[1]] == 0:\n",
    "                queue.append(st[1])\n",
    "                cnt.append(st[2])\n",
    "            if queue[0] == st[1] and visit[st[0]] == 0:\n",
    "                queue.append(st[0])\n",
    "                cnt.append(st[2])\n",
    "        visit[queue.pop(0)] = 1\n",
    "        #print(queue)\n",
    "        #print(visit)\n",
    "        br += 1\n",
    "        if br==8:\n",
    "            break\n",
    "    print(cnt)\n",
    "########################실패########################\n"
   ]
  },
  {
   "cell_type": "code",
   "execution_count": null,
   "metadata": {},
   "outputs": [],
   "source": [
    "\n",
    "import sys\n",
    "# 연관된 비디오들을 확인하면서 추천되는 동영상의 수를 반환\n",
    "def dfs(k, v):\n",
    "    visited = [False] * (n + 1)  # 해당 비디오를 이미 추천했는지 여부 확인\n",
    "    need_visit = [[v, 1000000000]]  # 연관된 비디오를 확인할 리스트 (초기에는 기준이 되는 비디오 번호와 임시 유사도(최대 유사도)를 추가합니다.)\n",
    "\n",
    "\t# 연관된 비디오를 순차적으로 확인하면서\n",
    "    while need_visit:\n",
    "        cv, usado = need_visit.pop()\n",
    "        if not visited[cv] and usado >= k:  # 해당 비디오가 아직 추천되지 않았고, 그 비디오의 유사도가 K 보다 크거나 같은 경우\n",
    "            visited[cv] = True  # 해당 비디오를 추천하고\n",
    "            need_visit.extend(videos[cv])  # 그 비디오와 연관된 비디오들을 확인 리스트에 추가합니다.\n",
    "\n",
    "    count = visited.count(True)  # 추천된 비디오의 수를 세서\n",
    "    return count - 1  # 기준이 되었던 비디오를 뺀 나머지 추천 비디오 수를 반환합니다.\n",
    "\n",
    "\n",
    "n, q = map(int, sys.stdin.readline().split())\n",
    "videos = dict()\n",
    "# 비디오의 연관 관계를 dictionary 형태로 저장\n",
    "for _ in range(n-1):\n",
    "    a, b, r = map(int, sys.stdin.readline().split())\n",
    "    if a in videos.keys():\n",
    "        videos[a].append([b, r])\n",
    "    else:\n",
    "        videos[a] = [[b, r]]\n",
    "\n",
    "    if b in videos.keys():\n",
    "        videos[b].append([a, r])\n",
    "    else:\n",
    "        videos[b] = [[a, r]]\n",
    "\n",
    "answer = []\n",
    "# 질문을 하나씩 확인하면서, dfs 를 수행하여 추천 비디오 수 저장\n",
    "for _ in range(q):\n",
    "    k, v = map(int, sys.stdin.readline().split())\n",
    "    answer.append(dfs(k, v))\n",
    "\n",
    "# 결과 출력\n",
    "print('\\n'.join(map(str, answer)))"
   ]
  }
 ],
 "metadata": {
  "interpreter": {
   "hash": "53e059d21691b4acb4a64b9f63fef32a69804c1f4bf8b757b5579479fa8a32ee"
  },
  "kernelspec": {
   "display_name": "Python 3.7.2 64-bit",
   "language": "python",
   "name": "python3"
  },
  "language_info": {
   "codemirror_mode": {
    "name": "ipython",
    "version": 3
   },
   "file_extension": ".py",
   "mimetype": "text/x-python",
   "name": "python",
   "nbconvert_exporter": "python",
   "pygments_lexer": "ipython3",
   "version": "3.7.2"
  },
  "orig_nbformat": 4
 },
 "nbformat": 4,
 "nbformat_minor": 2
}
