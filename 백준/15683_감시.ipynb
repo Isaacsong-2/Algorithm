{
 "cells": [
  {
   "cell_type": "code",
   "execution_count": 34,
   "metadata": {},
   "outputs": [],
   "source": [
    "n, m = map(int,input().split())\n",
    "li = []\n",
    "cam = []\n",
    "for i in range(n):\n",
    "    temp = list(map(int,input().split()))\n",
    "    for j in range(len(temp)):\n",
    "        if temp[j] != 0 and temp[j] != 6:\n",
    "            cam.append([i,j,temp[j]])\n",
    "    li.append(temp)"
   ]
  },
  {
   "cell_type": "code",
   "execution_count": 43,
   "metadata": {},
   "outputs": [
    {
     "name": "stdout",
     "output_type": "stream",
     "text": [
      "2\n"
     ]
    }
   ],
   "source": [
    "from copy import deepcopy\n",
    "def on(x,y,arr,mod):\n",
    "    for i in mod:\n",
    "        nx = x\n",
    "        ny = y\n",
    "        while True:\n",
    "            nx += dx[i]\n",
    "            ny += dy[i]\n",
    "            if 0<=nx<n and 0<=ny<m:\n",
    "                if arr[nx][ny] == 6:\n",
    "                    break\n",
    "                elif arr[nx][ny] == 0:\n",
    "                    arr[nx][ny] = -1\n",
    "            else:\n",
    "                break\n",
    "\n",
    "def sol(idx,board):\n",
    "    global ans\n",
    "    if idx == len(cam):\n",
    "        cnt = 0\n",
    "        for i in range(n):\n",
    "            cnt += board[i].count(0)\n",
    "        ans = min(ans, cnt)\n",
    "        return\n",
    "    temp = deepcopy(board)\n",
    "    x,y,num = cam[idx]\n",
    "    for i in dir[num]:\n",
    "        on(x,y,temp,i)\n",
    "        sol(idx+1,temp)\n",
    "        temp = deepcopy(board)\n",
    "dx = [-1,0,1,0]\n",
    "dy = [0,1,0,-1]\n",
    "dir = [\n",
    "        [],\n",
    "        [[0], [1], [2], [3]],\n",
    "        [[0, 2], [1, 3]],\n",
    "        [[0, 1], [1, 2], [2, 3], [0, 3]],\n",
    "        [[0, 1, 2], [0, 1, 3], [1, 2, 3], [0, 2, 3]],\n",
    "        [[0, 1, 2, 3]],\n",
    "        ]\n",
    "ans = 100\n",
    "sol(0, li)\n",
    "print(ans)"
   ]
  }
 ],
 "metadata": {
  "interpreter": {
   "hash": "53e059d21691b4acb4a64b9f63fef32a69804c1f4bf8b757b5579479fa8a32ee"
  },
  "kernelspec": {
   "display_name": "Python 3.7.2 64-bit",
   "language": "python",
   "name": "python3"
  },
  "language_info": {
   "codemirror_mode": {
    "name": "ipython",
    "version": 3
   },
   "file_extension": ".py",
   "mimetype": "text/x-python",
   "name": "python",
   "nbconvert_exporter": "python",
   "pygments_lexer": "ipython3",
   "version": "3.7.2"
  },
  "orig_nbformat": 4
 },
 "nbformat": 4,
 "nbformat_minor": 2
}
