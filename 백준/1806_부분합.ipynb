{
 "cells": [
  {
   "cell_type": "code",
   "execution_count": 1,
   "metadata": {},
   "outputs": [],
   "source": [
    "n, s = map(int,input().split())\n",
    "li = list(map(int,input().split()))"
   ]
  },
  {
   "cell_type": "code",
   "execution_count": 10,
   "metadata": {},
   "outputs": [
    {
     "name": "stdout",
     "output_type": "stream",
     "text": [
      "2\n"
     ]
    }
   ],
   "source": [
    "part = [0]\n",
    "for i in range(n):\n",
    "    part.append(part[-1]+li[i])\n",
    "# print(part)\n",
    "answer = 1000001\n",
    "start = 0\n",
    "end = 1\n",
    "\n",
    "while start != n:\n",
    "    if part[end] - part[start] >= s:\n",
    "        if end - start< answer:\n",
    "            answer = end - start\n",
    "        start += 1\n",
    "        \n",
    "    else:\n",
    "        if end != n:\n",
    "            end += 1\n",
    "        else:\n",
    "            start += 1\n",
    "\n",
    "if answer != 1000001:\n",
    "    print(answer)\n",
    "else:\n",
    "    print(0)\n",
    "        "
   ]
  }
 ],
 "metadata": {
  "interpreter": {
   "hash": "53e059d21691b4acb4a64b9f63fef32a69804c1f4bf8b757b5579479fa8a32ee"
  },
  "kernelspec": {
   "display_name": "Python 3.7.2 64-bit",
   "language": "python",
   "name": "python3"
  },
  "language_info": {
   "codemirror_mode": {
    "name": "ipython",
    "version": 3
   },
   "file_extension": ".py",
   "mimetype": "text/x-python",
   "name": "python",
   "nbconvert_exporter": "python",
   "pygments_lexer": "ipython3",
   "version": "3.7.2"
  },
  "orig_nbformat": 4
 },
 "nbformat": 4,
 "nbformat_minor": 2
}
