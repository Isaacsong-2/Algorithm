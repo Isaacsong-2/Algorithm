{
 "cells": [
  {
   "cell_type": "code",
   "execution_count": 20,
   "metadata": {},
   "outputs": [],
   "source": [
    "n = int(input())\n",
    "st = set()\n",
    "for i in range(n):\n",
    "    alp = input() #sys.stdin.readline()\n",
    "    st.add(alp)"
   ]
  },
  {
   "cell_type": "code",
   "execution_count": 21,
   "metadata": {},
   "outputs": [
    {
     "name": "stdout",
     "output_type": "stream",
     "text": [
      "['but', 'cannot', 'hesitate', 'i', 'im', 'it', 'more', 'no', 'wait', 'wont', 'yours']\n",
      "i\n",
      "im\n",
      "it\n",
      "no\n",
      "but\n",
      "more\n",
      "wait\n",
      "wont\n",
      "yours\n",
      "cannot\n",
      "hesitate\n"
     ]
    }
   ],
   "source": [
    "l = list(st)\n",
    "l = sorted(l)\n",
    "for j in range(1, 51):\n",
    "    for i in range(len(l)):\n",
    "        if len(l[i]) == j:\n",
    "            print(l[i])\n",
    "\n",
    "# n = int(input()) #더 효율적인 풀이\n",
    "# lst = []\n",
    "\n",
    "# for i in range(n):\n",
    "#     lst.append(input())\n",
    "# set_lst = set(lst)\t## set으로 변환해서 중복값을 제거\n",
    "# lst = list(set_lst)\t## 다시 list로 변환\n",
    "# lst.sort()\n",
    "# lst.sort(key = len)\n",
    "\n",
    "# for i in lst:\n",
    "#     print(i)\n"
   ]
  }
 ],
 "metadata": {
  "interpreter": {
   "hash": "53e059d21691b4acb4a64b9f63fef32a69804c1f4bf8b757b5579479fa8a32ee"
  },
  "kernelspec": {
   "display_name": "Python 3.7.2 64-bit",
   "language": "python",
   "name": "python3"
  },
  "language_info": {
   "codemirror_mode": {
    "name": "ipython",
    "version": 3
   },
   "file_extension": ".py",
   "mimetype": "text/x-python",
   "name": "python",
   "nbconvert_exporter": "python",
   "pygments_lexer": "ipython3",
   "version": "3.7.2"
  },
  "orig_nbformat": 4
 },
 "nbformat": 4,
 "nbformat_minor": 2
}
