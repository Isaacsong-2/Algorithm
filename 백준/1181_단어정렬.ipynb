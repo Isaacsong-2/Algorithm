{
 "cells": [
  {
   "cell_type": "code",
   "execution_count": 6,
   "metadata": {},
   "outputs": [
    {
     "name": "stdout",
     "output_type": "stream",
     "text": [
      "<class 'set'>\n"
     ]
    }
   ],
   "source": [
    "n = int(input())\n",
    "st = set([])\n",
    "for i in range(n):\n",
    "    alp = input() #sys.stdin.readline()\n",
    "    st.add(alp)"
   ]
  },
  {
   "cell_type": "code",
   "execution_count": 11,
   "metadata": {},
   "outputs": [
    {
     "name": "stdout",
     "output_type": "stream",
     "text": [
      "{'i', 'it', 'cannot', 'wont', 'wait', 'yours', 'more', 'but', 'hesitate', 'im', 'no'}\n",
      "['i', 'it', 'cannot', 'wont', 'wait', 'yours', 'more', 'but', 'hesitate', 'im', 'no']\n",
      "['but', 'cannot', 'hesitate', 'i', 'im', 'it', 'more', 'no', 'wait', 'wont', 'yours']\n",
      "i\n",
      "it\n",
      "cannot\n",
      "wont\n",
      "wait\n",
      "yours\n",
      "more\n",
      "but\n",
      "hesitate\n",
      "im\n",
      "no\n"
     ]
    }
   ],
   "source": [
    "l = list(st)\n",
    "l = sorted(l)\n",
    "print(l)\n",
    "\n",
    "for j in range(1, 50):\n",
    "    for i in range(len(l)):\n",
    "        if \n"
   ]
  }
 ],
 "metadata": {
  "interpreter": {
   "hash": "53e059d21691b4acb4a64b9f63fef32a69804c1f4bf8b757b5579479fa8a32ee"
  },
  "kernelspec": {
   "display_name": "Python 3.7.2 64-bit",
   "language": "python",
   "name": "python3"
  },
  "language_info": {
   "codemirror_mode": {
    "name": "ipython",
    "version": 3
   },
   "file_extension": ".py",
   "mimetype": "text/x-python",
   "name": "python",
   "nbconvert_exporter": "python",
   "pygments_lexer": "ipython3",
   "version": "3.7.2"
  },
  "orig_nbformat": 4
 },
 "nbformat": 4,
 "nbformat_minor": 2
}
