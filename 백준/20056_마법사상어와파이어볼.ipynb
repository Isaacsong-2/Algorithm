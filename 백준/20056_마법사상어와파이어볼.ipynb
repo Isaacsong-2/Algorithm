{
 "cells": [
  {
   "cell_type": "code",
   "execution_count": 67,
   "metadata": {},
   "outputs": [],
   "source": [
    "n,m,k = map(int,input().split())\n",
    "li = [[[] for i in range(n)] for _ in range(n)] \n",
    "for _ in range(m):\n",
    "    r,c,m,s,d = map(int,input().split())\n",
    "    r -= 1\n",
    "    c -= 1\n",
    "    li[r][c].append((m,s,d))"
   ]
  },
  {
   "cell_type": "code",
   "execution_count": 58,
   "metadata": {},
   "outputs": [
    {
     "name": "stdout",
     "output_type": "stream",
     "text": [
      "[(2, 2, 4)] [] [] [] [] [] []\n",
      "[] [] [] [(5, 2, 6)] [] [] []\n",
      "[] [] [(1, 2, 0)] [] [] [] []\n",
      "[] [] [] [(2, 2, 6)] [(2, 2, 2)] [] []\n",
      "[(1, 2, 6)] [] [] [] [(1, 2, 2)] [] []\n",
      "[] [] [] [] [] [] []\n",
      "[(2, 2, 0)] [] [(1, 2, 4)] [] [] [] []\n"
     ]
    }
   ],
   "source": [
    "for i in range(n):\n",
    "    print(*li[i])"
   ]
  },
  {
   "cell_type": "code",
   "execution_count": 68,
   "metadata": {},
   "outputs": [
    {
     "name": "stdout",
     "output_type": "stream",
     "text": [
      "0\n"
     ]
    }
   ],
   "source": [
    "from copy import deepcopy\n",
    "dx = [-1,-1,0,1,1,1,0,-1]\n",
    "dy = [0,1,1,1,0,-1,-1,-1]\n",
    "for _ in range(k):\n",
    "    temp = [[[] for i in range(n)] for _ in range(n)] \n",
    "    for i in range(n):\n",
    "        for j in range(n):\n",
    "            for m,s,d in li[i][j]:\n",
    "                r = (i+dx[d]*s)%n\n",
    "                c = (j+dy[d]*s)%n\n",
    "                temp[r][c].append((m,s,d))\n",
    "    for i in range(n):\n",
    "        for j in range(n):\n",
    "            if len(temp[i][j])>1:\n",
    "                weight = 0\n",
    "                speed = 0\n",
    "                dir =[]\n",
    "                for m,s,d in temp[i][j]:\n",
    "                    weight += m\n",
    "                    speed += s\n",
    "                    dir.append(d)\n",
    "                if dir[0]%2 == 0:\n",
    "                    direction = 0\n",
    "                else: direction = 1\n",
    "                for d in dir:\n",
    "                    if d%2 != direction:\n",
    "                        direction = 3\n",
    "                        break\n",
    "                weight = weight//5\n",
    "                speed = speed//len(temp[i][j])\n",
    "                temp[i][j] = []\n",
    "                if weight != 0:\n",
    "                    if direction == 3:\n",
    "                        temp[i][j] = []\n",
    "                        for t in range(1,8,2):\n",
    "                            temp[i][j].append((weight,speed,t))\n",
    "                    else:\n",
    "                        temp[i][j] = []\n",
    "                        for t in range(0,7,2):\n",
    "                            temp[i][j].append((weight,speed,t))\n",
    "    li = deepcopy(temp)\n",
    "ans = 0\n",
    "for i in range(n):\n",
    "    for j in range(n):\n",
    "        for m,s,d in li[i][j]:\n",
    "            ans += m\n",
    "print(ans)\n"
   ]
  }
 ],
 "metadata": {
  "kernelspec": {
   "display_name": "Python 3.7.2 64-bit",
   "language": "python",
   "name": "python3"
  },
  "language_info": {
   "codemirror_mode": {
    "name": "ipython",
    "version": 3
   },
   "file_extension": ".py",
   "mimetype": "text/x-python",
   "name": "python",
   "nbconvert_exporter": "python",
   "pygments_lexer": "ipython3",
   "version": "3.7.2"
  },
  "orig_nbformat": 4,
  "vscode": {
   "interpreter": {
    "hash": "d75df686efc28afbc154e69ab3b02fa6abad8f31352f252b5de5b4a995eb825f"
   }
  }
 },
 "nbformat": 4,
 "nbformat_minor": 2
}
