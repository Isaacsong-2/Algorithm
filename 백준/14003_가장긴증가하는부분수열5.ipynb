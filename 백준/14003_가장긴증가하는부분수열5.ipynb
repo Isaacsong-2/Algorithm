{
 "cells": [
  {
   "cell_type": "code",
   "execution_count": 10,
   "metadata": {},
   "outputs": [],
   "source": [
    "n = int(input())\n",
    "li = list(map(int,input().split()))"
   ]
  },
  {
   "cell_type": "code",
   "execution_count": 12,
   "metadata": {},
   "outputs": [
    {
     "name": "stdout",
     "output_type": "stream",
     "text": [
      "4\n",
      "10 20 30 50\n"
     ]
    }
   ],
   "source": [
    "ans = []\n",
    "dp = [0] * (n+1)\n",
    "seq = [-1000000001]\n",
    "maxVal = 0\n",
    "for i, num in enumerate(li):\n",
    "    if seq[-1] < num:\n",
    "        seq.append(num)\n",
    "        dp[i] = len(seq) - 1\n",
    "        maxVal = dp[i]\n",
    "    else:\n",
    "        left = 0\n",
    "        right = len(seq)\n",
    "        while(left<right):\n",
    "            mid = (left + right)//2\n",
    "            if seq[mid]<num:\n",
    "                left = mid+1\n",
    "            else:\n",
    "                right = mid\n",
    "        dp[i] = right\n",
    "        seq[right] = num\n",
    "print(len(seq)-1)\n",
    "\n",
    "for i in range(n,-1,-1):\n",
    "    if dp[i] == maxVal:\n",
    "        ans.append(li[i])\n",
    "        maxVal -= 1\n",
    "ans.reverse()\n",
    "print(*ans)"
   ]
  }
 ],
 "metadata": {
  "kernelspec": {
   "display_name": "Python 3.7.2 64-bit",
   "language": "python",
   "name": "python3"
  },
  "language_info": {
   "codemirror_mode": {
    "name": "ipython",
    "version": 3
   },
   "file_extension": ".py",
   "mimetype": "text/x-python",
   "name": "python",
   "nbconvert_exporter": "python",
   "pygments_lexer": "ipython3",
   "version": "3.7.2"
  },
  "orig_nbformat": 4,
  "vscode": {
   "interpreter": {
    "hash": "d75df686efc28afbc154e69ab3b02fa6abad8f31352f252b5de5b4a995eb825f"
   }
  }
 },
 "nbformat": 4,
 "nbformat_minor": 2
}
