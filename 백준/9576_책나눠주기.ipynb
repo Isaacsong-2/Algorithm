{
 "cells": [
  {
   "cell_type": "code",
   "execution_count": 12,
   "metadata": {},
   "outputs": [
    {
     "name": "stdout",
     "output_type": "stream",
     "text": [
      "[[1, 2], [1, 3], [2, 3], [3, 4]]\n",
      "1 2 [0, 1, 0, 0, 0]\n",
      "1 3 [0, 1, 1, 0, 0]\n",
      "2 3 [0, 1, 1, 1, 0]\n",
      "3 4 [0, 1, 1, 1, 1]\n",
      "4\n"
     ]
    }
   ],
   "source": [
    "t = int(input())\n",
    "for _ in range(t):\n",
    "    n, m = map(int,input().split())\n",
    "    ab = []\n",
    "    for i in range(m):\n",
    "        a, b = map(int,input().split())\n",
    "        ab.append([a,b])\n",
    "    ab.sort(key=lambda x:x[1])\n",
    "\n",
    "    book = [0] * (n+1)\n",
    "    while(ab):\n",
    "        a,b = ab.pop(0)\n",
    "        for i in range(a,b+1):\n",
    "            if book[i] == 0:\n",
    "                book[i] = 1\n",
    "                break\n",
    "    print(sum(book))"
   ]
  }
 ],
 "metadata": {
  "kernelspec": {
   "display_name": "Python 3.7.2 64-bit",
   "language": "python",
   "name": "python3"
  },
  "language_info": {
   "codemirror_mode": {
    "name": "ipython",
    "version": 3
   },
   "file_extension": ".py",
   "mimetype": "text/x-python",
   "name": "python",
   "nbconvert_exporter": "python",
   "pygments_lexer": "ipython3",
   "version": "3.7.2"
  },
  "orig_nbformat": 4,
  "vscode": {
   "interpreter": {
    "hash": "d75df686efc28afbc154e69ab3b02fa6abad8f31352f252b5de5b4a995eb825f"
   }
  }
 },
 "nbformat": 4,
 "nbformat_minor": 2
}
