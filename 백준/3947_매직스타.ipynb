{
 "cells": [
  {
   "cell_type": "code",
   "execution_count": 12,
   "metadata": {},
   "outputs": [],
   "source": [
    "star = []\n",
    "visit = [0] * 12\n",
    "n = -1\n",
    "k = 0\n",
    "fill = []\n",
    "for i in range(5):\n",
    "    temp = list(str(input()))\n",
    "    for j in range(len(temp)):\n",
    "        if temp[j] != '.':\n",
    "            star.append(temp[j])\n",
    "            n += 1\n",
    "            if temp[j] != 'x':\n",
    "                visit[ord(temp[j])-65] = 1\n",
    "                k += 1      \n",
    "            else:\n",
    "                fill.append(n)"
   ]
  },
  {
   "cell_type": "code",
   "execution_count": 13,
   "metadata": {},
   "outputs": [
    {
     "name": "stdout",
     "output_type": "stream",
     "text": [
      "....F....\n",
      ".A.I.D.L.\n",
      "..H...E..\n",
      ".C.J.B.K.\n",
      "....G....\n"
     ]
    }
   ],
   "source": [
    "# star = ['x', 'A', 'I', 'D', 'x', 'x', 'x', 'x', 'x', 'x', 'x', 'x']\n",
    "# visit = [1, 0, 0, 1, 0, 0, 0, 0, 1, 0, 0, 0]\n",
    "# n = 3\n",
    "# fill = [0,4,5,6,7,8,9,10,11]\n",
    "def check():\n",
    "    for line in lines:\n",
    "        temp = 0\n",
    "        for ind in line:\n",
    "            if star[ind] != 'x':\n",
    "                temp += ord(star[ind])-64\n",
    "        if temp != 26:\n",
    "            return\n",
    "    return 1\n",
    "def back(idx):\n",
    "    if idx == 12-k:\n",
    "        if check():\n",
    "            ans = [['.']*9 for _ in range(5)]\n",
    "            ans[0][4] = star[0]\n",
    "            ans[1][1] = star[1]\n",
    "            ans[1][3] = star[2]\n",
    "            ans[1][5] = star[3]\n",
    "            ans[1][7] = star[4]\n",
    "            ans[2][2] = star[5]\n",
    "            ans[2][6] = star[6]\n",
    "            ans[3][1] = star[7]\n",
    "            ans[3][3] = star[8]\n",
    "            ans[3][5] = star[9]\n",
    "            ans[3][7] = star[10]\n",
    "            ans[4][4] = star[11]\n",
    "            for i in range(5):\n",
    "                for j in range(9):\n",
    "                    print(ans[i][j],end=\"\")\n",
    "                print()\n",
    "            return 1\n",
    "        return\n",
    "    for i in range(12):\n",
    "        if visit[i] == 0:\n",
    "            visit[i] = 1\n",
    "            star[fill[idx]] = chr(i+65)\n",
    "            if back(idx+1): return 1\n",
    "            star[fill[idx]] = 'x'\n",
    "            visit[i] = 0\n",
    "lines = [[1, 2, 3, 4], [0, 2, 5, 7], [0, 3, 6, 10],\n",
    "         [7, 8, 9, 10], [1, 5, 8, 11], [4, 6, 9, 11]]\n",
    "if __name__ == \"__main__\":\n",
    "    back(0)"
   ]
  }
 ],
 "metadata": {
  "interpreter": {
   "hash": "53e059d21691b4acb4a64b9f63fef32a69804c1f4bf8b757b5579479fa8a32ee"
  },
  "kernelspec": {
   "display_name": "Python 3.7.2 64-bit",
   "language": "python",
   "name": "python3"
  },
  "language_info": {
   "codemirror_mode": {
    "name": "ipython",
    "version": 3
   },
   "file_extension": ".py",
   "mimetype": "text/x-python",
   "name": "python",
   "nbconvert_exporter": "python",
   "pygments_lexer": "ipython3",
   "version": "3.7.2"
  },
  "orig_nbformat": 4
 },
 "nbformat": 4,
 "nbformat_minor": 2
}
