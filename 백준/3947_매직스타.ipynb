{
 "cells": [
  {
   "cell_type": "code",
   "execution_count": 43,
   "metadata": {},
   "outputs": [],
   "source": [
    "star = []\n",
    "alp = [0] * 12\n",
    "n = 0\n",
    "for i in range(5):\n",
    "    temp = list(str(input()))\n",
    "    for j in range(len(temp)):\n",
    "        if temp[j] != '.':\n",
    "            star.append(temp[j])\n",
    "            if temp[j] != 'x':\n",
    "                alp[ord(temp[j])-65] = 1\n",
    "                n += 1"
   ]
  },
  {
   "cell_type": "code",
   "execution_count": 44,
   "metadata": {},
   "outputs": [
    {
     "name": "stdout",
     "output_type": "stream",
     "text": [
      "['A', 'x', 'x', 'x', 'x', 'x', 'x', 'x', 'x', 'x', 'x', 'x'] [1, 0, 0, 0, 0, 0, 0, 0, 0, 0, 0, 0] 1\n"
     ]
    }
   ],
   "source": [
    "# star = ['x', 'A', 'I', 'D', 'x', 'x', 'x', 'x', 'x', 'x', 'x', 'x']\n",
    "# alp = [1,0,0,1,0,0,0,0,1,0,0,0]\n",
    "# n = 3\n",
    "print(star,alp,n)\n",
    "def check():\n",
    "    cnt = 0\n",
    "    for line in lines:\n",
    "        temp = 0\n",
    "        for ind in line:\n",
    "            if star[ind] != 'x':\n",
    "                temp += ord(star[ind])-64\n",
    "        if temp>26:\n",
    "            return\n",
    "        if temp == 26:\n",
    "            cnt += 1\n",
    "    if cnt == 6:\n",
    "        return 1\n",
    "def back(idx):\n",
    "    if idx == 12-n:\n",
    "        if check() == 1:\n",
    "            sol.append(star[:])\n",
    "        return\n",
    "    for i in range(12):\n",
    "        if star[i] == 'x':\n",
    "            for j in range(1,13):\n",
    "                if alp[j-1] == 0:\n",
    "                    star[i] = chr(j+64)\n",
    "                    alp[j-1] = 1\n",
    "                    back(idx+1)\n",
    "                    star[i] = 'x'\n",
    "                    alp[j-1] = 0\n",
    "            break\n",
    "sol = []\n",
    "lines = [[1,2,3,4],[0,2,5,7],[0,3,6,10],[7,8,9,10],[1,5,8,11],[4,6,9,11]]\n",
    "back(0)\n",
    "print(sorted(sol)[0])\n"
   ]
  }
 ],
 "metadata": {
  "interpreter": {
   "hash": "53e059d21691b4acb4a64b9f63fef32a69804c1f4bf8b757b5579479fa8a32ee"
  },
  "kernelspec": {
   "display_name": "Python 3.7.2 64-bit",
   "language": "python",
   "name": "python3"
  },
  "language_info": {
   "codemirror_mode": {
    "name": "ipython",
    "version": 3
   },
   "file_extension": ".py",
   "mimetype": "text/x-python",
   "name": "python",
   "nbconvert_exporter": "python",
   "pygments_lexer": "ipython3",
   "version": "3.7.2"
  },
  "orig_nbformat": 4
 },
 "nbformat": 4,
 "nbformat_minor": 2
}
