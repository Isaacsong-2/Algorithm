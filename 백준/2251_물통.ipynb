{
 "cells": [
  {
   "cell_type": "code",
   "execution_count": 1,
   "metadata": {},
   "outputs": [],
   "source": [
    "a, b, c = map(int,input().split())"
   ]
  },
  {
   "cell_type": "code",
   "execution_count": 16,
   "metadata": {},
   "outputs": [
    {
     "name": "stdout",
     "output_type": "stream",
     "text": [
      "1 2 8 9 10\n"
     ]
    }
   ],
   "source": [
    "from collections import deque\n",
    "def bfs(queue):\n",
    "    while queue:\n",
    "        x, y = queue.popleft()\n",
    "        if x==0:\n",
    "            ans.append(c-x-y)\n",
    "        water = min(x, b-y)\n",
    "        if visit[x-water][y+water] == 0:\n",
    "            queue.append([x-water,y+water])\n",
    "            visit[x-water][y+water] = 1\n",
    "        if visit[0][y] == 0:\n",
    "            queue.append([0,y])\n",
    "            visit[0][y] = 1\n",
    "        water = min(y,a-x)\n",
    "        if visit[x+water][y-water] == 0:\n",
    "            queue.append([x+water,y-water])\n",
    "            visit[x+water][y-water] = 1\n",
    "        if visit[x][0] == 0:\n",
    "            queue.append([x,0])\n",
    "            visit[x][0] = 1\n",
    "        water = min(c-x-y,a-x)\n",
    "        if visit[x+water][y] == 0:\n",
    "            queue.append([x+water,y])\n",
    "            visit[x+water][y] = 1\n",
    "        water = min(c-x-y,b-y)\n",
    "        if visit[x][y+water] == 0:\n",
    "            queue.append([x,y+water])\n",
    "            visit[x][y+water] = 1\n",
    "        \n",
    "ans = []\n",
    "visit = [[0]*(b+1) for _ in range(a+1)]\n",
    "visit[0][0] = 1\n",
    "q = deque([[0,0]])\n",
    "bfs(q)\n",
    "print(*sorted(ans))"
   ]
  }
 ],
 "metadata": {
  "kernelspec": {
   "display_name": "Python 3.7.2 64-bit",
   "language": "python",
   "name": "python3"
  },
  "language_info": {
   "codemirror_mode": {
    "name": "ipython",
    "version": 3
   },
   "file_extension": ".py",
   "mimetype": "text/x-python",
   "name": "python",
   "nbconvert_exporter": "python",
   "pygments_lexer": "ipython3",
   "version": "3.7.2"
  },
  "orig_nbformat": 4,
  "vscode": {
   "interpreter": {
    "hash": "d75df686efc28afbc154e69ab3b02fa6abad8f31352f252b5de5b4a995eb825f"
   }
  }
 },
 "nbformat": 4,
 "nbformat_minor": 2
}
