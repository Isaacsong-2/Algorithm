{
 "cells": [
  {
   "cell_type": "code",
   "execution_count": 1,
   "metadata": {},
   "outputs": [],
   "source": [
    "n,m = map(int,input().split())\n",
    "arr=[]\n",
    "for i in range(n):\n",
    "    arr.append(list(map(int,input().split())))"
   ]
  },
  {
   "cell_type": "code",
   "execution_count": 20,
   "metadata": {},
   "outputs": [
    {
     "name": "stdout",
     "output_type": "stream",
     "text": [
      "27\n"
     ]
    }
   ],
   "source": [
    "import copy\n",
    "area = copy.deepcopy(arr)\n",
    "dx = [1,-1,0,0]\n",
    "dy = [0,0,-1,1]\n",
    "def bfs():\n",
    "    global max_cnt\n",
    "    cnt = 0\n",
    "    queue = []\n",
    "    c_area = copy.deepcopy(area)\n",
    "    for i in range(n):\n",
    "            for j in range(m):\n",
    "                if c_area[i][j] == 2:\n",
    "                    queue.append([i,j])\n",
    "    while(queue):\n",
    "        x,y = queue.pop()\n",
    "        for i in range(4):\n",
    "            nx = x+dx[i]\n",
    "            ny = y+dy[i]\n",
    "            if 0<=nx<n and 0<=ny<m and c_area[nx][ny] == 0:\n",
    "                c_area[nx][ny] = 2\n",
    "                queue.append([nx,ny])\n",
    "    for i in range(n):\n",
    "            for j in range(m):\n",
    "                if c_area[i][j] == 0:\n",
    "                    cnt += 1\n",
    "    max_cnt = max(cnt, max_cnt)\n",
    "\n",
    "def wall(idx):\n",
    "    if idx == 3:\n",
    "        bfs()\n",
    "        return\n",
    "    for i in range(n):\n",
    "        for j in range(m):\n",
    "            if area[i][j] == 0:\n",
    "                area[i][j] = 1\n",
    "                wall(idx+1)\n",
    "                area[i][j] = 0\n",
    "max_cnt = 0\n",
    "cnt = 0\n",
    "wall(0)\n",
    "print(max_cnt)\n",
    "            "
   ]
  }
 ],
 "metadata": {
  "interpreter": {
   "hash": "53e059d21691b4acb4a64b9f63fef32a69804c1f4bf8b757b5579479fa8a32ee"
  },
  "kernelspec": {
   "display_name": "Python 3.7.2 64-bit",
   "language": "python",
   "name": "python3"
  },
  "language_info": {
   "codemirror_mode": {
    "name": "ipython",
    "version": 3
   },
   "file_extension": ".py",
   "mimetype": "text/x-python",
   "name": "python",
   "nbconvert_exporter": "python",
   "pygments_lexer": "ipython3",
   "version": "3.7.2"
  },
  "orig_nbformat": 4
 },
 "nbformat": 4,
 "nbformat_minor": 2
}
