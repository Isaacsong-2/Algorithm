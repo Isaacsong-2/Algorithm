{
 "cells": [
  {
   "cell_type": "code",
   "execution_count": 2,
   "metadata": {},
   "outputs": [],
   "source": [
    "n, m = map(int,input().split())\n",
    "start_x, start_y = map(int,input().split())\n",
    "end_x, end_y = map(int,input().split())\n",
    "start_x -= 1\n",
    "start_y -= 1\n",
    "end_x -= 1\n",
    "end_y -= 1\n",
    "li = [list(map(int,input().split())) for _ in range(n)]"
   ]
  },
  {
   "cell_type": "code",
   "execution_count": 19,
   "metadata": {},
   "outputs": [
    {
     "name": "stdout",
     "output_type": "stream",
     "text": [
      "11\n"
     ]
    }
   ],
   "source": [
    "from collections import deque\n",
    "def dfs(r,c):\n",
    "    queue = deque([(r,c,0)])\n",
    "    visit[0][r][c] = 1\n",
    "    while(queue):\n",
    "        trig = 0\n",
    "        x, y, broke = queue.popleft()\n",
    "        for i in range(4):\n",
    "            nx = x+dx[i]\n",
    "            ny = y+dy[i]\n",
    "            if 0<=nx<n and 0<=ny<m and visit[broke][nx][ny] == 0:\n",
    "                if li[nx][ny] == 0:\n",
    "                    queue.append((nx,ny,broke))\n",
    "                    visit[broke][nx][ny] = visit[broke][x][y]+1\n",
    "                elif not(broke) and li[nx][ny] == 1:\n",
    "                    queue.append((nx,ny,1))\n",
    "                    visit[1][nx][ny] = visit[0][x][y]+1\n",
    "                if nx == end_x and ny== end_y:\n",
    "                    trig = 1\n",
    "        if trig:\n",
    "            break\n",
    "dx = [-1,1,0,0]\n",
    "dy = [0,0,-1,1]\n",
    "visit = [[[0] * m for _ in range(n)] for _ in range(2)]\n",
    "dfs(start_x, start_y)\n",
    "if visit[1][end_x][end_y] != 0:\n",
    "    print(visit[1][end_x][end_y] - 1)\n",
    "elif visit[0][end_x][end_y] != 0:\n",
    "    print(visit[0][end_x][end_y] - 1)\n",
    "else:\n",
    "    print(-1)"
   ]
  }
 ],
 "metadata": {
  "interpreter": {
   "hash": "53e059d21691b4acb4a64b9f63fef32a69804c1f4bf8b757b5579479fa8a32ee"
  },
  "kernelspec": {
   "display_name": "Python 3.7.2 64-bit",
   "language": "python",
   "name": "python3"
  },
  "language_info": {
   "codemirror_mode": {
    "name": "ipython",
    "version": 3
   },
   "file_extension": ".py",
   "mimetype": "text/x-python",
   "name": "python",
   "nbconvert_exporter": "python",
   "pygments_lexer": "ipython3",
   "version": "3.7.2"
  },
  "orig_nbformat": 4
 },
 "nbformat": 4,
 "nbformat_minor": 2
}
