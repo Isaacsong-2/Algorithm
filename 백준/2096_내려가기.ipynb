{
 "cells": [
  {
   "cell_type": "code",
   "execution_count": 62,
   "metadata": {},
   "outputs": [],
   "source": [
    "n = int(input())"
   ]
  },
  {
   "cell_type": "code",
   "execution_count": 63,
   "metadata": {},
   "outputs": [
    {
     "name": "stdout",
     "output_type": "stream",
     "text": [
      "3 1\n"
     ]
    }
   ],
   "source": [
    "# dp = [[li[0]] + [[0]*n for _ in range(n-1)], [li[0]] + [[0]*n for _ in range(n-1)]]\n",
    "# for i in range(1,n):\n",
    "#     for j in range(n):\n",
    "#         if j == 0:\n",
    "#             dp[0][i][j] = li[i][j]+max(dp[0][i-1][j],dp[0][i-1][j+1])\n",
    "#             dp[1][i][j] = li[i][j]+min(dp[1][i-1][j],dp[1][i-1][j+1])\n",
    "#         elif j == n-1:\n",
    "#             dp[0][i][j] = li[i][j]+max(dp[0][i-1][j-1],dp[0][i-1][j])\n",
    "#             dp[1][i][j] = li[i][j]+min(dp[1][i-1][j-1],dp[1][i-1][j])\n",
    "#         else:\n",
    "#             dp[0][i][j] = li[i][j]+max(dp[0][i-1][j-1],dp[0][i-1][j],dp[0][i-1][j+1])\n",
    "#             dp[1][i][j] = li[i][j]+min(dp[1][i-1][j-1],dp[1][i-1][j],dp[1][i-1][j+1])\n",
    "# print(max(dp[0][n-1]),min(dp[1][n-1]))\n",
    "aaaa = list(map(int,input().split()))\n",
    "dp = [aaaa, aaaa]\n",
    "for i in range(1,n):\n",
    "    li = list(map(int,input().split()))\n",
    "    temp = [[0]*3, [0]*3]\n",
    "    for j in range(3):\n",
    "        if j == 0:\n",
    "            temp[0][j] = li[j]+max(dp[0][j],dp[0][j+1])\n",
    "            temp[1][j] = li[j]+min(dp[1][j],dp[1][j+1])\n",
    "        elif j == 2:\n",
    "            temp[0][j] = li[j]+max(dp[0][j-1],dp[0][j])\n",
    "            temp[1][j] = li[j]+min(dp[1][j-1],dp[1][j])\n",
    "        else:\n",
    "            temp[0][j] = li[j]+max(dp[0][j-1],dp[0][j],dp[0][j+1])\n",
    "            temp[1][j] = li[j]+min(dp[1][j-1],dp[1][j],dp[1][j+1])\n",
    "    dp[0] = temp[0][:]\n",
    "    dp[1] = temp[1][:]\n",
    "print(max(dp[0]),min(dp[1]))"
   ]
  }
 ],
 "metadata": {
  "interpreter": {
   "hash": "53e059d21691b4acb4a64b9f63fef32a69804c1f4bf8b757b5579479fa8a32ee"
  },
  "kernelspec": {
   "display_name": "Python 3.7.2 64-bit",
   "language": "python",
   "name": "python3"
  },
  "language_info": {
   "codemirror_mode": {
    "name": "ipython",
    "version": 3
   },
   "file_extension": ".py",
   "mimetype": "text/x-python",
   "name": "python",
   "nbconvert_exporter": "python",
   "pygments_lexer": "ipython3",
   "version": "3.7.2"
  },
  "orig_nbformat": 4
 },
 "nbformat": 4,
 "nbformat_minor": 2
}
