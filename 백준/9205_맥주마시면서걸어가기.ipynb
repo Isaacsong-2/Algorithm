{
 "cells": [
  {
   "cell_type": "code",
   "execution_count": 18,
   "metadata": {},
   "outputs": [
    {
     "name": "stdout",
     "output_type": "stream",
     "text": [
      "happy\n",
      "sad\n"
     ]
    }
   ],
   "source": [
    "t = int(input())\n",
    "\n",
    "def bfs(sx,sy):\n",
    "    global ans\n",
    "    if abs(festival_x-sx) + abs(festival_y-sy) <= 1000:\n",
    "        ans = \"happy\"\n",
    "        return\n",
    "    for i in range(n):\n",
    "        if visit[i] == 0 and abs(store[i][0]-sx)+abs(store[i][1]-sy) <= 1000:\n",
    "            visit[i] = 1\n",
    "            bfs(store[i][0],store[i][1])\n",
    "\n",
    "for _ in range(t):\n",
    "    n = int(input())\n",
    "    house_x, house_y = map(int,input().split())\n",
    "    store = [list(map(int,input().split())) for _ in range(n)]\n",
    "    festival_x, festival_y = map(int,input().split())\n",
    "    visit = [0] * n\n",
    "    ans = \"sad\"\n",
    "    bfs(house_x,house_y)\n",
    "    print(ans)"
   ]
  }
 ],
 "metadata": {
  "kernelspec": {
   "display_name": "Python 3.7.2 64-bit",
   "language": "python",
   "name": "python3"
  },
  "language_info": {
   "codemirror_mode": {
    "name": "ipython",
    "version": 3
   },
   "file_extension": ".py",
   "mimetype": "text/x-python",
   "name": "python",
   "nbconvert_exporter": "python",
   "pygments_lexer": "ipython3",
   "version": "3.7.2"
  },
  "orig_nbformat": 4,
  "vscode": {
   "interpreter": {
    "hash": "d75df686efc28afbc154e69ab3b02fa6abad8f31352f252b5de5b4a995eb825f"
   }
  }
 },
 "nbformat": 4,
 "nbformat_minor": 2
}
