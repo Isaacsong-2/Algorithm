{
 "cells": [
  {
   "cell_type": "code",
   "execution_count": 3,
   "metadata": {},
   "outputs": [
    {
     "name": "stdout",
     "output_type": "stream",
     "text": [
      "1 7\n",
      "1 9\n",
      "7 9\n",
      "9 9\n"
     ]
    }
   ],
   "source": [
    "n, m = map(int, input().split())\n",
    "li = list(map(int,input().split()))\n",
    "li.sort()\n",
    "arr = []\n",
    "visit = [0] * n\n",
    "cnt = 0\n",
    "global visited_arr\n",
    "visited_arr = []\n",
    "def back(idx):\n",
    "    global arr\n",
    "    if idx==m:\n",
    "        temp = ' '.join(map(str, arr))\n",
    "        if temp not in visited_arr:\n",
    "            visited_arr.append(temp)#index slicing 주의\n",
    "        return\n",
    "    for i in range(n):\n",
    "        if not visit[i]:\n",
    "            if arr:\n",
    "                if arr[-1]>li[i]:\n",
    "                    continue\n",
    "            arr.append(li[i])\n",
    "            visit[i] = 1\n",
    "            back(idx+1)\n",
    "            arr.pop()\n",
    "            visit[i] = 0\n",
    "back(0)\n",
    "for i in visited_arr:\n",
    "    print(i)"
   ]
  }
 ],
 "metadata": {
  "interpreter": {
   "hash": "53e059d21691b4acb4a64b9f63fef32a69804c1f4bf8b757b5579479fa8a32ee"
  },
  "kernelspec": {
   "display_name": "Python 3.7.2 64-bit",
   "language": "python",
   "name": "python3"
  },
  "language_info": {
   "codemirror_mode": {
    "name": "ipython",
    "version": 3
   },
   "file_extension": ".py",
   "mimetype": "text/x-python",
   "name": "python",
   "nbconvert_exporter": "python",
   "pygments_lexer": "ipython3",
   "version": "3.7.2"
  },
  "orig_nbformat": 4
 },
 "nbformat": 4,
 "nbformat_minor": 2
}
