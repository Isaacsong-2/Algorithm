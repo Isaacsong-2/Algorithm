{
 "cells": [
  {
   "cell_type": "code",
   "execution_count": 3,
   "metadata": {},
   "outputs": [],
   "source": [
    "n = int(input())\n",
    "li = []\n",
    "for i in range(n):\n",
    "    li.append(list(map(int,input().split())))"
   ]
  },
  {
   "cell_type": "code",
   "execution_count": 10,
   "metadata": {},
   "outputs": [
    {
     "name": "stdout",
     "output_type": "stream",
     "text": [
      "14\n"
     ]
    }
   ],
   "source": [
    "from collections import deque\n",
    "#li = copy.deepcopy(lis)\n",
    "for i in range(n):\n",
    "    for j in range(n):\n",
    "        if li[i][j] == 9:\n",
    "            cur_locate = (i,j)\n",
    "            li[i][j] = 0\n",
    "            break\n",
    "cur_size = 2\n",
    "dx = [0, -1, 1, 0]\n",
    "dy = [1, 0, 0, -1]\n",
    "def bfs(shark):\n",
    "    global sol\n",
    "    queue = deque([shark])\n",
    "    distance = [[0] * n for _ in range(n)]\n",
    "    eat = []\n",
    "    while queue:\n",
    "        x, y = queue.popleft()\n",
    "        visit[x][y] = 1\n",
    "        for i in range(4):\n",
    "            nx = x + dx[i]\n",
    "            ny = y + dy[i]\n",
    "            if 0 <= nx < n and 0 <= ny < n and li[nx][ny] <= cur_size and visit[nx][ny] == 0:\n",
    "                visit[nx][ny] = 1\n",
    "                if li[nx][ny] == 0 or li[nx][ny] == cur_size:\n",
    "                    queue.append((nx,ny))\n",
    "                    distance[nx][ny] = distance[x][y] + 1\n",
    "                else:\n",
    "                    eat.append([nx, ny, distance[x][y]+1])\n",
    "    eat.sort(key = lambda x : (x[2], x[0], x[1]))\n",
    "    if len(eat) != 0:\n",
    "        sol += eat[0][2]\n",
    "        li[eat[0][0]][eat[0][1]] = 0\n",
    "        return (eat[0][0], eat[0][1])\n",
    "    return 0\n",
    "\n",
    "sol = 0\n",
    "cnt = 0\n",
    "while(1):\n",
    "    visit = [[0] * n for _ in range(n)]\n",
    "    next_shark = bfs(cur_locate)\n",
    "    if next_shark != cur_locate and next_shark != 0:\n",
    "        cur_locate = next_shark\n",
    "        cnt += 1\n",
    "        if cur_size == cnt:\n",
    "            cur_size += 1\n",
    "            cnt = 0\n",
    "    else:\n",
    "        break\n",
    "print(sol)"
   ]
  }
 ],
 "metadata": {
  "interpreter": {
   "hash": "53e059d21691b4acb4a64b9f63fef32a69804c1f4bf8b757b5579479fa8a32ee"
  },
  "kernelspec": {
   "display_name": "Python 3.7.2 64-bit",
   "language": "python",
   "name": "python3"
  },
  "language_info": {
   "codemirror_mode": {
    "name": "ipython",
    "version": 3
   },
   "file_extension": ".py",
   "mimetype": "text/x-python",
   "name": "python",
   "nbconvert_exporter": "python",
   "pygments_lexer": "ipython3",
   "version": "3.7.2"
  },
  "orig_nbformat": 4
 },
 "nbformat": 4,
 "nbformat_minor": 2
}
