{
 "cells": [
  {
   "cell_type": "code",
   "execution_count": 1,
   "metadata": {},
   "outputs": [],
   "source": [
    "def find(num):\n",
    "    for i in range(2, int(int(num)**0.5)+1):\n",
    "        if int(num) % i == 0:\n",
    "            return\n",
    "    if len(num) == n:#back-tracking\n",
    "        print(num)\n",
    "        return\n",
    "    for p in prime:\n",
    "        find(num+p)\n",
    "n = int(input())\n",
    "start = ['2', '3', '5', '7']\n",
    "prime = ['1', '3', '7', '9']\n",
    "for s in start:\n",
    "    find(s)\n",
    "\n",
    "\n"
   ]
  }
 ],
 "metadata": {
  "interpreter": {
   "hash": "53e059d21691b4acb4a64b9f63fef32a69804c1f4bf8b757b5579479fa8a32ee"
  },
  "kernelspec": {
   "display_name": "Python 3.7.2 64-bit",
   "language": "python",
   "name": "python3"
  },
  "language_info": {
   "codemirror_mode": {
    "name": "ipython",
    "version": 3
   },
   "file_extension": ".py",
   "mimetype": "text/x-python",
   "name": "python",
   "nbconvert_exporter": "python",
   "pygments_lexer": "ipython3",
   "version": "3.7.2"
  },
  "orig_nbformat": 4
 },
 "nbformat": 4,
 "nbformat_minor": 2
}
