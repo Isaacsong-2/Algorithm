{
 "cells": [
  {
   "cell_type": "code",
   "execution_count": 12,
   "metadata": {},
   "outputs": [],
   "source": [
    "n, l, r = map(int,input().split())\n",
    "li = [list(map(int,input().split())) for _ in range(n)]"
   ]
  },
  {
   "cell_type": "code",
   "execution_count": 13,
   "metadata": {},
   "outputs": [
    {
     "name": "stdout",
     "output_type": "stream",
     "text": [
      "3\n"
     ]
    }
   ],
   "source": [
    "def dfs(x,y):\n",
    "    queue = [(x,y)]\n",
    "    union = [(x,y)]\n",
    "    visit[x][y] = 1\n",
    "    cnt = 1\n",
    "    ret = li[x][y]\n",
    "    while(queue):\n",
    "        x,y = queue.pop()\n",
    "        for i in range(4):\n",
    "            nx, ny = x+dx[i], y+dy[i]\n",
    "            if 0<=nx<n and 0<=ny<n and visit[nx][ny] == 0 and l<=abs(li[x][y] - li[nx][ny])<=r:\n",
    "                queue.append((nx,ny))\n",
    "                union.append((nx,ny))\n",
    "                visit[nx][ny] = 1\n",
    "                cnt += 1\n",
    "                ret += li[nx][ny]\n",
    "    return (union, ret//cnt)\n",
    "\n",
    "dx = [-1,1,0,0]\n",
    "dy = [0,0,-1,1] \n",
    "sol = 0\n",
    "while(1):\n",
    "    visit = [[0] * n for _ in range(n)]\n",
    "    temp = []\n",
    "    val = []\n",
    "    for i in range(n):\n",
    "        for j in range(n):\n",
    "            if visit[i][j] == 0:\n",
    "                rere = dfs(i,j)\n",
    "                temp.append(rere[0])\n",
    "                val.append(rere[1])\n",
    "    if len(val) == n*n:\n",
    "        break\n",
    "    sol += 1\n",
    "    for i in range(len(val)):\n",
    "        for a,b in temp[i]:\n",
    "            li[a][b] = val[i]\n",
    "print(sol)"
   ]
  }
 ],
 "metadata": {
  "interpreter": {
   "hash": "53e059d21691b4acb4a64b9f63fef32a69804c1f4bf8b757b5579479fa8a32ee"
  },
  "kernelspec": {
   "display_name": "Python 3.7.2 64-bit",
   "language": "python",
   "name": "python3"
  },
  "language_info": {
   "codemirror_mode": {
    "name": "ipython",
    "version": 3
   },
   "file_extension": ".py",
   "mimetype": "text/x-python",
   "name": "python",
   "nbconvert_exporter": "python",
   "pygments_lexer": "ipython3",
   "version": "3.7.2"
  },
  "orig_nbformat": 4
 },
 "nbformat": 4,
 "nbformat_minor": 2
}
