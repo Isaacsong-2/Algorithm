{
 "cells": [
  {
   "cell_type": "code",
   "execution_count": 5,
   "metadata": {},
   "outputs": [],
   "source": [
    "w, n = input().split()\n",
    "n = int(n)\n",
    "li = [list(map(int,input().split())) for _ in range(n)]"
   ]
  },
  {
   "cell_type": "code",
   "execution_count": 49,
   "metadata": {},
   "outputs": [],
   "source": [
    "li = [[1,2,3],[4,5,6],[7,8,9]]"
   ]
  },
  {
   "cell_type": "code",
   "execution_count": 50,
   "metadata": {},
   "outputs": [
    {
     "name": "stdout",
     "output_type": "stream",
     "text": [
      "[[1, 5, '?'], ['?', 2, '?'], ['?', 8, '?']]\n",
      "[[1, 5, '?'], ['?', 2, '?'], ['?', 8, '?']]\n",
      "? 8 ?\n",
      "? 2 ?\n",
      "1 5 ?\n"
     ]
    }
   ],
   "source": [
    "from copy import deepcopy\n",
    "rev = [0,1,5,\"?\",\"?\",2,\"?\",\"?\",8,\"?\"]\n",
    "for i in range(n):\n",
    "    for j in range(n):\n",
    "        li[i][j] = rev[li[i][j]]\n",
    "\n",
    "temp = deepcopy(li)\n",
    "if w == \"U\" or w == \"D\":\n",
    "    for i in range(n):\n",
    "        for j in range(n):\n",
    "            li[i][j] = temp[n-1-i][j]\n",
    "else:\n",
    "    for i in range(n):\n",
    "        for j in range(n):\n",
    "            li[i][j] = temp[i][n-1-j]\n",
    "for i in range(n):\n",
    "    print(*li[i])"
   ]
  }
 ],
 "metadata": {
  "kernelspec": {
   "display_name": "Python 3.7.2 64-bit",
   "language": "python",
   "name": "python3"
  },
  "language_info": {
   "codemirror_mode": {
    "name": "ipython",
    "version": 3
   },
   "file_extension": ".py",
   "mimetype": "text/x-python",
   "name": "python",
   "nbconvert_exporter": "python",
   "pygments_lexer": "ipython3",
   "version": "3.7.2"
  },
  "orig_nbformat": 4,
  "vscode": {
   "interpreter": {
    "hash": "d75df686efc28afbc154e69ab3b02fa6abad8f31352f252b5de5b4a995eb825f"
   }
  }
 },
 "nbformat": 4,
 "nbformat_minor": 2
}
