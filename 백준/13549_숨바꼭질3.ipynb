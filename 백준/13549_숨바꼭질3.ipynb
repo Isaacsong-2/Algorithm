{
 "cells": [
  {
   "cell_type": "code",
   "execution_count": 2,
   "metadata": {},
   "outputs": [
    {
     "name": "stdout",
     "output_type": "stream",
     "text": [
      "2\n"
     ]
    }
   ],
   "source": [
    "from collections import deque\n",
    "\n",
    "n, k = map(int,input().split())\n",
    "queue = deque([n])\n",
    "visit = [0] * 100001\n",
    "visit[n] = 1\n",
    "while(queue):\n",
    "    x = queue.popleft()\n",
    "    temp = [x-1,x+1,2*x]\n",
    "    if x == k:\n",
    "        print(visit[x]-1)\n",
    "        break\n",
    "    for nx in temp:\n",
    "        if 0<=nx<=100000 and visit[nx] == 0:\n",
    "            if nx == 2*x:\n",
    "                visit[nx] = visit[x]\n",
    "                queue.appendleft(nx)\n",
    "            else:\n",
    "                visit[nx] = visit[x]+1\n",
    "                queue.append(nx)\n"
   ]
  }
 ],
 "metadata": {
  "kernelspec": {
   "display_name": "Python 3.7.2 64-bit",
   "language": "python",
   "name": "python3"
  },
  "language_info": {
   "codemirror_mode": {
    "name": "ipython",
    "version": 3
   },
   "file_extension": ".py",
   "mimetype": "text/x-python",
   "name": "python",
   "nbconvert_exporter": "python",
   "pygments_lexer": "ipython3",
   "version": "3.7.2"
  },
  "orig_nbformat": 4,
  "vscode": {
   "interpreter": {
    "hash": "d75df686efc28afbc154e69ab3b02fa6abad8f31352f252b5de5b4a995eb825f"
   }
  }
 },
 "nbformat": 4,
 "nbformat_minor": 2
}
