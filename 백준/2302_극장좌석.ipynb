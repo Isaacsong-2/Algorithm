{
 "cells": [
  {
   "cell_type": "code",
   "execution_count": 64,
   "metadata": {},
   "outputs": [],
   "source": [
    "n = int(input())\n",
    "m = int(input())\n",
    "li = [0]+[int(input()) for _ in range(m)]+[n+1]"
   ]
  },
  {
   "cell_type": "code",
   "execution_count": 65,
   "metadata": {},
   "outputs": [
    {
     "name": "stdout",
     "output_type": "stream",
     "text": [
      "12\n"
     ]
    }
   ],
   "source": [
    "dp = [[0] * 3  for _ in range(40)]\n",
    "dp[0][0] = 0\n",
    "dp[0][1] = 1\n",
    "dp[0][2] = 1\n",
    "for i in range(1,40):\n",
    "    dp[i][0] = dp[i-1][2]\n",
    "    dp[i][1] = dp[i-1][0] + dp[i-1][1]\n",
    "    dp[i][2] = dp[i-1][0] + dp[i-1][1]\n",
    "ans = 1\n",
    "for i in range(1,m+2):\n",
    "    if li[i]>=li[i-1]+3:\n",
    "        ans *= sum(dp[li[i]-li[i-1]-3])\n",
    "print(ans)"
   ]
  }
 ],
 "metadata": {
  "kernelspec": {
   "display_name": "Python 3.7.2 64-bit",
   "language": "python",
   "name": "python3"
  },
  "language_info": {
   "codemirror_mode": {
    "name": "ipython",
    "version": 3
   },
   "file_extension": ".py",
   "mimetype": "text/x-python",
   "name": "python",
   "nbconvert_exporter": "python",
   "pygments_lexer": "ipython3",
   "version": "3.7.2"
  },
  "orig_nbformat": 4,
  "vscode": {
   "interpreter": {
    "hash": "d75df686efc28afbc154e69ab3b02fa6abad8f31352f252b5de5b4a995eb825f"
   }
  }
 },
 "nbformat": 4,
 "nbformat_minor": 2
}
