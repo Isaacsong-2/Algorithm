{
 "cells": [
  {
   "cell_type": "code",
   "execution_count": 93,
   "metadata": {},
   "outputs": [],
   "source": [
    "n, m = map(int,input().split())\n",
    "li = [list(map(int,input().split())) for _ in range(n)]"
   ]
  },
  {
   "cell_type": "code",
   "execution_count": 96,
   "metadata": {},
   "outputs": [
    {
     "name": "stdout",
     "output_type": "stream",
     "text": [
      "7\n"
     ]
    }
   ],
   "source": [
    "from itertools import combinations\n",
    "from collections import deque\n",
    "def bfs(virus):\n",
    "    temp = virus[:]\n",
    "    global ans\n",
    "    cnt = 0\n",
    "    virus = deque(virus)\n",
    "    while(virus):\n",
    "        x, y = virus.popleft()\n",
    "        for i in range(4):\n",
    "            nx = x + dx[i]\n",
    "            ny = y + dy[i]\n",
    "            if 0<=nx<n and 0<=ny<n and visit[nx][ny] == 0: \n",
    "                if li[nx][ny] == 0 or li[nx][ny] == 2:\n",
    "                    visit[nx][ny] = visit[x][y] + 1\n",
    "                    virus.append((nx,ny))\n",
    "    for i in range(n):\n",
    "        for j in range(n):\n",
    "            if li[i][j] == 0:\n",
    "                if visit[i][j] == 0:\n",
    "                    return\n",
    "                cnt = max(cnt, visit[i][j])\n",
    "            if li[i][j] == 2 and (i,j) in temp:\n",
    "                cnt = max(cnt, visit[i][j])\n",
    "\n",
    "    ans = min(cnt,ans)\n",
    "\n",
    "dx = [-1,1,0,0]\n",
    "dy = [0,0,-1,1]\n",
    "vir = []\n",
    "ans = 2500\n",
    "for i in range(n):\n",
    "    for j in range(n):\n",
    "        if li[i][j] == 2:\n",
    "            vir.append((i,j))\n",
    "for loc in list(combinations(vir,m)):\n",
    "    visit = [[0] * n for _ in range(n)]\n",
    "    for r, c in loc:\n",
    "        visit[r][c] = 1\n",
    "    bfs(loc)\n",
    "print(ans-1) if ans != 2500 else -1"
   ]
  }
 ],
 "metadata": {
  "interpreter": {
   "hash": "d75df686efc28afbc154e69ab3b02fa6abad8f31352f252b5de5b4a995eb825f"
  },
  "kernelspec": {
   "display_name": "Python 3.7.2 64-bit",
   "language": "python",
   "name": "python3"
  },
  "language_info": {
   "codemirror_mode": {
    "name": "ipython",
    "version": 3
   },
   "file_extension": ".py",
   "mimetype": "text/x-python",
   "name": "python",
   "nbconvert_exporter": "python",
   "pygments_lexer": "ipython3",
   "version": "3.7.2"
  },
  "orig_nbformat": 4
 },
 "nbformat": 4,
 "nbformat_minor": 2
}
