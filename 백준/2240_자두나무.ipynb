{
 "cells": [
  {
   "cell_type": "code",
   "execution_count": 38,
   "metadata": {},
   "outputs": [],
   "source": [
    "t, w = map(int,input().split())\n",
    "drop = [int(input()) for _ in range(t)]"
   ]
  },
  {
   "cell_type": "code",
   "execution_count": 39,
   "metadata": {},
   "outputs": [
    {
     "name": "stdout",
     "output_type": "stream",
     "text": [
      "6\n"
     ]
    }
   ],
   "source": [
    "dp = [[0] * (w+1) for _ in range(t)]\n",
    "\n",
    "if drop[0] == 1:\n",
    "    dp[0][0] = 1\n",
    "else:\n",
    "    dp[0][1] = 1\n",
    "\n",
    "for i in range(1,t):\n",
    "    for j in range(w+1):\n",
    "        if j>i+1:\n",
    "            break\n",
    "        if drop[i] == 1 and j%2 == 0:\n",
    "            if j == 0:\n",
    "                dp[i][j] = dp[i-1][j]+1\n",
    "            else:\n",
    "                dp[i][j] = max(dp[i-1][j-1], dp[i-1][j]) + 1\n",
    "        elif drop[i] == 2 and j%2 == 1:\n",
    "            dp[i][j] = max(dp[i-1][j-1], dp[i-1][j]) + 1\n",
    "        else:\n",
    "            dp[i][j] = dp[i-1][j]\n",
    "print(max(dp[-1]))"
   ]
  }
 ],
 "metadata": {
  "kernelspec": {
   "display_name": "Python 3.7.2 64-bit",
   "language": "python",
   "name": "python3"
  },
  "language_info": {
   "codemirror_mode": {
    "name": "ipython",
    "version": 3
   },
   "file_extension": ".py",
   "mimetype": "text/x-python",
   "name": "python",
   "nbconvert_exporter": "python",
   "pygments_lexer": "ipython3",
   "version": "3.7.2"
  },
  "orig_nbformat": 4,
  "vscode": {
   "interpreter": {
    "hash": "d75df686efc28afbc154e69ab3b02fa6abad8f31352f252b5de5b4a995eb825f"
   }
  }
 },
 "nbformat": 4,
 "nbformat_minor": 2
}
