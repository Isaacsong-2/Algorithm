{
 "cells": [
  {
   "cell_type": "code",
   "execution_count": 76,
   "metadata": {},
   "outputs": [],
   "source": [
    "li = [input() for _ in range(4)]\n",
    "k = int(input())\n",
    "operations = []\n",
    "for i in range(k):\n",
    "    a,b = map(int,input().split())\n",
    "    operations.append([a-1,b])"
   ]
  },
  {
   "cell_type": "code",
   "execution_count": 78,
   "metadata": {},
   "outputs": [
    {
     "name": "stdout",
     "output_type": "stream",
     "text": [
      "5\n"
     ]
    }
   ],
   "source": [
    "gear = li[:]\n",
    "for op in operations:\n",
    "    temp=[0]*4\n",
    "    if op[1] == 1:\n",
    "        temp[op[0]] = gear[op[0]][-1] + gear[op[0]][:7]\n",
    "        rturn = 1\n",
    "        lturn = 1\n",
    "    else:\n",
    "        temp[op[0]] = gear[op[0]][1:] + gear[op[0]][0]\n",
    "        rturn = -1\n",
    "        lturn = -1\n",
    "    \n",
    "    rmatch =  gear[op[0]][2]\n",
    "    for i in range(1,4-op[0]):\n",
    "        if rmatch != gear[op[0]+i][6]:\n",
    "            rmatch = gear[op[0]+i][2]\n",
    "            if rturn == 1:\n",
    "                temp[op[0]+i] = gear[op[0]+i][1:] + gear[op[0]+i][0]\n",
    "                rturn = -1\n",
    "            elif rturn == -1:\n",
    "                temp[op[0]+i] = gear[op[0]+i][-1] + gear[op[0]+i][:7]\n",
    "                rturn = 1\n",
    "        else:\n",
    "            break\n",
    "    \n",
    "    lmatch =  gear[op[0]][6]\n",
    "    for i in range(-1,-1-op[0],-1):\n",
    "        if lmatch != str(gear[op[0]+i][2]):\n",
    "            lmatch = gear[op[0]+i][6]\n",
    "            if lturn == 1:\n",
    "                temp[op[0]+i] = gear[op[0]+i][1:] + gear[op[0]+i][0]\n",
    "                lturn = -1\n",
    "            elif lturn == -1:\n",
    "                temp[op[0]+i] = gear[op[0]+i][-1] + gear[op[0]+i][:7]\n",
    "                lturn=1\n",
    "        else:\n",
    "            break\n",
    "    for i in range(4):\n",
    "        if temp[i] != 0:\n",
    "            gear[i] = temp[i][:]\n",
    "sol = 0\n",
    "for i in range(4):\n",
    "    if gear[i][0] == str(1):\n",
    "        sol += pow(2,i)\n",
    "print(sol)"
   ]
  }
 ],
 "metadata": {
  "interpreter": {
   "hash": "53e059d21691b4acb4a64b9f63fef32a69804c1f4bf8b757b5579479fa8a32ee"
  },
  "kernelspec": {
   "display_name": "Python 3.7.2 64-bit",
   "language": "python",
   "name": "python3"
  },
  "language_info": {
   "codemirror_mode": {
    "name": "ipython",
    "version": 3
   },
   "file_extension": ".py",
   "mimetype": "text/x-python",
   "name": "python",
   "nbconvert_exporter": "python",
   "pygments_lexer": "ipython3",
   "version": "3.7.2"
  },
  "orig_nbformat": 4
 },
 "nbformat": 4,
 "nbformat_minor": 2
}
