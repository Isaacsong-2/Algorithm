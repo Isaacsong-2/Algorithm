{
 "cells": [
  {
   "cell_type": "code",
   "execution_count": 15,
   "metadata": {},
   "outputs": [],
   "source": [
    "n, m, k = map(int,input().split())\n",
    "li = [list(map(int,input().split())) for _ in range(n)]"
   ]
  },
  {
   "cell_type": "code",
   "execution_count": 18,
   "metadata": {},
   "outputs": [
    {
     "name": "stdout",
     "output_type": "stream",
     "text": [
      "3901\n"
     ]
    }
   ],
   "source": [
    "def move(dir): # 동 남 서 북\n",
    "    if dir == 0:\n",
    "        dice[2],dice[5],dice[0],dice[3] = dice[0],dice[2],dice[3],dice[5]\n",
    "    elif dir == 1:\n",
    "        dice[4],dice[0],dice[5],dice[1] = dice[0],dice[1],dice[4],dice[5]\n",
    "    elif dir == 2:\n",
    "        dice[3],dice[0],dice[5],dice[2] = dice[0],dice[2],dice[3],dice[5]\n",
    "    else:\n",
    "        dice[1],dice[5],dice[0],dice[4] = dice[0],dice[1],dice[4],dice[5]\n",
    "def dfs(x, y):\n",
    "    visit = [[0]*m for _ in range(n)]\n",
    "    queue = [(x,y)]\n",
    "    value = li[x][y]\n",
    "    visit[x][y] = 1\n",
    "    cnt = 1\n",
    "    while(queue):\n",
    "        x, y = queue.pop()\n",
    "        for i in range(4):\n",
    "            nx = x + dx[i]\n",
    "            ny = y + dy[i]\n",
    "            if 0<=nx<n and 0<=ny<m and visit[nx][ny] == 0 and li[nx][ny] == value:\n",
    "                queue.append((nx,ny))\n",
    "                visit[nx][ny] = 1\n",
    "                cnt += 1\n",
    "    return cnt    \n",
    "\n",
    "dice = [1,2,3,4,5,6] #위, 북, 동, 서, 남, 아래\n",
    "dir = 0\n",
    "r, c = 0,0\n",
    "dx = [0, 1, 0, -1]\n",
    "dy = [1, 0, -1, 0]\n",
    "sol = 0\n",
    "for i in range(k):\n",
    "    if 0<=r + dx[dir]< n and 0<=c + dy[dir]<m:\n",
    "        pass\n",
    "    else:\n",
    "        dir = (dir+2)%4\n",
    "    r += dx[dir]\n",
    "    c += dy[dir]\n",
    "    move(dir)\n",
    "    sol += li[r][c] * dfs(r,c)\n",
    "    if dice[5] > li[r][c]:\n",
    "        dir = (dir+1) %4\n",
    "    elif dice[5] < li[r][c]:\n",
    "        dir = (dir+3) % 4\n",
    "print(sol)\n",
    "\n"
   ]
  }
 ],
 "metadata": {
  "interpreter": {
   "hash": "53e059d21691b4acb4a64b9f63fef32a69804c1f4bf8b757b5579479fa8a32ee"
  },
  "kernelspec": {
   "display_name": "Python 3.7.2 64-bit",
   "language": "python",
   "name": "python3"
  },
  "language_info": {
   "codemirror_mode": {
    "name": "ipython",
    "version": 3
   },
   "file_extension": ".py",
   "mimetype": "text/x-python",
   "name": "python",
   "nbconvert_exporter": "python",
   "pygments_lexer": "ipython3",
   "version": "3.7.2"
  },
  "orig_nbformat": 4
 },
 "nbformat": 4,
 "nbformat_minor": 2
}
