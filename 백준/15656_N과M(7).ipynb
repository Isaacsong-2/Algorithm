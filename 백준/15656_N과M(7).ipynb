{
 "cells": [
  {
   "cell_type": "code",
   "execution_count": 1,
   "metadata": {},
   "outputs": [
    {
     "name": "stdout",
     "output_type": "stream",
     "text": [
      "1 1 \n",
      "1 7 \n",
      "1 8 \n",
      "1 9 \n",
      "7 1 \n",
      "7 7 \n",
      "7 8 \n",
      "7 9 \n",
      "8 1 \n",
      "8 7 \n",
      "8 8 \n",
      "8 9 \n",
      "9 1 \n",
      "9 7 \n",
      "9 8 \n",
      "9 9 \n"
     ]
    }
   ],
   "source": [
    "n, m = map(int, input().split())\n",
    "li = list(map(int,input().split()))\n",
    "li.sort()\n",
    "arr = []\n",
    "visit = [0] * (10001)\n",
    "cnt = 0\n",
    "def back(idx):\n",
    "    global arr\n",
    "    if idx==m:\n",
    "        for i in range(len(arr)):\n",
    "            print(arr[i], end = \" \")\n",
    "        print()\n",
    "        return\n",
    "    for i in li:\n",
    "        # if arr:\n",
    "        #     if visit[i] == 1 or i < arr[-1]:\n",
    "        #         continue\n",
    "        arr.append(i)\n",
    "        visit[i] = 1\n",
    "        back(idx+1)\n",
    "        arr.pop()\n",
    "        visit[i] = 0\n",
    "back(0)"
   ]
  }
 ],
 "metadata": {
  "interpreter": {
   "hash": "53e059d21691b4acb4a64b9f63fef32a69804c1f4bf8b757b5579479fa8a32ee"
  },
  "kernelspec": {
   "display_name": "Python 3.7.2 64-bit",
   "language": "python",
   "name": "python3"
  },
  "language_info": {
   "codemirror_mode": {
    "name": "ipython",
    "version": 3
   },
   "file_extension": ".py",
   "mimetype": "text/x-python",
   "name": "python",
   "nbconvert_exporter": "python",
   "pygments_lexer": "ipython3",
   "version": "3.7.2"
  },
  "orig_nbformat": 4
 },
 "nbformat": 4,
 "nbformat_minor": 2
}
