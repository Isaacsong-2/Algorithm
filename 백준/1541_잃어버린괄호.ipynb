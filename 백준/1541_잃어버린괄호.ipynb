{
 "cells": [
  {
   "cell_type": "code",
   "execution_count": 27,
   "metadata": {},
   "outputs": [],
   "source": [
    "a = list(input().split('-'))"
   ]
  },
  {
   "cell_type": "code",
   "execution_count": 28,
   "metadata": {},
   "outputs": [
    {
     "name": "stdout",
     "output_type": "stream",
     "text": [
      "['00009', '00009']\n",
      "[[9], [9]]\n",
      "0\n"
     ]
    }
   ],
   "source": [
    "\n",
    "b = []\n",
    "for i in range(len(a)):\n",
    "    b.append(a[i].split('+'))\n",
    "for i in range(len(b)):\n",
    "    for j in range(len(b[i])):\n",
    "        b[i][j] = int(b[i][j])\n",
    "sol = sum(b[0])\n",
    "for i in range(1,len(b)):\n",
    "    sol -= sum(b[i])\n",
    "print(sol)\n"
   ]
  }
 ],
 "metadata": {
  "interpreter": {
   "hash": "53e059d21691b4acb4a64b9f63fef32a69804c1f4bf8b757b5579479fa8a32ee"
  },
  "kernelspec": {
   "display_name": "Python 3.7.2 64-bit",
   "language": "python",
   "name": "python3"
  },
  "language_info": {
   "codemirror_mode": {
    "name": "ipython",
    "version": 3
   },
   "file_extension": ".py",
   "mimetype": "text/x-python",
   "name": "python",
   "nbconvert_exporter": "python",
   "pygments_lexer": "ipython3",
   "version": "3.7.2"
  },
  "orig_nbformat": 4
 },
 "nbformat": 4,
 "nbformat_minor": 2
}
