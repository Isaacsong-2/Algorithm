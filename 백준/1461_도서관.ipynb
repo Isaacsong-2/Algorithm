{
 "cells": [
  {
   "cell_type": "code",
   "execution_count": 30,
   "metadata": {},
   "outputs": [],
   "source": [
    "n, m = map(int,input().split())\n",
    "book = list(map(int,input().split()))\n",
    "book.sort()"
   ]
  },
  {
   "cell_type": "code",
   "execution_count": 32,
   "metadata": {},
   "outputs": [
    {
     "name": "stdout",
     "output_type": "stream",
     "text": [
      "158\n"
     ]
    }
   ],
   "source": [
    "lbook = [0]\n",
    "rbook = [0]\n",
    "for i in range(n):\n",
    "    if book[i] < 0:\n",
    "        lbook.append(-book[i])\n",
    "    else: rbook.append(book[i])\n",
    "lbook.sort()\n",
    "\n",
    "ans = 0\n",
    "if lbook or rbook:\n",
    "    if lbook[-1] < rbook[-1]:\n",
    "        ans += rbook.pop()\n",
    "        for i in range(m-1):\n",
    "            if rbook:\n",
    "                rbook.pop()\n",
    "    else:\n",
    "        ans += lbook.pop()\n",
    "        for i in range(m-1):\n",
    "            if lbook:\n",
    "                lbook.pop()\n",
    "\n",
    "while(lbook):\n",
    "    ans += 2*lbook.pop()\n",
    "    for i in range(m-1):\n",
    "        if lbook:\n",
    "            lbook.pop()\n",
    "        else: break\n",
    "while(rbook):\n",
    "    ans += 2*rbook.pop()\n",
    "    for i in range(m-1):\n",
    "        if rbook:\n",
    "            rbook.pop()\n",
    "        else: break\n",
    "print(ans)"
   ]
  }
 ],
 "metadata": {
  "interpreter": {
   "hash": "d75df686efc28afbc154e69ab3b02fa6abad8f31352f252b5de5b4a995eb825f"
  },
  "kernelspec": {
   "display_name": "Python 3.7.2 64-bit",
   "language": "python",
   "name": "python3"
  },
  "language_info": {
   "codemirror_mode": {
    "name": "ipython",
    "version": 3
   },
   "file_extension": ".py",
   "mimetype": "text/x-python",
   "name": "python",
   "nbconvert_exporter": "python",
   "pygments_lexer": "ipython3",
   "version": "3.7.2"
  },
  "orig_nbformat": 4
 },
 "nbformat": 4,
 "nbformat_minor": 2
}
