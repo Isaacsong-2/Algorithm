{
 "cells": [
  {
   "cell_type": "code",
   "execution_count": 96,
   "metadata": {},
   "outputs": [],
   "source": [
    "n, m = map(int,input().split())\n",
    "li = []\n",
    "for i in range(n):\n",
    "    li.append(list(str(input())))"
   ]
  },
  {
   "cell_type": "code",
   "execution_count": 98,
   "metadata": {},
   "outputs": [
    {
     "name": "stdout",
     "output_type": "stream",
     "text": [
      "-1\n"
     ]
    }
   ],
   "source": [
    "from collections import deque\n",
    "dx = [-1,1,0,0]\n",
    "dy = [0,0,-1,1]\n",
    "def find(x):\n",
    "    if x != root[x]:\n",
    "        root[x] = find(root[x])\n",
    "    return root[x]\n",
    "queue = []\n",
    "cnt = 0\n",
    "node = [[0] * n for _ in range(n)]\n",
    "for i in range(n):\n",
    "    for j in range(n):\n",
    "        if li[i][j] == 'S' or li[i][j] == 'K':\n",
    "            node[i][j] = cnt\n",
    "            cnt += 1\n",
    "            queue.append((i,j))\n",
    "sol = []\n",
    "for i in queue:\n",
    "    q = deque([(i[0],i[1])])\n",
    "    visit = [[-1] * n for _ in range(n)]\n",
    "    visit[i[0]][i[1]] = 0\n",
    "    while q:\n",
    "        x, y = q.popleft()\n",
    "        for k in range(4):\n",
    "            nx, ny = x + dx[k], y + dy[k]\n",
    "            if 0 <= nx < n and  0 <= ny < n:\n",
    "                if li[nx][ny] != '1':\n",
    "                    if visit[nx][ny] == -1:\n",
    "                        visit[nx][ny] = visit[x][y] + 1\n",
    "                        q.append((nx, ny))\n",
    "    li[i[0]][i[1]] = 1\n",
    "    for j in queue:\n",
    "        if visit[j[0]][j[1]] != -1:\n",
    "            sol.append([visit[j[0]][j[1]],node[i[0]][i[1]],node[j[0]][j[1]]])\n",
    "root = [i for i in range(m+1)]\n",
    "sol.sort()\n",
    "answer = 0\n",
    "cnt = 0\n",
    "for w, a, b in sol:\n",
    "    if cnt == m:\n",
    "        break\n",
    "    ar = find(a)\n",
    "    br = find(b)\n",
    "    if ar != br:\n",
    "        cnt += 1\n",
    "        if ar>br:\n",
    "            root[ar] = br\n",
    "        else:\n",
    "            root[br] = ar\n",
    "        answer += w\n",
    "if cnt == m:\n",
    "    print(answer)\n",
    "else: print(-1)"
   ]
  }
 ],
 "metadata": {
  "interpreter": {
   "hash": "53e059d21691b4acb4a64b9f63fef32a69804c1f4bf8b757b5579479fa8a32ee"
  },
  "kernelspec": {
   "display_name": "Python 3.7.2 64-bit",
   "language": "python",
   "name": "python3"
  },
  "language_info": {
   "codemirror_mode": {
    "name": "ipython",
    "version": 3
   },
   "file_extension": ".py",
   "mimetype": "text/x-python",
   "name": "python",
   "nbconvert_exporter": "python",
   "pygments_lexer": "ipython3",
   "version": "3.7.2"
  },
  "orig_nbformat": 4
 },
 "nbformat": 4,
 "nbformat_minor": 2
}
