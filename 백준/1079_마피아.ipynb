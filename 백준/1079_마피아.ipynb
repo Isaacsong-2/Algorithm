{
 "cells": [
  {
   "cell_type": "code",
   "execution_count": 1,
   "metadata": {},
   "outputs": [],
   "source": [
    "n = int(input())\n",
    "guilt = list(map(int,input().split()))\n",
    "gadd = [list(map(int,input().split())) for _ in range(n)]\n",
    "eun = int(input())"
   ]
  },
  {
   "cell_type": "code",
   "execution_count": 3,
   "metadata": {},
   "outputs": [
    {
     "name": "stdout",
     "output_type": "stream",
     "text": [
      "2\n"
     ]
    }
   ],
   "source": [
    "from copy import deepcopy\n",
    "par = [i for i in range(n)]\n",
    "def day(guilt):\n",
    "    M = 0\n",
    "    ret = 0\n",
    "    for i in par:\n",
    "        if guilt[i] > M:\n",
    "            M = guilt[i]\n",
    "            ret = i\n",
    "    return ret\n",
    "def mapia(idx,sol,par,guilt):\n",
    "    global ans\n",
    "    if par[eun] == -1:\n",
    "        ans = max(ans, sol)\n",
    "        return\n",
    "    if idx==2:\n",
    "        ans = max(ans, sol+1)\n",
    "        return\n",
    "    if idx%2 == 1:\n",
    "        kill = day(guilt)\n",
    "        par[kill] = -1\n",
    "        mapia(idx-1,sol,par,guilt)\n",
    "        par[kill] = kill\n",
    "    else:\n",
    "        for i in range(n):\n",
    "            if par[i] != -1 and i != eun:\n",
    "                par[i] = -1\n",
    "                for j in range(n):\n",
    "                    guilt[j] += gadd[i][j]\n",
    "                mapia(idx-1,sol+1,par,guilt)\n",
    "                for j in range(n):\n",
    "                    guilt[j] -= gadd[i][j]\n",
    "                par[i] = i\n",
    "arr = deepcopy(guilt)\n",
    "ans = 0\n",
    "mapia(n, 0, [i for i in range(n)],arr)\n",
    "print(ans)"
   ]
  }
 ],
 "metadata": {
  "interpreter": {
   "hash": "53e059d21691b4acb4a64b9f63fef32a69804c1f4bf8b757b5579479fa8a32ee"
  },
  "kernelspec": {
   "display_name": "Python 3.7.2 64-bit",
   "language": "python",
   "name": "python3"
  },
  "language_info": {
   "codemirror_mode": {
    "name": "ipython",
    "version": 3
   },
   "file_extension": ".py",
   "mimetype": "text/x-python",
   "name": "python",
   "nbconvert_exporter": "python",
   "pygments_lexer": "ipython3",
   "version": "3.7.2"
  },
  "orig_nbformat": 4
 },
 "nbformat": 4,
 "nbformat_minor": 2
}
