{
 "cells": [
  {
   "cell_type": "code",
   "execution_count": 24,
   "metadata": {},
   "outputs": [
    {
     "name": "stdout",
     "output_type": "stream",
     "text": [
      "10510100501\n",
      "1.0510100501\n"
     ]
    }
   ],
   "source": [
    "a, b = map(str,input().split())\n",
    "b = int(b)\n",
    "i_part, d_part = a.split(\".\")\n",
    "n = b*len(d_part)\n",
    "a = int(i_part+d_part)\n",
    "temp = str(pow(a,b))\n",
    "while(len(temp)<n):\n",
    "    temp = \"0\" + temp\n",
    "temp = temp[:-n] + \".\" + temp[-n:]\n",
    "if temp[0] == \".\":\n",
    "    temp = \"0\" + temp\n",
    "print(temp)"
   ]
  }
 ],
 "metadata": {
  "interpreter": {
   "hash": "53e059d21691b4acb4a64b9f63fef32a69804c1f4bf8b757b5579479fa8a32ee"
  },
  "kernelspec": {
   "display_name": "Python 3.7.2 64-bit",
   "language": "python",
   "name": "python3"
  },
  "language_info": {
   "codemirror_mode": {
    "name": "ipython",
    "version": 3
   },
   "file_extension": ".py",
   "mimetype": "text/x-python",
   "name": "python",
   "nbconvert_exporter": "python",
   "pygments_lexer": "ipython3",
   "version": "3.7.2"
  },
  "orig_nbformat": 4
 },
 "nbformat": 4,
 "nbformat_minor": 2
}
