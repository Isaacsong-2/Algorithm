{
 "cells": [
  {
   "cell_type": "code",
   "execution_count": 2,
   "metadata": {},
   "outputs": [],
   "source": [
    "n = int(input())\n",
    "li = list(map(int,input().split()))"
   ]
  },
  {
   "cell_type": "code",
   "execution_count": 4,
   "metadata": {},
   "outputs": [
    {
     "name": "stdout",
     "output_type": "stream",
     "text": [
      "62\n"
     ]
    }
   ],
   "source": [
    "# def back(idx):\n",
    "#     if idx==n:\n",
    "#         return\n",
    "    \n",
    "#     for i in range(n):\n",
    "#         if visit[i] == 0:\n",
    "#             visit[i] = 1\n",
    "#             back(idx+1)\n",
    "#             visit[i] = 0\n",
    "from itertools import permutations\n",
    "ans = 0\n",
    "for arr in list(permutations(li,n)):\n",
    "    sol = 0\n",
    "    for i in range(n-1):\n",
    "        sol += abs(arr[i]-arr[i+1])\n",
    "    ans = max(sol,ans)\n",
    "print(ans)"
   ]
  }
 ],
 "metadata": {
  "kernelspec": {
   "display_name": "Python 3.7.2 64-bit",
   "language": "python",
   "name": "python3"
  },
  "language_info": {
   "codemirror_mode": {
    "name": "ipython",
    "version": 3
   },
   "file_extension": ".py",
   "mimetype": "text/x-python",
   "name": "python",
   "nbconvert_exporter": "python",
   "pygments_lexer": "ipython3",
   "version": "3.7.2"
  },
  "orig_nbformat": 4,
  "vscode": {
   "interpreter": {
    "hash": "d75df686efc28afbc154e69ab3b02fa6abad8f31352f252b5de5b4a995eb825f"
   }
  }
 },
 "nbformat": 4,
 "nbformat_minor": 2
}
