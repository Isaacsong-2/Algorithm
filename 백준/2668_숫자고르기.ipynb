{
 "cells": [
  {
   "cell_type": "code",
   "execution_count": 7,
   "metadata": {},
   "outputs": [
    {
     "name": "stdout",
     "output_type": "stream",
     "text": [
      "3\n",
      "1\n",
      "3\n",
      "5\n"
     ]
    }
   ],
   "source": [
    "N = int(input())\t\t\t# 입력\n",
    "arr = [0]\t\t\t\t# 두번째 줄 숫자 담을 리스트.\n",
    "for _ in range(N):\n",
    "    arr.append(int(input()))\n",
    "answer = set()\t\t\t\t# 결과 담을 set\n",
    "\n",
    "# dfs 정의\n",
    "def dfs(first, second, num):\n",
    "    first.add(num)\t\t\t# 첫번째 줄 집합에 num 추가\n",
    "    second.add(arr[num])\t\t# 두번째 줄 집합에 arr[num] 추가\n",
    "    if arr[num] in first:\t\t# arr[num]이 첫번째 줄 집합에 있을 때\n",
    "        if first == second:\t\t# 첫번째 줄 집합과 두번째 줄 집합이 같다면\n",
    "            answer.update(first)\t# 결과 업데이트\n",
    "            return True\n",
    "        return False\n",
    "    return dfs(first, second, arr[num])\t# 아니라면 다음 dfs 실행\n",
    "\n",
    "# dfs 실행\n",
    "for i in range(1, N+1):\n",
    "    if i not in answer:\t\t\t# i가 결과 집합 안에 없는 경우만 실행 \n",
    "        dfs(set(), set(), i)\n",
    "\n",
    "print(len(answer))\n",
    "print(*sorted(list(answer)), sep='\\n')"
   ]
  }
 ],
 "metadata": {
  "interpreter": {
   "hash": "53e059d21691b4acb4a64b9f63fef32a69804c1f4bf8b757b5579479fa8a32ee"
  },
  "kernelspec": {
   "display_name": "Python 3.7.2 64-bit",
   "language": "python",
   "name": "python3"
  },
  "language_info": {
   "codemirror_mode": {
    "name": "ipython",
    "version": 3
   },
   "file_extension": ".py",
   "mimetype": "text/x-python",
   "name": "python",
   "nbconvert_exporter": "python",
   "pygments_lexer": "ipython3",
   "version": "3.7.2"
  },
  "orig_nbformat": 4
 },
 "nbformat": 4,
 "nbformat_minor": 2
}
