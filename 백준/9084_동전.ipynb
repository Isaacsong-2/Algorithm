{
 "cells": [
  {
   "cell_type": "code",
   "execution_count": 5,
   "metadata": {},
   "outputs": [
    {
     "name": "stdout",
     "output_type": "stream",
     "text": [
      "501\n",
      "121\n",
      "1\n"
     ]
    }
   ],
   "source": [
    "t = int(input())\n",
    "for _ in range(t):\n",
    "    n = int(input())\n",
    "    li = list(map(int,input().split()))\n",
    "    m = int(input())\n",
    "    dp = [0] * (m+1)\n",
    "    dp[0] = 1\n",
    "    for i in range(n):\n",
    "        for j in range(m+1):\n",
    "            if j >= li[i]:\n",
    "                dp[j] += dp[j - li[i]]\n",
    "    print(dp[m])"
   ]
  }
 ],
 "metadata": {
  "kernelspec": {
   "display_name": "Python 3.7.2 64-bit",
   "language": "python",
   "name": "python3"
  },
  "language_info": {
   "codemirror_mode": {
    "name": "ipython",
    "version": 3
   },
   "file_extension": ".py",
   "mimetype": "text/x-python",
   "name": "python",
   "nbconvert_exporter": "python",
   "pygments_lexer": "ipython3",
   "version": "3.7.2"
  },
  "orig_nbformat": 4,
  "vscode": {
   "interpreter": {
    "hash": "d75df686efc28afbc154e69ab3b02fa6abad8f31352f252b5de5b4a995eb825f"
   }
  }
 },
 "nbformat": 4,
 "nbformat_minor": 2
}
