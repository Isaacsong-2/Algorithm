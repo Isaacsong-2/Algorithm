{
 "cells": [
  {
   "cell_type": "code",
   "execution_count": 1,
   "metadata": {},
   "outputs": [],
   "source": [
    "import sys\n",
    "input = sys.stdin.readline\n",
    "\n",
    "n,m = map(int,input().split())\n",
    "data = list(map(int,input().split()))\n",
    "\n",
    "#순서를 유지해야 하므로 정렬을 사용하면 안된다.\n",
    "# 이분탐색을 두번 적용 시켜서 \n",
    "num = sum(data)\n",
    "\n",
    "start = 0 # num // 3\n",
    "end = 10000000000\n",
    "result = num\n",
    "\n",
    "while start<=end:\n",
    "    # mid 는 블루레이 크기\n",
    "    mid = (start+end) // 2 \n",
    "    if mid < max(data):\n",
    "        start = mid + 1\n",
    "        continue\n",
    "    # cnt 는 블루레이 개수 , tmp 는 블루레이 갱신해주고 있는 블루레이 길이\n",
    "    cnt,tmp =1,0\n",
    "    # 하나씩 더하면서 갱신해준다. \n",
    "    for i in range(len(data)):\n",
    "        # 이전 값이랑 지금 값 더해서 mid 보다 작으면 계속 더해준다\n",
    "        if tmp + data[i] <= mid:\n",
    "            tmp += data[i]\n",
    "        # mid 보다 커지면 현재 data[i]가 tmp 로 들어가고\n",
    "        # 전에 있던 tmp는 0 초기화 해주고 개수 1개 늘려준다.\n",
    "        else:\n",
    "            tmp = data[i]\n",
    "            cnt += 1\n",
    "    # 개수가 m-1보다 작거나 같으면 이분탐색으로 영상 길이 인 mid값 갱신 로직 실행ㄴ\n",
    "    if cnt <= m:\n",
    "        end = mid - 1\n",
    "        result = min(result,mid)\n",
    "    else:\n",
    "        start = mid + 1\n",
    "print(result)"
   ]
  }
 ],
 "metadata": {
  "interpreter": {
   "hash": "d75df686efc28afbc154e69ab3b02fa6abad8f31352f252b5de5b4a995eb825f"
  },
  "kernelspec": {
   "display_name": "Python 3.7.2 64-bit",
   "language": "python",
   "name": "python3"
  },
  "language_info": {
   "codemirror_mode": {
    "name": "ipython",
    "version": 3
   },
   "file_extension": ".py",
   "mimetype": "text/x-python",
   "name": "python",
   "nbconvert_exporter": "python",
   "pygments_lexer": "ipython3",
   "version": "3.7.2"
  },
  "orig_nbformat": 4
 },
 "nbformat": 4,
 "nbformat_minor": 2
}
