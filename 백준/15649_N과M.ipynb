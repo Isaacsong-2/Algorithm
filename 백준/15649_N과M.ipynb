{
 "cells": [
  {
   "cell_type": "code",
   "execution_count": 67,
   "metadata": {},
   "outputs": [],
   "source": [
    "n, m = map(int, input().split())"
   ]
  },
  {
   "cell_type": "code",
   "execution_count": 74,
   "metadata": {},
   "outputs": [
    {
     "name": "stdout",
     "output_type": "stream",
     "text": [
      "1 2 \n",
      "1 3 \n",
      "1 4 \n",
      "2 1 \n",
      "2 3 \n",
      "2 4 \n",
      "3 1 \n",
      "3 2 \n",
      "3 4 \n",
      "4 1 \n",
      "4 2 \n",
      "4 3 \n"
     ]
    }
   ],
   "source": [
    "arr = []\n",
    "visit = [0] * (n+1)\n",
    "cnt = 0\n",
    "def back(idx):\n",
    "    global arr\n",
    "    if idx==m:\n",
    "        for i in range(len(arr)):\n",
    "            print(arr[i], end = \" \")\n",
    "        print()\n",
    "        return\n",
    "    for i in range(1, n+1):\n",
    "        if visit[i] == 1:\n",
    "            continue\n",
    "        arr.append(i)\n",
    "        visit[i] = 1\n",
    "        back(idx+1)\n",
    "        arr.pop()\n",
    "        visit[i] = 0\n",
    "back(0)"
   ]
  }
 ],
 "metadata": {
  "interpreter": {
   "hash": "53e059d21691b4acb4a64b9f63fef32a69804c1f4bf8b757b5579479fa8a32ee"
  },
  "kernelspec": {
   "display_name": "Python 3.7.2 64-bit",
   "language": "python",
   "name": "python3"
  },
  "language_info": {
   "codemirror_mode": {
    "name": "ipython",
    "version": 3
   },
   "file_extension": ".py",
   "mimetype": "text/x-python",
   "name": "python",
   "nbconvert_exporter": "python",
   "pygments_lexer": "ipython3",
   "version": "3.7.2"
  },
  "orig_nbformat": 4
 },
 "nbformat": 4,
 "nbformat_minor": 2
}
