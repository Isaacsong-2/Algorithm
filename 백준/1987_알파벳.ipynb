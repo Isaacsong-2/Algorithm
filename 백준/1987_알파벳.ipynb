{
 "cells": [
  {
   "cell_type": "code",
   "execution_count": 18,
   "metadata": {},
   "outputs": [],
   "source": [
    "r, c = map(int,input().split())\n",
    "li = [list(input()) for _ in range(r)]"
   ]
  },
  {
   "cell_type": "code",
   "execution_count": 24,
   "metadata": {},
   "outputs": [
    {
     "name": "stdout",
     "output_type": "stream",
     "text": [
      "10\n"
     ]
    }
   ],
   "source": [
    "dx = [-1,1,0,0]\n",
    "dy = [0,0,-1,1]\n",
    "st = set([(0,0,li[0][0])])\n",
    "ans = 1\n",
    "while(st):\n",
    "    x, y, visit = st.pop()\n",
    "    for i in range(4):\n",
    "        nx, ny = x+dx[i], y+dy[i] \n",
    "        if 0<=nx<r and 0<=ny<c and li[nx][ny] not in visit:\n",
    "            st.add((nx,ny,visit+li[nx][ny]))\n",
    "            ans = max(ans, len(visit)+1)\n",
    "print(ans)"
   ]
  }
 ],
 "metadata": {
  "kernelspec": {
   "display_name": "Python 3.7.2 64-bit",
   "language": "python",
   "name": "python3"
  },
  "language_info": {
   "codemirror_mode": {
    "name": "ipython",
    "version": 3
   },
   "file_extension": ".py",
   "mimetype": "text/x-python",
   "name": "python",
   "nbconvert_exporter": "python",
   "pygments_lexer": "ipython3",
   "version": "3.7.2"
  },
  "orig_nbformat": 4,
  "vscode": {
   "interpreter": {
    "hash": "d75df686efc28afbc154e69ab3b02fa6abad8f31352f252b5de5b4a995eb825f"
   }
  }
 },
 "nbformat": 4,
 "nbformat_minor": 2
}
