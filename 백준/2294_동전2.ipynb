{
 "cells": [
  {
   "cell_type": "code",
   "execution_count": 7,
   "metadata": {},
   "outputs": [],
   "source": [
    "n, k = map(int,input().split())\n",
    "coin = {int(input()) for _ in range(n)}"
   ]
  },
  {
   "cell_type": "code",
   "execution_count": 18,
   "metadata": {},
   "outputs": [
    {
     "name": "stdout",
     "output_type": "stream",
     "text": [
      "3\n"
     ]
    }
   ],
   "source": [
    "coin = list(coin)\n",
    "coin.sort()\n",
    "dp = [10001] * (k+1)\n",
    "for c in coin:\n",
    "    if c<=k:\n",
    "        dp[c] = 1\n",
    "for i in range(1,k+1):\n",
    "    for c in coin:\n",
    "        if i-c>0:\n",
    "            if dp[i-c] != 10001:\n",
    "                dp[i] = min(dp[i],dp[i-c]+1)\n",
    "        else:\n",
    "            break\n",
    "print(dp[k]) if dp[k] != 10001 else print(-1)"
   ]
  }
 ],
 "metadata": {
  "kernelspec": {
   "display_name": "Python 3.7.2 64-bit",
   "language": "python",
   "name": "python3"
  },
  "language_info": {
   "codemirror_mode": {
    "name": "ipython",
    "version": 3
   },
   "file_extension": ".py",
   "mimetype": "text/x-python",
   "name": "python",
   "nbconvert_exporter": "python",
   "pygments_lexer": "ipython3",
   "version": "3.7.2"
  },
  "orig_nbformat": 4,
  "vscode": {
   "interpreter": {
    "hash": "d75df686efc28afbc154e69ab3b02fa6abad8f31352f252b5de5b4a995eb825f"
   }
  }
 },
 "nbformat": 4,
 "nbformat_minor": 2
}
