{
 "cells": [
  {
   "cell_type": "code",
   "execution_count": 10,
   "metadata": {},
   "outputs": [
    {
     "name": "stdout",
     "output_type": "stream",
     "text": [
      "[[0, 0, 0, 0, 0], [1, 1, 1, 1, 1], [0, 0, 0, 0, 1], [0, 0, 0, 0, 1], [0, 0, 0, 0, 0]]\n",
      "1\n"
     ]
    }
   ],
   "source": [
    "# 십자모양을 찾을수가 없음\n",
    "li = [list(input()) for _ in range(5)]\n",
    "dx = [-1,1,0,0]\n",
    "dy = [0,0,-1,1]\n",
    "def back(idx,x,y):\n",
    "    global sol\n",
    "    global cnt\n",
    "    if cnt + 7 - idx < 4:\n",
    "        return\n",
    "    if idx == 7:\n",
    "        print(visit)\n",
    "        sol += 1\n",
    "        return\n",
    "    for i in range(4):\n",
    "        nx = x + dx[i]\n",
    "        ny = y + dy[i]\n",
    "        if 0<=nx<5 and 0<=ny<5 and visit[nx][ny] == 0:\n",
    "            if li[nx][ny] == 'S':\n",
    "                cnt += 1\n",
    "            visit[nx][ny] = 1\n",
    "            back(idx+1,nx,ny)\n",
    "            if li[nx][ny] == 'S':\n",
    "                cnt -= 1\n",
    "            visit[nx][ny] = 0\n",
    "\n",
    "sol = 0\n",
    "visit = [[0] * 5 for _ in range(5)]\n",
    "for i in range(5):\n",
    "    for j in range(5):\n",
    "        visit = [[0] * 5 for _ in range(5)]\n",
    "        for k in range(i):\n",
    "            for l in range(5):\n",
    "                visit[k][l] = 1\n",
    "        for k in range(j):\n",
    "            visit[i][k] = 1\n",
    "        cnt = 0\n",
    "        back(0,i,j)\n",
    "print(sol)"
   ]
  },
  {
   "cell_type": "code",
   "execution_count": null,
   "metadata": {},
   "outputs": [],
   "source": [
    "arr = [input() for i in range(5)]\n",
    "\n",
    "prin = [[0 for i in range(5)] for j in range(5)]\n",
    "\n",
    "diry = [1,-1,0,0]\n",
    "dirx = [0,0,1,-1]\n",
    "\n",
    "visit = [[0 for i in range(5)] for j in range(5)]\n",
    "ans = 0\n",
    "p = []\n",
    "\n",
    "def check(s):\n",
    "    global visit\n",
    "    y = s//5\n",
    "    x = s%5\n",
    "    \n",
    "    for i in range(4):\n",
    "        ty = y+diry[i]\n",
    "        tx = x+dirx[i]\n",
    "        \n",
    "        if ty>=0 and ty<5 and tx>=0 and tx<5:\n",
    "            if visit[ty][tx]==0:\n",
    "                if (ty*5+tx) in p:\n",
    "                    visit[ty][tx] = 1\n",
    "                    check((ty*5+tx))\n",
    "    \n",
    "    \n",
    "            \n",
    "def dfs(cnt,idx,yn):\n",
    "    global ans\n",
    "    global visit\n",
    "    \n",
    "    if yn>=4 or 25-idx<7-cnt:\n",
    "        return\n",
    "        \n",
    "    if cnt==7:\n",
    "        \n",
    "        check(p[0])\n",
    "        if sum(sum(visit,[]))==7:\n",
    "            ans+=1 \n",
    "        visit = [[0 for i in range(5)] for j in range(5)]\n",
    "        return\n",
    "    \n",
    "    y = idx//5\n",
    "    x = idx%5\n",
    "    \n",
    "    p.append(idx)\n",
    "    if arr[y][x]=='Y':\n",
    "        dfs(cnt+1,idx+1,yn+1)\n",
    "    else:\n",
    "        dfs(cnt+1,idx+1,yn)\n",
    "    \n",
    "    p.pop()\n",
    "    dfs(cnt,idx+1,yn)\n",
    "    \n",
    "dfs(0,0,0)\n",
    "print(ans)"
   ]
  }
 ],
 "metadata": {
  "interpreter": {
   "hash": "53e059d21691b4acb4a64b9f63fef32a69804c1f4bf8b757b5579479fa8a32ee"
  },
  "kernelspec": {
   "display_name": "Python 3.7.2 64-bit",
   "language": "python",
   "name": "python3"
  },
  "language_info": {
   "codemirror_mode": {
    "name": "ipython",
    "version": 3
   },
   "file_extension": ".py",
   "mimetype": "text/x-python",
   "name": "python",
   "nbconvert_exporter": "python",
   "pygments_lexer": "ipython3",
   "version": "3.7.2"
  },
  "orig_nbformat": 4
 },
 "nbformat": 4,
 "nbformat_minor": 2
}
