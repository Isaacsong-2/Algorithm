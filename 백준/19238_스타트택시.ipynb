{
 "cells": [
  {
   "cell_type": "code",
   "execution_count": 14,
   "metadata": {},
   "outputs": [],
   "source": [
    "n, m, f = map(int,input().split())\n",
    "li = [list(map(int,input().split())) for _ in range(n)]\n",
    "sx, sy = (map(int,input().split()))\n",
    "move = [list(map(int,input().split())) for _ in range(m)]"
   ]
  },
  {
   "cell_type": "code",
   "execution_count": 16,
   "metadata": {},
   "outputs": [
    {
     "name": "stdout",
     "output_type": "stream",
     "text": [
      "14\n"
     ]
    }
   ],
   "source": [
    "from collections import deque\n",
    "dx=[-1,1,0,0]\n",
    "dy=[0,0,-1,1]\n",
    "def bfs(x,y):\n",
    "    visit = [[-1] * n for _ in range(n)]\n",
    "    queue = deque()\n",
    "    queue.append((x,y))\n",
    "    visit[x][y] = 0\n",
    "    while queue:\n",
    "        x, y = queue.popleft()\n",
    "        for i in range(4):\n",
    "            nx = x+dx[i]\n",
    "            ny = y+dy[i]\n",
    "            if 0<=nx<n and 0<=ny<n:\n",
    "                if li[nx][ny] != 1 and visit[nx][ny] == -1:\n",
    "                    visit[nx][ny] = visit[x][y] + 1\n",
    "                    queue.append((nx,ny))\n",
    "    return visit\n",
    "\n",
    "def cal_dist(visit, move):\n",
    "    i = 0\n",
    "    for sx,sy,ex,ey in move:\n",
    "        move[i].append(visit[sx-1][sy-1])\n",
    "        i += 1\n",
    "    move.sort(key=lambda x: (-x[4],-x[0],-x[1]))\n",
    "\n",
    "while(move):\n",
    "    vis = bfs(sx-1,sy-1)\n",
    "    cal_dist(vis,move)\n",
    "    sx,sy,ex,ey,dist = move.pop()\n",
    "    \n",
    "    for temp in move:\n",
    "        temp.pop() #dist 제거\n",
    "\n",
    "    vis = bfs(sx-1, sy-1)\n",
    "    dist2 = vis[ex-1][ey-1]\n",
    "    sx, sy = ex, ey\n",
    "\n",
    "    if dist == -1 or dist2 == -1:\n",
    "        print(-1)\n",
    "        break\n",
    "\n",
    "    f -= dist+ dist2\n",
    "    if f < 0:\n",
    "        print(-1)\n",
    "        break\n",
    "    \n",
    "    f += dist2 * 2\n",
    "if dist != -1 and dist2 != -1 and f>=0:\n",
    "    print(f)"
   ]
  }
 ],
 "metadata": {
  "kernelspec": {
   "display_name": "Python 3.7.2 64-bit",
   "language": "python",
   "name": "python3"
  },
  "language_info": {
   "codemirror_mode": {
    "name": "ipython",
    "version": 3
   },
   "file_extension": ".py",
   "mimetype": "text/x-python",
   "name": "python",
   "nbconvert_exporter": "python",
   "pygments_lexer": "ipython3",
   "version": "3.7.2"
  },
  "orig_nbformat": 4,
  "vscode": {
   "interpreter": {
    "hash": "d75df686efc28afbc154e69ab3b02fa6abad8f31352f252b5de5b4a995eb825f"
   }
  }
 },
 "nbformat": 4,
 "nbformat_minor": 2
}
