{
 "cells": [
  {
   "cell_type": "code",
   "execution_count": 12,
   "metadata": {},
   "outputs": [
    {
     "name": "stdout",
     "output_type": "stream",
     "text": [
      "2 5\n",
      "YES\n",
      "NO\n"
     ]
    }
   ],
   "source": [
    "import sys\n",
    "from math import sqrt\n",
    "input=sys.stdin.readline\n",
    "\n",
    "t=int(input())\n",
    "\n",
    "# 골드 바흐의 추측: 2보다 큰 모든 짝수는 두개의 소수의 합으로 표시할 수 있다\n",
    "# 따라서 3부터의 홀수만 체크해주면 된다.\n",
    "mm=2000001\n",
    "prime=[0]*mm # 0이면 소수\n",
    "prime[1]=1 # 1은 소수가 아님\n",
    "for i in range(2,int(sqrt(mm))+1):\n",
    "    if prime[i]==0:\n",
    "        for j in range(i+i,mm,i):\n",
    "            prime[j]=1 # 소수 아님 체크\n",
    "\n",
    "# 소수인 애들만 담아준다 (나중에 홀수-2인 수가 소수인지 판별할 때 쓴다)\n",
    "q=[]\n",
    "for i in range(2,mm):\n",
    "    if prime[i]==0:\n",
    "        q.append(i)\n",
    "\n",
    "# 소수인지 \n",
    "def is_prime(x):\n",
    "# 소수인 애들로 나뉘게 되면 소수가 아닌 수이다.\n",
    "    for i in range(0,len(q)):\n",
    "        if q[i]*q[i]>x: break\n",
    "        if x%q[i]==0: return 0\n",
    "    return 1\n",
    "for _ in range(t):\n",
    "    x,y=map(int,input().split())\n",
    "    x+=y\n",
    "    if x<4: print('NO')\n",
    "    elif x%2==0: print('YES') #골드바흐의 추측\n",
    "    else:\n",
    "    # 홀수-2\n",
    "        x-=2\n",
    "        # print(x,is_prime(x))\n",
    "        if is_prime(x): print('YES')\n",
    "        else: print('NO')\n",
    "\n",
    "\n"
   ]
  }
 ],
 "metadata": {
  "interpreter": {
   "hash": "53e059d21691b4acb4a64b9f63fef32a69804c1f4bf8b757b5579479fa8a32ee"
  },
  "kernelspec": {
   "display_name": "Python 3.7.2 64-bit",
   "language": "python",
   "name": "python3"
  },
  "language_info": {
   "codemirror_mode": {
    "name": "ipython",
    "version": 3
   },
   "file_extension": ".py",
   "mimetype": "text/x-python",
   "name": "python",
   "nbconvert_exporter": "python",
   "pygments_lexer": "ipython3",
   "version": "3.7.2"
  },
  "orig_nbformat": 4
 },
 "nbformat": 4,
 "nbformat_minor": 2
}
