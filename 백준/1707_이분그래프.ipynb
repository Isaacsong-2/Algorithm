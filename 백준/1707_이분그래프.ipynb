{
 "cells": [
  {
   "cell_type": "code",
   "execution_count": 2,
   "metadata": {},
   "outputs": [
    {
     "name": "stdout",
     "output_type": "stream",
     "text": [
      "YES\n",
      "NO\n"
     ]
    }
   ],
   "source": [
    "# import sys\n",
    "# sys.setrecursionlimit(10 ** 6)\n",
    "# input = sys.stdin.readline\n",
    "k = int(input())\n",
    "def dfs(x):\n",
    "    for nx in graph[x]:\n",
    "        if visit[nx] == 0:\n",
    "            visit[nx] = -visit[x]\n",
    "            if not dfs(nx):\n",
    "                return False\n",
    "        elif visit[nx] == visit[x]:\n",
    "            return False\n",
    "    return True\n",
    "for _ in range(k):\n",
    "    v,e = map(int,input().split())\n",
    "    graph = [[] for _ in range(v)]\n",
    "    for i in range(e):\n",
    "        a, b = map(int,input().split())\n",
    "        graph[a-1].append(b-1)\n",
    "        graph[b-1].append(a-1)\n",
    "    visit = [0] * v\n",
    "    sol = True\n",
    "    for i in range(v):\n",
    "        if visit[i] == 0:\n",
    "            visit[i] = 1\n",
    "            sol = dfs(i)\n",
    "            if not sol:\n",
    "                break\n",
    "    print('YES' if sol else 'NO')"
   ]
  }
 ],
 "metadata": {
  "interpreter": {
   "hash": "53e059d21691b4acb4a64b9f63fef32a69804c1f4bf8b757b5579479fa8a32ee"
  },
  "kernelspec": {
   "display_name": "Python 3.7.2 64-bit",
   "language": "python",
   "name": "python3"
  },
  "language_info": {
   "codemirror_mode": {
    "name": "ipython",
    "version": 3
   },
   "file_extension": ".py",
   "mimetype": "text/x-python",
   "name": "python",
   "nbconvert_exporter": "python",
   "pygments_lexer": "ipython3",
   "version": "3.7.2"
  },
  "orig_nbformat": 4
 },
 "nbformat": 4,
 "nbformat_minor": 2
}
