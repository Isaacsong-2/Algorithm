{
 "cells": [
  {
   "cell_type": "code",
   "execution_count": 25,
   "metadata": {},
   "outputs": [],
   "source": [
    "import heapq\n",
    "n = int(input())\n",
    "hw = []\n",
    "for i in range(n):\n",
    "    d, w = map(int,input().split())\n",
    "    heapq.heappush(hw,(-w,d))"
   ]
  },
  {
   "cell_type": "code",
   "execution_count": 26,
   "metadata": {},
   "outputs": [
    {
     "name": "stdout",
     "output_type": "stream",
     "text": [
      "185\n"
     ]
    }
   ],
   "source": [
    "visit= [1] + [0] * 1000\n",
    "ans = 0\n",
    "while(hw):\n",
    "    w, d = heapq.heappop(hw)\n",
    "    for i in reversed(range(d+1)):\n",
    "        if visit[i] == 0:\n",
    "            visit[i] = 1\n",
    "            ans -= w\n",
    "            break\n",
    "print(ans)\n",
    "# hw.sort(key=lambda x:(-x[0],-x[1]))\n",
    "# print(hw)\n",
    "# day = hw[0][0]\n",
    "# ans = 0\n",
    "# idx = 0\n",
    "# for i in range(day,0,-1):\n",
    "#     while(hw):\n",
    "#         if hw[idx][0] >= i:\n",
    "#             ans += hw[idx][1]\n",
    "#             hw.pop(idx)\n",
    "#             break\n",
    "#         else:\n",
    "#             break\n",
    "#     print(hw,i,ans)\n",
    "# print(ans)"
   ]
  }
 ],
 "metadata": {
  "interpreter": {
   "hash": "d75df686efc28afbc154e69ab3b02fa6abad8f31352f252b5de5b4a995eb825f"
  },
  "kernelspec": {
   "display_name": "Python 3.7.2 64-bit",
   "language": "python",
   "name": "python3"
  },
  "language_info": {
   "codemirror_mode": {
    "name": "ipython",
    "version": 3
   },
   "file_extension": ".py",
   "mimetype": "text/x-python",
   "name": "python",
   "nbconvert_exporter": "python",
   "pygments_lexer": "ipython3",
   "version": "3.7.2"
  },
  "orig_nbformat": 4
 },
 "nbformat": 4,
 "nbformat_minor": 2
}
