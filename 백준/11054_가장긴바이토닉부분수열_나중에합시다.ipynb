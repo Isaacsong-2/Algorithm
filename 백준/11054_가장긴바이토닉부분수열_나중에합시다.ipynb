{
 "cells": [
  {
   "cell_type": "code",
   "execution_count": 7,
   "metadata": {},
   "outputs": [],
   "source": [
    "n = int(input())\n",
    "a = list(map(int,input().split()))"
   ]
  },
  {
   "cell_type": "code",
   "execution_count": 6,
   "metadata": {},
   "outputs": [
    {
     "name": "stdout",
     "output_type": "stream",
     "text": [
      "[1, 1, 1, 2, 2, 3, 4, 4, 5, 5]\n",
      "[1, 2, 3, 4, 5, 4, 2, 1]\n"
     ]
    }
   ],
   "source": [
    "dp = []\n",
    "\n",
    "for i in range(n):\n",
    "    pass\n",
    "# stock = [0]*1001\n",
    "# for i in range(n):\n",
    "#     stock[a[i]] += 1\n",
    "# dp = [a[0]]\n",
    "# min = a[0]\n",
    "# for i in range(1,n):\n",
    "#     if a[i] > min:\n",
    "#         stock[a[i]] -= 1\n",
    "#         dp.append(a[i])\n",
    "#         min = a[i]\n",
    "# max = dp[-1]\n",
    "# for i in reversed(range(1,n)):\n",
    "#     if a[i] < max and stock[a[i]] != 0:\n",
    "#         stock[a[i]] -= 1\n",
    "#         dp.append(a[i])\n",
    "#         max = a[i]\n",
    "# print(dp)"
   ]
  }
 ],
 "metadata": {
  "interpreter": {
   "hash": "53e059d21691b4acb4a64b9f63fef32a69804c1f4bf8b757b5579479fa8a32ee"
  },
  "kernelspec": {
   "display_name": "Python 3.7.2 64-bit",
   "language": "python",
   "name": "python3"
  },
  "language_info": {
   "codemirror_mode": {
    "name": "ipython",
    "version": 3
   },
   "file_extension": ".py",
   "mimetype": "text/x-python",
   "name": "python",
   "nbconvert_exporter": "python",
   "pygments_lexer": "ipython3",
   "version": "3.7.2"
  },
  "orig_nbformat": 4
 },
 "nbformat": 4,
 "nbformat_minor": 2
}
