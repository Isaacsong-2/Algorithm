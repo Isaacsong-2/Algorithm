{
 "cells": [
  {
   "cell_type": "code",
   "execution_count": 5,
   "metadata": {},
   "outputs": [],
   "source": [
    "n, m = map(int,input().split())\n",
    "graph = [[] for _ in range(n)]\n",
    "for i in range(m):\n",
    "    a, b = map(int,input().split())\n",
    "    graph[a-1].append(b-1)\n",
    "    graph[b-1].append(a-1)"
   ]
  },
  {
   "cell_type": "code",
   "execution_count": 6,
   "metadata": {},
   "outputs": [
    {
     "name": "stdout",
     "output_type": "stream",
     "text": [
      "1\n"
     ]
    }
   ],
   "source": [
    "def bfs(x):\n",
    "    for nx in graph[x]:\n",
    "        if visit[nx] == 0:\n",
    "            visit[nx] = 1\n",
    "            bfs(nx)\n",
    "visit = [0] * n\n",
    "sol = 0\n",
    "for i in range(n):\n",
    "    if visit[i] == 0:\n",
    "        visit[i] = 1\n",
    "        sol += 1\n",
    "        bfs(i)\n",
    "print(sol)"
   ]
  }
 ],
 "metadata": {
  "interpreter": {
   "hash": "53e059d21691b4acb4a64b9f63fef32a69804c1f4bf8b757b5579479fa8a32ee"
  },
  "kernelspec": {
   "display_name": "Python 3.7.2 64-bit",
   "language": "python",
   "name": "python3"
  },
  "language_info": {
   "codemirror_mode": {
    "name": "ipython",
    "version": 3
   },
   "file_extension": ".py",
   "mimetype": "text/x-python",
   "name": "python",
   "nbconvert_exporter": "python",
   "pygments_lexer": "ipython3",
   "version": "3.7.2"
  },
  "orig_nbformat": 4
 },
 "nbformat": 4,
 "nbformat_minor": 2
}
