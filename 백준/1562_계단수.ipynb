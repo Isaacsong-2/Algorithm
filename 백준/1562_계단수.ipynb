{
 "cells": [
  {
   "cell_type": "code",
   "execution_count": 24,
   "metadata": {},
   "outputs": [
    {
     "name": "stdout",
     "output_type": "stream",
     "text": [
      "14\n"
     ]
    }
   ],
   "source": [
    "n = int(input())\n",
    "dp = [[[0]*1024 for j in range(10)] for _ in range(n)]\n",
    "mod = 1000000000\n",
    "for i in range(1,10):\n",
    "    dp[0][i][1<<i] = 1\n",
    "for i in range(1,n):\n",
    "    for j in range(10):\n",
    "        for k in range(1024):\n",
    "            if j > 0:\n",
    "                dp[i][j][k|1<<j] = (dp[i-1][j-1][k] + dp[i][j][k|1<<j]) % mod\n",
    "            if j < 9:\n",
    "                dp[i][j][k|1<<j] = (dp[i-1][j+1][k] + dp[i][j][k|1<<j]) % mod\n",
    "\n",
    "ans = 0\n",
    "for i in range(10):\n",
    "    ans = (ans + dp[n-1][i][1023]) % mod\n",
    "print(ans)"
   ]
  }
 ],
 "metadata": {
  "kernelspec": {
   "display_name": "Python 3.7.2 64-bit",
   "language": "python",
   "name": "python3"
  },
  "language_info": {
   "codemirror_mode": {
    "name": "ipython",
    "version": 3
   },
   "file_extension": ".py",
   "mimetype": "text/x-python",
   "name": "python",
   "nbconvert_exporter": "python",
   "pygments_lexer": "ipython3",
   "version": "3.7.2"
  },
  "orig_nbformat": 4,
  "vscode": {
   "interpreter": {
    "hash": "d75df686efc28afbc154e69ab3b02fa6abad8f31352f252b5de5b4a995eb825f"
   }
  }
 },
 "nbformat": 4,
 "nbformat_minor": 2
}
