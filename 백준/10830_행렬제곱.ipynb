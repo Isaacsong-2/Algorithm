{
 "cells": [
  {
   "cell_type": "code",
   "execution_count": 1,
   "metadata": {},
   "outputs": [],
   "source": [
    "import copy\n",
    "n, b_temp = map(int, input().split())\n",
    "a = [list(map(int, input().split())) for _ in range(n)]\n"
   ]
  },
  {
   "cell_type": "code",
   "execution_count": 11,
   "metadata": {},
   "outputs": [
    {
     "name": "stdout",
     "output_type": "stream",
     "text": [
      "468 576 684 \n",
      "62 305 548 \n",
      "656 34 412 \n"
     ]
    }
   ],
   "source": [
    "b=format(b_temp, 'b')\n",
    "square = a\n",
    "# 거듭제곱 계산함수\n",
    "def cal(pos, square):\n",
    "    if pos == 0:\n",
    "        return square\n",
    "    for l in range(pos):\n",
    "        sol = [[0] * n for _ in range(n)]\n",
    "        for i in range(n):\n",
    "            for j in range(n):\n",
    "                for k in range(n):\n",
    "                    sol[i][j] += square[i][k] * square[k][j]\n",
    "        square = copy.deepcopy(sol)\n",
    "    return(sol)\n",
    "# 2진법으로 나타낸 b에 따라 거듭제곱 계산 후 리스트에 추가\n",
    "list = []\n",
    "sol = []\n",
    "for i in range(len(b)):\n",
    "    if str(b[i]) == '1':\n",
    "        sol = cal(len(b)-i-1, square)\n",
    "        list.append(sol)\n",
    "# 리스트에 추가한 거듭제곱들은 순차적으로 곱해줌\n",
    "while(len(list) != 1):\n",
    "    list.append([[0]*n for _ in range(n)])\n",
    "    for i in range(n):\n",
    "        for j in range(n):\n",
    "            for k in range(n):\n",
    "                list[-1][i][j] += list[0][i][k] * list[1][k][j]\n",
    "    list.pop(0)\n",
    "    list.pop(0)\n",
    "\n",
    "for i in range(n):\n",
    "    for j in range(n):\n",
    "        print(list[0][i][j]%1000, end = \" \")\n",
    "    print()"
   ]
  }
 ],
 "metadata": {
  "interpreter": {
   "hash": "53e059d21691b4acb4a64b9f63fef32a69804c1f4bf8b757b5579479fa8a32ee"
  },
  "kernelspec": {
   "display_name": "Python 3.7.2 64-bit",
   "language": "python",
   "name": "python3"
  },
  "language_info": {
   "codemirror_mode": {
    "name": "ipython",
    "version": 3
   },
   "file_extension": ".py",
   "mimetype": "text/x-python",
   "name": "python",
   "nbconvert_exporter": "python",
   "pygments_lexer": "ipython3",
   "version": "3.7.2"
  },
  "orig_nbformat": 4
 },
 "nbformat": 4,
 "nbformat_minor": 2
}
