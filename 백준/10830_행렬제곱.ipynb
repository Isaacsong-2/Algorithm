{
 "cells": [
  {
   "cell_type": "code",
   "execution_count": 1,
   "metadata": {},
   "outputs": [],
   "source": [
    "n, b_temp = map(int, input().split())\n",
    "a = [list(map(int, input().split())) for _ in range(n)]\n"
   ]
  },
  {
   "cell_type": "code",
   "execution_count": 6,
   "metadata": {},
   "outputs": [
    {
     "name": "stdout",
     "output_type": "stream",
     "text": [
      "101\n",
      "69 558 \n",
      "337 406 \n"
     ]
    }
   ],
   "source": [
    "b=format(b_temp, 'b')\n",
    "# 거듭제곱 계산함수\n",
    "def cal(a, b):\n",
    "    sol = [[0] * n for _ in range(n)]\n",
    "    for i in range(n):\n",
    "        for j in range(n):\n",
    "            for k in range(n):\n",
    "                sol[i][j] += a[i][k] * b[k][j]\n",
    "    for i in range(n):\n",
    "        for j in range(n):\n",
    "            sol[i][j] %= 1000\n",
    "    return(sol)\n",
    "# 2진법으로 나타낸 b에 따라 거듭제곱 계산 후 리스트에 추가\n",
    "sol = [[1 if i == j else 0 for i in range(n)] for j in range(n)]\n",
    "for i in range(len(b)):\n",
    "    if b[-i-1] == '1':\n",
    "        temp = a[:]\n",
    "        while i !=0:\n",
    "            temp = cal(temp,temp)\n",
    "            i -= 1\n",
    "        sol = cal(sol,temp)\n",
    "for i in range(n):\n",
    "    for j in range(n):\n",
    "        print(sol[i][j], end = \" \")\n",
    "    print()"
   ]
  }
 ],
 "metadata": {
  "interpreter": {
   "hash": "53e059d21691b4acb4a64b9f63fef32a69804c1f4bf8b757b5579479fa8a32ee"
  },
  "kernelspec": {
   "display_name": "Python 3.7.2 64-bit",
   "language": "python",
   "name": "python3"
  },
  "language_info": {
   "codemirror_mode": {
    "name": "ipython",
    "version": 3
   },
   "file_extension": ".py",
   "mimetype": "text/x-python",
   "name": "python",
   "nbconvert_exporter": "python",
   "pygments_lexer": "ipython3",
   "version": "3.7.2"
  },
  "orig_nbformat": 4
 },
 "nbformat": 4,
 "nbformat_minor": 2
}
