{
 "cells": [
  {
   "cell_type": "code",
   "execution_count": 5,
   "metadata": {},
   "outputs": [],
   "source": [
    "# import sys\n",
    "# input = sys.stdin.readline\n",
    "n = int(input())\n",
    "m = int(input())\n",
    "graph = [[10**9]*n for _ in range(n)]\n",
    "for _ in range(m):\n",
    "    a, b, c = map(int,input().split())\n",
    "    if graph[a-1][b-1]>c:\n",
    "        graph[a-1][b-1] = c"
   ]
  },
  {
   "cell_type": "code",
   "execution_count": 7,
   "metadata": {},
   "outputs": [
    {
     "name": "stdout",
     "output_type": "stream",
     "text": [
      "0 2 3 1 4 \n",
      "12 0 15 2 5 \n",
      "8 5 0 1 1 \n",
      "10 7 13 0 3 \n",
      "7 4 10 6 0 \n"
     ]
    }
   ],
   "source": [
    "for k in range(n):\n",
    "    for i in range(n):\n",
    "        for j in range(n):\n",
    "            if i!=j and graph[i][j] > graph[i][k] + graph[k][j]:\n",
    "                graph[i][j] = graph[i][k] + graph[k][j]\n",
    "\n",
    "for i in range(n):\n",
    "    for j in range(n):\n",
    "        if graph[i][j] == 10**9:\n",
    "            print(0, end = ' ')\n",
    "        else:\n",
    "            print(graph[i][j], end = ' ')\n",
    "    print()"
   ]
  }
 ],
 "metadata": {
  "kernelspec": {
   "display_name": "Python 3.7.2 64-bit",
   "language": "python",
   "name": "python3"
  },
  "language_info": {
   "codemirror_mode": {
    "name": "ipython",
    "version": 3
   },
   "file_extension": ".py",
   "mimetype": "text/x-python",
   "name": "python",
   "nbconvert_exporter": "python",
   "pygments_lexer": "ipython3",
   "version": "3.7.2"
  },
  "orig_nbformat": 4,
  "vscode": {
   "interpreter": {
    "hash": "d75df686efc28afbc154e69ab3b02fa6abad8f31352f252b5de5b4a995eb825f"
   }
  }
 },
 "nbformat": 4,
 "nbformat_minor": 2
}
