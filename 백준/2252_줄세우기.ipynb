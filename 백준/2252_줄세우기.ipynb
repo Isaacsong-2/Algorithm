{
 "cells": [
  {
   "cell_type": "code",
   "execution_count": 8,
   "metadata": {},
   "outputs": [],
   "source": [
    "from collections import deque\n",
    "\n",
    "n, m = map(int,input().split())\n",
    "graph = [[] for _ in range(n+1)]\n",
    "degree = [0] * (n+1)\n",
    "ans = []\n",
    "queue = deque()\n",
    "for i in range(m):\n",
    "    a, b = map(int,input().split())\n",
    "    graph[a].append(b)\n",
    "    degree[b] += 1"
   ]
  },
  {
   "cell_type": "code",
   "execution_count": 9,
   "metadata": {},
   "outputs": [
    {
     "name": "stdout",
     "output_type": "stream",
     "text": [
      "3 4 1 2\n"
     ]
    }
   ],
   "source": [
    "for i in range(1,n+1):\n",
    "    if degree[i] == 0:\n",
    "        queue.append(i)\n",
    "\n",
    "while(queue):\n",
    "    temp = queue.popleft()\n",
    "    ans.append(temp)\n",
    "    for i in graph[temp]:\n",
    "        degree[i] -= 1\n",
    "        if degree[i] == 0:\n",
    "            queue.append(i)\n",
    "\n",
    "print(*ans)"
   ]
  }
 ],
 "metadata": {
  "kernelspec": {
   "display_name": "Python 3.7.2 64-bit",
   "language": "python",
   "name": "python3"
  },
  "language_info": {
   "codemirror_mode": {
    "name": "ipython",
    "version": 3
   },
   "file_extension": ".py",
   "mimetype": "text/x-python",
   "name": "python",
   "nbconvert_exporter": "python",
   "pygments_lexer": "ipython3",
   "version": "3.7.2"
  },
  "orig_nbformat": 4,
  "vscode": {
   "interpreter": {
    "hash": "d75df686efc28afbc154e69ab3b02fa6abad8f31352f252b5de5b4a995eb825f"
   }
  }
 },
 "nbformat": 4,
 "nbformat_minor": 2
}
