{
 "cells": [
  {
   "cell_type": "code",
   "execution_count": 19,
   "metadata": {},
   "outputs": [],
   "source": [
    "n = int(input())"
   ]
  },
  {
   "cell_type": "code",
   "execution_count": 24,
   "metadata": {},
   "outputs": [
    {
     "name": "stdout",
     "output_type": "stream",
     "text": [
      "99180991810801810\n"
     ]
    }
   ],
   "source": [
    "li = [11,111,11111,1111111,11111111111,1111111111111,11111111111111111]\n",
    "sol = 0\n",
    "for i in li:\n",
    "    sol += n//i\n",
    "for i in range(7):\n",
    "    for j in range(i+1,7):\n",
    "        sol -= n//(li[i]*li[j])\n",
    "for i in range(7):\n",
    "    for j in range(i+1,7):\n",
    "        for k in range(j+1,7):\n",
    "            sol += n//(li[i]*li[j]*li[k])\n",
    "sol -= n//(li[0]*li[1]*li[2]*li[3])\n",
    "sol -= n//(li[0]*li[1]*li[2]*li[4])\n",
    "print(sol)"
   ]
  }
 ],
 "metadata": {
  "interpreter": {
   "hash": "53e059d21691b4acb4a64b9f63fef32a69804c1f4bf8b757b5579479fa8a32ee"
  },
  "kernelspec": {
   "display_name": "Python 3.7.2 64-bit",
   "language": "python",
   "name": "python3"
  },
  "language_info": {
   "codemirror_mode": {
    "name": "ipython",
    "version": 3
   },
   "file_extension": ".py",
   "mimetype": "text/x-python",
   "name": "python",
   "nbconvert_exporter": "python",
   "pygments_lexer": "ipython3",
   "version": "3.7.2"
  },
  "orig_nbformat": 4
 },
 "nbformat": 4,
 "nbformat_minor": 2
}
