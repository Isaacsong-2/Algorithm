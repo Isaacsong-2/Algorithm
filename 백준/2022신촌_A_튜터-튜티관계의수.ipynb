{
 "cells": [
  {
   "cell_type": "code",
   "execution_count": null,
   "metadata": {},
   "outputs": [],
   "source": [
    "n, m = map(int,input().split())\n",
    "graph = [[0]*n for _ in range(n)]\n",
    "for i in range(m):\n",
    "    u,v = map(int,input().split())\n",
    "    graph[u-1][v-1] = 1\n",
    "    graph[v-1][u-1] = 1"
   ]
  },
  {
   "cell_type": "code",
   "execution_count": null,
   "metadata": {},
   "outputs": [],
   "source": [
    "for i in range(n):\n",
    "    "
   ]
  }
 ],
 "metadata": {
  "language_info": {
   "name": "python"
  },
  "orig_nbformat": 4
 },
 "nbformat": 4,
 "nbformat_minor": 2
}
