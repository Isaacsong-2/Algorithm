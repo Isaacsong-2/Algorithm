{
 "cells": [
  {
   "cell_type": "code",
   "execution_count": 53,
   "metadata": {},
   "outputs": [],
   "source": [
    "n, m = map(int,input().split())\n",
    "li = [list(map(int,input().split())) for _ in range(n)]\n",
    "max_val = max(map(max,li))\n"
   ]
  },
  {
   "cell_type": "code",
   "execution_count": 57,
   "metadata": {},
   "outputs": [
    {
     "name": "stdout",
     "output_type": "stream",
     "text": [
      "20\n"
     ]
    }
   ],
   "source": [
    "dx = [0, 0, -1, 1]\n",
    "dy = [1, -1, 0, 0]\n",
    "def bfs(r,c,idx,total):\n",
    "    global sol\n",
    "    if sol >= total + max_val * (3 - idx):\n",
    "        return\n",
    "    if idx == 3:\n",
    "        sol = max(sol, total)\n",
    "        return\n",
    "    for i in range(4):\n",
    "        nx = r + dx[i]\n",
    "        ny = c + dy[i]\n",
    "        if 0<=nx<n and 0<=ny<m and visit[nx][ny] == 0:\n",
    "            if idx == 1:\n",
    "                visit[nx][ny] = 1\n",
    "                bfs(r,c,idx+1,total+li[nx][ny])\n",
    "                visit[nx][ny] = 0\n",
    "            visit[nx][ny] = 1\n",
    "            bfs(nx,ny,idx+1,total+li[nx][ny])\n",
    "            visit[nx][ny] = 0\n",
    "sol = 0\n",
    "visit = [[0] * m for _ in range(n)]\n",
    "for r in range(n):\n",
    "    for c in range(m):\n",
    "        visit[r][c] = 1\n",
    "        bfs(r,c,0,li[r][c])\n",
    "        visit[r][c] = 0\n",
    "print(sol)\n"
   ]
  }
 ],
 "metadata": {
  "interpreter": {
   "hash": "53e059d21691b4acb4a64b9f63fef32a69804c1f4bf8b757b5579479fa8a32ee"
  },
  "kernelspec": {
   "display_name": "Python 3.7.2 64-bit",
   "language": "python",
   "name": "python3"
  },
  "language_info": {
   "codemirror_mode": {
    "name": "ipython",
    "version": 3
   },
   "file_extension": ".py",
   "mimetype": "text/x-python",
   "name": "python",
   "nbconvert_exporter": "python",
   "pygments_lexer": "ipython3",
   "version": "3.7.2"
  },
  "orig_nbformat": 4
 },
 "nbformat": 4,
 "nbformat_minor": 2
}
