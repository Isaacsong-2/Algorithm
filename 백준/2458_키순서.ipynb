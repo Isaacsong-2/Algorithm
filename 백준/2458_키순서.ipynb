{
 "cells": [
  {
   "cell_type": "code",
   "execution_count": 8,
   "metadata": {},
   "outputs": [],
   "source": [
    "# import sys\n",
    "# input = sys.stdin.readline\n",
    "n, m = map(int,input().split())\n",
    "li = [[0] * (n+1) for _ in range(n+1)]\n",
    "for _ in range(m):\n",
    "    a, b = map(int,input().split())\n",
    "    li[a][b] = 1"
   ]
  },
  {
   "cell_type": "code",
   "execution_count": 9,
   "metadata": {},
   "outputs": [
    {
     "name": "stdout",
     "output_type": "stream",
     "text": [
      "0\n"
     ]
    }
   ],
   "source": [
    "for k in range(1,n+1):\n",
    "    for i in range(1,n+1):\n",
    "        for j in range(1,n+1):\n",
    "            if li[i][j] == 1 or (li[i][k] == 1 and li[k][j] == 1):\n",
    "                li[i][j] = 1\n",
    "\n",
    "ans = 0\n",
    "for i in range(1,n+1):\n",
    "    cnt = sum(li[i])\n",
    "    for j in range(1,n+1):\n",
    "        cnt += li[j][i]\n",
    "    if cnt == n-1:\n",
    "        ans += 1\n",
    "print(ans)"
   ]
  }
 ],
 "metadata": {
  "kernelspec": {
   "display_name": "Python 3",
   "language": "python",
   "name": "python3"
  },
  "language_info": {
   "codemirror_mode": {
    "name": "ipython",
    "version": 3
   },
   "file_extension": ".py",
   "mimetype": "text/x-python",
   "name": "python",
   "nbconvert_exporter": "python",
   "pygments_lexer": "ipython3",
   "version": "3.7.2"
  },
  "orig_nbformat": 4,
  "vscode": {
   "interpreter": {
    "hash": "d75df686efc28afbc154e69ab3b02fa6abad8f31352f252b5de5b4a995eb825f"
   }
  }
 },
 "nbformat": 4,
 "nbformat_minor": 2
}
