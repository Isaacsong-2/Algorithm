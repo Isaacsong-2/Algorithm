{
 "cells": [
  {
   "cell_type": "code",
   "execution_count": 27,
   "metadata": {},
   "outputs": [
    {
     "name": "stdout",
     "output_type": "stream",
     "text": [
      "3\n"
     ]
    }
   ],
   "source": [
    "from collections import deque\n",
    "import sys\n",
    "input = sys.stdin.readline\n",
    "def bfs(i):\n",
    "    q = deque()\n",
    "    q.append(i)\n",
    "    visit = [0 for i in range(f)]\n",
    "    visit[i] = 1\n",
    "    while q:\n",
    "        x = q.popleft()\n",
    "        for i in range(2):\n",
    "            nx = x + dire[i]\n",
    "            if 0 <= nx < f and visit[nx] == 0:\n",
    "                q.append(nx)\n",
    "                s_[nx] = s_[x] + 1\n",
    "                visit[nx] = 1\n",
    "f, s, g, u, d = map(int, input().split())\n",
    "s_ = [-1 for i in range(f)]\n",
    "dire = [u, -d]\n",
    "s_[s - 1] = 0\n",
    "bfs(s - 1)\n",
    "print(s_[g - 1] if s_[g - 1] != -1 else \"use the stairs\")"
   ]
  }
 ],
 "metadata": {
  "interpreter": {
   "hash": "53e059d21691b4acb4a64b9f63fef32a69804c1f4bf8b757b5579479fa8a32ee"
  },
  "kernelspec": {
   "display_name": "Python 3.7.2 64-bit",
   "language": "python",
   "name": "python3"
  },
  "language_info": {
   "codemirror_mode": {
    "name": "ipython",
    "version": 3
   },
   "file_extension": ".py",
   "mimetype": "text/x-python",
   "name": "python",
   "nbconvert_exporter": "python",
   "pygments_lexer": "ipython3",
   "version": "3.7.2"
  },
  "orig_nbformat": 4
 },
 "nbformat": 4,
 "nbformat_minor": 2
}
