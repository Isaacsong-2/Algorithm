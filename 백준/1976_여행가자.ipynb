{
 "cells": [
  {
   "cell_type": "code",
   "execution_count": 4,
   "metadata": {},
   "outputs": [],
   "source": [
    "n = int(input())\n",
    "m = int(input())\n",
    "graph = [list(map(int,input().split())) for _ in range(n)]\n",
    "plan = list(map(int,input().split()))"
   ]
  },
  {
   "cell_type": "code",
   "execution_count": 12,
   "metadata": {},
   "outputs": [
    {
     "name": "stdout",
     "output_type": "stream",
     "text": [
      "YES\n"
     ]
    }
   ],
   "source": [
    "def dfs(x):\n",
    "    queue = [x]\n",
    "    visit[x] = 1\n",
    "    while(queue):\n",
    "        x = queue.pop()\n",
    "        for i in range(n):\n",
    "            if graph[x][i] == 1 and visit[i] == 0:\n",
    "                queue.append(i)\n",
    "                visit[i] = 1\n",
    "def check():\n",
    "    global visit\n",
    "    for i in range(n):\n",
    "        visit = [0] * n\n",
    "        dfs(i)\n",
    "        cnt = 0\n",
    "        for i in plan:\n",
    "            if visit[i-1] == 1:\n",
    "                cnt += 1\n",
    "            else:\n",
    "                break\n",
    "        if cnt == m:\n",
    "            print(\"YES\")\n",
    "            return\n",
    "    print(\"NO\")        \n",
    "check()"
   ]
  }
 ],
 "metadata": {
  "interpreter": {
   "hash": "53e059d21691b4acb4a64b9f63fef32a69804c1f4bf8b757b5579479fa8a32ee"
  },
  "kernelspec": {
   "display_name": "Python 3.7.2 64-bit",
   "language": "python",
   "name": "python3"
  },
  "language_info": {
   "codemirror_mode": {
    "name": "ipython",
    "version": 3
   },
   "file_extension": ".py",
   "mimetype": "text/x-python",
   "name": "python",
   "nbconvert_exporter": "python",
   "pygments_lexer": "ipython3",
   "version": "3.7.2"
  },
  "orig_nbformat": 4
 },
 "nbformat": 4,
 "nbformat_minor": 2
}
