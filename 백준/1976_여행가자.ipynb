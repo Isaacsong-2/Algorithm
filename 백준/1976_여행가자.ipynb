{
 "cells": [
  {
   "cell_type": "code",
   "execution_count": 4,
   "metadata": {},
   "outputs": [],
   "source": [
    "n = int(input())\n",
    "m = int(input())\n",
    "graph = [list(map(int,input().split())) for _ in range(n)]\n",
    "plan = list(map(int,input().split()))"
   ]
  },
  {
   "cell_type": "code",
   "execution_count": 12,
   "metadata": {},
   "outputs": [
    {
     "name": "stdout",
     "output_type": "stream",
     "text": [
      "YES\n"
     ]
    }
   ],
   "source": [
    "def dfs(x):\n",
    "    queue = [x]\n",
    "    visit[x] = 1\n",
    "    while(queue):\n",
    "        x = queue.pop()\n",
    "        for i in range(n):\n",
    "            if graph[x][i] == 1 and visit[i] == 0:\n",
    "                queue.append(i)\n",
    "                visit[i] = 1\n",
    "def check():\n",
    "    global visit\n",
    "    for i in range(n):\n",
    "        visit = [0] * n\n",
    "        dfs(i)\n",
    "        cnt = 0\n",
    "        for i in plan:\n",
    "            if visit[i-1] == 1:\n",
    "                cnt += 1\n",
    "            else:\n",
    "                break\n",
    "        if cnt == m:\n",
    "            print(\"YES\")\n",
    "            return\n",
    "    print(\"NO\")        \n",
    "check()"
   ]
  },
  {
   "cell_type": "code",
   "execution_count": null,
   "metadata": {},
   "outputs": [],
   "source": [
    "import sys\n",
    "sys.setrecursionlimit(10**6)\n",
    "input = sys.stdin.readline\n",
    "\n",
    "N = int(input()) # 노드 수 \n",
    "M = int(input()) # 정점 수 \n",
    "parent = [i for i in range(N+1)]\n",
    "\n",
    "def find(x):\n",
    "    if x == parent[x]:\n",
    "        return x\n",
    "    parent[x] = find(parent[x]) # 부모 테이블 갱신\n",
    "    return parent[x]\n",
    "\n",
    "def union(x, y): \n",
    "    x = find(x) \n",
    "    y = find(y) \n",
    "\n",
    "    if x == y: # 동일한 집합일 경우\n",
    "        return\n",
    "\n",
    "    if x < y:\n",
    "        parent[y] = x \n",
    "    else: \n",
    "        parent[x] = y \n",
    "\n",
    "for y in range(1, N+1): \n",
    "    maps = list(map(int, input().split())) \n",
    "    for x in range(1, len(maps)+1): # y 도시 연결 정보 추출\n",
    "        if maps[x-1] == 1: # x 도시와 연결되어 있으면\n",
    "            union(y, x) \n",
    "check = True\n",
    "tour = list(map(int, input().split())) # 여행 계획 정보\n",
    "result = set([find(i) for i in tour]) \n",
    "if len(result) != 1: # set 2개 이상이면 두 개의 집합 존재\n",
    "    print('NO')\n",
    "else:\n",
    "    print('YES') # set 1이면 한 개의 집합 존재"
   ]
  }
 ],
 "metadata": {
  "interpreter": {
   "hash": "53e059d21691b4acb4a64b9f63fef32a69804c1f4bf8b757b5579479fa8a32ee"
  },
  "kernelspec": {
   "display_name": "Python 3.7.2 64-bit",
   "language": "python",
   "name": "python3"
  },
  "language_info": {
   "codemirror_mode": {
    "name": "ipython",
    "version": 3
   },
   "file_extension": ".py",
   "mimetype": "text/x-python",
   "name": "python",
   "nbconvert_exporter": "python",
   "pygments_lexer": "ipython3",
   "version": "3.7.2"
  },
  "orig_nbformat": 4
 },
 "nbformat": 4,
 "nbformat_minor": 2
}
