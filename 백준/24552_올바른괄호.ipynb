{
 "cells": [
  {
   "cell_type": "code",
   "execution_count": 6,
   "metadata": {},
   "outputs": [],
   "source": [
    "li = input()"
   ]
  },
  {
   "cell_type": "code",
   "execution_count": 9,
   "metadata": {},
   "outputs": [
    {
     "name": "stdout",
     "output_type": "stream",
     "text": [
      "0\n"
     ]
    }
   ],
   "source": [
    "from collections import Counter\n",
    "ltot = li.count('(')\n",
    "rtot = li.count(')')\n",
    "lcnt = 0\n",
    "rcnt = 0\n",
    "\n",
    "if ltot<rtot:\n",
    "    while(li):\n",
    "        if li[0] == '(':\n",
    "            lcnt += 1\n",
    "        else:\n",
    "            rcnt += 1\n",
    "        if rcnt > lcnt:\n",
    "            sol = rcnt\n",
    "            rcnt -= 1\n",
    "        li = li[1:]\n",
    "else:\n",
    "    sol = 0\n",
    "    while(li):\n",
    "        if li[0] == '(':\n",
    "            lcnt += 1\n",
    "            sol += 1\n",
    "        else:\n",
    "            rcnt += 1\n",
    "        if lcnt == rcnt:\n",
    "            sol = 0\n",
    "        li = li[1:]\n",
    "print(sol)\n",
    "    "
   ]
  },
  {
   "cell_type": "code",
   "execution_count": null,
   "metadata": {},
   "outputs": [],
   "source": [
    "n = input()\n",
    "left, right, result = 0, 0, 0\n",
    "for i in range(len(n)):\n",
    "    if n[i] == '(':\n",
    "        left += 1\n",
    "        result += 1\n",
    "    if n[i] == ')':\n",
    "        right += 1\n",
    "        result -= 1\n",
    "    if result < 0:\n",
    "        print(right)\n",
    "        break\n",
    "    if result == 0:\n",
    "        left = 0\n",
    "if result == 1:\n",
    "    print(left)"
   ]
  }
 ],
 "metadata": {
  "interpreter": {
   "hash": "d75df686efc28afbc154e69ab3b02fa6abad8f31352f252b5de5b4a995eb825f"
  },
  "kernelspec": {
   "display_name": "Python 3.7.2 64-bit",
   "language": "python",
   "name": "python3"
  },
  "language_info": {
   "codemirror_mode": {
    "name": "ipython",
    "version": 3
   },
   "file_extension": ".py",
   "mimetype": "text/x-python",
   "name": "python",
   "nbconvert_exporter": "python",
   "pygments_lexer": "ipython3",
   "version": "3.7.2"
  },
  "orig_nbformat": 4
 },
 "nbformat": 4,
 "nbformat_minor": 2
}
