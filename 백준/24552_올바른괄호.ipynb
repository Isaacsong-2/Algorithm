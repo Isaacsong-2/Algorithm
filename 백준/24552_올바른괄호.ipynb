{
 "cells": [
  {
   "cell_type": "code",
   "execution_count": 6,
   "metadata": {},
   "outputs": [],
   "source": [
    "li = input()"
   ]
  },
  {
   "cell_type": "code",
   "execution_count": 8,
   "metadata": {},
   "outputs": [
    {
     "name": "stdout",
     "output_type": "stream",
     "text": [
      "4\n"
     ]
    }
   ],
   "source": [
    "from collections import Counter\n",
    "ltot = li.count('(')\n",
    "rtot = li.count(')')\n",
    "lcnt = 0\n",
    "rcnt = 0\n",
    "\n",
    "chance = 1\n",
    "if ltot<rtot:\n",
    "    while(li):\n",
    "        if li[0] == '(':\n",
    "            lcnt += 1\n",
    "        else:\n",
    "            rcnt += 1\n",
    "        if rcnt > lcnt:\n",
    "            if chance:\n",
    "                chance = 0\n",
    "                sol = rcnt\n",
    "                rcnt -= 1\n",
    "        li = li[1:]\n",
    "else:\n",
    "    sol = 0\n",
    "    while(li):\n",
    "        if li[0] == '(':\n",
    "            lcnt += 1\n",
    "            sol += 1\n",
    "        else:\n",
    "            rcnt += 1\n",
    "        if lcnt == rcnt:\n",
    "            sol = 0\n",
    "        li = li[1:]\n",
    "print(sol)\n",
    "    "
   ]
  }
 ],
 "metadata": {
  "interpreter": {
   "hash": "d75df686efc28afbc154e69ab3b02fa6abad8f31352f252b5de5b4a995eb825f"
  },
  "kernelspec": {
   "display_name": "Python 3.7.2 64-bit",
   "language": "python",
   "name": "python3"
  },
  "language_info": {
   "codemirror_mode": {
    "name": "ipython",
    "version": 3
   },
   "file_extension": ".py",
   "mimetype": "text/x-python",
   "name": "python",
   "nbconvert_exporter": "python",
   "pygments_lexer": "ipython3",
   "version": "3.7.2"
  },
  "orig_nbformat": 4
 },
 "nbformat": 4,
 "nbformat_minor": 2
}
