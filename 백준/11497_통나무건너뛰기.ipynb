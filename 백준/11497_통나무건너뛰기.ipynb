{
 "cells": [
  {
   "cell_type": "code",
   "execution_count": 13,
   "metadata": {},
   "outputs": [
    {
     "name": "stdout",
     "output_type": "stream",
     "text": [
      "1\n",
      "4\n",
      "0\n"
     ]
    }
   ],
   "source": [
    "from collections import deque\n",
    "t = int(input())\n",
    "for i in range(t):\n",
    "    n = int(input())\n",
    "    tree = list(map(int,input().split()))\n",
    "    tree.sort()\n",
    "    temp = deque([])\n",
    "    for i in range(n):\n",
    "        if i % 2 == 0:\n",
    "            temp.append(tree[i])\n",
    "        else:\n",
    "            temp.appendleft(tree[i])\n",
    "    sol = 0\n",
    "    for i in range(n):\n",
    "        sol = max(sol,abs(temp[(i+1)%n]-temp[i]))\n",
    "    print(sol)"
   ]
  },
  {
   "cell_type": "code",
   "execution_count": 12,
   "metadata": {},
   "outputs": [
    {
     "name": "stdout",
     "output_type": "stream",
     "text": [
      "[6, 6, 6, 6, 6, 6, 6, 6]\n",
      "0\n"
     ]
    }
   ],
   "source": [
    "from collections import deque\n",
    "# n = 7\n",
    "# tree = [13,10,12,11,10,11,12]\n",
    "# n = 5\n",
    "# tree = [2,4,5,7,9]\n",
    "# n = 8\n",
    "# tree = [6,6,6,6,6,6,6,6]\n",
    "tree.sort()\n",
    "print(tree)\n",
    "temp = deque([])\n",
    "for i in range(n):\n",
    "    if i % 2 == 0:\n",
    "        temp.append(tree[i])\n",
    "    else:\n",
    "        temp.appendleft(tree[i])\n",
    "sol = 0\n",
    "for i in range(n):\n",
    "    sol = max(sol,abs(temp[(i+1)%n]-temp[i]))\n",
    "print(sol)"
   ]
  }
 ],
 "metadata": {
  "interpreter": {
   "hash": "53e059d21691b4acb4a64b9f63fef32a69804c1f4bf8b757b5579479fa8a32ee"
  },
  "kernelspec": {
   "display_name": "Python 3.7.2 64-bit",
   "language": "python",
   "name": "python3"
  },
  "language_info": {
   "codemirror_mode": {
    "name": "ipython",
    "version": 3
   },
   "file_extension": ".py",
   "mimetype": "text/x-python",
   "name": "python",
   "nbconvert_exporter": "python",
   "pygments_lexer": "ipython3",
   "version": "3.7.2"
  },
  "orig_nbformat": 4
 },
 "nbformat": 4,
 "nbformat_minor": 2
}
