{
 "cells": [
  {
   "cell_type": "code",
   "execution_count": 15,
   "metadata": {},
   "outputs": [
    {
     "name": "stdout",
     "output_type": "stream",
     "text": [
      "80\n",
      "100\n"
     ]
    }
   ],
   "source": [
    "t = int(input())\n",
    "dx = [1,-1,0,0]\n",
    "dy = [0,0,1,-1]\n",
    "def bfs(x,y):\n",
    "    queue = [[x,y]]\n",
    "    while(queue):\n",
    "        x, y = queue.pop()\n",
    "        for i in range(4):\n",
    "            nx = x+dx[i]\n",
    "            ny = y+dy[i]\n",
    "            if 0<=nx<n and 0<=ny<m:\n",
    "                if table[nx][ny] == 1:\n",
    "                    queue.append([nx,ny])\n",
    "                    table[nx][ny] = 0\n",
    "for i in range(t):\n",
    "    m,n,k = map(int,input().split())\n",
    "    table = [[0]*m for _ in range(n)]\n",
    "    cnt = 0\n",
    "    for i in range(k):\n",
    "        x, y = map(int,input().split())\n",
    "        table[y][x] = 1\n",
    "    for i in range(n):\n",
    "        for j in range(m):\n",
    "            if table[i][j] == 1:\n",
    "                bfs(i,j)\n",
    "                table[i][j] = 0\n",
    "                cnt+=1\n",
    "    print(cnt)\n",
    "\n",
    "    "
   ]
  }
 ],
 "metadata": {
  "interpreter": {
   "hash": "53e059d21691b4acb4a64b9f63fef32a69804c1f4bf8b757b5579479fa8a32ee"
  },
  "kernelspec": {
   "display_name": "Python 3.7.2 64-bit",
   "language": "python",
   "name": "python3"
  },
  "language_info": {
   "codemirror_mode": {
    "name": "ipython",
    "version": 3
   },
   "file_extension": ".py",
   "mimetype": "text/x-python",
   "name": "python",
   "nbconvert_exporter": "python",
   "pygments_lexer": "ipython3",
   "version": "3.7.2"
  },
  "orig_nbformat": 4
 },
 "nbformat": 4,
 "nbformat_minor": 2
}
