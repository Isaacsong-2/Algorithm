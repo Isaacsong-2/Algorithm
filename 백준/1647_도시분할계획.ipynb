{
 "cells": [
  {
   "cell_type": "code",
   "execution_count": null,
   "metadata": {},
   "outputs": [],
   "source": [
    "n, m = map(int,input().split())\n",
    "graph = [[0] * n for _ in range(n)]\n",
    "for i in range(m):\n",
    "    a, b, c = map(int,input().split())\n",
    "    graph[a-1][b-1] = c"
   ]
  }
 ],
 "metadata": {
  "language_info": {
   "name": "python"
  },
  "orig_nbformat": 4
 },
 "nbformat": 4,
 "nbformat_minor": 2
}
