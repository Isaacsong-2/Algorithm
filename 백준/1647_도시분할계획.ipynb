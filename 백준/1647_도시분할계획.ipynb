{
 "cells": [
  {
   "cell_type": "code",
   "execution_count": 2,
   "metadata": {},
   "outputs": [],
   "source": [
    "n, m = map(int,input().split())\n",
    "graph = [[] for _ in range(n+1)]\n",
    "for i in range(m):\n",
    "    a, b, w = map(int,input().split())\n",
    "    graph[a].append([w,b])\n",
    "    graph[b].append([w,a])"
   ]
  },
  {
   "cell_type": "code",
   "execution_count": 4,
   "metadata": {},
   "outputs": [
    {
     "name": "stdout",
     "output_type": "stream",
     "text": [
      "8\n"
     ]
    }
   ],
   "source": [
    "import heapq\n",
    "visit = [0] * (n+1)\n",
    "heap = [[0,1]]\n",
    "answer = []\n",
    "cnt = 0\n",
    "while(heap):\n",
    "    if cnt == n:\n",
    "        break\n",
    "    w, x = heapq.heappop(heap)\n",
    "    if visit[x] == 0:\n",
    "        visit[x] = 1\n",
    "        answer.append(w)\n",
    "        cnt += 1\n",
    "        for i in graph[x]:\n",
    "            heapq.heappush(heap,i)\n",
    "print(sum(answer)-max(answer))"
   ]
  }
 ],
 "metadata": {
  "interpreter": {
   "hash": "53e059d21691b4acb4a64b9f63fef32a69804c1f4bf8b757b5579479fa8a32ee"
  },
  "kernelspec": {
   "display_name": "Python 3.7.2 64-bit",
   "language": "python",
   "name": "python3"
  },
  "language_info": {
   "codemirror_mode": {
    "name": "ipython",
    "version": 3
   },
   "file_extension": ".py",
   "mimetype": "text/x-python",
   "name": "python",
   "nbconvert_exporter": "python",
   "pygments_lexer": "ipython3",
   "version": "3.7.2"
  },
  "orig_nbformat": 4
 },
 "nbformat": 4,
 "nbformat_minor": 2
}
