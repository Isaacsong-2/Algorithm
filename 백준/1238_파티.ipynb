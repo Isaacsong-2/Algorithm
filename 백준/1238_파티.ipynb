{
 "cells": [
  {
   "cell_type": "code",
   "execution_count": 7,
   "metadata": {},
   "outputs": [],
   "source": [
    "n,m,end = map(int,input().split())\n",
    "li = [[] for _ in range(n+1)]\n",
    "for i in range(m):\n",
    "    a, b, w = map(int,input().split())\n",
    "    li[a].append((w,b))\n"
   ]
  },
  {
   "cell_type": "code",
   "execution_count": 12,
   "metadata": {},
   "outputs": [
    {
     "name": "stdout",
     "output_type": "stream",
     "text": [
      "[[], [(4, 2), (2, 3), (7, 4)], [(1, 1), (5, 3)], [(2, 1), (4, 4)], [(3, 2)]]\n",
      "10\n"
     ]
    }
   ],
   "source": [
    "import heapq\n",
    "def dijkstra(x):\n",
    "    heap = []\n",
    "    heapq.heappush(heap,(0,x))\n",
    "    visit = [1000000000] * (n+1)\n",
    "    visit[x] = 0\n",
    "    while(heap):\n",
    "        cur, x = heapq.heappop(heap)\n",
    "        if cur > visit[x]:\n",
    "            continue\n",
    "        for w, nx in li[x]:\n",
    "            if cur+w < visit[nx]:\n",
    "                visit[nx] = cur+w\n",
    "                heapq.heappush(heap,(cur+w, nx))\n",
    "    return visit[end]\n",
    "def comeback(end):\n",
    "    heap = []\n",
    "    heapq.heappush(heap,(0,end))\n",
    "    visit = [1000000000] * (n+1)\n",
    "    visit[end] = 0\n",
    "    while(heap):\n",
    "        cur, x = heapq.heappop(heap)\n",
    "        if cur > visit[x]:\n",
    "            continue\n",
    "        for w, nx in li[x]:\n",
    "            if cur+w < visit[nx]:\n",
    "                visit[nx] = cur+w\n",
    "                heapq.heappush(heap,(cur+w, nx))\n",
    "    return visit\n",
    "sol = [0]\n",
    "for i in range(1,n+1):\n",
    "    sol.append(dijkstra(i))\n",
    "ret = comeback(end)\n",
    "for i in range(1, n+1):\n",
    "    sol[i] += ret[i]\n",
    "print(max(sol))\n"
   ]
  }
 ],
 "metadata": {
  "interpreter": {
   "hash": "53e059d21691b4acb4a64b9f63fef32a69804c1f4bf8b757b5579479fa8a32ee"
  },
  "kernelspec": {
   "display_name": "Python 3.7.2 64-bit",
   "language": "python",
   "name": "python3"
  },
  "language_info": {
   "codemirror_mode": {
    "name": "ipython",
    "version": 3
   },
   "file_extension": ".py",
   "mimetype": "text/x-python",
   "name": "python",
   "nbconvert_exporter": "python",
   "pygments_lexer": "ipython3",
   "version": "3.7.2"
  },
  "orig_nbformat": 4
 },
 "nbformat": 4,
 "nbformat_minor": 2
}
