{
 "cells": [
  {
   "cell_type": "code",
   "execution_count": 1,
   "metadata": {},
   "outputs": [
    {
     "name": "stdout",
     "output_type": "stream",
     "text": [
      "60\n"
     ]
    }
   ],
   "source": [
    "n = int(input())\n",
    "graph = {}\n",
    "time =  [0] * (n+1)\n",
    "for i in range(1,n+1):\n",
    "    temp = list(map(int,input().split()))\n",
    "    time[i] = temp[0]\n",
    "    if temp[1] == 0:\n",
    "        continue\n",
    "\n",
    "    for j in temp[2:]:\n",
    "        if i in graph:\n",
    "            graph[i].append(j)\n",
    "        else:\n",
    "            graph[i] = [j]\n",
    "    \n",
    "for i in range(1,n+1):\n",
    "    if i in graph:\n",
    "        t = 0\n",
    "        for j in graph[i]:\n",
    "            t = max(t, time[j])\n",
    "        time[i] += t\n",
    "print(max(time))"
   ]
  }
 ],
 "metadata": {
  "kernelspec": {
   "display_name": "Python 3.7.2 64-bit",
   "language": "python",
   "name": "python3"
  },
  "language_info": {
   "codemirror_mode": {
    "name": "ipython",
    "version": 3
   },
   "file_extension": ".py",
   "mimetype": "text/x-python",
   "name": "python",
   "nbconvert_exporter": "python",
   "pygments_lexer": "ipython3",
   "version": "3.7.2"
  },
  "orig_nbformat": 4,
  "vscode": {
   "interpreter": {
    "hash": "d75df686efc28afbc154e69ab3b02fa6abad8f31352f252b5de5b4a995eb825f"
   }
  }
 },
 "nbformat": 4,
 "nbformat_minor": 2
}
