{
 "cells": [
  {
   "cell_type": "code",
   "execution_count": 23,
   "metadata": {},
   "outputs": [
    {
     "name": "stdout",
     "output_type": "stream",
     "text": [
      "0\n",
      "1\n"
     ]
    }
   ],
   "source": [
    "from collections import deque\n",
    "\n",
    "n, k = map(int,input().split())\n",
    "queue = deque([n])\n",
    "# visit = [[] for _ in range(100001)]\n",
    "visit = [-1] * 100001\n",
    "visit[n] = n\n",
    "while(queue):\n",
    "    x = queue.popleft()\n",
    "    temp = [x-1,x+1,2*x]\n",
    "    for nx in temp:\n",
    "        if 0<=nx<=100000 and visit[nx] == -1:\n",
    "            visit[nx] = x\n",
    "            queue.append(nx)\n",
    "            if nx==k:\n",
    "                queue = []\n",
    "                break\n",
    "ans = [k]\n",
    "x = k\n",
    "while x != n:\n",
    "    nx = visit[x]\n",
    "    ans.append(nx)\n",
    "    x = nx\n",
    "ans.reverse()\n",
    "print(len(ans)-1)\n",
    "print(*ans)\n"
   ]
  }
 ],
 "metadata": {
  "kernelspec": {
   "display_name": "Python 3.7.2 64-bit",
   "language": "python",
   "name": "python3"
  },
  "language_info": {
   "codemirror_mode": {
    "name": "ipython",
    "version": 3
   },
   "file_extension": ".py",
   "mimetype": "text/x-python",
   "name": "python",
   "nbconvert_exporter": "python",
   "pygments_lexer": "ipython3",
   "version": "3.7.2"
  },
  "orig_nbformat": 4,
  "vscode": {
   "interpreter": {
    "hash": "d75df686efc28afbc154e69ab3b02fa6abad8f31352f252b5de5b4a995eb825f"
   }
  }
 },
 "nbformat": 4,
 "nbformat_minor": 2
}
