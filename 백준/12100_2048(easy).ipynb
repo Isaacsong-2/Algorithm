{
 "cells": [
  {
   "cell_type": "code",
   "execution_count": 1,
   "metadata": {},
   "outputs": [],
   "source": [
    "n = int(input())\n",
    "board = [list(map(int,input().split())) for _ in range(n)]"
   ]
  },
  {
   "cell_type": "code",
   "execution_count": 9,
   "metadata": {},
   "outputs": [
    {
     "name": "stdout",
     "output_type": "stream",
     "text": [
      "16\n"
     ]
    }
   ],
   "source": [
    "from copy import deepcopy\n",
    "def move(li,dir):\n",
    "    if dir == 0:\n",
    "        for i in range(n):\n",
    "            p = n-1\n",
    "            for j in range(n-2,-1,-1):\n",
    "                if li[i][j]:\n",
    "                    temp = li[i][j]\n",
    "                    li[i][j]=0\n",
    "                    if li[i][p] == 0:\n",
    "                        li[i][p] = temp\n",
    "                    elif li[i][p] == temp:\n",
    "                        li[i][p] = temp * 2\n",
    "                        p -= 1\n",
    "                    else:\n",
    "                        p -= 1\n",
    "                        li[i][p] = temp\n",
    "    elif dir == 1:\n",
    "        for i in range(n):\n",
    "            p = 0\n",
    "            for j in range(1,n):\n",
    "                if li[i][j]:\n",
    "                    temp = li[i][j]\n",
    "                    li[i][j]=0\n",
    "                    if li[i][p] == 0:\n",
    "                        li[i][p] = temp\n",
    "                    elif li[i][p] == temp:\n",
    "                        li[i][p] = temp * 2\n",
    "                        p += 1\n",
    "                    else:\n",
    "                        p += 1\n",
    "                        li[i][p] = temp\n",
    "    elif dir == 2:\n",
    "        for j in range(n):\n",
    "            p = n-1\n",
    "            for i in range(n-2,-1,-1):\n",
    "                if li[i][j]:\n",
    "                    temp = li[i][j]\n",
    "                    li[i][j]=0\n",
    "                    if li[p][j] == 0:\n",
    "                        li[p][j] = temp\n",
    "                    elif li[p][j] == temp:\n",
    "                        li[p][j] = temp * 2\n",
    "                        p -= 1\n",
    "                    else:\n",
    "                        p -= 1\n",
    "                        li[p][j] = temp\n",
    "    else:\n",
    "        for j in range(n):\n",
    "            p = 0\n",
    "            for i in range(1,n):\n",
    "                if li[i][j]:\n",
    "                    temp = li[i][j]\n",
    "                    li[i][j]=0\n",
    "                    if li[p][j] == 0:\n",
    "                        li[p][j] = temp\n",
    "                    elif li[p][j] == temp:\n",
    "                        li[p][j] = temp * 2\n",
    "                        p += 1\n",
    "                    else:\n",
    "                        p += 1\n",
    "                        li[p][j] = temp\n",
    "    return li\n",
    "def back(idx,li):\n",
    "    global sol\n",
    "    if idx == 5:\n",
    "        for i in range(n):\n",
    "            sol = max(sol, max(li[i]))\n",
    "        return\n",
    "    for i in range(4):\n",
    "        temp_board = move(deepcopy(li),i)\n",
    "        back(idx+1,temp_board)\n",
    "sol = 0\n",
    "back(0,board)\n",
    "print(sol)"
   ]
  }
 ],
 "metadata": {
  "kernelspec": {
   "display_name": "Python 3.7.2 64-bit",
   "language": "python",
   "name": "python3"
  },
  "language_info": {
   "codemirror_mode": {
    "name": "ipython",
    "version": 3
   },
   "file_extension": ".py",
   "mimetype": "text/x-python",
   "name": "python",
   "nbconvert_exporter": "python",
   "pygments_lexer": "ipython3",
   "version": "3.7.2"
  },
  "orig_nbformat": 4,
  "vscode": {
   "interpreter": {
    "hash": "d75df686efc28afbc154e69ab3b02fa6abad8f31352f252b5de5b4a995eb825f"
   }
  }
 },
 "nbformat": 4,
 "nbformat_minor": 2
}
