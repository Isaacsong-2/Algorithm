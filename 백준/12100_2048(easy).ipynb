{
 "cells": [
  {
   "cell_type": "code",
   "execution_count": 1,
   "metadata": {},
   "outputs": [],
   "source": [
    "n = int(input())\n",
    "board = [list(map(int,input().split())) for _ in range(n)]"
   ]
  },
  {
   "cell_type": "code",
   "execution_count": 15,
   "metadata": {},
   "outputs": [
    {
     "name": "stdout",
     "output_type": "stream",
     "text": [
      "[[2, 2, 2], [4, 4, 4], [8, 8, 8]]\n",
      "0\n"
     ]
    }
   ],
   "source": [
    "def move(li,dir):\n",
    "    if dir == 0:\n",
    "        for i in range(n):\n",
    "            for j in range(n-1):\n",
    "                if li[j][i] == 0:\n",
    "                    for k in range(j,n-1):\n",
    "                        li[k][i] = li[k+1][i]\n",
    "                    li[-1][i] = 0\n",
    "                elif li[j][i] == li[j+1][i]:\n",
    "                    li[j][i] *= 2\n",
    "                    li[j+1][i] = 0\n",
    "    elif dir == 1:\n",
    "        for i in range(n):\n",
    "            j = n-2\n",
    "            while(j>1):\n",
    "            # for j in range(n-2,0,-1):\n",
    "                if li[j][i] == 0:\n",
    "                    for k in range(j,n-1):\n",
    "                        li[k][i] = li[k-1][i]\n",
    "                    li[0][i] = 0\n",
    "                elif li[j][i] == li[j-1][i]:\n",
    "                    li[j][i] *= 2\n",
    "                    li[j-1][i] = 0\n",
    "                    j -= 1\n",
    "    elif dir == 2:\n",
    "        for i in range(n):\n",
    "            pass\n",
    "    return(li)\n",
    "def back(idx,li):\n",
    "    global sol\n",
    "    if idx == 5:\n",
    "        temp = 0 \n",
    "        for i in range(n):\n",
    "            temp = max(temp, max(li[i]))\n",
    "        sol = max(sol,temp)\n",
    "        return\n",
    "    for i in range(4):\n",
    "        temp_board = move(li,i)\n",
    "        if temp_board == li:\n",
    "            continue\n",
    "        else:\n",
    "            back(idx+1,temp_board)\n",
    "sol = 0\n",
    "# print(list(zip(*board))[0])\n",
    "# back(0,board)\n",
    "print(board)\n",
    "print(sol)"
   ]
  }
 ],
 "metadata": {
  "interpreter": {
   "hash": "53e059d21691b4acb4a64b9f63fef32a69804c1f4bf8b757b5579479fa8a32ee"
  },
  "kernelspec": {
   "display_name": "Python 3.7.2 64-bit",
   "language": "python",
   "name": "python3"
  },
  "language_info": {
   "codemirror_mode": {
    "name": "ipython",
    "version": 3
   },
   "file_extension": ".py",
   "mimetype": "text/x-python",
   "name": "python",
   "nbconvert_exporter": "python",
   "pygments_lexer": "ipython3",
   "version": "3.7.2"
  },
  "orig_nbformat": 4
 },
 "nbformat": 4,
 "nbformat_minor": 2
}
