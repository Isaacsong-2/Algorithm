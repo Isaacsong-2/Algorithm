{
 "cells": [
  {
   "cell_type": "code",
   "execution_count": 50,
   "metadata": {},
   "outputs": [],
   "source": [
    "n = int(input())\n",
    "결과 = []\n",
    "for i in range(n):\n",
    "    결과.append(list(map(int,input().split())))"
   ]
  },
  {
   "cell_type": "code",
   "execution_count": 61,
   "metadata": {},
   "outputs": [
    {
     "name": "stdout",
     "output_type": "stream",
     "text": [
      "46\n"
     ]
    }
   ],
   "source": [
    "선수 = [0,1,2,3,4,5,6,7,8]\n",
    "from itertools import permutations\n",
    "from collections import deque\n",
    "순서 = list(permutations(선수,9))\n",
    "max_cnt = 0\n",
    "for k in 순서:\n",
    "    이닝 = 0\n",
    "    cnt = 0\n",
    "    주자 = 0\n",
    "    while(이닝 != n):\n",
    "        진루1, 진루2, 진루3 = 0,0,0\n",
    "        아웃=0\n",
    "        while(아웃 < 3):\n",
    "            if 결과[이닝][k[주자]] == 0:\n",
    "                아웃 += 1\n",
    "            elif 결과[이닝][k[주자]] == 1:\n",
    "                cnt += 진루3\n",
    "                진루1, 진루2, 진루3 = 1, 진루1, 진루2\n",
    "            elif 결과[이닝][k[주자]] == 2:\n",
    "                cnt += 진루2 + 진루3\n",
    "                진루1, 진루2, 진루3 = 0, 1, 진루1\n",
    "            elif 결과[이닝][k[주자]] == 3:\n",
    "                cnt += 진루1 + 진루2 + 진루3\n",
    "                진루1, 진루2, 진루3 = 0, 0, 1\n",
    "            elif 결과[이닝][k[주자]] == 4:\n",
    "                cnt += 1 + 진루1 + 진루2 + 진루3\n",
    "                진루1, 진루2, 진루3 = 0, 0, 0\n",
    "            주자 = (주자 + 1) % 9\n",
    "        이닝 += 1\n",
    "    max_cnt = max(max_cnt, cnt)\n",
    "print(max_cnt)"
   ]
  }
 ],
 "metadata": {
  "interpreter": {
   "hash": "53e059d21691b4acb4a64b9f63fef32a69804c1f4bf8b757b5579479fa8a32ee"
  },
  "kernelspec": {
   "display_name": "Python 3.7.2 64-bit",
   "language": "python",
   "name": "python3"
  },
  "language_info": {
   "codemirror_mode": {
    "name": "ipython",
    "version": 3
   },
   "file_extension": ".py",
   "mimetype": "text/x-python",
   "name": "python",
   "nbconvert_exporter": "python",
   "pygments_lexer": "ipython3",
   "version": "3.7.2"
  },
  "orig_nbformat": 4
 },
 "nbformat": 4,
 "nbformat_minor": 2
}
