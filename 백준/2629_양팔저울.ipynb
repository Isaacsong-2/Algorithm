{
 "cells": [
  {
   "cell_type": "code",
   "execution_count": 8,
   "metadata": {},
   "outputs": [],
   "source": [
    "n = int(input())\n",
    "w = list(map(int,input().split()))\n",
    "m = int(input())\n",
    "question = list(map(int,input().split()))"
   ]
  },
  {
   "cell_type": "code",
   "execution_count": 10,
   "metadata": {},
   "outputs": [
    {
     "name": "stdout",
     "output_type": "stream",
     "text": [
      "N Y\n"
     ]
    }
   ],
   "source": [
    "dp = [[0 for _ in range((i+1)*500+1)] for i in range(n+1)] \n",
    "\n",
    "def sol(weight, idx):\n",
    "    if idx > n :\n",
    "        return\n",
    "    if dp[idx][weight]:\n",
    "        return\n",
    "    dp[idx][weight] = 1\n",
    "\n",
    "    sol(weight, idx+1)\n",
    "    sol(weight+w[idx-1], idx+1)\n",
    "    sol(abs(weight-w[idx-1]), idx+1)\n",
    "\n",
    "sol(0,0)\n",
    "ans = []\n",
    "for q in question:\n",
    "    if q > 15000 or dp[n][q] != 1:\n",
    "        ans.append(\"N\")\n",
    "    else:\n",
    "        ans.append(\"Y\")\n",
    "print(*ans)"
   ]
  }
 ],
 "metadata": {
  "kernelspec": {
   "display_name": "Python 3.7.2 64-bit",
   "language": "python",
   "name": "python3"
  },
  "language_info": {
   "codemirror_mode": {
    "name": "ipython",
    "version": 3
   },
   "file_extension": ".py",
   "mimetype": "text/x-python",
   "name": "python",
   "nbconvert_exporter": "python",
   "pygments_lexer": "ipython3",
   "version": "3.7.2"
  },
  "orig_nbformat": 4,
  "vscode": {
   "interpreter": {
    "hash": "d75df686efc28afbc154e69ab3b02fa6abad8f31352f252b5de5b4a995eb825f"
   }
  }
 },
 "nbformat": 4,
 "nbformat_minor": 2
}
