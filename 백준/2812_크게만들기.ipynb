{
 "cells": [
  {
   "cell_type": "code",
   "execution_count": 27,
   "metadata": {},
   "outputs": [],
   "source": [
    "n, k = map(int,input().split())\n",
    "num = input()"
   ]
  },
  {
   "cell_type": "code",
   "execution_count": 35,
   "metadata": {},
   "outputs": [
    {
     "name": "stdout",
     "output_type": "stream",
     "text": [
      "3333"
     ]
    }
   ],
   "source": [
    "stack = []\n",
    "cnt = 0\n",
    "for i in range(n):\n",
    "    while(cnt < k and stack):\n",
    "        if stack[i-cnt-1] < num[i]:\n",
    "            stack.pop(i-cnt-1)\n",
    "            cnt += 1\n",
    "        else:\n",
    "            break\n",
    "        # print(cnt, stack)\n",
    "    stack.append(num[i])\n",
    "for i in range(n-k):\n",
    "    print(stack[i], end ='')\n"
   ]
  }
 ],
 "metadata": {
  "interpreter": {
   "hash": "d75df686efc28afbc154e69ab3b02fa6abad8f31352f252b5de5b4a995eb825f"
  },
  "kernelspec": {
   "display_name": "Python 3.7.2 64-bit",
   "language": "python",
   "name": "python3"
  },
  "language_info": {
   "codemirror_mode": {
    "name": "ipython",
    "version": 3
   },
   "file_extension": ".py",
   "mimetype": "text/x-python",
   "name": "python",
   "nbconvert_exporter": "python",
   "pygments_lexer": "ipython3",
   "version": "3.7.2"
  },
  "orig_nbformat": 4
 },
 "nbformat": 4,
 "nbformat_minor": 2
}
