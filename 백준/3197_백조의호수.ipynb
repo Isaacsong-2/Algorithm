{
 "cells": [
  {
   "cell_type": "code",
   "execution_count": 18,
   "metadata": {},
   "outputs": [],
   "source": [
    "r,c = map(int,input().split())\n",
    "lake = []\n",
    "for i in range(r):\n",
    "    temp = []\n",
    "    s = input()\n",
    "    for j in range(c):\n",
    "        temp.append(s[j])\n",
    "    lake.append(temp)"
   ]
  },
  {
   "cell_type": "code",
   "execution_count": 19,
   "metadata": {},
   "outputs": [
    {
     "name": "stdout",
     "output_type": "stream",
     "text": [
      "2\n"
     ]
    }
   ],
   "source": [
    "dx = [-1,1,0,0]\n",
    "dy = [0,0,-1,1]\n",
    "for i in range(r*c):\n",
    "    if lake[i//c][i%c] == 'L':\n",
    "        duck = (i//c,i%c)\n",
    "        lake[i//c][i%c] = 't'\n",
    "        break\n",
    "stack = []\n",
    "for i in range(r):\n",
    "    for j in range(c):\n",
    "        if lake[i][j] == 'X':\n",
    "            stack.append((i,j))\n",
    "def check():\n",
    "    visit = [[0]*c for i in range(r)] \n",
    "    x = duck[0]\n",
    "    y = duck[1]\n",
    "    queue = [(x,y)]\n",
    "    while(queue):\n",
    "        # print(x,y)\n",
    "        x, y = queue.pop()\n",
    "        for i in range(4):\n",
    "            nx = x + dx[i]\n",
    "            ny = y + dy[i]\n",
    "            if 0<=nx<r and 0<=ny<c:\n",
    "                if visit[nx][ny] == 0 and lake[nx][ny] == '.':\n",
    "                    queue.append((nx,ny))\n",
    "                    visit[nx][ny] = 1\n",
    "                elif lake[nx][ny] == 'L':\n",
    "                    # print(x,y)\n",
    "                    return 0\n",
    "    return 1\n",
    "def bfs(x, y):\n",
    "    for i in range(4):\n",
    "        nx = x + dx[i]\n",
    "        ny = y + dy[i]\n",
    "        if 0<=nx<r and 0<=ny<c:\n",
    "            if lake[nx][ny] == '.':\n",
    "                return (x,y)\n",
    "    return (0,0,0)\n",
    "sol = 0\n",
    "while check():\n",
    "    sol += 1\n",
    "    temp = []\n",
    "    for a, b in stack:\n",
    "        ret = bfs(a,b)\n",
    "        if len(ret) == 2:\n",
    "            temp.append(ret)\n",
    "    for a, b in temp:\n",
    "        lake[a][b] = '.'\n",
    "print(sol)\n",
    "# print(lake)"
   ]
  }
 ],
 "metadata": {
  "interpreter": {
   "hash": "53e059d21691b4acb4a64b9f63fef32a69804c1f4bf8b757b5579479fa8a32ee"
  },
  "kernelspec": {
   "display_name": "Python 3.7.2 64-bit",
   "language": "python",
   "name": "python3"
  },
  "language_info": {
   "codemirror_mode": {
    "name": "ipython",
    "version": 3
   },
   "file_extension": ".py",
   "mimetype": "text/x-python",
   "name": "python",
   "nbconvert_exporter": "python",
   "pygments_lexer": "ipython3",
   "version": "3.7.2"
  },
  "orig_nbformat": 4
 },
 "nbformat": 4,
 "nbformat_minor": 2
}
