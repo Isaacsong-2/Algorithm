{
 "cells": [
  {
   "cell_type": "code",
   "execution_count": 1,
   "metadata": {},
   "outputs": [],
   "source": [
    "t = input()\n",
    "p = input()"
   ]
  },
  {
   "cell_type": "code",
   "execution_count": 96,
   "metadata": {},
   "outputs": [],
   "source": [
    "t = \"ABC ABCDAB ABCDABCDABDE\"\n",
    "p = \"ABCDABD\"\n",
    "t = \"ABCDEFABCDEFABCDEF\"\n",
    "p = \"ABCDEF\"\n",
    "t = \"ABCDEFAABCDEFABCDCDEFABCDEF\"\n",
    "p = \"ABCDEF\""
   ]
  },
  {
   "cell_type": "code",
   "execution_count": 97,
   "metadata": {},
   "outputs": [
    {
     "name": "stdout",
     "output_type": "stream",
     "text": [
      "[0, 0, 0, 0, 0, 0]\n",
      "3\n",
      "1 8 22\n"
     ]
    }
   ],
   "source": [
    "n = len(p)\n",
    "temp = [0] * n\n",
    "j = 0\n",
    "for i in range(1,n):\n",
    "    while j>0 and p[i] != p[j]:\n",
    "        j = temp[j-1]\n",
    "    if p[i] == p[j]:\n",
    "        j += 1\n",
    "        temp[i] = j\n",
    "cnt = 0\n",
    "ans = []\n",
    "\n",
    "n = len(t)\n",
    "j = 0\n",
    "for i in range(n):\n",
    "    while j > 0 and t[i] != p[j]:\n",
    "        j = temp[j-1]\n",
    "    if t[i] == p[j]:\n",
    "        if j == (len(p) - 1):\n",
    "            cnt += 1\n",
    "            ans.append(i-len(p)+2)\n",
    "            j = temp[j]\n",
    "        else:\n",
    "            j += 1\n",
    "    \n",
    "print(cnt)\n",
    "if cnt>0:\n",
    "    print(*ans)\n"
   ]
  }
 ],
 "metadata": {
  "kernelspec": {
   "display_name": "Python 3.7.2 64-bit",
   "language": "python",
   "name": "python3"
  },
  "language_info": {
   "codemirror_mode": {
    "name": "ipython",
    "version": 3
   },
   "file_extension": ".py",
   "mimetype": "text/x-python",
   "name": "python",
   "nbconvert_exporter": "python",
   "pygments_lexer": "ipython3",
   "version": "3.7.2"
  },
  "orig_nbformat": 4,
  "vscode": {
   "interpreter": {
    "hash": "d75df686efc28afbc154e69ab3b02fa6abad8f31352f252b5de5b4a995eb825f"
   }
  }
 },
 "nbformat": 4,
 "nbformat_minor": 2
}
