{
 "cells": [
  {
   "cell_type": "code",
   "execution_count": 1,
   "metadata": {},
   "outputs": [
    {
     "name": "stdout",
     "output_type": "stream",
     "text": [
      "7\n"
     ]
    }
   ],
   "source": [
    "n = int(input())\n",
    "inc = list(map(int, input().split()))\n",
    "dec = inc[::-1]\n",
    "\n",
    "dp1 = [1 for i in range(n)]\n",
    "dp2 = [1 for i in range(n)]\n",
    "\n",
    "for i in range(n):\n",
    "    for j in range(i):\n",
    "        if inc[i] > inc[j]:\n",
    "            dp1[i] = max(dp1[i], dp1[j]+1)\n",
    "        if dec[i] > dec[j]:\n",
    "            dp2[i] = max(dp2[i], dp2[j]+1)\n",
    "\n",
    "ans = [0 for i in range(n)]\n",
    "for i in range(n):\n",
    "    ans[i] = dp1[i] + dp2[n-i-1] -1\n",
    "\n",
    "print(max(ans))"
   ]
  }
 ],
 "metadata": {
  "kernelspec": {
   "display_name": "Python 3.7.2 64-bit",
   "language": "python",
   "name": "python3"
  },
  "language_info": {
   "codemirror_mode": {
    "name": "ipython",
    "version": 3
   },
   "file_extension": ".py",
   "mimetype": "text/x-python",
   "name": "python",
   "nbconvert_exporter": "python",
   "pygments_lexer": "ipython3",
   "version": "3.7.2"
  },
  "orig_nbformat": 4,
  "vscode": {
   "interpreter": {
    "hash": "d75df686efc28afbc154e69ab3b02fa6abad8f31352f252b5de5b4a995eb825f"
   }
  }
 },
 "nbformat": 4,
 "nbformat_minor": 2
}
