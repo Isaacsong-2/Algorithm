{
 "cells": [
  {
   "cell_type": "code",
   "execution_count": 41,
   "metadata": {},
   "outputs": [
    {
     "name": "stdout",
     "output_type": "stream",
     "text": [
      "abcdYX\n"
     ]
    }
   ],
   "source": [
    "import sys\n",
    "from collections import deque \n",
    "string1 = deque(list(input()))\n",
    "m = int(input())\n",
    "string2 = deque([]) #cursor 위치를 기점으로 좌우 스택 2개를 사용\n",
    "for i in range(m):\n",
    "    order = list(input().split())#sys.stdin.readline().split()\n",
    "    if order[0] == 'L' and len(string1) != 0:\n",
    "        string2.appendleft(string1.pop())\n",
    "    elif order[0] == 'D' and len(string2) != 0:\n",
    "        string1.append(string2.popleft())\n",
    "    elif order[0] == 'B' and len(string1) != 0:\n",
    "        string1.pop()\n",
    "    elif order[0] == 'P':\n",
    "        string1.append(order[1])\n",
    "print(\"\".join(string1 + string2))\n",
    "# print(string1)\n",
    "# print(string2)\n",
    "# for i in range(m):\n",
    "#     order = list(input().split())#sys.stdin.readline().split()\n",
    "#     if order[0] == 'L':\n",
    "#         if cursor != 0:\n",
    "#             cursor -= 1\n",
    "#     elif order[0] == 'D':\n",
    "#         if cursor != len(string):\n",
    "#             cursor += 1\n",
    "#     elif order[0] == 'B':\n",
    "#         if cursor != 0:\n",
    "#             string = string[:cursor-1] + string[cursor:]\n",
    "#             cursor -= 1\n",
    "#     elif order[0] == 'P':\n",
    "#         string = string[:cursor] + order[1] + string[cursor:]\n",
    "#         cursor += 1\n",
    "# print(string)"
   ]
  }
 ],
 "metadata": {
  "interpreter": {
   "hash": "53e059d21691b4acb4a64b9f63fef32a69804c1f4bf8b757b5579479fa8a32ee"
  },
  "kernelspec": {
   "display_name": "Python 3.7.2 64-bit",
   "language": "python",
   "name": "python3"
  },
  "language_info": {
   "codemirror_mode": {
    "name": "ipython",
    "version": 3
   },
   "file_extension": ".py",
   "mimetype": "text/x-python",
   "name": "python",
   "nbconvert_exporter": "python",
   "pygments_lexer": "ipython3",
   "version": "3.7.2"
  },
  "orig_nbformat": 4
 },
 "nbformat": 4,
 "nbformat_minor": 2
}
