{
 "cells": [
  {
   "cell_type": "code",
   "execution_count": 43,
   "metadata": {},
   "outputs": [],
   "source": [
    "n = int(input())\n",
    "li = list(map(int,input().split()))"
   ]
  },
  {
   "cell_type": "code",
   "execution_count": 45,
   "metadata": {},
   "outputs": [
    {
     "name": "stdout",
     "output_type": "stream",
     "text": [
      "6\n"
     ]
    }
   ],
   "source": [
    "ans = [0] * n\n",
    "for i in range(n):\n",
    "    for j in range(n):\n",
    "        if i==j:\n",
    "            continue\n",
    "        if i<j:\n",
    "            temp = [_ for _ in range(i+1,j+1)]\n",
    "        else:\n",
    "            temp = [_ for _ in range(j,i)]\n",
    "\n",
    "        trig = 0\n",
    "        for k in temp:\n",
    "            # print(i,j,k,li[j]+(li[i]-li[j])/abs(i-j)*abs(k-j))\n",
    "            if li[k]<li[j]+(li[i]-li[j])/abs(i-j)*abs(k-j):\n",
    "                continue\n",
    "            if li[k]==li[j]+(li[i]-li[j])/abs(i-j)*abs(k-j):\n",
    "                if k==j:\n",
    "                    continue\n",
    "            trig = 1\n",
    "            break\n",
    "        if trig == 0:\n",
    "            ans[i] += 1\n",
    "print(max(ans))"
   ]
  }
 ],
 "metadata": {
  "kernelspec": {
   "display_name": "Python 3.7.2 64-bit",
   "language": "python",
   "name": "python3"
  },
  "language_info": {
   "codemirror_mode": {
    "name": "ipython",
    "version": 3
   },
   "file_extension": ".py",
   "mimetype": "text/x-python",
   "name": "python",
   "nbconvert_exporter": "python",
   "pygments_lexer": "ipython3",
   "version": "3.7.2"
  },
  "orig_nbformat": 4,
  "vscode": {
   "interpreter": {
    "hash": "d75df686efc28afbc154e69ab3b02fa6abad8f31352f252b5de5b4a995eb825f"
   }
  }
 },
 "nbformat": 4,
 "nbformat_minor": 2
}
