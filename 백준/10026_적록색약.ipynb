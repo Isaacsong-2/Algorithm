{
 "cells": [
  {
   "cell_type": "code",
   "execution_count": 30,
   "metadata": {},
   "outputs": [],
   "source": [
    "n = int(input())\n",
    "field = []\n",
    "for i in range(n):\n",
    "    field.append(input())"
   ]
  },
  {
   "cell_type": "code",
   "execution_count": 38,
   "metadata": {},
   "outputs": [
    {
     "name": "stdout",
     "output_type": "stream",
     "text": [
      "['RRRBB', 'RRBBB', 'BBBRR', 'BBRRR', 'RRRRR']\n",
      "3 3\n"
     ]
    }
   ],
   "source": [
    "def dfs():\n",
    "    cnt = 0\n",
    "    for i in range(n):\n",
    "        for j in range(n):\n",
    "            if visit[i][j] == 0:\n",
    "                queue = [(i,j)]\n",
    "                visit[i][j] = 1\n",
    "                cnt += 1\n",
    "            while(queue):\n",
    "                x, y = queue.pop()\n",
    "                for k in range(4):\n",
    "                    nx = x + dx[k]\n",
    "                    ny = y + dy[k]\n",
    "                    if 0<=nx<n and 0<=ny<n and visit[nx][ny] == 0:\n",
    "                        if field[x][y] == field[nx][ny]:\n",
    "                            visit[nx][ny] = 1\n",
    "                            queue.append((nx,ny))\n",
    "    return cnt\n",
    "visit = [[0] * n for _ in range(n)]\n",
    "dx = [0, 0, -1, 1]\n",
    "dy = [1, -1, 0, 0]\n",
    "sol = []\n",
    "sol.append(dfs())\n",
    "for i in range(n):\n",
    "    for j in range(n):\n",
    "        if field[i][j] == 'G':\n",
    "            field[i] = field[i][:j] + 'R' + field[i][j+1:]\n",
    "visit = [[0] * n for _ in range(n)]\n",
    "sol.append(dfs())\n",
    "print(*sol)\n",
    "                    "
   ]
  }
 ],
 "metadata": {
  "interpreter": {
   "hash": "53e059d21691b4acb4a64b9f63fef32a69804c1f4bf8b757b5579479fa8a32ee"
  },
  "kernelspec": {
   "display_name": "Python 3.7.2 64-bit",
   "language": "python",
   "name": "python3"
  },
  "language_info": {
   "codemirror_mode": {
    "name": "ipython",
    "version": 3
   },
   "file_extension": ".py",
   "mimetype": "text/x-python",
   "name": "python",
   "nbconvert_exporter": "python",
   "pygments_lexer": "ipython3",
   "version": "3.7.2"
  },
  "orig_nbformat": 4
 },
 "nbformat": 4,
 "nbformat_minor": 2
}
