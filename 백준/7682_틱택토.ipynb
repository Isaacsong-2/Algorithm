{
 "cells": [
  {
   "cell_type": "code",
   "execution_count": 19,
   "metadata": {},
   "outputs": [
    {
     "name": "stdout",
     "output_type": "stream",
     "text": [
      "valid\n"
     ]
    },
    {
     "ename": "IndexError",
     "evalue": "string index out of range",
     "output_type": "error",
     "traceback": [
      "\u001b[1;31m---------------------------------------------------------------------------\u001b[0m",
      "\u001b[1;31mIndexError\u001b[0m                                Traceback (most recent call last)",
      "\u001b[1;32m~\\AppData\\Local\\Temp/ipykernel_22520/3190884607.py\u001b[0m in \u001b[0;36m<module>\u001b[1;34m\u001b[0m\n\u001b[0;32m     11\u001b[0m         \u001b[1;32mbreak\u001b[0m\u001b[1;33m\u001b[0m\u001b[1;33m\u001b[0m\u001b[0m\n\u001b[0;32m     12\u001b[0m     \u001b[1;32mfor\u001b[0m \u001b[0mi\u001b[0m \u001b[1;32min\u001b[0m \u001b[0mrange\u001b[0m\u001b[1;33m(\u001b[0m\u001b[1;36m9\u001b[0m\u001b[1;33m)\u001b[0m\u001b[1;33m:\u001b[0m\u001b[1;33m\u001b[0m\u001b[1;33m\u001b[0m\u001b[0m\n\u001b[1;32m---> 13\u001b[1;33m         \u001b[1;32mif\u001b[0m \u001b[0mboard\u001b[0m\u001b[1;33m[\u001b[0m\u001b[0mi\u001b[0m\u001b[1;33m]\u001b[0m \u001b[1;33m==\u001b[0m \u001b[1;34m'X'\u001b[0m\u001b[1;33m:\u001b[0m\u001b[1;33m\u001b[0m\u001b[1;33m\u001b[0m\u001b[0m\n\u001b[0m\u001b[0;32m     14\u001b[0m             \u001b[0mxcnt\u001b[0m \u001b[1;33m+=\u001b[0m \u001b[1;36m1\u001b[0m\u001b[1;33m\u001b[0m\u001b[1;33m\u001b[0m\u001b[0m\n\u001b[0;32m     15\u001b[0m         \u001b[1;32melif\u001b[0m \u001b[0mboard\u001b[0m\u001b[1;33m[\u001b[0m\u001b[0mi\u001b[0m\u001b[1;33m]\u001b[0m \u001b[1;33m==\u001b[0m \u001b[1;34m'O'\u001b[0m\u001b[1;33m:\u001b[0m\u001b[1;33m\u001b[0m\u001b[1;33m\u001b[0m\u001b[0m\n",
      "\u001b[1;31mIndexError\u001b[0m: string index out of range"
     ]
    }
   ],
   "source": [
    "end = 1\n",
    "while(end):\n",
    "    board = input()\n",
    "    xcnt = 0\n",
    "    ocnt = 0\n",
    "    xcom = 0\n",
    "    ocom = 0\n",
    "    invalid = 0\n",
    "    if board == \"end\":\n",
    "        end = 0\n",
    "        break\n",
    "    for i in range(9):\n",
    "        if board[i] == 'X':\n",
    "            xcnt += 1\n",
    "        elif board[i] == 'O':\n",
    "            ocnt += 1\n",
    "    if ocnt>xcnt or xcnt-ocnt>1:\n",
    "        print(\"invalid\")\n",
    "        continue\n",
    "    for i in range(0,9,3):\n",
    "        if board[i] == 'X' and board[i] == 0 and board[i] == board[i+1] and board[i+1] == board[i+2]:\n",
    "            xcom += 1\n",
    "        if board[i] == 'O' and board[i] == 0 and board[i] == board[i+1] and board[i+1] == board[i+2]:\n",
    "            ocom += 1\n",
    "    for i in range(3):\n",
    "        if board[i] == 'X' and board[i] == board[i+3] and board[i+3] == board[i+6]:\n",
    "            xcom += 1\n",
    "        if board[i] == 'O' and board[i] == board[i+3] and board[i+3] == board[i+6]:\n",
    "            ocom += 1\n",
    "    if board[0] == 'X' and board[0] == board[4] and board[4] == board[8]:\n",
    "        xcom += 1\n",
    "    if board[0] == 'O' and board[0] == board[4] and board[4] == board[8]:\n",
    "        ocom += 1\n",
    "    if board[2] == 'X' and board[2] == board[4] and board[4] == board[6]:\n",
    "        xcom += 1\n",
    "    if board[2] == 'O' and board[2] == board[4] and board[4] == board[6]:\n",
    "        ocom += 1\n",
    "    if xcom+ocom>2 or (xcom + ocom == 0 and xcnt+ocnt != 9) or (ocom>0 and xcnt>ocnt):\n",
    "        print(\"invalid\")\n",
    "        continue\n",
    "    print(\"valid\")\n",
    "    \n",
    "    "
   ]
  },
  {
   "cell_type": "code",
   "execution_count": null,
   "metadata": {},
   "outputs": [],
   "source": [
    "from sys import stdin\n",
    "\n",
    "input = stdin.readline\n",
    "\n",
    "def solv():\n",
    "    while True:\n",
    "        case = input().strip()\n",
    "        if case == 'end':\n",
    "            break\n",
    "        x_count = case.count('X')\n",
    "        o_count = case.count('O')\n",
    "\n",
    "        if x_count == o_count+1 or x_count == o_count:\n",
    "            typ1,typ2 = ('X','O') if x_count == o_count+1 else ('O','X')\n",
    "            game_result1 = check_game_end(case, typ1)\n",
    "            game_result2 = check_game_end(case, typ2)\n",
    "\n",
    "            if game_result2:\n",
    "                print('invalid')\n",
    "            elif not game_result1:\n",
    "                if case.count('.') == 0:\n",
    "                    print('valid')\n",
    "                else:\n",
    "                    print('invalid')\n",
    "            else:\n",
    "                print('valid')\n",
    "        else:\n",
    "            print('invalid')\n",
    "\n",
    "def check_game_end(case,typ):\n",
    "    if case[0] == typ and case[0] == case[1] == case[2]:\n",
    "        return True\n",
    "    elif case[0] == typ and case[0] == case[3] == case[6]:\n",
    "        return True\n",
    "    elif case[4] == typ and case[1] == case[4] == case[7]:\n",
    "        return True\n",
    "    elif case[4] == typ and case[3] == case[4] == case[5]:\n",
    "        return True\n",
    "    elif case[8] == typ and case[6] == case[7] == case[8]:\n",
    "        return True\n",
    "    elif case[8] == typ and case[2] == case[5] == case[8]:\n",
    "        return True\n",
    "    elif case[4] == typ and case[0] == case[4] == case[8]:\n",
    "        return True\n",
    "    elif case[4] == typ and case[2] == case[4] == case[6]:\n",
    "        return True\n",
    "    else:\n",
    "        return False\n",
    "\n",
    "solv()"
   ]
  }
 ],
 "metadata": {
  "interpreter": {
   "hash": "53e059d21691b4acb4a64b9f63fef32a69804c1f4bf8b757b5579479fa8a32ee"
  },
  "kernelspec": {
   "display_name": "Python 3.7.2 64-bit",
   "language": "python",
   "name": "python3"
  },
  "language_info": {
   "codemirror_mode": {
    "name": "ipython",
    "version": 3
   },
   "file_extension": ".py",
   "mimetype": "text/x-python",
   "name": "python",
   "nbconvert_exporter": "python",
   "pygments_lexer": "ipython3",
   "version": "3.7.2"
  },
  "orig_nbformat": 4
 },
 "nbformat": 4,
 "nbformat_minor": 2
}
