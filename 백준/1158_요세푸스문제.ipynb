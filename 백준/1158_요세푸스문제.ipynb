{
 "cells": [
  {
   "cell_type": "code",
   "execution_count": 29,
   "metadata": {},
   "outputs": [
    {
     "name": "stdout",
     "output_type": "stream",
     "text": [
      "<3, 6, 2, 7, 5, 1, 4>"
     ]
    }
   ],
   "source": [
    "n,k = map(int, input().split()) \n",
    "\n",
    "num = [_ for _ in range(1, n+1)]\n",
    "순열 = []\n",
    "cur = 0\n",
    "for i in range(n):\n",
    "    cur += k-1\n",
    "    if cur >= len(num):\n",
    "        cur = cur%len(num)\n",
    "    순열.append(num.pop(cur))\n",
    "print(\"<\", end=\"\")\n",
    "for i in range(len(순열)):\n",
    "    if i != len(순열)-1:\n",
    "        print(순열[i], end=\", \")\n",
    "    else:\n",
    "        print(순열[i], end=\">\")\n",
    "    \n",
    "\n"
   ]
  }
 ],
 "metadata": {
  "interpreter": {
   "hash": "53e059d21691b4acb4a64b9f63fef32a69804c1f4bf8b757b5579479fa8a32ee"
  },
  "kernelspec": {
   "display_name": "Python 3.7.2 64-bit",
   "language": "python",
   "name": "python3"
  },
  "language_info": {
   "codemirror_mode": {
    "name": "ipython",
    "version": 3
   },
   "file_extension": ".py",
   "mimetype": "text/x-python",
   "name": "python",
   "nbconvert_exporter": "python",
   "pygments_lexer": "ipython3",
   "version": "3.7.2"
  },
  "orig_nbformat": 4
 },
 "nbformat": 4,
 "nbformat_minor": 2
}
