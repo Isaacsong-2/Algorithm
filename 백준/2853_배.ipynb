{
 "cells": [
  {
   "cell_type": "code",
   "execution_count": 13,
   "metadata": {},
   "outputs": [],
   "source": [
    "n = int(input())\n",
    "ship = []\n",
    "for i in range(n):\n",
    "    ship.append(int(input())\n",
    ")"
   ]
  },
  {
   "cell_type": "code",
   "execution_count": 18,
   "metadata": {},
   "outputs": [
    {
     "name": "stdout",
     "output_type": "stream",
     "text": [
      "[1, 6, 10, 11, 19]\n",
      "[5, 9]\n",
      "[5, 9]\n",
      "[5, 9, 18]\n",
      "3\n"
     ]
    }
   ],
   "source": [
    "print(ship)\n",
    "cnt = 1\n",
    "cal = 0\n",
    "period = [ship[1] - ship[0]]\n",
    "for i in range(1,n-1):\n",
    "    for j in period:\n",
    "        if (ship[i+1] - ship[0]) % j == 0:\n",
    "            break\n",
    "        else:\n",
    "            cal += 1\n",
    "        if cal == len(period):\n",
    "            period.append(ship[i+1]-ship[0])\n",
    "            cnt += 1\n",
    "    print(period)\n",
    "print(cnt)"
   ]
  }
 ],
 "metadata": {
  "interpreter": {
   "hash": "53e059d21691b4acb4a64b9f63fef32a69804c1f4bf8b757b5579479fa8a32ee"
  },
  "kernelspec": {
   "display_name": "Python 3.7.2 64-bit",
   "language": "python",
   "name": "python3"
  },
  "language_info": {
   "codemirror_mode": {
    "name": "ipython",
    "version": 3
   },
   "file_extension": ".py",
   "mimetype": "text/x-python",
   "name": "python",
   "nbconvert_exporter": "python",
   "pygments_lexer": "ipython3",
   "version": "3.7.2"
  },
  "orig_nbformat": 4
 },
 "nbformat": 4,
 "nbformat_minor": 2
}
