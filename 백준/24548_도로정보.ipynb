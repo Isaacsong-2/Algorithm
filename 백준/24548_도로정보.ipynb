{
 "cells": [
  {
   "cell_type": "code",
   "execution_count": 55,
   "metadata": {},
   "outputs": [],
   "source": [
    "n = int(input())\n",
    "li = str(input())"
   ]
  },
  {
   "cell_type": "code",
   "execution_count": 65,
   "metadata": {},
   "outputs": [
    {
     "name": "stdout",
     "output_type": "stream",
     "text": [
      "[[1, 0, 0, 0, 0, 0], [1, 1, 0, 0, 0, 0], [1, 1, 1, 0, 0, 0], [0, 0, 0, 0, 0, 0], [0, 0, 0, 0, 0, 0], [0, 0, 0, 0, 0, 0]]\n",
      "[[0, 0, 0, 0, 0, 0], [0, 0, 0, 0, 0, 0], [0, 0, 0, 0, 0, 0], [0, 0, 0, 1, 0, 0], [0, 0, 0, 0, 1, 0], [0, 0, 0, 0, 0, 1]]\n",
      "[[0, 0, 0, 0, 0, 0], [0, 0, 0, 0, 0, 0], [0, 0, 0, 0, 0, 0], [0, 0, 0, 0, 0, 0], [0, 0, 0, 0, 0, 0], [0, 0, 0, 0, 0, 0]]\n",
      "[[0, 0, 0, 0, 0, 0], [0, 0, 0, 0, 0, 0], [0, 0, 0, 0, 0, 0], [0, 0, 0, 0, 0, 0], [0, 0, 0, 0, 0, 0], [0, 0, 0, 0, 0, 0]]\n",
      "0\n"
     ]
    }
   ],
   "source": [
    "dp1 = [[0] * n for _ in range(n)]\n",
    "dp2 = [[0] * n for _ in range(n)]\n",
    "dp3 = [[0] * n for _ in range(n)]\n",
    "dp4 = [[0] * n for _ in range(n)]\n",
    "length = 3\n",
    "ans = 0\n",
    "for i in range(n):\n",
    "    if li[i] == 'T':\n",
    "        dp1[i][i] += dp1[i-1][i]+1\n",
    "        for j in range(i):\n",
    "            dp1[i][j] += 1\n",
    "    elif li[i] == 'G':\n",
    "        dp2[i][i] += dp2[i-1][i]+1\n",
    "    elif li[i] == 'F':\n",
    "        dp3[i][i] += dp3[i-1][i]+1\n",
    "    else:\n",
    "        dp4[i][i] += dp4[i-1][i]+1\n",
    "print(dp1)\n",
    "print(dp2)\n",
    "print(dp3)\n",
    "print(dp4)\n",
    "print(ans)\n"
   ]
  }
 ],
 "metadata": {
  "interpreter": {
   "hash": "53e059d21691b4acb4a64b9f63fef32a69804c1f4bf8b757b5579479fa8a32ee"
  },
  "kernelspec": {
   "display_name": "Python 3.7.2 64-bit",
   "language": "python",
   "name": "python3"
  },
  "language_info": {
   "codemirror_mode": {
    "name": "ipython",
    "version": 3
   },
   "file_extension": ".py",
   "mimetype": "text/x-python",
   "name": "python",
   "nbconvert_exporter": "python",
   "pygments_lexer": "ipython3",
   "version": "3.7.2"
  },
  "orig_nbformat": 4
 },
 "nbformat": 4,
 "nbformat_minor": 2
}
