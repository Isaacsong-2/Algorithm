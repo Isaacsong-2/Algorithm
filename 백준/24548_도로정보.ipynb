{
 "cells": [
  {
   "cell_type": "code",
   "execution_count": 16,
   "metadata": {},
   "outputs": [],
   "source": [
    "n = int(input())\n",
    "li = str(input())"
   ]
  },
  {
   "cell_type": "code",
   "execution_count": 21,
   "metadata": {},
   "outputs": [
    {
     "name": "stdout",
     "output_type": "stream",
     "text": [
      "4162501\n"
     ]
    }
   ],
   "source": [
    "n = 10000\n",
    "li = 'TGFP'*2500\n",
    "dp1 = [0] * (n+1)\n",
    "dp2 = [0] * (n+1)\n",
    "dp3 = [0] * (n+1)\n",
    "dp4 = [0] * (n+1)\n",
    "length = 3\n",
    "ans = 0\n",
    "for i in range(1,n+1):\n",
    "    dp1[i],dp2[i],dp3[i],dp4[i] = dp1[i-1],dp2[i-1],dp3[i-1],dp4[i-1]\n",
    "    if li[i-1] == 'T':\n",
    "        dp1[i] += 1\n",
    "    elif li[i-1] == 'G':\n",
    "        dp2[i] += 1\n",
    "    elif li[i-1] == 'F':\n",
    "        dp3[i] += 1\n",
    "    else:\n",
    "        dp4[i] += 1 \n",
    "    for j in range(i-3,-1,-3):\n",
    "        if (dp1[i]-dp1[j])%3 == 0 and (dp2[i]-dp2[j])%3 == 0 and (dp3[i]-dp3[j])%3 == 0 and (dp4[i]-dp4[j])%3 == 0:\n",
    "            ans += 1\n",
    "print(ans)\n"
   ]
  }
 ],
 "metadata": {
  "interpreter": {
   "hash": "53e059d21691b4acb4a64b9f63fef32a69804c1f4bf8b757b5579479fa8a32ee"
  },
  "kernelspec": {
   "display_name": "Python 3.7.2 64-bit",
   "language": "python",
   "name": "python3"
  },
  "language_info": {
   "codemirror_mode": {
    "name": "ipython",
    "version": 3
   },
   "file_extension": ".py",
   "mimetype": "text/x-python",
   "name": "python",
   "nbconvert_exporter": "python",
   "pygments_lexer": "ipython3",
   "version": "3.7.2"
  },
  "orig_nbformat": 4
 },
 "nbformat": 4,
 "nbformat_minor": 2
}
