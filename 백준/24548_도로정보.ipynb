{
 "cells": [
  {
   "cell_type": "code",
   "execution_count": 3,
   "metadata": {},
   "outputs": [],
   "source": [
    "n = int(input())\n",
    "li = str(input())"
   ]
  },
  {
   "cell_type": "code",
   "execution_count": 15,
   "metadata": {},
   "outputs": [
    {
     "name": "stdout",
     "output_type": "stream",
     "text": [
      "3\n"
     ]
    }
   ],
   "source": [
    "dp = [[[[0]*3 for i in range(3)] for j in range(3)] for k in range(3)]\n",
    "dp[0][0][0][0] = 1\n",
    "t = 0\n",
    "g = 0\n",
    "f = 0\n",
    "p = 0\n",
    "ans = 0\n",
    "for i in range(n):\n",
    "    if li[i] == 'T':\n",
    "        t = (t+1) % 3\n",
    "    elif li[i] == 'G':\n",
    "        g = (g+1) % 3\n",
    "    elif li[i] == 'F':\n",
    "        f = (f+1) % 3\n",
    "    else:\n",
    "        p = (p+1) % 3\n",
    "    ans += dp[t][g][f][p]\n",
    "    dp[t][g][f][p] += 1\n",
    "print(ans)"
   ]
  }
 ],
 "metadata": {
  "kernelspec": {
   "display_name": "Python 3.7.2 64-bit",
   "language": "python",
   "name": "python3"
  },
  "language_info": {
   "codemirror_mode": {
    "name": "ipython",
    "version": 3
   },
   "file_extension": ".py",
   "mimetype": "text/x-python",
   "name": "python",
   "nbconvert_exporter": "python",
   "pygments_lexer": "ipython3",
   "version": "3.7.2"
  },
  "orig_nbformat": 4,
  "vscode": {
   "interpreter": {
    "hash": "d75df686efc28afbc154e69ab3b02fa6abad8f31352f252b5de5b4a995eb825f"
   }
  }
 },
 "nbformat": 4,
 "nbformat_minor": 2
}
