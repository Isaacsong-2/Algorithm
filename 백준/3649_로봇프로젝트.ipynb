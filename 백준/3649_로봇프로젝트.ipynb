{
 "cells": [
  {
   "cell_type": "code",
   "execution_count": 1,
   "metadata": {},
   "outputs": [],
   "source": [
    "x = int(input())\n",
    "n = int(input())\n",
    "li = []\n",
    "for i in range(n):\n",
    "    li.append(int(input()))\n",
    "s = set(li)"
   ]
  },
  {
   "cell_type": "code",
   "execution_count": 13,
   "metadata": {},
   "outputs": [
    {
     "name": "stdout",
     "output_type": "stream",
     "text": [
      "yes 1 9999999\n"
     ]
    }
   ],
   "source": [
    "sol = []\n",
    "for i in s:\n",
    "    if i <= x * 5000000 and x * 10000000 - i in s:\n",
    "        sol.append([i, x*10000000-i])\n",
    "if sol:\n",
    "    print(\"yes\", *sorted(sol)[0])\n",
    "else:\n",
    "    print(\"danger\")"
   ]
  },
  {
   "cell_type": "code",
   "execution_count": null,
   "metadata": {},
   "outputs": [],
   "source": [
    "while True:\n",
    "    try:\n",
    "        x = int(input()) * 10000000\n",
    "        n = int(input())\n",
    "        lego = [int(input()) for _ in range(n)]\n",
    "        lego.sort()\n",
    "        i, j = 0, n-1\n",
    "        flag = True\n",
    "        while i < j:\n",
    "            if lego[i] + lego[j] == x:\n",
    "                print('yes %d %d' %(lego[i],lego[j]))\n",
    "                flag = False\n",
    "                break\n",
    "            elif lego[i] + lego[j] < x:\n",
    "                i += 1\n",
    "            else:\n",
    "                j -= 1\n",
    "        if flag:\n",
    "            print('danger')\n",
    "    except:\n",
    "        break"
   ]
  }
 ],
 "metadata": {
  "interpreter": {
   "hash": "53e059d21691b4acb4a64b9f63fef32a69804c1f4bf8b757b5579479fa8a32ee"
  },
  "kernelspec": {
   "display_name": "Python 3.7.2 64-bit",
   "language": "python",
   "name": "python3"
  },
  "language_info": {
   "codemirror_mode": {
    "name": "ipython",
    "version": 3
   },
   "file_extension": ".py",
   "mimetype": "text/x-python",
   "name": "python",
   "nbconvert_exporter": "python",
   "pygments_lexer": "ipython3",
   "version": "3.7.2"
  },
  "orig_nbformat": 4
 },
 "nbformat": 4,
 "nbformat_minor": 2
}
