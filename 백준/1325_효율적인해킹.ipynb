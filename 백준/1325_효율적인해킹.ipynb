{
 "cells": [
  {
   "cell_type": "code",
   "execution_count": 7,
   "metadata": {},
   "outputs": [],
   "source": [
    "n, m = map(int,input().split())\n",
    "graph = [[] for _ in range(n+1)]\n",
    "for _ in range(m):\n",
    "    a, b = map(int,input().split())\n",
    "    graph[b].append(a)"
   ]
  },
  {
   "cell_type": "code",
   "execution_count": 8,
   "metadata": {},
   "outputs": [
    {
     "name": "stdout",
     "output_type": "stream",
     "text": [
      "2\n"
     ]
    }
   ],
   "source": [
    "hackMax = 0\n",
    "ans = []\n",
    "for i in range(1,n+1):\n",
    "    queue = [i]\n",
    "    visit = [0] * (n+1)\n",
    "    visit[i] = 1\n",
    "    cnt = 0\n",
    "    while(queue):\n",
    "        x = queue.pop()\n",
    "        for nx in graph[x]:\n",
    "            if visit[nx] == 0:\n",
    "               queue.append(nx)\n",
    "               visit[nx] = 1\n",
    "               cnt += 1\n",
    "    if hackMax < cnt:\n",
    "        ans = [i]\n",
    "        hackMax = cnt\n",
    "    elif hackMax == cnt:\n",
    "        ans.append(i)\n",
    "print(*ans)"
   ]
  }
 ],
 "metadata": {
  "kernelspec": {
   "display_name": "Python 3",
   "language": "python",
   "name": "python3"
  },
  "language_info": {
   "codemirror_mode": {
    "name": "ipython",
    "version": 3
   },
   "file_extension": ".py",
   "mimetype": "text/x-python",
   "name": "python",
   "nbconvert_exporter": "python",
   "pygments_lexer": "ipython3",
   "version": "3.7.2"
  },
  "orig_nbformat": 4,
  "vscode": {
   "interpreter": {
    "hash": "d75df686efc28afbc154e69ab3b02fa6abad8f31352f252b5de5b4a995eb825f"
   }
  }
 },
 "nbformat": 4,
 "nbformat_minor": 2
}
