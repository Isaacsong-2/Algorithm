{
 "cells": [
  {
   "cell_type": "code",
   "execution_count": 58,
   "metadata": {},
   "outputs": [
    {
     "name": "stdout",
     "output_type": "stream",
     "text": [
      "[]\n"
     ]
    }
   ],
   "source": [
    "from collections import deque\n",
    "import sys\n",
    "t = int(input())\n",
    "\n",
    "for i in range(t):\n",
    "    p = sys.stdin.readline().rstrip()\n",
    "    n = int(input())\n",
    "    arr = sys.stdin.readline().rstrip()[1:-1].split(\",\")\n",
    "    queue = deque(arr)\n",
    "\n",
    "    rev, front, back = 0, 0, len(queue)-1\n",
    "    flag = 0\n",
    "    if n == 0:\n",
    "        queue = []\n",
    "        front = 0\n",
    "        back = 0\n",
    "\n",
    "    for j in p:\n",
    "        if j == 'R':\n",
    "            rev += 1\n",
    "        elif j == 'D':\n",
    "            if len(queue) < 1:\n",
    "                flag = 1\n",
    "                print(\"error\")\n",
    "                break\n",
    "            else:\n",
    "                if rev % 2 == 0:\n",
    "                    queue.popleft()\n",
    "                else:\n",
    "                    queue.pop()\n",
    "    if flag == 0:\n",
    "        if rev % 2 == 0:\n",
    "            print(\"[\" + \",\".join(queue) + \"]\")\n",
    "        else:\n",
    "            queue.reverse()\n",
    "            print(\"[\" + \",\".join(queue) + \"]\")\n",
    "# for i in range(t):\n",
    "#     p = list(input())\n",
    "#     n = int(input())\n",
    "#     l = input()[1:-1].split(',')\n",
    "#     if n == 0:\n",
    "#         if 'D' in p:\n",
    "#             print(\"error\")\n",
    "#             continue\n",
    "#         else:\n",
    "#             print(\"[]\")\n",
    "#             continue\n",
    "#     else:\n",
    "#         for i in range(len(l)):\n",
    "#             l[i] = int(l[i])\n",
    "#     arr = deque(l)\n",
    "\n",
    "#     cnt = 0\n",
    "#     reverse = False\n",
    "#     for i in range(len(p)):\n",
    "#         if p[i] == 'D':\n",
    "#             cnt += 1\n",
    "#     if cnt>len(arr):\n",
    "#         print(\"error\")\n",
    "#     else:\n",
    "#         for i in range(len(p)):\n",
    "#             if p[i] == 'D':\n",
    "#                 if reverse:\n",
    "#                     arr.pop()\n",
    "#                 else:\n",
    "#                     arr.popleft()\n",
    "#             if p[i] == 'R':\n",
    "#                 reverse = not reverse\n",
    "#         if reverse:\n",
    "#             arr = list(arr)\n",
    "#             arr.reverse()\n",
    "#             print(arr)\n",
    "#         else:\n",
    "#             print(list(arr))\n"
   ]
  }
 ],
 "metadata": {
  "interpreter": {
   "hash": "53e059d21691b4acb4a64b9f63fef32a69804c1f4bf8b757b5579479fa8a32ee"
  },
  "kernelspec": {
   "display_name": "Python 3.7.2 64-bit",
   "language": "python",
   "name": "python3"
  },
  "language_info": {
   "codemirror_mode": {
    "name": "ipython",
    "version": 3
   },
   "file_extension": ".py",
   "mimetype": "text/x-python",
   "name": "python",
   "nbconvert_exporter": "python",
   "pygments_lexer": "ipython3",
   "version": "3.7.2"
  },
  "orig_nbformat": 4
 },
 "nbformat": 4,
 "nbformat_minor": 2
}
