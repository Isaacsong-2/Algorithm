{
 "cells": [
  {
   "cell_type": "code",
   "execution_count": 1,
   "metadata": {},
   "outputs": [],
   "source": [
    "n, m = map(int,input().split())\n",
    "li = [list(map(int,input().split())) for _ in range(n)]"
   ]
  },
  {
   "cell_type": "code",
   "execution_count": 27,
   "metadata": {},
   "outputs": [
    {
     "name": "stdout",
     "output_type": "stream",
     "text": [
      "31\n"
     ]
    }
   ],
   "source": [
    "# dfs로 풀면 시간초과\n",
    "from collections import deque\n",
    "dx = [1,0,1]\n",
    "dy = [0,1,1]\n",
    "visit = [[-1] * m for _ in range(n)]\n",
    "visit[0][0] = li[0][0]\n",
    "queue = [(0,0)]\n",
    "while(queue):\n",
    "    x, y = queue.pop()\n",
    "    for i in range(3):\n",
    "        nx = x + dx[i]\n",
    "        ny = y + dy[i]\n",
    "        if nx<n and ny<m:\n",
    "            if visit[nx][ny] >= visit[x][y] + li[nx][ny]:\n",
    "                continue\n",
    "            else:\n",
    "                visit[nx][ny] = visit[x][y] + li[nx][ny]\n",
    "                queue.append((nx,ny))\n",
    "# bfs(0,0)\n",
    "print(visit[n-1][m-1])\n"
   ]
  },
  {
   "cell_type": "code",
   "execution_count": 28,
   "metadata": {},
   "outputs": [
    {
     "name": "stdout",
     "output_type": "stream",
     "text": [
      "31\n"
     ]
    }
   ],
   "source": [
    "dp = [[0] * (m + 1) for i in range(n + 1)]\n",
    "for i in range(1, n + 1):\n",
    "    for j in range(1, m + 1):\n",
    "        dp[i][j] = li[i - 1][j - 1] + max(dp[i - 1][j], dp[i][j - 1], dp[i - 1][j - 1])\n",
    "print(dp[n][m])"
   ]
  }
 ],
 "metadata": {
  "interpreter": {
   "hash": "53e059d21691b4acb4a64b9f63fef32a69804c1f4bf8b757b5579479fa8a32ee"
  },
  "kernelspec": {
   "display_name": "Python 3.7.2 64-bit",
   "language": "python",
   "name": "python3"
  },
  "language_info": {
   "codemirror_mode": {
    "name": "ipython",
    "version": 3
   },
   "file_extension": ".py",
   "mimetype": "text/x-python",
   "name": "python",
   "nbconvert_exporter": "python",
   "pygments_lexer": "ipython3",
   "version": "3.7.2"
  },
  "orig_nbformat": 4
 },
 "nbformat": 4,
 "nbformat_minor": 2
}
