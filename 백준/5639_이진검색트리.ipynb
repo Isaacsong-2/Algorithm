{
 "cells": [
  {
   "cell_type": "code",
   "execution_count": null,
   "metadata": {},
   "outputs": [],
   "source": [
    "import sys\n",
    "sys.setrecursionlimit(10 ** 9) # 재귀 허용 깊이를 수동으로 늘려주는 코드\n",
    "# dfs 탐색\n",
    "def dfs(start, end):\n",
    "    # 시작과 끝 값이 역전시 리턴\n",
    "    if start > end:\n",
    "        return\n",
    "    temp = end + 1\n",
    "    # 서브 트리 찾기\n",
    "    for i in range(start + 1, end + 1):\n",
    "        # 루트 보다 크면 오른쪽 서브 트리\n",
    "        if graph[start] < graph[i]:\n",
    "            temp = i\n",
    "            break\n",
    "    dfs(start + 1, temp - 1) # 왼쪽 서브 트리 재귀적으로 탐색\n",
    "    dfs(temp, end) # 오른쪽 서브 트리 재귀적으로 탐색\n",
    "    print(graph[start])\n",
    "\n",
    "# 입력이 없을때까지 반복하여 입력을 리스트에 추가한다.\n",
    "graph = []\n",
    "while True:\n",
    "    try:\n",
    "        graph.append(int(sys.stdin.readline()))\n",
    "    except:\n",
    "        break\n",
    "dfs(0, len(graph) - 1)"
   ]
  }
 ],
 "metadata": {
  "language_info": {
   "name": "python"
  },
  "orig_nbformat": 4
 },
 "nbformat": 4,
 "nbformat_minor": 2
}
