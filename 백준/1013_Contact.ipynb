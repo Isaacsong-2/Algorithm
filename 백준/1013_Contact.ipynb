{
 "cells": [
  {
   "cell_type": "code",
   "execution_count": 2,
   "metadata": {},
   "outputs": [
    {
     "name": "stdout",
     "output_type": "stream",
     "text": [
      "NO\n",
      "10010111\n",
      "NO\n",
      "011000100110001\n",
      "YES\n",
      "0110001011001\n"
     ]
    }
   ],
   "source": [
    "import re\n",
    "t = int(input())\n",
    "for _ in range(t):\n",
    "    strin = input().replace('\\n','')\n",
    "    temp = re.compile('(100+1+|01)+')\n",
    "    ans = temp.fullmatch(strin)\n",
    "    print('YES') if ans else print('NO')"
   ]
  }
 ],
 "metadata": {
  "kernelspec": {
   "display_name": "Python 3.7.2 64-bit",
   "language": "python",
   "name": "python3"
  },
  "language_info": {
   "codemirror_mode": {
    "name": "ipython",
    "version": 3
   },
   "file_extension": ".py",
   "mimetype": "text/x-python",
   "name": "python",
   "nbconvert_exporter": "python",
   "pygments_lexer": "ipython3",
   "version": "3.7.2"
  },
  "orig_nbformat": 4,
  "vscode": {
   "interpreter": {
    "hash": "d75df686efc28afbc154e69ab3b02fa6abad8f31352f252b5de5b4a995eb825f"
   }
  }
 },
 "nbformat": 4,
 "nbformat_minor": 2
}
